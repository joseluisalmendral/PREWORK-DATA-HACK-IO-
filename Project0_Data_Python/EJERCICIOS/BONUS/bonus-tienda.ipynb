{
 "cells": [
  {
   "cell_type": "markdown",
   "metadata": {},
   "source": [
    "<div style=\"text-align: center;\">\n",
    "  <img src=\"https://github.com/Hack-io-Data/Imagenes/blob/main/01-LogosHackio/logo_celeste@4x.png?raw=true\" alt=\"esquema\" />\n",
    "</div>\n"
   ]
  },
  {
   "cell_type": "markdown",
   "metadata": {},
   "source": [
    "En este ejercicio, se te pedirá que escribas un programa en Python que utilice condicionales para determinar el monto final de una compra en una tienda en línea, después de aplicar un descuento. El programa debe hacer lo siguiente:\n",
    "\n",
    "1. Solicita al usuario que ingrese el precio original de un artículo.\n",
    "\n",
    "2. Pregunta al usuario si tiene un cupón de descuento (respuesta sí o no).\n",
    "\n",
    "3. Si el usuario responde que sí, solicita que ingrese el valor del cupón de descuento.\n",
    "\n",
    "4. Aplica el descuento al precio original del artículo, siempre y cuando el valor del cupón sea válido (es decir, mayor a cero). Por ejemplo, descuento de 15€. \n",
    "\n",
    "5. Muestra el precio final de la compra, teniendo en cuenta el descuento aplicado o sin él. \n",
    "\n",
    "6. Recuerda utilizar estructuras de control de flujo como if, elif y else para llevar a cabo estas acciones en tu programa de Python."
   ]
  },
  {
   "cell_type": "code",
   "execution_count": 6,
   "metadata": {},
   "outputs": [
    {
     "name": "stdout",
     "output_type": "stream",
     "text": [
      "Precio final de la compra: 80.0€\n"
     ]
    }
   ],
   "source": [
    "precio = float(input(\"Introduce el precio del articulo\"))\n",
    "cupon = input(\"Cuenta con algun cupon de descuento?\")\n",
    "\n",
    "if cupon.lower() == \"si\":\n",
    "    descuento = float(input(\"Ingresa el valor del cupon de descuento\"))\n",
    "    precio = precio - (precio * descuento / 100)\n",
    "\n",
    "print(f\"Precio final de la compra: {precio}€\")"
   ]
  },
  {
   "cell_type": "markdown",
   "metadata": {},
   "source": [
    "Modifica el programa anterior para que el usuario ingrese un porcentaje de descuento en lugar de un valor fijo (por ejemplo, 30%). Aplica el descuento en base al porcentaje ingresado."
   ]
  },
  {
   "cell_type": "code",
   "execution_count": 11,
   "metadata": {},
   "outputs": [
    {
     "name": "stdout",
     "output_type": "stream",
     "text": [
      "Precio final de la compra: 70.0€\n"
     ]
    }
   ],
   "source": [
    "precio = float(input(\"Introduce el precio del articulo\"))\n",
    "cupon = input(\"Cuenta con algun cupon de descuento?\")\n",
    "\n",
    "if cupon.lower() == \"si\":\n",
    "    descuento = input(\"Ingresa el porcentaje del cupon de descuento. Ejemplo: 30%)\")\n",
    "    descuento = descuento.replace(\"%\", \"\") if \"%\" in descuento else descuento\n",
    "    precio = precio - (precio * float(descuento) / 100)\n",
    "\n",
    "print(f\"Precio final de la compra: {precio}€\")"
   ]
  },
  {
   "cell_type": "markdown",
   "metadata": {},
   "source": [
    "Modifica el programa anterior agregando un límite al descuento, donde el descuento mínimo sea del 5% y el máximo del 50%. Si el usuario ingresa un porcentaje fuera de este rango, notifíquele y aplique el descuento mínimo o máximo según sea el caso."
   ]
  },
  {
   "cell_type": "code",
   "execution_count": 16,
   "metadata": {},
   "outputs": [
    {
     "name": "stdout",
     "output_type": "stream",
     "text": [
      "Lo sentimos, el MAYOR DESCUENTO EXISTENTE es de hasta el 50%.\n",
      "Este sera el que se aplicara.\n",
      "Precio final de la compra: 50.0€\n"
     ]
    }
   ],
   "source": [
    "precio = float(input(\"Introduce el precio del articulo\"))\n",
    "cupon = input(\"Cuenta con algun cupon de descuento?\")\n",
    "\n",
    "if cupon.lower() == \"si\":\n",
    "    descuento = input(\"Ingresa el porcentaje del cupon de descuento. Ejemplo: 30%)\")\n",
    "    descuento = float(descuento.replace(\"%\", \"\")) if \"%\" in descuento else float(descuento)\n",
    "\n",
    "    if descuento < 5:\n",
    "        print(\"Ha debido de haber un error, el DESCUENTO MINIMO al contar con un cupon es del 5%.\\nPor lo que sera el que se aplicara.\")\n",
    "        descuento = 5\n",
    "\n",
    "    if descuento > 50:\n",
    "        print(\"Lo sentimos, el MAYOR DESCUENTO EXISTENTE es de hasta el 50%.\\nEste sera el que se aplicara.\")\n",
    "        descuento = 50\n",
    "\n",
    "    precio = precio - (precio * descuento / 100)\n",
    "\n",
    "print(f\"Precio final de la compra: {precio}€\")"
   ]
  },
  {
   "cell_type": "markdown",
   "metadata": {},
   "source": [
    "Crea un programa nuevo que permita al usuario ingresar varios artículos, cada uno con su precio original y cupón de descuento. Aplica los descuentos correspondientes a cada producto y muestra el monto total final de la compra."
   ]
  },
  {
   "cell_type": "code",
   "execution_count": 28,
   "metadata": {},
   "outputs": [
    {
     "name": "stdout",
     "output_type": "stream",
     "text": [
      "Monto final de la compra: 150.0€\n"
     ]
    }
   ],
   "source": [
    "cadena_producos = \"\"\n",
    "\n",
    "respuesta = \"\"\n",
    "while respuesta != \"terminar\":\n",
    "    respuesta = input(\"Introduzca el precio de su articulo y separado mediante un espacio, su descuento en caso de contar con el. Para terminar escriba la palabra 'terminar'\")\n",
    "    if respuesta != \"terminar\":\n",
    "        cadena_producos += respuesta + \",\"\n",
    "\n",
    "productos_descuentos = cadena_producos.split(\",\")\n",
    "productos_descuentos.pop() #eliminamos el ultimo elemento ya que este siempre queda vacio al separar por comas en este caso\n",
    "\n",
    "monto_total = 0.00\n",
    "for producto in productos_descuentos:\n",
    "    precio, descuento = producto.split(\" \") #aqui estoy dando por sentado que se tiene descuento para todos los productos\n",
    "    monto_total += float(precio) - (float(precio) * float(descuento) / 100)\n",
    "\n",
    "print(f\"Monto final de la compra: {monto_total}€\")"
   ]
  },
  {
   "cell_type": "markdown",
   "metadata": {},
   "source": [
    "Crea un nuevo programa que permita aplicar descuentos por categorías. En este caso, nuestra tienda aplicará descuentos en función de la categoría (por ejemplo, electrónica, ropa, juguetes). Pregunta al usuario a que categoría pertenece su producto y aplica el descuento correspondiente a la categoría. Debes solicitar al usuario que ingrese la categoría del articulo y el precio para aplicarle el descuento. "
   ]
  },
  {
   "cell_type": "code",
   "execution_count": 31,
   "metadata": {},
   "outputs": [
    {
     "name": "stdout",
     "output_type": "stream",
     "text": [
      "Precio del producto: 100.0€\n",
      "Precio final del producto por pertenecer a la categoria ropa: 80.0€\n"
     ]
    }
   ],
   "source": [
    "categorias_descuentos = {\n",
    "    'juguete': 40,\n",
    "    'electronica': 10,\n",
    "    'ropa': 20\n",
    "}\n",
    "\n",
    "precio = float(input(\"Ingrese el precio de su articulo\"))\n",
    "categoria = input(\"Ingrese la categoria a la que pertenece\").lower()\n",
    "\n",
    "precio_final = precio - (precio * categorias_descuentos[categoria] / 100)\n",
    "\n",
    "print(f\"Precio del producto: {precio}€\")\n",
    "print(f\"Precio final del producto por pertenecer a la categoria {categoria}: {precio_final}€\")"
   ]
  },
  {
   "cell_type": "markdown",
   "metadata": {},
   "source": [
    "Crea un nuevo programa que aplique descuentos automáticos en función de la fecha actual. Aplica un descuento del 10% en compras realizadas entre lunes y viernes o un descuento del 15% en compras realizadas durante los fines de semana."
   ]
  },
  {
   "cell_type": "code",
   "execution_count": 37,
   "metadata": {},
   "outputs": [
    {
     "name": "stdout",
     "output_type": "stream",
     "text": [
      "Precio final de la compra por ser Monday: 108.0€\n"
     ]
    }
   ],
   "source": [
    "import datetime\n",
    "\n",
    "hoy = datetime.datetime.today().weekday()\n",
    "\n",
    "precio_producto = 120.0\n",
    "\n",
    "descuento = 0.10 if (0 <= hoy <= 4) else 0.15\n",
    "\n",
    "precio_final = precio_producto - (precio_producto * descuento)\n",
    "\n",
    "print(f\"Precio final de la compra por ser {datetime.datetime.now().strftime(\"%A\")}: {precio_final}€\")"
   ]
  },
  {
   "cell_type": "markdown",
   "metadata": {},
   "source": [
    "Crea un programa nuevo que implemente un sistema de membresía donde los usuarios registrados obtengan un descuento adicional del 5%. Solicita al usuario que ingrese su nombre de usuario y contraseña para verificar su membresía y aplique el descuento adicional si corresponde. \n",
    "\n",
    "📝 Nota: Para este ejercicio solo tendremos un usuario registrado. El usuario es `USUARIO` y la contraseña es  `USUARIO123`. \n"
   ]
  },
  {
   "cell_type": "code",
   "execution_count": 39,
   "metadata": {},
   "outputs": [
    {
     "name": "stdout",
     "output_type": "stream",
     "text": [
      "Precio final de la compra 95.0€\n"
     ]
    }
   ],
   "source": [
    "credenciales = ('USUARIO', 'USUARIO123')\n",
    "\n",
    "precio_producto = 100\n",
    "\n",
    "nombre_user = input(\"Ingrese su nombre de usuario\")\n",
    "pass_user = input(\"Ingrese su contrasena\")\n",
    "\n",
    "if nombre_user == credenciales[0] and pass_user == credenciales[1]:\n",
    "    precio_producto = precio_producto - (precio_producto * 0.05)\n",
    "\n",
    "print(f\"Precio final de la compra {precio_producto}€\")"
   ]
  },
  {
   "cell_type": "markdown",
   "metadata": {},
   "source": [
    "Crea un nuevo programa que ofrezca un descuento del 10% adicional si el usuario compra más de 5 artículos del mismo tipo. Debes verificar la cantidad de productos comprados y aplicar el descuento adicional si corresponde.\n"
   ]
  },
  {
   "cell_type": "code",
   "execution_count": 49,
   "metadata": {},
   "outputs": [
    {
     "name": "stdout",
     "output_type": "stream",
     "text": [
      "El precio totol de la compra es de: 108.0€\n"
     ]
    }
   ],
   "source": [
    "cadena_productos = input(\"ingresa los precios de los productos adquiridos separados por un espacio\")\n",
    "\n",
    "precios = cadena_productos.split(\" \")\n",
    "precios = [int(precio) for precio in precios]\n",
    "\n",
    "descuento = 0.1 if len(precios) > 5 else 0\n",
    "\n",
    "suma_precios = sum(precios)\n",
    "\n",
    "precio_final = suma_precios - (suma_precios * descuento)\n",
    "\n",
    "print(f\"El precio totol de la compra es de: {precio_final}€\")"
   ]
  },
  {
   "cell_type": "markdown",
   "metadata": {},
   "source": [
    "Crea un nuevo programa que ofrezca descuentos progresivos en función del volumen de compra. Aplica un descuento del 5% para compras entre 100€ y 200€, un descuento del 10% para compras entre 200€ y 500€ y un descuento del 15% para compras superiores a 500€."
   ]
  },
  {
   "cell_type": "code",
   "execution_count": 51,
   "metadata": {},
   "outputs": [
    {
     "name": "stdout",
     "output_type": "stream",
     "text": [
      "El precio de la final de la compra (345.5) es --> 310.95€\n"
     ]
    }
   ],
   "source": [
    "precio_compra = 345.5\n",
    "\n",
    "precio_final = precio_compra\n",
    "if 100 < precio_compra < 200:\n",
    "    precio_final = precio_final - (precio_final * 0.05)\n",
    "\n",
    "if 200 < precio_compra < 500:\n",
    "    precio_final = precio_final - (precio_final * 0.1)\n",
    "\n",
    "if 500 < precio_compra:\n",
    "    precio_final = precio_final - (precio_final * 0.15)\n",
    "\n",
    "print(f\"El precio de la final de la compra ({precio_compra}) es --> {precio_final}€\")\n"
   ]
  },
  {
   "cell_type": "markdown",
   "metadata": {},
   "source": [
    "Crea un nuevo programa  que ofrezca un descuento adicional del 3% si el usuario paga con tarjeta de crédito o débito. Solicita al usuario que ingrese el método de pago y el descuento original, por último aplica el descuento si corresponde."
   ]
  },
  {
   "cell_type": "code",
   "execution_count": 52,
   "metadata": {},
   "outputs": [
    {
     "name": "stdout",
     "output_type": "stream",
     "text": [
      "Precio final tras pagar mediante tarjeta --> 154.0€\n"
     ]
    }
   ],
   "source": [
    "precio_producto = 200.0\n",
    "\n",
    "descuento = float(input(\"Ingrese el descuento del producto\"))\n",
    "descuento = descuento / 100\n",
    "metodo_pago = input(\"Introduzca su metodo de pago (tarjeta - efectivo)\")\n",
    "\n",
    "descuento_metodo_pago = 0.03 if metodo_pago.lower() == \"tarjeta\" else 0\n",
    "\n",
    "precio_final = precio_producto - (precio_producto * (descuento + descuento_metodo_pago))\n",
    "\n",
    "print(f\"Precio final tras pagar mediante {metodo_pago} --> {precio_final}€\")"
   ]
  }
 ],
 "metadata": {
  "kernelspec": {
   "display_name": "hackio",
   "language": "python",
   "name": "python3"
  },
  "language_info": {
   "codemirror_mode": {
    "name": "ipython",
    "version": 3
   },
   "file_extension": ".py",
   "mimetype": "text/x-python",
   "name": "python",
   "nbconvert_exporter": "python",
   "pygments_lexer": "ipython3",
   "version": "3.12.4"
  }
 },
 "nbformat": 4,
 "nbformat_minor": 2
}

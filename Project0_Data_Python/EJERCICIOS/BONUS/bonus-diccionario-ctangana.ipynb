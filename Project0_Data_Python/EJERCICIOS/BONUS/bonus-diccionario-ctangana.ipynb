{
 "cells": [
  {
   "cell_type": "markdown",
   "metadata": {},
   "source": [
    "<div style=\"text-align: center;\">\n",
    "  <img src=\"https://github.com/Hack-io-Data/Imagenes/blob/main/01-LogosHackio/logo_celeste@4x.png?raw=true\" alt=\"esquema\" />\n",
    "</div>\n"
   ]
  },
  {
   "cell_type": "markdown",
   "metadata": {},
   "source": [
    "# Ejercicio cTangana\n",
    "\n",
    "En este ejercicio tiene como objetivo principal que practiques y domines varias habilidades en Python, como la manipulación de *strings*, el uso de estructuras de datos como listas y diccionarios, y la implementación de técnicas básicas de conteo y ordenamiento. Los pasos que deberéis seguir para realizar este ejercicio son: \n",
    "\n",
    "1. Busca la letra de C. Tangana, Andrés Calamaro - Hong Kong y almacenala como una cadena de strings en `letra_cancion`.\n",
    "\n",
    "2. Crea una lista `palabras` utilizando `letra_cancion`.\n",
    "\n",
    "3. Crea un diccionario `frecuencia_palabras` en el que aparezca como claves cada una de las palabras de `letra_cancion` y sus valores que sea el numero de ocurrencia\n",
    "\n",
    "4. Ordena alfabeticamente las claves de `frecuencia_palabras` \n",
    "\n",
    "5. Crea un nuevo diccionario llamado `frecuencia_palabras2` con el orden obtenido en la pregunta 4.\n",
    "\n",
    "6. Ordenar los valores de `frecuencia_palabras2` de forma ascendente.\n",
    "\n",
    "***HINT***: Ordenar los valores de un diccionario es más complicado que ordenar las claves porque los valores de un diccionario no son únicos. Por lo tanto, no puedes usar la misma forma en que ordenaste las claves del diccionario para ordenar los valores del diccionario. La forma de ordenar un diccionario por valor es utilizar las funciones sorted y operator.itemgetter. \n"
   ]
  },
  {
   "cell_type": "code",
   "execution_count": 26,
   "metadata": {},
   "outputs": [
    {
     "name": "stdout",
     "output_type": "stream",
     "text": [
      "Con llevar todo Lo que no hay en Hong Kong no exi- Lo que no hay en Hong Kong es que no existe Salimos a la calle por tabaco Volvimos sin tabaco ni mechero Tomamos hasta el agua del florero Aquello fue peor que Puerto Hurraco Me cago en las personas que se rajan Muy antes de que se acabe la noche Peinábamos perico con navaja En el salpicadero de tu coche Tengo una flor en el culo Y un camello en Hong Kong Tengo un cohete en el pantalón Tengo una flor en el culo Y una geisha en Japón Tus banderillas en el corazón Hagamos que parezca un accidente Decirme que no tengo que ir a casa Espero que esto dure para siempre Sabemos qué es torear en peores plazas Historias que jamás pueden contarse Batallas que no pueden repetirse Victorias para el que supo quedarse ¿Pa qué cojones sirve arrepentirse? Tengo una flor en el culo Y un camello en Hong Kong Tengo un cohete en el pantalón Tengo una flor en el culo Y una geisha en Japón Tus banderillas en el corazón Tengo una flor en el culo Y un camello en Hong Kong Tengo un cohete en el pantalón Tengo una flor en el culo Y una geisha en Japón Tus banderillas en el corazón\n",
      "['con', 'llevar', 'todo', 'lo', 'que', 'no', 'hay', 'en', 'hong', 'kong', 'no', 'exi', 'lo', 'que', 'no', 'hay', 'en', 'hong', 'kong', 'es', 'que', 'no', 'existe', 'salimos', 'a', 'la', 'calle', 'por', 'tabaco', 'volvimos', 'sin', 'tabaco', 'ni', 'mechero', 'tomamos', 'hasta', 'el', 'agua', 'del', 'florero', 'aquello', 'fue', 'peor', 'que', 'puerto', 'hurraco', 'me', 'cago', 'en', 'las', 'personas', 'que', 'se', 'rajan', 'muy', 'antes', 'de', 'que', 'se', 'acabe', 'la', 'noche', 'peinábamos', 'perico', 'con', 'navaja', 'en', 'el', 'salpicadero', 'de', 'tu', 'coche', 'tengo', 'una', 'flor', 'en', 'el', 'culo', 'y', 'un', 'camello', 'en', 'hong', 'kong', 'tengo', 'un', 'cohete', 'en', 'el', 'pantalón', 'tengo', 'una', 'flor', 'en', 'el', 'culo', 'y', 'una', 'geisha', 'en', 'japón', 'tus', 'banderillas', 'en', 'el', 'corazón', 'hagamos', 'que', 'parezca', 'un', 'accidente', 'decirme', 'que', 'no', 'tengo', 'que', 'ir', 'a', 'casa', 'espero', 'que', 'esto', 'dure', 'para', 'siempre', 'sabemos', 'qué', 'es', 'torear', 'en', 'peores', 'plazas', 'historias', 'que', 'jamás', 'pueden', 'contarse', 'batallas', 'que', 'no', 'pueden', 'repetirse', 'victorias', 'para', 'el', 'que', 'supo', 'quedarse', '¿pa', 'qué', 'cojones', 'sirve', 'arrepentirse', 'tengo', 'una', 'flor', 'en', 'el', 'culo', 'y', 'un', 'camello', 'en', 'hong', 'kong', 'tengo', 'un', 'cohete', 'en', 'el', 'pantalón', 'tengo', 'una', 'flor', 'en', 'el', 'culo', 'y', 'una', 'geisha', 'en', 'japón', 'tus', 'banderillas', 'en', 'el', 'corazón', 'tengo', 'una', 'flor', 'en', 'el', 'culo', 'y', 'un', 'camello', 'en', 'hong', 'kong', 'tengo', 'un', 'cohete', 'en', 'el', 'pantalón', 'tengo', 'una', 'flor', 'en', 'el', 'culo', 'y', 'una', 'geisha', 'en', 'japón', 'tus', 'banderillas', 'en', 'el', 'corazón']\n",
      "{'a': 2, 'acabe': 1, 'accidente': 1, 'agua': 1, 'antes': 1, 'aquello': 1, 'arrepentirse': 1, 'banderillas': 3, 'batallas': 1, 'cago': 1, 'calle': 1, 'camello': 3, 'casa': 1, 'coche': 1, 'cohete': 3, 'cojones': 1, 'con': 2, 'contarse': 1, 'corazón': 3, 'culo': 6, 'de': 2, 'decirme': 1, 'del': 1, 'dure': 1, 'el': 15, 'en': 23, 'es': 2, 'espero': 1, 'esto': 1, 'exi': 1, 'existe': 1, 'flor': 6, 'florero': 1, 'fue': 1, 'geisha': 3, 'hagamos': 1, 'hasta': 1, 'hay': 2, 'historias': 1, 'hong': 5, 'hurraco': 1, 'ir': 1, 'jamás': 1, 'japón': 3, 'kong': 5, 'la': 2, 'las': 1, 'llevar': 1, 'lo': 2, 'me': 1, 'mechero': 1, 'muy': 1, 'navaja': 1, 'ni': 1, 'no': 6, 'noche': 1, 'pantalón': 3, 'para': 2, 'parezca': 1, 'peinábamos': 1, 'peor': 1, 'peores': 1, 'perico': 1, 'personas': 1, 'plazas': 1, 'por': 1, 'pueden': 2, 'puerto': 1, 'que': 13, 'quedarse': 1, 'qué': 2, 'rajan': 1, 'repetirse': 1, 'sabemos': 1, 'salimos': 1, 'salpicadero': 1, 'se': 2, 'siempre': 1, 'sin': 1, 'sirve': 1, 'supo': 1, 'tabaco': 2, 'tengo': 10, 'todo': 1, 'tomamos': 1, 'torear': 1, 'tu': 1, 'tus': 3, 'un': 7, 'una': 9, 'victorias': 1, 'volvimos': 1, 'y': 6, '¿pa': 1}\n",
      "{'acabe': 1, 'accidente': 1, 'agua': 1, 'antes': 1, 'aquello': 1, 'arrepentirse': 1, 'batallas': 1, 'cago': 1, 'calle': 1, 'casa': 1, 'coche': 1, 'cojones': 1, 'contarse': 1, 'decirme': 1, 'del': 1, 'dure': 1, 'espero': 1, 'esto': 1, 'exi': 1, 'existe': 1, 'florero': 1, 'fue': 1, 'hagamos': 1, 'hasta': 1, 'historias': 1, 'hurraco': 1, 'ir': 1, 'jamás': 1, 'las': 1, 'llevar': 1, 'me': 1, 'mechero': 1, 'muy': 1, 'navaja': 1, 'ni': 1, 'noche': 1, 'parezca': 1, 'peinábamos': 1, 'peor': 1, 'peores': 1, 'perico': 1, 'personas': 1, 'plazas': 1, 'por': 1, 'puerto': 1, 'quedarse': 1, 'rajan': 1, 'repetirse': 1, 'sabemos': 1, 'salimos': 1, 'salpicadero': 1, 'siempre': 1, 'sin': 1, 'sirve': 1, 'supo': 1, 'todo': 1, 'tomamos': 1, 'torear': 1, 'tu': 1, 'victorias': 1, 'volvimos': 1, '¿pa': 1, 'a': 2, 'con': 2, 'de': 2, 'es': 2, 'hay': 2, 'la': 2, 'lo': 2, 'para': 2, 'pueden': 2, 'qué': 2, 'se': 2, 'tabaco': 2, 'banderillas': 3, 'camello': 3, 'cohete': 3, 'corazón': 3, 'geisha': 3, 'japón': 3, 'pantalón': 3, 'tus': 3, 'hong': 5, 'kong': 5, 'culo': 6, 'flor': 6, 'no': 6, 'y': 6, 'un': 7, 'una': 9, 'tengo': 10, 'que': 13, 'el': 15, 'en': 23}\n"
     ]
    }
   ],
   "source": [
    "import string\n",
    "\n",
    "letra_cancion = \"\"\"Con llevar todo\n",
    "Lo que no hay en Hong Kong no exi-\n",
    "Lo que no hay en Hong Kong es que no existe\n",
    "Salimos a la calle por tabaco\n",
    "Volvimos sin tabaco ni mechero\n",
    "Tomamos hasta el agua del florero\n",
    "Aquello fue peor que Puerto Hurraco\n",
    "Me cago en las personas que se rajan\n",
    "Muy antes de que se acabe la noche\n",
    "Peinábamos perico con navaja\n",
    "En el salpicadero de tu coche\n",
    "Tengo una flor en el culo\n",
    "Y un camello en Hong Kong\n",
    "Tengo un cohete en el pantalón\n",
    "Tengo una flor en el culo\n",
    "Y una geisha en Japón\n",
    "Tus banderillas en el corazón\n",
    "Hagamos que parezca un accidente\n",
    "Decirme que no tengo que ir a casa\n",
    "Espero que esto dure para siempre\n",
    "Sabemos qué es torear en peores plazas\n",
    "Historias que jamás pueden contarse\n",
    "Batallas que no pueden repetirse\n",
    "Victorias para el que supo quedarse\n",
    "¿Pa qué cojones sirve arrepentirse?\n",
    "Tengo una flor en el culo\n",
    "Y un camello en Hong Kong\n",
    "Tengo un cohete en el pantalón\n",
    "Tengo una flor en el culo\n",
    "Y una geisha en Japón\n",
    "Tus banderillas en el corazón\n",
    "Tengo una flor en el culo\n",
    "Y un camello en Hong Kong\n",
    "Tengo un cohete en el pantalón\n",
    "Tengo una flor en el culo\n",
    "Y una geisha en Japón\n",
    "Tus banderillas en el corazón\"\"\"\n",
    "\n",
    "letra_cancion = letra_cancion.replace(\"\\n\",\" \")\n",
    "\n",
    "letra_cancion_limpia = \"\".join(caracter for caracter in letra_cancion if caracter not in string.punctuation) #quitamos los signos de puntuacion\n",
    "\n",
    "palabras = letra_cancion_limpia.split(\" \")\n",
    "palabras = [palabra.lower() for palabra in palabras] #convierto las palabras a minusculas para que el conteo de estas se haga de forma \"correcta\"\n",
    "\n",
    "frecuencia_palabras = {}\n",
    "for palabra in palabras:\n",
    "    if palabra not in frecuencia_palabras:\n",
    "        frecuencia_palabras[palabra] = palabras.count(palabra)\n",
    "\n",
    "\n",
    "frecuencia_palabras = { palabra: frecuencia_palabras[palabra] for palabra in sorted(frecuencia_palabras.keys())}\n",
    "frecuencia_palabras2 = frecuencia_palabras.copy()\n",
    "frecuencia_palabras2 = {key: value for key, value in sorted(frecuencia_palabras2.items(), key=lambda item: item[1])} #aqui es item[1] porque es el item que nos interesa por la tupla que nos devuelve .items(), como estamos ordenando por el valor de las claves, el valor en este caso se encuentra en la segunda posicion [1]\n",
    "\n",
    "\n",
    "print(letra_cancion)\n",
    "print(palabras)\n",
    "print(frecuencia_palabras)\n",
    "print(frecuencia_palabras2)"
   ]
  }
 ],
 "metadata": {
  "kernelspec": {
   "display_name": "Python 3",
   "language": "python",
   "name": "python3"
  },
  "language_info": {
   "codemirror_mode": {
    "name": "ipython",
    "version": 3
   },
   "file_extension": ".py",
   "mimetype": "text/x-python",
   "name": "python",
   "nbconvert_exporter": "python",
   "pygments_lexer": "ipython3",
   "version": "3.12.4"
  }
 },
 "nbformat": 4,
 "nbformat_minor": 2
}

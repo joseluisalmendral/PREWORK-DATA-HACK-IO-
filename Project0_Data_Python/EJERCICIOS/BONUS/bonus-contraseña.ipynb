{
 "cells": [
  {
   "cell_type": "markdown",
   "metadata": {},
   "source": [
    "<div style=\"text-align: center;\">\n",
    "  <img src=\"https://github.com/Hack-io-Data/Imagenes/blob/main/01-LogosHackio/logo_celeste@4x.png?raw=true\" alt=\"esquema\" />\n",
    "</div>\n"
   ]
  },
  {
   "cell_type": "markdown",
   "metadata": {},
   "source": [
    "# Comprobación de calidad de contraseñas\n",
    "\n",
    "En este ejercicio, tendrás que generar un programa que sea capaz de comprobar la calidad de contraseñas. La seguridad de nuestras contraseñas es fundamental para proteger nuestra información personal y evitar posibles ataques cibernéticos. Para ello, vamos a crear una función llamada `verificar_seguridad_contrasena` que evaluará la calidad de una contraseña. Esta función tomará como argumento la contraseña a evaluar y devolverá si la contraseña es segura o no basado en los siguientes criterios:\n",
    "\n",
    "1. La contraseña deberá tener al menos 8 caracteres.\n",
    "\n",
    "2. La contraseña deberá tener al menos una letra mayúscula.\n",
    "\n",
    "3. La contraseña deberá tener al menos una letra minúscula. \n",
    "\n",
    "4. La contraseña deberá tener al menos un número. \n",
    "\n",
    "5. La contraseña deberá tener al menos un caracter especial. \n",
    "\n",
    "6. La contraseña no deberá tener espacios en blanco. \n",
    "\n",
    "7. La contraseña no deberá tener caracteres repetidos. \n"
   ]
  },
  {
   "cell_type": "code",
   "execution_count": 61,
   "metadata": {},
   "outputs": [
    {
     "name": "stdout",
     "output_type": "stream",
     "text": [
      "Probando contrasena 'hol@munde 34'\n",
      "\n",
      "        FELICIDADES\n",
      "        Su contraseña es SEGURA\n",
      "\n",
      " ---------------------------------------------\n",
      "\n",
      "Ahora probando la contrasena 'holamundo'\n",
      "\n",
      "        Su contraseña NO ES SEGURA debido a:\n",
      "        \n",
      "- La contraseña deberá tener al menos una letra mayúscula.\n",
      "- La contraseña deberá tener al menos un número.\n",
      "- La contraseña deberá tener al menos un caracter especial.\n",
      "- La contraseña no deberá tener espacios en blanco.\n",
      "- La contraseña no deberá tener caracteres repetidos.\n"
     ]
    }
   ],
   "source": [
    "import re\n",
    "\n",
    "### Voy a hacer este ejercicio de forma que no solo te diga si es segura o no segura, \n",
    "### si no, que tambien en caso de no ser segura, te diga las razones.\n",
    "\n",
    "criterios = {\n",
    "    0 : \"La contraseña deberá tener al menos 8 caracteres.\",\n",
    "    1 : \"La contraseña deberá tener al menos una letra mayúscula.\",\n",
    "    2 : \"La contraseña deberá tener al menos una letra minúscula.\",\n",
    "    3 : \"La contraseña deberá tener al menos un número.\",\n",
    "    4 : \"La contraseña deberá tener al menos un caracter especial.\",\n",
    "    5 : \"La contraseña no deberá tener espacios en blanco.\",\n",
    "    6 : \"La contraseña no deberá tener caracteres repetidos.\"\n",
    "}\n",
    "\n",
    "def verificar_seguridad_contrasena(contra = \"\"):\n",
    "    resultado = \"\"\n",
    "    puntuacion = [0,0,0,0,0,0,0]\n",
    "\n",
    "\n",
    "    puntuacion[0] = 1 if len(contra) >= 8 else 0\n",
    "\n",
    "    puntuacion[1] = 1 if any(carac.isupper() for carac in contra) else 0\n",
    "\n",
    "    puntuacion[2] = 1 if any(carac.islower() for carac in contra) else 0\n",
    "\n",
    "    puntuacion[3] = 1 if any(carac.isdigit() for carac in contra) else 0\n",
    "\n",
    "    puntuacion[4] = 1 if bool(re.search(r'[^a-zA-Z0-9\\s]', contra)) else 0\n",
    "\n",
    "    puntuacion[5] = 1 if \" \" in contra else 0\n",
    "\n",
    "    puntuacion[6] = 1 if len(contra) == len(set(contra)) else 0\n",
    "\n",
    "    #vemos en que casos no se ha cumplido el requerimiento\n",
    "    incumplimientos = [i for i,n in enumerate(puntuacion) if n == 0]\n",
    "\n",
    "    if len(incumplimientos) == 0:\n",
    "        resultado = \"\"\"\n",
    "        FELICIDADES\n",
    "        Su contraseña es SEGURA\"\"\"\n",
    "    else:\n",
    "        resultado = \"\"\"\n",
    "        Su contraseña NO ES SEGURA debido a:\n",
    "        \"\"\"\n",
    "        #concatenamos las razones definidas en nuestro diccionario 'criterios'\n",
    "        for valor in incumplimientos:\n",
    "            resultado += \"\".join(\"\\n- \" + criterios[valor])\n",
    "\n",
    "\n",
    "    return resultado\n",
    "\n",
    "print(\"Probando contrasena 'hol@munde 34'\")\n",
    "print(verificar_seguridad_contrasena(\"hoL@munde 34\"))\n",
    "\n",
    "print(\"\\n\",\"-\"*45)\n",
    "\n",
    "print(\"\\nAhora probando la contrasena 'holamundo'\")\n",
    "print(verificar_seguridad_contrasena(\"holamundo\"))"
   ]
  }
 ],
 "metadata": {
  "kernelspec": {
   "display_name": "hackio",
   "language": "python",
   "name": "python3"
  },
  "language_info": {
   "codemirror_mode": {
    "name": "ipython",
    "version": 3
   },
   "file_extension": ".py",
   "mimetype": "text/x-python",
   "name": "python",
   "nbconvert_exporter": "python",
   "pygments_lexer": "ipython3",
   "version": "3.12.4"
  }
 },
 "nbformat": 4,
 "nbformat_minor": 2
}

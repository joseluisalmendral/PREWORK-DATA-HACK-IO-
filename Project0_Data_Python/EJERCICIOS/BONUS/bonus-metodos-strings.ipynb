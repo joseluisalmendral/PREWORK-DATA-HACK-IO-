{
 "cells": [
  {
   "cell_type": "markdown",
   "metadata": {},
   "source": [
    "<div style=\"text-align: center;\">\n",
    "  <img src=\"https://github.com/Hack-io-Data/Imagenes/blob/main/01-LogosHackio/logo_celeste@4x.png?raw=true\" alt=\"esquema\" />\n",
    "</div>"
   ]
  },
  {
   "cell_type": "markdown",
   "metadata": {},
   "source": [
    "\n",
    "#### Genera un dicionario con los nombres, apellidos y empresas de la siguinete lista de correos. \n",
    "\n",
    "Te deberá quedar un diccionario parecido al que se muestra a continuación: \n",
    "\n",
    "![resultado](https://github.com/Hack-io-Data/Imagenes/blob/main/04-Prework/Python/diccionario-bonus-strings.png?raw=true)"
   ]
  },
  {
   "cell_type": "code",
   "execution_count": 1,
   "metadata": {},
   "outputs": [],
   "source": [
    "a = \"\"\"john.doe@tecnologiainnovadora.com\n",
    "jane.doe@empresatecnologica.com\n",
    "jim.smith@solucionesdigitales.com\n",
    "mary.jane@tecnologiapionera.com\n",
    "bob.jones@innovaciontecnologica.com\n",
    "alice.smith@desarrollotecnologico.com\n",
    "tom.jones@tecnologiadinamica.com\n",
    "sally.jones@tecnologiamoderna.com\n",
    "jerry.smith@solucionestech.com\n",
    "beth.jones@tecnologiavanguardista.com\n",
    "john.smith@tecnologiasavanzadas.com\n",
    "jane.doe@empresadigital.com\n",
    "jim.jones@tecnologiadinamica.com\n",
    "mary.smith@innovaciondigital.com\n",
    "bob.doe@solucionesinformaticas.com\n",
    "\"\"\"\n"
   ]
  },
  {
   "cell_type": "code",
   "execution_count": 18,
   "metadata": {},
   "outputs": [
    {
     "name": "stdout",
     "output_type": "stream",
     "text": [
      "{'nombres': ['john', 'jane', 'jim', 'mary', 'bob', 'alice', 'tom', 'sally', 'jerry', 'beth', 'john', 'jane', 'jim', 'mary', 'bob'], 'apellidos': ['doe', 'doe', 'smith', 'jane', 'jones', 'smith', 'jones', 'jones', 'smith', 'jones', 'smith', 'doe', 'jones', 'smith', 'doe'], 'empresas': ['tecnologiainnovadora', 'empresatecnologica', 'solucionesdigitales', 'tecnologiapionera', 'innovaciontecnologica', 'desarrollotecnologico', 'tecnologiadinamica', 'tecnologiamoderna', 'solucionestech', 'tecnologiavanguardista', 'tecnologiasavanzadas', 'empresadigital', 'tecnologiadinamica', 'innovaciondigital', 'solucionesinformaticas']}\n"
     ]
    }
   ],
   "source": [
    "resultado = {\n",
    "    \"nombres\": [],\n",
    "    \"apellidos\": [],\n",
    "    \"empresas\": []\n",
    "}\n",
    "\n",
    "datos = a.splitlines()\n",
    "\n",
    "for dato in datos:\n",
    "    nombre_apellido, dominio = dato.split('@')\n",
    "\n",
    "    nombre, apellido = nombre_apellido.split('.')\n",
    "    empresa, dot_com = dominio.split('.')\n",
    "\n",
    "    resultado['nombres'].append(nombre)\n",
    "    resultado['apellidos'].append(apellido)\n",
    "    resultado['empresas'].append(empresa)\n",
    "\n",
    "print(resultado)\n",
    "\n",
    "   "
   ]
  }
 ],
 "metadata": {
  "kernelspec": {
   "display_name": "hackio",
   "language": "python",
   "name": "python3"
  },
  "language_info": {
   "codemirror_mode": {
    "name": "ipython",
    "version": 3
   },
   "file_extension": ".py",
   "mimetype": "text/x-python",
   "name": "python",
   "nbconvert_exporter": "python",
   "pygments_lexer": "ipython3",
   "version": "3.12.4"
  }
 },
 "nbformat": 4,
 "nbformat_minor": 2
}

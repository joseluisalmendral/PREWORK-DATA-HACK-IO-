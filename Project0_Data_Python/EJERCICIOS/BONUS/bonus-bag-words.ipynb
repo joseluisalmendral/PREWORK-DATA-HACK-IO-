{
 "cells": [
  {
   "cell_type": "markdown",
   "metadata": {},
   "source": [
    "<div style=\"text-align: center;\">\n",
    "  <img src=\"https://github.com/Hack-io-Data/Imagenes/blob/main/01-LogosHackio/logo_celeste@4x.png?raw=true\" alt=\"esquema\" />\n",
    "</div>"
   ]
  },
  {
   "cell_type": "markdown",
   "metadata": {},
   "source": [
    "# Ejercicio *bag of words*\n",
    "\n",
    "A lo largo de este ejercicio tendrás que descargarte 3 archivos extra para poder realizar el ejercicio sin ningún problema. Para ello os recomendamos que guardéis todos los ficheros (el jupyter del ejercicio, mas los 3 archivos `.txt` en la misma carpeta). Si no hacéis esto, no os funcionará el código que tenéis a continuación. "
   ]
  },
  {
   "cell_type": "code",
   "execution_count": 1,
   "metadata": {},
   "outputs": [],
   "source": [
    "# ejecuta este código para poder realizar este ejercicio\n",
    "docs = ['doc1.txt', 'doc2.txt', 'doc3.txt']\n",
    "\n",
    "# NOTA IMPORTANTE: En Python, cuando se trabaja con archivos, es importante cerrarlos una vez que se han terminado de usar.\n",
    "# la palabra reservada \"with\" contiene un try/except/finally y garantiza que si se produce alguna excepción el\n",
    "# programa cerrará el archivo antes de salir. Esta es una estructura habitual para manejar archivos.\n",
    "corpus = []\n",
    "\n",
    "for i in docs:\n",
    "    with open(i) as file:\n",
    "        content = file.read()\n",
    "        corpus.append(content)"
   ]
  },
  {
   "cell_type": "markdown",
   "metadata": {},
   "source": [
    "#### 1. Imprime el contenido de los documentos cargados en `corpus` para visualizarlos ."
   ]
  },
  {
   "cell_type": "code",
   "execution_count": 2,
   "metadata": {},
   "outputs": [
    {
     "name": "stdout",
     "output_type": "stream",
     "text": [
      "['Desde ahora Data es tu aliado.', 'Data solo es una palabra, tu no.', 'Data es el camino.']\n"
     ]
    }
   ],
   "source": [
    "print(corpus)"
   ]
  },
  {
   "cell_type": "markdown",
   "metadata": {},
   "source": [
    "#### 2. Quita los signos de puntuacion de cada una de las cadenas de texto. Almacena los cambios en la variable `corpus`."
   ]
  },
  {
   "cell_type": "code",
   "execution_count": 6,
   "metadata": {},
   "outputs": [
    {
     "name": "stdout",
     "output_type": "stream",
     "text": [
      "['Desde ahora Data es tu aliado', 'Data solo es una palabra tu no', 'Data es el camino']\n"
     ]
    }
   ],
   "source": [
    "import string\n",
    "\n",
    "for i, cadena in enumerate(corpus):\n",
    "    corpus[i] = \"\".join(caracter for caracter in cadena if caracter not in string.punctuation)\n",
    "\n",
    "print(corpus)"
   ]
  },
  {
   "cell_type": "markdown",
   "metadata": {},
   "source": [
    "#### 3. Convierte todos los elementos de cada una de las cadenas de texto a minúsculas, almacena los cambios en la variable `corpus`."
   ]
  },
  {
   "cell_type": "code",
   "execution_count": 9,
   "metadata": {},
   "outputs": [
    {
     "name": "stdout",
     "output_type": "stream",
     "text": [
      "['desde ahora data es tu aliado', 'data solo es una palabra tu no', 'data es el camino']\n"
     ]
    }
   ],
   "source": [
    "for i, cadena in enumerate(corpus):\n",
    "    corpus[i] = \"\".join(caracter.lower() for caracter in cadena)\n",
    "\n",
    "print(corpus)"
   ]
  },
  {
   "cell_type": "markdown",
   "metadata": {},
   "source": [
    "#### 4. Define una lista vacía llamada `bag_of_words`. En esta lista, deberás almancenar cada palabra por separado. De tal forma que te debe quedar una lista como la que vemos a continuación: \n",
    "\n",
    "![bag](https://github.com/Hack-io-Data/Imagenes/blob/main/04-Prework/Python/bag-of-words.png?raw=true)"
   ]
  },
  {
   "cell_type": "code",
   "execution_count": 31,
   "metadata": {},
   "outputs": [
    {
     "name": "stdout",
     "output_type": "stream",
     "text": [
      "Bag_of_words -->   ['desde', 'ahora', 'data', 'es', 'tu', 'aliado', 'solo', 'una', 'palabra', 'no', 'el', 'camino']\n",
      "Bag_of_words2 -->  ['data', 'desde', 'solo', 'el', 'no', 'una', 'camino', 'palabra', 'ahora', 'es', 'tu', 'aliado']\n"
     ]
    }
   ],
   "source": [
    "bag_of_words = []\n",
    "\n",
    "for content in corpus:  # Para cada lista de contenido, separo las palabras\n",
    "    content = content.split()\n",
    "\n",
    "    for word in content:  # Para cada palabra, compruebo si la tengo\n",
    "        if word not in bag_of_words:\n",
    "            bag_of_words.append(word.lower())\n",
    "\n",
    "\n",
    "    #en la seccion anterior, la comprobacion esta erronea ya que solo se pone en minuscula la palabra al añadirla, por lo que palabras como 'Data'\n",
    "    #la anade en minuscula (data) y luego al volver a aparecer como \"Data\" (con la D en mayus) pues la anade repetida.\n",
    "    #en este caso al texto estar ya en minusculas no pasa nada, pero bueno, seria solo anadir el .lower() al if.\n",
    "\n",
    "    #yo por practicar, lo hare separando las palabras conviertiendolas en minus y luego creando un set para convertirlo de nuevo en una lista y\n",
    "    # asi se eliminen las repes\n",
    "    bag_of_words2 = []\n",
    "    for content in corpus:\n",
    "        content = content.split(\" \")\n",
    "        \n",
    "        for word in content:\n",
    "            bag_of_words2.append(word.lower())\n",
    "\n",
    "bag_of_words2 = list(set(bag_of_words2))\n",
    "\n",
    "#por lo que nos quedaria\n",
    "print(\"Bag_of_words -->  \", bag_of_words)\n",
    "print(\"Bag_of_words2 --> \", bag_of_words2)"
   ]
  },
  {
   "cell_type": "code",
   "execution_count": 32,
   "metadata": {},
   "outputs": [
    {
     "name": "stdout",
     "output_type": "stream",
     "text": [
      "['desde', 'ahora', 'data', 'es', 'tu', 'aliado', 'solo', 'una', 'palabra', 'no', 'el', 'camino']\n"
     ]
    }
   ],
   "source": [
    "print(bag_of_words)"
   ]
  },
  {
   "cell_type": "markdown",
   "metadata": {},
   "source": [
    "#### 5. Dada la lista de palabras creada en el ejercicio anterior `bag_of_words`, crea un diccionario donde las claves sean las palabras únicas y los valores el número de veces que aparecen en la lista. El resultado esperado debería ser: \n",
    "\n",
    "```python\n",
    "{\n",
    "    'desde': 1,\n",
    "    'ahora': 1,\n",
    "    'data': 3,\n",
    "    'es': 1,\n",
    "    'tu': 1,\n",
    "    'aliado.': 1,\n",
    "    'solo': 1,\n",
    "    'una': 1,\n",
    "    'palabra,': 1,\n",
    "    'no.': 1,\n",
    "    'el': 1,\n",
    "    'camino.': 1\n",
    "}\n",
    "```"
   ]
  },
  {
   "cell_type": "code",
   "execution_count": 36,
   "metadata": {},
   "outputs": [
    {
     "name": "stdout",
     "output_type": "stream",
     "text": [
      "['desde', 'ahora', 'data', 'es', 'tu', 'aliado', 'data', 'solo', 'es', 'una', 'palabra', 'tu', 'no', 'data', 'es', 'el', 'camino']\n",
      "Conteo de palabras -->  {'desde': 1, 'ahora': 1, 'data': 3, 'es': 3, 'tu': 2, 'aliado': 1, 'solo': 1, 'una': 1, 'palabra': 1, 'no': 1, 'el': 1, 'camino': 1}\n"
     ]
    }
   ],
   "source": [
    "#voy a crear la lista de palabras de nuevo sin la comprobacion de si la palabra ya existe\n",
    "bag_of_words = []\n",
    "for content in corpus:\n",
    "    content = content.split(\" \")\n",
    "    \n",
    "    for word in content:\n",
    "        bag_of_words.append(word.lower())\n",
    "\n",
    "print(bag_of_words)\n",
    "\n",
    "resultado = {}\n",
    "for palabra in bag_of_words:\n",
    "    if palabra not in resultado:\n",
    "        resultado[palabra] = bag_of_words.count(palabra)\n",
    "\n",
    "print(\"Conteo de palabras --> \",resultado)"
   ]
  }
 ],
 "metadata": {
  "kernelspec": {
   "display_name": "hackio",
   "language": "python",
   "name": "python3"
  },
  "language_info": {
   "codemirror_mode": {
    "name": "ipython",
    "version": 3
   },
   "file_extension": ".py",
   "mimetype": "text/x-python",
   "name": "python",
   "nbconvert_exporter": "python",
   "pygments_lexer": "ipython3",
   "version": "3.12.4"
  }
 },
 "nbformat": 4,
 "nbformat_minor": 2
}

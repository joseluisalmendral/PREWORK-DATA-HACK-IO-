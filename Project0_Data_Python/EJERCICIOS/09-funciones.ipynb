{
 "cells": [
  {
   "cell_type": "markdown",
   "metadata": {},
   "source": [
    "\n",
    "<div style=\"text-align: center;\">\n",
    "  <img src=\"https://github.com/Hack-io-Data/Imagenes/blob/main/01-LogosHackio/logo_celeste@4x.png?raw=true\" alt=\"esquema\" />\n",
    "</div>"
   ]
  },
  {
   "cell_type": "markdown",
   "metadata": {},
   "source": [
    "#### 1. Escribe una función sin parámetros que imprima el siguiente mensaje \"¡Hola! Bienvenido.\"\n"
   ]
  },
  {
   "cell_type": "code",
   "execution_count": 6,
   "metadata": {},
   "outputs": [
    {
     "name": "stdout",
     "output_type": "stream",
     "text": [
      "¡Hola! Bienvenido.\n"
     ]
    }
   ],
   "source": [
    "def saludar():\n",
    "    print(\"¡Hola! Bienvenido.\")\n",
    "\n",
    "saludar()"
   ]
  },
  {
   "cell_type": "markdown",
   "metadata": {},
   "source": [
    "#### 2. Escribe una función que reciba dos parámetros y devuelva la suma de ambos.\n"
   ]
  },
  {
   "cell_type": "code",
   "execution_count": 5,
   "metadata": {},
   "outputs": [
    {
     "name": "stdout",
     "output_type": "stream",
     "text": [
      "8\n"
     ]
    }
   ],
   "source": [
    "def suma(n1, n2):\n",
    "    return n1 + n2\n",
    "\n",
    "print(suma(3,5))"
   ]
  },
  {
   "cell_type": "markdown",
   "metadata": {},
   "source": [
    "#### 3. Escribe una función que reciba un número y devuelva True si es par, False si no lo es."
   ]
  },
  {
   "cell_type": "code",
   "execution_count": 8,
   "metadata": {},
   "outputs": [
    {
     "data": {
      "text/plain": [
       "True"
      ]
     },
     "execution_count": 8,
     "metadata": {},
     "output_type": "execute_result"
    }
   ],
   "source": [
    "def comprobarSiPar(n):\n",
    "    return n % 2 == 0\n",
    "\n",
    "comprobarSiPar(22)"
   ]
  },
  {
   "cell_type": "markdown",
   "metadata": {},
   "source": [
    "#### 4. Escribe un función que devuelva un saludo personalizado a una persona dado su nombre. \n"
   ]
  },
  {
   "cell_type": "code",
   "execution_count": 11,
   "metadata": {},
   "outputs": [
    {
     "name": "stdout",
     "output_type": "stream",
     "text": [
      "Hola Jose Luis!!\n"
     ]
    }
   ],
   "source": [
    "def saludarPersonalizado(nombre):\n",
    "    print(f\"Hola {nombre}!!\")\n",
    "\n",
    "saludarPersonalizado(\"Jose Luis\")"
   ]
  },
  {
   "cell_type": "markdown",
   "metadata": {},
   "source": [
    "#### 5. Escribe una función que sume todos los números que reciba como argumento. La función debe recibir una cantidad variable de argumentos y devolver la suma de todos ellos."
   ]
  },
  {
   "cell_type": "code",
   "execution_count": 14,
   "metadata": {},
   "outputs": [
    {
     "name": "stdout",
     "output_type": "stream",
     "text": [
      "6\n"
     ]
    }
   ],
   "source": [
    "def sumarVariosNumeros(*args):\n",
    "    return sum(args)\n",
    "\n",
    "print(sumarVariosNumeros(1,2,3))"
   ]
  },
  {
   "cell_type": "markdown",
   "metadata": {},
   "source": [
    "#### 6. Escribe una función que cuente las letras de una palabra y devuelva un diccionario con la cantidad de veces que se repite cada letra \n"
   ]
  },
  {
   "cell_type": "code",
   "execution_count": 15,
   "metadata": {},
   "outputs": [
    {
     "name": "stdout",
     "output_type": "stream",
     "text": [
      "{'p': 1, 'a': 3, 'l': 1, 'b': 1, 'r': 1}\n"
     ]
    }
   ],
   "source": [
    "def contarLetrasPalabra(palabra):\n",
    "    letras = {}\n",
    "    for letra in palabra:\n",
    "        if letra not in letras:\n",
    "            letras[letra] = 1\n",
    "        else:\n",
    "            letras[letra] += 1\n",
    "\n",
    "    return letras\n",
    "\n",
    "print(contarLetrasPalabra(\"palabra\"))"
   ]
  },
  {
   "cell_type": "markdown",
   "metadata": {},
   "source": [
    "#### 7. Escribe un función recursiva para calcular el factorial de un número entero no negativo."
   ]
  },
  {
   "cell_type": "code",
   "execution_count": 16,
   "metadata": {},
   "outputs": [
    {
     "name": "stdout",
     "output_type": "stream",
     "text": [
      "Factorial de 5 --> 120\n"
     ]
    }
   ],
   "source": [
    "def calcularFactorial(n):\n",
    "    if n == 1:\n",
    "        return 1\n",
    "    else:\n",
    "        return n * calcularFactorial(n - 1)\n",
    "    \n",
    "print(\"Factorial de 5 -->\", calcularFactorial(5))"
   ]
  },
  {
   "cell_type": "markdown",
   "metadata": {},
   "source": [
    "#### 8. Escribe una función que tome dos parámetros: `figura` (una cadena que puede ser `\"rectangulo\"`, `\"circulo\"` o `\"triangulo\"`) y `datos` (una tupla con los datos necesarios para calcular el área de la figura). "
   ]
  },
  {
   "cell_type": "code",
   "execution_count": 19,
   "metadata": {},
   "outputs": [
    {
     "name": "stdout",
     "output_type": "stream",
     "text": [
      "Area de un triangulo con 7cm de base y 3cm de altura 10.5 cm\n"
     ]
    }
   ],
   "source": [
    "figura = \"triangulo\"\n",
    "datos = (7,3)\n",
    "\n",
    "def calcularArea(figura, datos):\n",
    "    if figura == \"rectangulo\":\n",
    "        base, altura = datos\n",
    "        return base * altura\n",
    "    \n",
    "    elif figura == \"circulo\":\n",
    "        radio = datos\n",
    "        return 3.14 * radio ** 2\n",
    "    \n",
    "    elif figura == \"triangulo\":\n",
    "        base, altura = datos\n",
    "        return (base * altura) / 2\n",
    "\n",
    "print(\"Area de un triangulo con 7cm de base y 3cm de altura\", calcularArea(figura, datos), \"cm\")"
   ]
  },
  {
   "cell_type": "markdown",
   "metadata": {},
   "source": [
    "#### 9. Escribe una función que tome una lista de números como parámetro y devuelva el número más grande de la lista. No utilices la función `max()` de Python en tu solución."
   ]
  },
  {
   "cell_type": "code",
   "execution_count": 20,
   "metadata": {},
   "outputs": [
    {
     "name": "stdout",
     "output_type": "stream",
     "text": [
      "Numero mayor de la lista [4, 78, 34, 12] --> 78\n"
     ]
    }
   ],
   "source": [
    "def numeroMasGrande(lista):\n",
    "\n",
    "    mayor = lista[0]\n",
    "    for num in lista[1:]:\n",
    "        if num > mayor:\n",
    "            mayor = num\n",
    "    \n",
    "    return mayor\n",
    "\n",
    "print(\"Numero mayor de la lista [4, 78, 34, 12] -->\", numeroMasGrande([4, 78, 34, 12]))"
   ]
  },
  {
   "cell_type": "markdown",
   "metadata": {},
   "source": [
    "#### 10. Escribe una función que tome una cadena como parámetro un texto y devuelva `True` si la cadena es un palíndromo (se lee igual de izquierda a derecha que de derecha a izquierda), y `False` en caso contrario. Ignora los espacios y considera mayúsculas y minúsculas de manera insensible.\n"
   ]
  },
  {
   "cell_type": "code",
   "execution_count": 31,
   "metadata": {},
   "outputs": [
    {
     "data": {
      "text/plain": [
       "True"
      ]
     },
     "execution_count": 31,
     "metadata": {},
     "output_type": "execute_result"
    }
   ],
   "source": [
    "def esPalindromo(palabra = \"\"):\n",
    "\n",
    "    return palabra == palabra[::-1] #esta forma de invertir la cadena la vi en internet pero ahora se hacerlo, que al final con cosas que nos permite python y no estoy acostumbrado\n",
    "\n",
    "esPalindromo(\"olo\")"
   ]
  },
  {
   "cell_type": "markdown",
   "metadata": {},
   "source": [
    "#### 11. Escribe una función que tome una cadena como parámetro y devuelva dos valores: la cantidad de vocales y la cantidad de consonantes presentes en la cadena. Ignora los espacios y considera mayúsculas y minúsculas de manera insensible.\n"
   ]
  },
  {
   "cell_type": "code",
   "execution_count": 33,
   "metadata": {},
   "outputs": [
    {
     "name": "stdout",
     "output_type": "stream",
     "text": [
      "{'vocales': 4, 'consonantes': 5}\n"
     ]
    }
   ],
   "source": [
    "def contarVocalesConstantes(cadena=\"\"):\n",
    "    resultado = {\"vocales\":0, \"consonantes\":0}\n",
    "\n",
    "    cadena_nueva = cadena.replace(\" \",\"\").lower()\n",
    "    for letra in cadena_nueva:\n",
    "        if letra in [\"a\", \"e\", \"i\", \"o\", \"u\"]:\n",
    "            resultado[\"vocales\"] += 1\n",
    "        else:\n",
    "            resultado[\"consonantes\"] += 1\n",
    "\n",
    "    return resultado\n",
    "\n",
    "print(contarVocalesConstantes(\"Hola Mundo\"))\n"
   ]
  },
  {
   "cell_type": "code",
   "execution_count": null,
   "metadata": {},
   "outputs": [],
   "source": []
  }
 ],
 "metadata": {
  "kernelspec": {
   "display_name": "hackio",
   "language": "python",
   "name": "python3"
  },
  "language_info": {
   "codemirror_mode": {
    "name": "ipython",
    "version": 3
   },
   "file_extension": ".py",
   "mimetype": "text/x-python",
   "name": "python",
   "nbconvert_exporter": "python",
   "pygments_lexer": "ipython3",
   "version": "3.12.4"
  }
 },
 "nbformat": 4,
 "nbformat_minor": 2
}

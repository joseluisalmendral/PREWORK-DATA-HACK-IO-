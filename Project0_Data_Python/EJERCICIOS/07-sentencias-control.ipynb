{
 "cells": [
  {
   "cell_type": "markdown",
   "metadata": {},
   "source": [
    "<div style=\"text-align: center;\">\n",
    "  <img src=\"https://github.com/Hack-io-Data/Imagenes/blob/main/01-LogosHackio/logo_celeste@4x.png?raw=true\" alt=\"logo hack(io)\" />\n",
    "</div>"
   ]
  },
  {
   "cell_type": "markdown",
   "metadata": {},
   "source": [
    "#### 1. Escribe un programa que determine si un número es par o impar.\n",
    "\n"
   ]
  },
  {
   "cell_type": "code",
   "execution_count": 5,
   "metadata": {},
   "outputs": [
    {
     "name": "stdout",
     "output_type": "stream",
     "text": [
      "El 12 es par\n"
     ]
    }
   ],
   "source": [
    "numero = int(input(\"Introduce un numero\"))\n",
    "\n",
    "if numero % 2 == 0:\n",
    "    print(f\"El {numero} es par\")\n",
    "\n",
    "else:\n",
    "    print(f\"El {numero} es impar\")"
   ]
  },
  {
   "cell_type": "markdown",
   "metadata": {},
   "source": [
    "#### 2. Genera un programa que nos diga si es de noche, de día o tarde según la hora proporcionada por el usuario."
   ]
  },
  {
   "cell_type": "code",
   "execution_count": 15,
   "metadata": {},
   "outputs": [
    {
     "name": "stdout",
     "output_type": "stream",
     "text": [
      "A las 5 es de noche\n"
     ]
    }
   ],
   "source": [
    "hora = int(input(\"Dime que hora es (00 - 23)\"))\n",
    "\n",
    "if hora >= 8 and hora <= 14:\n",
    "    print(f\"A las {hora} es de dia\")\n",
    "\n",
    "if hora >= 15 and hora <= 20:\n",
    "    print(f\"A las {hora} es por la tarde\")\n",
    "\n",
    "if (hora >= 21 and hora <= 23) or (hora >= 0 and hora <= 8):\n",
    "    print(f\"A las {hora} es de noche\")"
   ]
  },
  {
   "cell_type": "markdown",
   "metadata": {},
   "source": [
    "#### 3. Dado un nombre imprime un saludo personalizado."
   ]
  },
  {
   "cell_type": "code",
   "execution_count": 14,
   "metadata": {},
   "outputs": [
    {
     "name": "stdout",
     "output_type": "stream",
     "text": [
      "Bienvenid@ Juanito!!\n"
     ]
    }
   ],
   "source": [
    "nombre_user = input(\"Ingresa tu nombre\")\n",
    "\n",
    "print(f\"Bienvenid@ {nombre_user}!!\")"
   ]
  },
  {
   "cell_type": "markdown",
   "metadata": {},
   "source": [
    "#### 4. Escribe un programa que determine qué calificación en texto tiene un alumno en base a su calificación numérica. Las reglas de calificación son: \n",
    "\n",
    "- 0 - 69 insuficiente\n",
    "\n",
    "- 70 - 79 bien\n",
    "\n",
    "- 80 - 89 muy bien\n",
    "\n",
    "- 90 - 100 excelente\n"
   ]
  },
  {
   "cell_type": "code",
   "execution_count": 19,
   "metadata": {},
   "outputs": [
    {
     "name": "stdout",
     "output_type": "stream",
     "text": [
      "97 es excelente\n"
     ]
    }
   ],
   "source": [
    "calificacion = int(input(\"Dime tu nota (0 - 100)\"))\n",
    "\n",
    "if calificacion in range(0,69):\n",
    "    print(f\"{calificacion} es infuciente\")\n",
    "\n",
    "elif calificacion in range(70,79):\n",
    "    print(f\"{calificacion} esta bien\")\n",
    "\n",
    "elif calificacion in range(80,89):\n",
    "    print(f\"{calificacion} esta muy bien\")\n",
    "\n",
    "elif calificacion in range(90,100):\n",
    "    print(f\"{calificacion} es excelente\")\n",
    "\n",
    "else:\n",
    "    print(\"La nota introducida NO ES VALIDA :(\")"
   ]
  },
  {
   "cell_type": "markdown",
   "metadata": {},
   "source": [
    "#### 5. Escribe un programa que imprima el día de la semana, dado un número del 1 al 7.\n"
   ]
  },
  {
   "cell_type": "code",
   "execution_count": 20,
   "metadata": {},
   "outputs": [
    {
     "name": "stdout",
     "output_type": "stream",
     "text": [
      "El dia 6 corresponde al Sabado\n"
     ]
    }
   ],
   "source": [
    "#Este ejercicio lo haria de otra forma, pero como esta seccion va de utilizar if, lo hare asi\n",
    "\n",
    "dia_semana = int(input(\"Dime un numeor del 1 al 7\"))\n",
    "\n",
    "if dia_semana == 1:\n",
    "    print(f\"El dia {dia_semana} corresponde al Lunes\")\n",
    "elif dia_semana == 2:\n",
    "    print(f\"El dia {dia_semana} corresponde al Martes\")\n",
    "elif dia_semana == 3:\n",
    "    print(f\"El dia {dia_semana} corresponde al Miercoles\")\n",
    "elif dia_semana == 4:\n",
    "    print(f\"El dia {dia_semana} corresponde al Jueves\")\n",
    "elif dia_semana == 5:\n",
    "    print(f\"El dia {dia_semana} corresponde al Viernes\")\n",
    "elif dia_semana == 6:\n",
    "    print(f\"El dia {dia_semana} corresponde al Sabado\")\n",
    "elif dia_semana == 7:\n",
    "    print(f\"El dia {dia_semana} corresponde al Domingo\")\n",
    "else:\n",
    "    print(\"El numero introducido NO ES VALIDO\")"
   ]
  },
  {
   "cell_type": "markdown",
   "metadata": {},
   "source": [
    "#### 6. Escribe un programa que determine si un número es positivo, negativo o cero."
   ]
  },
  {
   "cell_type": "code",
   "execution_count": 22,
   "metadata": {},
   "outputs": [
    {
     "name": "stdout",
     "output_type": "stream",
     "text": [
      "Es negativo\n"
     ]
    }
   ],
   "source": [
    "num = int(input(\"Introduce un numero entero\"))\n",
    "\n",
    "if num == 0:\n",
    "    print(\"El numero es cero\")\n",
    "\n",
    "elif num > 0:\n",
    "    print(f\"Es positivo\")\n",
    "\n",
    "elif num < 0:\n",
    "    print(f\"Es negativo\")"
   ]
  },
  {
   "cell_type": "markdown",
   "metadata": {},
   "source": [
    "#### 7. Escribe un programa que determine si una persona puede conducir o no. La edad mínima para conducir es 18 años. \n"
   ]
  },
  {
   "cell_type": "code",
   "execution_count": 24,
   "metadata": {},
   "outputs": [
    {
     "name": "stdout",
     "output_type": "stream",
     "text": [
      "NO puedo conducir\n"
     ]
    }
   ],
   "source": [
    "edad_persona = int(input(\"Introduce la edad de la persona\"))\n",
    "\n",
    "if edad_persona >= 18 and edad_persona < 90:\n",
    "    print(\"Puede conducir\")\n",
    "\n",
    "else:\n",
    "    print(\"NO puedo conducir\")"
   ]
  },
  {
   "cell_type": "markdown",
   "metadata": {},
   "source": [
    "#### 8. Escribe un programa que determine si un estudiante aprobó o suspendió un examen."
   ]
  },
  {
   "cell_type": "code",
   "execution_count": 25,
   "metadata": {},
   "outputs": [
    {
     "name": "stdout",
     "output_type": "stream",
     "text": [
      "El alumno ha aprobado\n"
     ]
    }
   ],
   "source": [
    "nota_alumo = int(input(\"Introduce la nota del alumno\"))\n",
    "\n",
    "if nota_alumo >= 5:\n",
    "    print(\"El alumno ha aprobado\")\n",
    "\n",
    "else:\n",
    "    print(\"El alumno ha suspendido\")"
   ]
  },
  {
   "cell_type": "markdown",
   "metadata": {},
   "source": [
    "#### 9. Escribe un programa que determine si un número es múltiplo de 3 y 5.\n"
   ]
  },
  {
   "cell_type": "code",
   "execution_count": 28,
   "metadata": {},
   "outputs": [
    {
     "name": "stdout",
     "output_type": "stream",
     "text": [
      "El 15 es multiplo de 3 y 5\n"
     ]
    }
   ],
   "source": [
    "numero = int(input(\"Introduce un numero\"))\n",
    "\n",
    "if (numero % 3 == 0) and (numero % 5 == 0):\n",
    "    print(f\"El {numero} es multiplo de 3 y 5\")\n",
    "\n",
    "else:\n",
    "    print(f\"El {numero} NO es multiplo de 3 y 5\")"
   ]
  },
  {
   "cell_type": "markdown",
   "metadata": {},
   "source": [
    "#### 10. Escribe un programa que determine si un número es par o impar.\n"
   ]
  },
  {
   "cell_type": "code",
   "execution_count": 29,
   "metadata": {},
   "outputs": [
    {
     "name": "stdout",
     "output_type": "stream",
     "text": [
      "El 8 es par\n"
     ]
    }
   ],
   "source": [
    "numero = int(input(\"Introduce un numero\"))\n",
    "\n",
    "if numero % 2 == 0:\n",
    "    print(f\"El {numero} es par\")\n",
    "\n",
    "else:\n",
    "    print(f\"El {numero} es impar\")"
   ]
  }
 ],
 "metadata": {
  "kernelspec": {
   "display_name": "hackio",
   "language": "python",
   "name": "python3"
  },
  "language_info": {
   "codemirror_mode": {
    "name": "ipython",
    "version": 3
   },
   "file_extension": ".py",
   "mimetype": "text/x-python",
   "name": "python",
   "nbconvert_exporter": "python",
   "pygments_lexer": "ipython3",
   "version": "3.12.4"
  }
 },
 "nbformat": 4,
 "nbformat_minor": 2
}

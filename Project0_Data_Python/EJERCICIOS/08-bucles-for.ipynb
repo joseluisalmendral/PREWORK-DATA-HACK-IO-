{
 "cells": [
  {
   "cell_type": "markdown",
   "metadata": {},
   "source": [
    "<div style=\"text-align: center;\">\n",
    "  <img src=\"https://github.com/Hack-io-Data/Imagenes/blob/main/01-LogosHackio/logo_celeste@4x.png?raw=true\" alt=\"logo hack(io)\" />\n",
    "</div>"
   ]
  },
  {
   "cell_type": "markdown",
   "metadata": {},
   "source": [
    "####  1. Genera una lista de números del 0 al 4 y luego imprime cada número en la lista usando un `bucle for`. "
   ]
  },
  {
   "cell_type": "code",
   "execution_count": 1,
   "metadata": {},
   "outputs": [
    {
     "name": "stdout",
     "output_type": "stream",
     "text": [
      "0\n",
      "1\n",
      "2\n",
      "3\n",
      "4\n"
     ]
    }
   ],
   "source": [
    "lista_numeros = []\n",
    "\n",
    "for i in range(5):\n",
    "    lista_numeros.append(i)\n",
    "\n",
    "for i in lista_numeros:\n",
    "    print(lista_numeros[i])"
   ]
  },
  {
   "cell_type": "markdown",
   "metadata": {},
   "source": [
    "#### 2. Itera sobre una lista de frutas y muestra cada fruta en mayúsculas. \n"
   ]
  },
  {
   "cell_type": "code",
   "execution_count": 3,
   "metadata": {},
   "outputs": [
    {
     "name": "stdout",
     "output_type": "stream",
     "text": [
      "MANZANA\n",
      "SANDIA\n",
      "PERA\n"
     ]
    }
   ],
   "source": [
    "frutas = [\"manzana\", \"sandia\", \"pera\"]\n",
    "\n",
    "for fruta in frutas:\n",
    "    print(fruta.upper())"
   ]
  },
  {
   "cell_type": "markdown",
   "metadata": {},
   "source": [
    "####  3. Genera un bucle while que imprima los números del 0 al 4. \n"
   ]
  },
  {
   "cell_type": "code",
   "execution_count": 4,
   "metadata": {},
   "outputs": [
    {
     "name": "stdout",
     "output_type": "stream",
     "text": [
      "0\n",
      "1\n",
      "2\n",
      "3\n",
      "4\n"
     ]
    }
   ],
   "source": [
    "n = 0\n",
    "\n",
    "while n <= 4:\n",
    "    print(n)\n",
    "    n += 1"
   ]
  },
  {
   "cell_type": "markdown",
   "metadata": {},
   "source": [
    "#### 4. Genera un bucle del 0 al 9, pero que se detenga en el 5.\n"
   ]
  },
  {
   "cell_type": "code",
   "execution_count": 9,
   "metadata": {},
   "outputs": [
    {
     "name": "stdout",
     "output_type": "stream",
     "text": [
      "Vuelta: 0\n",
      "Vuelta: 1\n",
      "Vuelta: 2\n",
      "Vuelta: 3\n",
      "Vuelta: 4\n",
      "Vuelta: 5\n"
     ]
    }
   ],
   "source": [
    "for i in range(10):\n",
    "    if i > 5:\n",
    "        break\n",
    "\n",
    "    print(f\"Vuelta: {i}\")"
   ]
  },
  {
   "cell_type": "markdown",
   "metadata": {},
   "source": [
    "#### 5. Recorre los números del 0 al 9 e imprime solo los números impares."
   ]
  },
  {
   "cell_type": "code",
   "execution_count": 18,
   "metadata": {},
   "outputs": [
    {
     "name": "stdout",
     "output_type": "stream",
     "text": [
      "1\n",
      "3\n",
      "5\n",
      "7\n",
      "9\n"
     ]
    }
   ],
   "source": [
    "for i in range(10):\n",
    "    if i % 2 != 0:\n",
    "        print(i)"
   ]
  },
  {
   "cell_type": "markdown",
   "metadata": {},
   "source": [
    "#### 6. Dada la lista `[10, 20, 30, 40, 50]`, calcula la suma de todos los elementos usando un bucle `for`."
   ]
  },
  {
   "cell_type": "code",
   "execution_count": 11,
   "metadata": {},
   "outputs": [
    {
     "name": "stdout",
     "output_type": "stream",
     "text": [
      "La suma total es: 150\n"
     ]
    }
   ],
   "source": [
    "lista6 = [10, 20, 30, 40, 50]\n",
    "\n",
    "total_suma = 0\n",
    "for n in lista6:\n",
    "    total_suma += n\n",
    "\n",
    "print(f\"La suma total es: {total_suma}\")"
   ]
  },
  {
   "cell_type": "markdown",
   "metadata": {},
   "source": [
    "#### 7. Dada la cadena `\"Hola mundo\"`, cuenta cuántas veces aparecen las vocales (`a`, `e`, `i`, `o`, `u`) usando un bucle `for`.\n"
   ]
  },
  {
   "cell_type": "code",
   "execution_count": 16,
   "metadata": {},
   "outputs": [
    {
     "name": "stdout",
     "output_type": "stream",
     "text": [
      "{'a': 1, 'e': 0, 'i': 0, 'o': 2, 'u': 1}\n"
     ]
    }
   ],
   "source": [
    "contador_vocales = {\n",
    "    \"a\" : 0,\n",
    "    \"e\" : 0,\n",
    "    \"i\" : 0,\n",
    "    \"o\" : 0,\n",
    "    \"u\" : 0\n",
    "}\n",
    "\n",
    "for caracter in \"Hola Mundo\":\n",
    "    if caracter in contador_vocales:\n",
    "        contador_vocales[caracter] += 1\n",
    "\n",
    "print(contador_vocales)"
   ]
  },
  {
   "cell_type": "markdown",
   "metadata": {},
   "source": [
    "#### 8. Dada la cadena `\"Python\"`, usa un bucle `for` para imprimir los caracteres en orden inverso (`n`, `o`, `h`, `t`, `y`, `P`).\n"
   ]
  },
  {
   "cell_type": "code",
   "execution_count": 17,
   "metadata": {},
   "outputs": [
    {
     "name": "stdout",
     "output_type": "stream",
     "text": [
      "n\n",
      "o\n",
      "h\n",
      "t\n",
      "y\n",
      "P\n"
     ]
    }
   ],
   "source": [
    "cadena = \"Python\"\n",
    "\n",
    "for i in range(len(cadena) - 1, -1, -1):\n",
    "    print(cadena[i])\n"
   ]
  },
  {
   "cell_type": "markdown",
   "metadata": {},
   "source": [
    "#### 9. Dada la lista `[1, 2, 3, 4, 5]`, multiplica todos sus elementos usando un bucle `for` y almacena los resultados en una lista nueva. \n"
   ]
  },
  {
   "cell_type": "code",
   "execution_count": 23,
   "metadata": {},
   "outputs": [
    {
     "name": "stdout",
     "output_type": "stream",
     "text": [
      "[2, 4, 6, 8, 10]\n"
     ]
    }
   ],
   "source": [
    "lista9 = [1, 2, 3, 4, 5]\n",
    "\n",
    "lista_nueva = []\n",
    "for i, numero in enumerate(lista9):\n",
    "    lista_nueva.append(numero * 2) #he multiplicado por 2 por ejemplo\n",
    "\n",
    "print(lista_nueva)"
   ]
  },
  {
   "cell_type": "markdown",
   "metadata": {},
   "source": [
    "#### 10. Dada la lista `[1, 2, 3, 4, 5, 6, 7, 8, 9, 10]`, utiliza un bucle `for` para contar cuántos números son pares y cuántos son impares."
   ]
  },
  {
   "cell_type": "code",
   "execution_count": null,
   "metadata": {},
   "outputs": [],
   "source": []
  },
  {
   "cell_type": "markdown",
   "metadata": {},
   "source": [
    "#### 11. Escribe un programa que solicite al usuario un número entero positivo (`n`) y calcule la suma de todos los números primos menores o iguales a `n`. Utiliza un bucle `for` para iterar sobre cada número y verifica si es primo."
   ]
  },
  {
   "cell_type": "code",
   "execution_count": null,
   "metadata": {},
   "outputs": [],
   "source": []
  },
  {
   "cell_type": "markdown",
   "metadata": {},
   "source": [
    "#### 12. Escribe un programa que solicite al usuario un número entero positivo (`n`) y luego imprima un patrón de asteriscos como el siguiente ejemplo para `n = 5`:\n",
    "```\n",
    "*\n",
    "**\n",
    "***\n",
    "****\n",
    "*****\n",
    "```\n",
    "Utiliza un bucle `for` anidado para controlar la cantidad de asteriscos en cada línea."
   ]
  },
  {
   "cell_type": "code",
   "execution_count": null,
   "metadata": {},
   "outputs": [],
   "source": []
  },
  {
   "cell_type": "markdown",
   "metadata": {},
   "source": [
    "#### 13. Dado un texto, utiliza un bucle `for` para contar cuántas veces aparece cada palabra en el texto. Ignora mayúsculas/minúsculas y los signos de puntuación."
   ]
  },
  {
   "cell_type": "code",
   "execution_count": null,
   "metadata": {},
   "outputs": [],
   "source": []
  },
  {
   "cell_type": "markdown",
   "metadata": {},
   "source": [
    "#### 14. Escribe un programa que solicite al usuario dos números enteros positivos (`inicio` y `fin`, donde `inicio <= fin`) y luego calcule la suma de los números pares y la suma de los números impares en ese rango. Utiliza un bucle `for` para iterar sobre cada número y una estructura `if-else` para clasificar y sumar los números pares e impares."
   ]
  },
  {
   "cell_type": "code",
   "execution_count": null,
   "metadata": {},
   "outputs": [],
   "source": []
  },
  {
   "cell_type": "markdown",
   "metadata": {},
   "source": [
    "#### 15. Escribe un programa que solicite al usuario un número entero positivo (`n`) y luego identifique todos los números primos menores o iguales a `n`. Para cada número, imprime si es primo o no usando un bucle `for` y una estructura `if-else` para verificar la condición de primalidad."
   ]
  },
  {
   "cell_type": "code",
   "execution_count": null,
   "metadata": {},
   "outputs": [],
   "source": []
  },
  {
   "cell_type": "markdown",
   "metadata": {},
   "source": [
    "#### 16.Dada una lista de precios `[100, 200, 300, 400, 500]`, aplica un descuento del 10% a todos los precios mayores a `250`. Imprime la lista actualizada de precios después de aplicar el descuento utilizando un bucle `for`. "
   ]
  },
  {
   "cell_type": "code",
   "execution_count": null,
   "metadata": {},
   "outputs": [],
   "source": []
  },
  {
   "cell_type": "markdown",
   "metadata": {},
   "source": [
    "#### 17. Dada una lista de calificaciones de estudiantes `[85, 92, 78, 90, 88]`, clasifica a cada estudiante como \"Aprobado\" si la calificación es mayor o igual a `80` y como \"Reprobado\" si es menor a `80`. Imprime el nombre de cada estudiante junto con su estado utilizando un bucle `for` y una estructura `if-else`.\n"
   ]
  },
  {
   "cell_type": "code",
   "execution_count": null,
   "metadata": {},
   "outputs": [],
   "source": []
  },
  {
   "cell_type": "markdown",
   "metadata": {},
   "source": [
    "\n",
    "#### 18. Escribe un programa que solicite al usuario dos números enteros positivos (`inicio`, `fin`) y otro número entero positivo (`divisor`). Encuentra el número más grande en el rango desde `inicio` hasta `fin` que sea divisible por `divisor`. Utiliza un bucle `for` y una estructura `if-else` para verificar y mantener el registro del número más grande divisible por el divisor dado.\n"
   ]
  },
  {
   "cell_type": "markdown",
   "metadata": {},
   "source": []
  }
 ],
 "metadata": {
  "kernelspec": {
   "display_name": "hackio",
   "language": "python",
   "name": "python3"
  },
  "language_info": {
   "codemirror_mode": {
    "name": "ipython",
    "version": 3
   },
   "file_extension": ".py",
   "mimetype": "text/x-python",
   "name": "python",
   "nbconvert_exporter": "python",
   "pygments_lexer": "ipython3",
   "version": "3.12.4"
  }
 },
 "nbformat": 4,
 "nbformat_minor": 2
}

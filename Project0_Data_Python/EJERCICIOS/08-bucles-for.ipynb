{
 "cells": [
  {
   "cell_type": "markdown",
   "metadata": {},
   "source": [
    "<div style=\"text-align: center;\">\n",
    "  <img src=\"https://github.com/Hack-io-Data/Imagenes/blob/main/01-LogosHackio/logo_celeste@4x.png?raw=true\" alt=\"logo hack(io)\" />\n",
    "</div>"
   ]
  },
  {
   "cell_type": "markdown",
   "metadata": {},
   "source": [
    "####  1. Genera una lista de números del 0 al 4 y luego imprime cada número en la lista usando un `bucle for`. "
   ]
  },
  {
   "cell_type": "code",
   "execution_count": 28,
   "metadata": {},
   "outputs": [
    {
     "name": "stdout",
     "output_type": "stream",
     "text": [
      "0\n",
      "1\n",
      "2\n",
      "3\n",
      "4\n"
     ]
    }
   ],
   "source": [
    "lista_numeros = []\n",
    "\n",
    "for i in range(5):\n",
    "    lista_numeros.append(i)\n",
    "\n",
    "for i in lista_numeros:\n",
    "    print(lista_numeros[i])"
   ]
  },
  {
   "cell_type": "markdown",
   "metadata": {},
   "source": [
    "#### 2. Itera sobre una lista de frutas y muestra cada fruta en mayúsculas. \n"
   ]
  },
  {
   "cell_type": "code",
   "execution_count": 29,
   "metadata": {},
   "outputs": [
    {
     "name": "stdout",
     "output_type": "stream",
     "text": [
      "MANZANA\n",
      "SANDIA\n",
      "PERA\n"
     ]
    }
   ],
   "source": [
    "frutas = [\"manzana\", \"sandia\", \"pera\"]\n",
    "\n",
    "for fruta in frutas:\n",
    "    print(fruta.upper())"
   ]
  },
  {
   "cell_type": "markdown",
   "metadata": {},
   "source": [
    "####  3. Genera un bucle while que imprima los números del 0 al 4. \n"
   ]
  },
  {
   "cell_type": "code",
   "execution_count": 30,
   "metadata": {},
   "outputs": [
    {
     "name": "stdout",
     "output_type": "stream",
     "text": [
      "0\n",
      "1\n",
      "2\n",
      "3\n",
      "4\n"
     ]
    }
   ],
   "source": [
    "n = 0\n",
    "\n",
    "while n <= 4:\n",
    "    print(n)\n",
    "    n += 1"
   ]
  },
  {
   "cell_type": "markdown",
   "metadata": {},
   "source": [
    "#### 4. Genera un bucle del 0 al 9, pero que se detenga en el 5.\n"
   ]
  },
  {
   "cell_type": "code",
   "execution_count": 31,
   "metadata": {},
   "outputs": [
    {
     "name": "stdout",
     "output_type": "stream",
     "text": [
      "Vuelta: 0\n",
      "Vuelta: 1\n",
      "Vuelta: 2\n",
      "Vuelta: 3\n",
      "Vuelta: 4\n",
      "Vuelta: 5\n"
     ]
    }
   ],
   "source": [
    "for i in range(10):\n",
    "    if i > 5:\n",
    "        break\n",
    "\n",
    "    print(f\"Vuelta: {i}\")"
   ]
  },
  {
   "cell_type": "markdown",
   "metadata": {},
   "source": [
    "#### 5. Recorre los números del 0 al 9 e imprime solo los números impares."
   ]
  },
  {
   "cell_type": "code",
   "execution_count": 32,
   "metadata": {},
   "outputs": [
    {
     "name": "stdout",
     "output_type": "stream",
     "text": [
      "1\n",
      "3\n",
      "5\n",
      "7\n",
      "9\n"
     ]
    }
   ],
   "source": [
    "for i in range(10):\n",
    "    if i % 2 != 0:\n",
    "        print(i)"
   ]
  },
  {
   "cell_type": "markdown",
   "metadata": {},
   "source": [
    "#### 6. Dada la lista `[10, 20, 30, 40, 50]`, calcula la suma de todos los elementos usando un bucle `for`."
   ]
  },
  {
   "cell_type": "code",
   "execution_count": 33,
   "metadata": {},
   "outputs": [
    {
     "name": "stdout",
     "output_type": "stream",
     "text": [
      "La suma total es: 150\n"
     ]
    }
   ],
   "source": [
    "lista6 = [10, 20, 30, 40, 50]\n",
    "\n",
    "total_suma = 0\n",
    "for n in lista6:\n",
    "    total_suma += n\n",
    "\n",
    "print(f\"La suma total es: {total_suma}\")"
   ]
  },
  {
   "cell_type": "markdown",
   "metadata": {},
   "source": [
    "#### 7. Dada la cadena `\"Hola mundo\"`, cuenta cuántas veces aparecen las vocales (`a`, `e`, `i`, `o`, `u`) usando un bucle `for`.\n"
   ]
  },
  {
   "cell_type": "code",
   "execution_count": 34,
   "metadata": {},
   "outputs": [
    {
     "name": "stdout",
     "output_type": "stream",
     "text": [
      "{'a': 1, 'e': 0, 'i': 0, 'o': 2, 'u': 1}\n"
     ]
    }
   ],
   "source": [
    "contador_vocales = {\n",
    "    \"a\" : 0,\n",
    "    \"e\" : 0,\n",
    "    \"i\" : 0,\n",
    "    \"o\" : 0,\n",
    "    \"u\" : 0\n",
    "}\n",
    "\n",
    "for caracter in \"Hola Mundo\":\n",
    "    if caracter in contador_vocales:\n",
    "        contador_vocales[caracter] += 1\n",
    "\n",
    "print(contador_vocales)"
   ]
  },
  {
   "cell_type": "markdown",
   "metadata": {},
   "source": [
    "#### 8. Dada la cadena `\"Python\"`, usa un bucle `for` para imprimir los caracteres en orden inverso (`n`, `o`, `h`, `t`, `y`, `P`).\n"
   ]
  },
  {
   "cell_type": "code",
   "execution_count": 35,
   "metadata": {},
   "outputs": [
    {
     "name": "stdout",
     "output_type": "stream",
     "text": [
      "n\n",
      "o\n",
      "h\n",
      "t\n",
      "y\n",
      "P\n"
     ]
    }
   ],
   "source": [
    "cadena = \"Python\"\n",
    "\n",
    "for i in range(len(cadena) - 1, -1, -1):\n",
    "    print(cadena[i])\n"
   ]
  },
  {
   "cell_type": "markdown",
   "metadata": {},
   "source": [
    "#### 9. Dada la lista `[1, 2, 3, 4, 5]`, multiplica todos sus elementos usando un bucle `for` y almacena los resultados en una lista nueva. \n"
   ]
  },
  {
   "cell_type": "code",
   "execution_count": 36,
   "metadata": {},
   "outputs": [
    {
     "name": "stdout",
     "output_type": "stream",
     "text": [
      "[2, 4, 6, 8, 10]\n"
     ]
    }
   ],
   "source": [
    "lista9 = [1, 2, 3, 4, 5]\n",
    "\n",
    "lista_nueva = []\n",
    "for i, numero in enumerate(lista9):\n",
    "    lista_nueva.append(numero * 2) #he multiplicado por 2 por ejemplo\n",
    "\n",
    "print(lista_nueva)"
   ]
  },
  {
   "cell_type": "markdown",
   "metadata": {},
   "source": [
    "#### 10. Dada la lista `[1, 2, 3, 4, 5, 6, 7, 8, 9, 10]`, utiliza un bucle `for` para contar cuántos números son pares y cuántos son impares."
   ]
  },
  {
   "cell_type": "code",
   "execution_count": 37,
   "metadata": {},
   "outputs": [
    {
     "name": "stdout",
     "output_type": "stream",
     "text": [
      "{'pares': 5, 'impares': 5}\n"
     ]
    }
   ],
   "source": [
    "lista10 = [1, 2, 3, 4, 5, 6, 7, 8, 9, 10]\n",
    "\n",
    "contador_numeros = {\n",
    "    \"pares\" : 0,\n",
    "    \"impares\" : 0\n",
    "}\n",
    "for n in lista10:\n",
    "    if n % 2 == 0:\n",
    "        contador_numeros['pares'] += 1\n",
    "    else:\n",
    "        contador_numeros['impares'] += 1\n",
    "\n",
    "print(contador_numeros)"
   ]
  },
  {
   "cell_type": "markdown",
   "metadata": {},
   "source": [
    "#### 11. Escribe un programa que solicite al usuario un número entero positivo (`n`) y calcule la suma de todos los números primos menores o iguales a `n`. Utiliza un bucle `for` para iterar sobre cada número y verifica si es primo."
   ]
  },
  {
   "cell_type": "code",
   "execution_count": 38,
   "metadata": {},
   "outputs": [
    {
     "ename": "ValueError",
     "evalue": "invalid literal for int() with base 10: ''",
     "output_type": "error",
     "traceback": [
      "\u001b[1;31m---------------------------------------------------------------------------\u001b[0m",
      "\u001b[1;31mValueError\u001b[0m                                Traceback (most recent call last)",
      "Cell \u001b[1;32mIn[38], line 1\u001b[0m\n\u001b[1;32m----> 1\u001b[0m n \u001b[38;5;241m=\u001b[39m \u001b[38;5;28;43mint\u001b[39;49m\u001b[43m(\u001b[49m\u001b[38;5;28;43minput\u001b[39;49m\u001b[43m(\u001b[49m\u001b[38;5;124;43m\"\u001b[39;49m\u001b[38;5;124;43mIntroduce un número entero positivo: \u001b[39;49m\u001b[38;5;124;43m\"\u001b[39;49m\u001b[43m)\u001b[49m\u001b[43m)\u001b[49m\n\u001b[0;32m      2\u001b[0m suma_primos \u001b[38;5;241m=\u001b[39m \u001b[38;5;241m0\u001b[39m\n\u001b[0;32m      4\u001b[0m \u001b[38;5;28;01mfor\u001b[39;00m num \u001b[38;5;129;01min\u001b[39;00m \u001b[38;5;28mrange\u001b[39m(\u001b[38;5;241m2\u001b[39m, n \u001b[38;5;241m+\u001b[39m \u001b[38;5;241m1\u001b[39m):\n",
      "\u001b[1;31mValueError\u001b[0m: invalid literal for int() with base 10: ''"
     ]
    }
   ],
   "source": [
    "n = int(input(\"Introduce un número entero positivo: \"))\n",
    "suma_primos = 0\n",
    "\n",
    "for num in range(2, n + 1):\n",
    "    es_primo = True\n",
    "\n",
    "    for i in range(2, num):\n",
    "        if num % i == 0:\n",
    "            es_primo = False\n",
    "            break\n",
    "\n",
    "    if es_primo:\n",
    "        suma_primos += num\n",
    "\n",
    "print(f\"La suma de todos los números primos menores o iguales a {n} es: {suma_primos}\")\n"
   ]
  },
  {
   "cell_type": "markdown",
   "metadata": {},
   "source": [
    "#### 12. Escribe un programa que solicite al usuario un número entero positivo (`n`) y luego imprima un patrón de asteriscos como el siguiente ejemplo para `n = 5`:\n",
    "```\n",
    "*\n",
    "**\n",
    "***\n",
    "****\n",
    "*****\n",
    "```\n",
    "Utiliza un bucle `for` anidado para controlar la cantidad de asteriscos en cada línea."
   ]
  },
  {
   "cell_type": "code",
   "execution_count": null,
   "metadata": {},
   "outputs": [
    {
     "name": "stdout",
     "output_type": "stream",
     "text": [
      "*\n",
      "**\n",
      "***\n",
      "****\n",
      "*****\n"
     ]
    }
   ],
   "source": [
    "n_asteriscos = int(input(\"Dime el numero de asteriscos\"))\n",
    "\n",
    "for i in range(1, n_asteriscos + 1,):\n",
    "    texto = \"\"\n",
    "    for j in range(i):\n",
    "        texto += \"*\"\n",
    "    \n",
    "    print(texto)"
   ]
  },
  {
   "cell_type": "markdown",
   "metadata": {},
   "source": [
    "#### 13. Dado un texto, utiliza un bucle `for` para contar cuántas veces aparece cada palabra en el texto. Ignora mayúsculas/minúsculas y los signos de puntuación."
   ]
  },
  {
   "cell_type": "code",
   "execution_count": null,
   "metadata": {},
   "outputs": [
    {
     "name": "stdout",
     "output_type": "stream",
     "text": [
      "{'la': 3, 'vaca': 4, 'de': 2, 'corre': 1, 'tras': 1, 'que': 1, 'anda': 1, 'ciones': 1}\n"
     ]
    }
   ],
   "source": [
    "import string\n",
    "\n",
    "texto = \"La vaca de la vaca corre tras la vaca que anda de vaca ciones\"\n",
    "\n",
    "texto_sinPuntuacion = ''.join([char for char in texto if char not in string.punctuation])\n",
    "\n",
    "palabras = texto_sinPuntuacion.lower().split()\n",
    "\n",
    "\n",
    "resultado = {}\n",
    "for palabra in palabras:\n",
    "    if palabra in resultado:\n",
    "        resultado[palabra] += 1\n",
    "\n",
    "    else:\n",
    "        resultado[palabra] = 1\n",
    "\n",
    "print(resultado)"
   ]
  },
  {
   "cell_type": "markdown",
   "metadata": {},
   "source": [
    "#### 14. Escribe un programa que solicite al usuario dos números enteros positivos (`inicio` y `fin`, donde `inicio <= fin`) y luego calcule la suma de los números pares y la suma de los números impares en ese rango. Utiliza un bucle `for` para iterar sobre cada número y una estructura `if-else` para clasificar y sumar los números pares e impares."
   ]
  },
  {
   "cell_type": "code",
   "execution_count": null,
   "metadata": {},
   "outputs": [
    {
     "name": "stdout",
     "output_type": "stream",
     "text": [
      "Rango elegido 0 - 4. \n",
      "Suma Pares: 6 \n",
      "Suma Impares: 4\n"
     ]
    }
   ],
   "source": [
    "n1, n2 = 1, 0\n",
    "\n",
    "while not(n1 <= n2):\n",
    "    n1, n2 = map(int,input(\"Introduce 2 numeros (principio-fin) separados mediante el caracter -\").split('-'))\n",
    "\n",
    "resultado = {\n",
    "    \"pares\" : 0,\n",
    "    \"impares\" : 0\n",
    "}\n",
    "for n in range(n1,n2+1):\n",
    "    if n % 2 == 0:\n",
    "        resultado['pares'] += n\n",
    "    else:\n",
    "        resultado['impares'] += n\n",
    "\n",
    "print(f\"Rango elegido {n1} - {n2}. \\nSuma Pares: {resultado['pares']} \\nSuma Impares: {resultado['impares']}\")"
   ]
  },
  {
   "cell_type": "markdown",
   "metadata": {},
   "source": [
    "#### 15. Escribe un programa que solicite al usuario un número entero positivo (`n`) y luego identifique todos los números primos menores o iguales a `n`. Para cada número, imprime si es primo o no usando un bucle `for` y una estructura `if-else` para verificar la condición de primalidad."
   ]
  },
  {
   "cell_type": "code",
   "execution_count": null,
   "metadata": {},
   "outputs": [
    {
     "name": "stdout",
     "output_type": "stream",
     "text": [
      "El numero 2 SI es primo\n",
      "\n",
      "El numero 3 SI es primo\n",
      "\n",
      "El numero 4 NO es primo\n",
      "\n",
      "El numero 5 SI es primo\n",
      "\n"
     ]
    }
   ],
   "source": [
    "n = int(input(\"Introduce un número entero positivo: \"))\n",
    "\n",
    "for num in range(2, n + 1):\n",
    "    es_primo = True\n",
    "\n",
    "    for i in range(2, num):\n",
    "        if num % i == 0:\n",
    "            es_primo = False\n",
    "            print(f\"El numero {num} NO es primo\\n\")\n",
    "            break\n",
    "\n",
    "    if es_primo:\n",
    "        print(f\"El numero {num} SI es primo\\n\")\n"
   ]
  },
  {
   "cell_type": "markdown",
   "metadata": {},
   "source": [
    "#### 16.Dada una lista de precios `[100, 200, 300, 400, 500]`, aplica un descuento del 10% a todos los precios mayores a `250`. Imprime la lista actualizada de precios después de aplicar el descuento utilizando un bucle `for`. "
   ]
  },
  {
   "cell_type": "code",
   "execution_count": null,
   "metadata": {},
   "outputs": [
    {
     "name": "stdout",
     "output_type": "stream",
     "text": [
      "[100, 200, 270.0, 360.0, 450.0]\n"
     ]
    }
   ],
   "source": [
    "lista_precios = [100, 200, 300, 400, 500]\n",
    "\n",
    "lista_precios_rebajados = []\n",
    "for precio in lista_precios:\n",
    "    if precio > 250:\n",
    "        lista_precios_rebajados.append(precio - (precio * 0.1))\n",
    "    else:\n",
    "        lista_precios_rebajados.append(precio)\n",
    "\n",
    "print(lista_precios_rebajados)"
   ]
  },
  {
   "cell_type": "markdown",
   "metadata": {},
   "source": [
    "#### 17. Dada una lista de calificaciones de estudiantes `[85, 92, 78, 90, 88]`, clasifica a cada estudiante como \"Aprobado\" si la calificación es mayor o igual a `80` y como \"Reprobado\" si es menor a `80`. Imprime el nombre de cada estudiante junto con su estado utilizando un bucle `for` y una estructura `if-else`.\n"
   ]
  },
  {
   "cell_type": "code",
   "execution_count": null,
   "metadata": {},
   "outputs": [
    {
     "name": "stdout",
     "output_type": "stream",
     "text": [
      "Estudiante_0 --> Aprobado (85)\n",
      "Estudiante_1 --> Aprobado (92)\n",
      "Estudiante_2 --> Reprobado (78)\n",
      "Estudiante_3 --> Aprobado (90)\n",
      "Estudiante_4 --> Aprobado (88)\n"
     ]
    }
   ],
   "source": [
    "lista_calificaciones = [85, 92, 78, 90, 88]\n",
    "\n",
    "for i, calif in enumerate(lista_calificaciones):\n",
    "    estudiante = \"Estudiante_\" + str(i)\n",
    "\n",
    "    if calif >= 80:\n",
    "        print(f\"{estudiante} --> Aprobado ({calif})\")\n",
    "    else:\n",
    "        print(f\"{estudiante} --> Reprobado ({calif})\")"
   ]
  },
  {
   "cell_type": "markdown",
   "metadata": {},
   "source": [
    "\n",
    "#### 18. Escribe un programa que solicite al usuario dos números enteros positivos (`inicio`, `fin`) y otro número entero positivo (`divisor`). Encuentra el número más grande en el rango desde `inicio` hasta `fin` que sea divisible por `divisor`. Utiliza un bucle `for` y una estructura `if-else` para verificar y mantener el registro del número más grande divisible por el divisor dado.\n"
   ]
  },
  {
   "cell_type": "code",
   "execution_count": 42,
   "metadata": {},
   "outputs": [
    {
     "name": "stdout",
     "output_type": "stream",
     "text": [
      "2 NO divisible por 5\n",
      "3 NO divisible por 5\n",
      "4 NO divisible por 5\n",
      "5 SI divisible por 5\n",
      "6 NO divisible por 5\n",
      "7 NO divisible por 5\n",
      "8 NO divisible por 5\n",
      "9 NO divisible por 5\n",
      "10 SI divisible por 5\n",
      "11 NO divisible por 5\n",
      "12 NO divisible por 5\n",
      "13 NO divisible por 5\n",
      "14 NO divisible por 5\n",
      "\n",
      "(RESULTADO) Numero mayor divisible entre 5 entre los numeros 1 y 15 --> 10\n"
     ]
    }
   ],
   "source": [
    "n1, n2 = map(int,input(\"Introduce 2 numeros (principio-fin) separados mediante ','\").split(','))\n",
    "divisor = int(input(\"Ahora el numero divisor\"))\n",
    "\n",
    "divisores = []\n",
    "for n in range(n1+1,n2): #como dice en el rango, el n1 y el n2, no estan incluidos\n",
    "    if n % divisor == 0:\n",
    "        divisores.append(n)\n",
    "        print(f\"{n} SI divisible por {divisor}\")\n",
    "    else:\n",
    "        print(f\"{n} NO divisible por {divisor}\")\n",
    "\n",
    "print(f\"\\n(RESULTADO) Numero mayor divisible entre {divisor} entre los numeros {n1} y {n2} --> {max(divisores)}\")"
   ]
  }
 ],
 "metadata": {
  "kernelspec": {
   "display_name": "hackio",
   "language": "python",
   "name": "python3"
  },
  "language_info": {
   "codemirror_mode": {
    "name": "ipython",
    "version": 3
   },
   "file_extension": ".py",
   "mimetype": "text/x-python",
   "name": "python",
   "nbconvert_exporter": "python",
   "pygments_lexer": "ipython3",
   "version": "3.12.4"
  }
 },
 "nbformat": 4,
 "nbformat_minor": 2
}

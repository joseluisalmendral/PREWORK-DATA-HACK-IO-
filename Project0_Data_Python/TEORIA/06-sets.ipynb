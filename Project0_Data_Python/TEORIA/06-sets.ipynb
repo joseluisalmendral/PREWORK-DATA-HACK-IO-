{
 "cells": [
  {
   "cell_type": "markdown",
   "metadata": {},
   "source": [
    "<div style=\"text-align: center;\">\n",
    "  <img src=\"https://github.com/Hack-io-Data/Imagenes/blob/main/01-LogosHackio/logo_celeste@4x.png?raw=true\" alt=\"esquema\" />\n",
    "</div>\n"
   ]
  },
  {
   "cell_type": "markdown",
   "metadata": {
    "toc": true
   },
   "source": [
    "<h1>Table of Contents<span class=\"tocSkip\"></span></h1>\n",
    "<div class=\"toc\"><ul class=\"toc-item\"><li><span><a href=\"#¿Qué-son-los-sets-y-como-se-definen?\" data-toc-modified-id=\"¿Qué-son-los-sets-y-como-se-definen?-1\"><span class=\"toc-item-num\">1&nbsp;&nbsp;</span>¿Qué son los sets y como se definen?</a></span></li><li><span><a href=\"#Propiedades-de-los-sets\" data-toc-modified-id=\"Propiedades-de-los-sets-2\"><span class=\"toc-item-num\">2&nbsp;&nbsp;</span>Propiedades de los sets</a></span></li><li><span><a href=\"#Indexación-de-los-sets\" data-toc-modified-id=\"Indexación-de-los-sets-3\"><span class=\"toc-item-num\">3&nbsp;&nbsp;</span>Indexación de los sets</a></span></li><li><span><a href=\"#Métodos-de-los-sets\" data-toc-modified-id=\"Métodos-de-los-sets-4\"><span class=\"toc-item-num\">4&nbsp;&nbsp;</span>Métodos de los sets</a></span><ul class=\"toc-item\"><li><span><a href=\"#.add()\" data-toc-modified-id=\".add()-4.1\"><span class=\"toc-item-num\">4.1&nbsp;&nbsp;</span><code>.add()</code></a></span></li><li><span><a href=\"#.update()\" data-toc-modified-id=\".update()-4.2\"><span class=\"toc-item-num\">4.2&nbsp;&nbsp;</span><code>.update()</code></a></span></li><li><span><a href=\"#.copy()\" data-toc-modified-id=\".copy()-4.3\"><span class=\"toc-item-num\">4.3&nbsp;&nbsp;</span><code>.copy()</code></a></span></li><li><span><a href=\"#.pop()\" data-toc-modified-id=\".pop()-4.4\"><span class=\"toc-item-num\">4.4&nbsp;&nbsp;</span><code>.pop()</code></a></span></li><li><span><a href=\"#.remove()\" data-toc-modified-id=\".remove()-4.5\"><span class=\"toc-item-num\">4.5&nbsp;&nbsp;</span><code>.remove()</code></a></span></li><li><span><a href=\"#.discard()\" data-toc-modified-id=\".discard()-4.6\"><span class=\"toc-item-num\">4.6&nbsp;&nbsp;</span><code>.discard()</code></a></span></li><li><span><a href=\"#.clear()\" data-toc-modified-id=\".clear()-4.7\"><span class=\"toc-item-num\">4.7&nbsp;&nbsp;</span><code>.clear()</code></a></span></li></ul></li><li><span><a href=\"#Operaciones-de-conjuntos-con-sets\" data-toc-modified-id=\"Operaciones-de-conjuntos-con-sets-5\"><span class=\"toc-item-num\">5&nbsp;&nbsp;</span>Operaciones de conjuntos con sets</a></span><ul class=\"toc-item\"><li><span><a href=\"#.union()-(A-∪-B)\" data-toc-modified-id=\".union()-(A-∪-B)-5.1\"><span class=\"toc-item-num\">5.1&nbsp;&nbsp;</span><code>.union()</code> (A ∪ B)</a></span></li><li><span><a href=\"#.intersection()\" data-toc-modified-id=\".intersection()-5.2\"><span class=\"toc-item-num\">5.2&nbsp;&nbsp;</span><code>.intersection()</code></a></span></li><li><span><a href=\"#.difference()\" data-toc-modified-id=\".difference()-5.3\"><span class=\"toc-item-num\">5.3&nbsp;&nbsp;</span><code>.difference()</code></a></span></li><li><span><a href=\"#.symmetric_difference()\" data-toc-modified-id=\".symmetric_difference()-5.4\"><span class=\"toc-item-num\">5.4&nbsp;&nbsp;</span><code>.symmetric_difference()</code></a></span></li><li><span><a href=\"#.isdisjoint()\" data-toc-modified-id=\".isdisjoint()-5.5\"><span class=\"toc-item-num\">5.5&nbsp;&nbsp;</span><code>.isdisjoint()</code></a></span></li><li><span><a href=\"#.issubset()\" data-toc-modified-id=\".issubset()-5.6\"><span class=\"toc-item-num\">5.6&nbsp;&nbsp;</span><code>.issubset()</code></a></span></li><li><span><a href=\"#.issuperset()\" data-toc-modified-id=\".issuperset()-5.7\"><span class=\"toc-item-num\">5.7&nbsp;&nbsp;</span><code>.issuperset()</code></a></span></li></ul></li></ul></div>"
   ]
  },
  {
   "cell_type": "markdown",
   "metadata": {},
   "source": [
    "# ¿Qué son los sets y como se definen?\n",
    "\n",
    "Los `sets` son estructuras de datos que almacenan colecciones desordenadas y no repetidas de elementos únicos y mutables. Una de las ventajas de los conjuntos es su eficiencia en la realización de operaciones matemáticas a través de una serie de  métodos integrados para realizar operaciones como unión, intersección, diferencia y diferencia simétrica entre conjuntos. Estas operaciones se pueden realizar de manera rápida y eficiente, lo que las hace útiles en una variedad de escenarios, como filtrar elementos comunes entre conjuntos o encontrar elementos únicos.\n",
    "\n",
    "Sin embargo, los conjuntos tienen algunas limitaciones. Por ejemplo, no admiten elementos mutables como listas, conjuntos o diccionarios, ya que estos elementos pueden cambiar y afectar la integridad del conjunto. Además, los conjuntos no garantizan un orden específico al almacenar elementos, lo que puede ser problemático en situaciones donde se necesita mantener un orden específico.\n",
    "\n",
    "Las principales características de los sets son:\n",
    "\n",
    "- Colección no ordenada: los elementos dentro de un conjunto no tienen un orden específico. No se pueden acceder a los elementos de un conjunto mediante índices (como hacíamos en listas o tuplas), ya que no existe un orden definido.\n",
    "\n",
    "- Elementos únicos: cada elemento dentro de un conjunto es único, es decir, no se pueden tener elementos duplicados en un conjunto.\n",
    "\n",
    "- Mutable: el conjunto en sí mismo es mutable, lo que significa que se pueden agregar o eliminar elementos del conjunto.\n",
    "\n",
    "- Métodos para realizar operaciones matemáticas: los conjuntos en Python vienen con una serie de métodos integrados para realizar operaciones matemáticas, como unión, intersección, diferencia y diferencia simétrica entre conjuntos.\n",
    "\n",
    "- No admite elementos mutables: los conjuntos no pueden contener elementos mutables como listas, conjuntos o diccionarios, ya que estos elementos pueden cambiar y afectar la integridad del conjunto.\n",
    "\n",
    "- Iterables: los conjuntos son iterables, lo que significa que se pueden recorrer los elementos de un conjunto utilizando un bucle for.\n",
    "\n",
    "Ya hemos visto que se definen con `{}`, pero veamos que formas tenemos para crear sets en Python:\n",
    "\n",
    "- Utilizando llaves `{}`\n",
    "\n",
    "- Utilizando la función `set()`"
   ]
  },
  {
   "cell_type": "markdown",
   "metadata": {},
   "source": [
    "**Utilizando llaves**"
   ]
  },
  {
   "cell_type": "code",
   "execution_count": 2,
   "metadata": {},
   "outputs": [
    {
     "name": "stdout",
     "output_type": "stream",
     "text": [
      "El set que acabamos de crear es: {'Teléfono', 'Viaje', 'Planta', 'Computadora', 'Juego', 'Libro', 'Canción', 'Café', 'Película'}\n"
     ]
    }
   ],
   "source": [
    "# definimos un set con una serie de strings\n",
    "cosas = {'Libro', 'Película', 'Canción', 'Ordenador', 'Juego', 'Teléfono', 'Café', 'Viaje', 'Planta', 'Libro'}\n",
    "\n",
    "# si nos fijamos, en el set hemos puesto dos veces el string \"Libro\". Una de las carácteristicas de los sets es que NO ACEPTAN ELEMENTOS REPETIDOS, por lo que nos ha eliminado uno de ellos.\n",
    "# ademas, puede que el orden en el que habéis definido los elementos en la variable cosas no sea el mismo con el que lo vemos en el print, lo que también muestra otra de las características de los sets, QUE NO TIENEN ORDEN\n",
    "print(\"El set que acabamos de crear es:\", cosas)"
   ]
  },
  {
   "cell_type": "markdown",
   "metadata": {},
   "source": [
    "**Utilizando la función `set()`**"
   ]
  },
  {
   "cell_type": "code",
   "execution_count": 3,
   "metadata": {},
   "outputs": [
    {
     "name": "stdout",
     "output_type": "stream",
     "text": [
      "El set que acabamos de crear es: {'Teléfono', 'Viaje', 'Planta', 'Computadora', 'Juego', 'Libro', 'Canción', 'Café', 'Película'}\n",
      "El set que acabamos de crear es: {'Teléfono', 'Viaje', 'Planta', 'Computadora', 'Juego', 'Libro', 'Canción', 'Café', 'Película'}\n"
     ]
    }
   ],
   "source": [
    "# Podemos crear un set que venga de una tupla, como hemos aprendido hasta ahora\n",
    "tupla_cosas = ('Libro', 'Película', 'Canción', 'Computadora', 'Juego', 'Teléfono', 'Café', 'Viaje', 'Planta', 'Libro')\n",
    "\n",
    "\n",
    "# convertimos a set usando el método 'set()'\n",
    "cosas2 = set(tupla_cosas)\n",
    "\n",
    "print(\"El set que acabamos de crear es:\", cosas2)\n",
    "\n",
    "\n",
    "# también podemos crear un set de una lista\n",
    "lista_cosas = ['Libro', 'Película', 'Canción', 'Computadora', 'Juego', 'Teléfono', 'Café', 'Viaje', 'Planta', 'Libro']\n",
    "\n",
    "# convertimos a set usando el método 'set()'\n",
    "cosas3 = set(lista_cosas)\n",
    "\n",
    "print(\"El set que acabamos de crear es:\", cosas3)\n"
   ]
  },
  {
   "cell_type": "markdown",
   "metadata": {},
   "source": [
    "# Propiedades de los sets\n",
    "\n",
    "Al igual que en las listas, tuplas y diccionarios, los sets tienen una serie de métodos que nos ayudan a comprender sus características principales. En este caso, es más sencillo, ya que los únicos métodos que podemos utilizar en sets son:\n",
    "\n",
    "- `len()`: Utilizado para obtener la cantidad de elementos en un set.\n",
    "\n",
    "- `min()`: Devuelve el elemento más pequeño en un set.\n",
    "\n",
    "- `max()`: Devuelve el elemento más grande en un set.\n",
    "\n",
    "- `in` y `not in`: Verifican si un elemento está presente o no en el set.\n",
    "\n",
    "Veamos más detalles sobre estos métodos:\n"
   ]
  },
  {
   "cell_type": "code",
   "execution_count": 6,
   "metadata": {},
   "outputs": [
    {
     "name": "stdout",
     "output_type": "stream",
     "text": [
      "La longitud del set 'cosas' es: 9\n",
      "El valor mínimo del set 'cosas' es: Café\n",
      "El valor máximo del set 'cosas' es: Viaje\n",
      "¿Esta la palabra 'Juego' en el set 'cosas? True\n",
      "¿Esta la palabra 'Lopez' en el set 'cosas? False\n"
     ]
    }
   ],
   "source": [
    "# el número de elementos que tenemos en el set \n",
    "print(\"La longitud del set 'cosas' es:\", len(cosas))\n",
    "\n",
    "# el valor mínimo del set\n",
    "print(f\"El valor mínimo del set 'cosas' es: {min(cosas)}\")\n",
    "\n",
    "# el valor máximo del set\n",
    "print(f\"El valor máximo del set 'cosas' es: {max(cosas)}\")\n",
    "\n",
    "# esta la palabra \"Juego\" dentro de nuestro set?\n",
    "print(\"¿Esta la palabra 'Juego' en el set 'cosas?\", 'Juego' in cosas)\n",
    "\n",
    "# esta la palabra \"Lopez\" en nuestro set? \n",
    "print(\"¿Esta la palabra 'Lopez' en el set 'cosas?\", 'Lopez' in cosas)"
   ]
  },
  {
   "cell_type": "markdown",
   "metadata": {},
   "source": [
    "# Indexación de los sets\n",
    "\n",
    "Como hemos dicho, los sets son estructuras de datos no ordenadas, lo que significa que no se puede acceder a los elementos por su posición, por lo tanto, no es posible realizar indexación como con listas y tuplas. Esta característica impide el acceso directo a los elementos mediante un índice específico. A pesar de ello, podemos ilustrar este concepto con un ejemplo que demuestra el error que se produce al intentar indexar un set. Cuando intentamos acceder a un elemento específico en un set utilizando la indexación, Python arroja un error indicando que la operación no está permitida debido a la naturaleza no ordenada de los sets. Este comportamiento subraya la diferencia fundamental entre los sets y otras estructuras de datos como listas y tuplas, donde la indexación es una operación común para acceder a elementos mediante su posición dentro de la estructura."
   ]
  },
  {
   "cell_type": "code",
   "execution_count": 7,
   "metadata": {},
   "outputs": [
    {
     "ename": "TypeError",
     "evalue": "'set' object is not subscriptable",
     "output_type": "error",
     "traceback": [
      "\u001b[0;31m---------------------------------------------------------------------------\u001b[0m",
      "\u001b[0;31mTypeError\u001b[0m                                 Traceback (most recent call last)",
      "Cell \u001b[0;32mIn[7], line 1\u001b[0m\n\u001b[0;32m----> 1\u001b[0m \u001b[43mcosas\u001b[49m\u001b[43m[\u001b[49m\u001b[38;5;241;43m3\u001b[39;49m\u001b[43m]\u001b[49m\n",
      "\u001b[0;31mTypeError\u001b[0m: 'set' object is not subscriptable"
     ]
    }
   ],
   "source": [
    "cosas[3]"
   ]
  },
  {
   "cell_type": "markdown",
   "metadata": {},
   "source": [
    "¿Qué error nos devuelve?\n",
    "\n",
    "`TypeError: 'set' object is not subscriptable` indica que los sets no son indexables, es decir, no podemos acceder a sus elementos utilizando índices como en listas o tuplas. La indexación implica acceder a elementos por su posición dentro de la estructura, pero los sets, al ser no ordenados, no tienen una posición específica para cada elemento. Por lo tanto, no es posible acceder a elementos individuales mediante un índice. Este error resalta una diferencia fundamental entre los sets y otras estructuras de datos como listas y tuplas, donde la indexación es una operación común para acceder a elementos específicos mediante su posición dentro de la estructura."
   ]
  },
  {
   "cell_type": "markdown",
   "metadata": {},
   "source": [
    "# Métodos de los sets\n",
    "\n",
    "Los métodos de los sets son funciones que permiten manipular conjuntos, agregar o eliminar elementos, y realizar operaciones entre ellos. Aquí están algunos métodos comunes de los sets con una breve explicación de sus funciones:\n",
    "\n",
    "- `add()`: Agrega un elemento al conjunto. Si el elemento ya está presente, no se hace nada.\n",
    "  \n",
    "- `update()`: Agrega múltiples elementos al conjunto.\n",
    "\n",
    "- `copy()`: Crea una copia superficial del conjunto existente.\n",
    "\n",
    "- `pop()`: Elimina y devuelve un elemento aleatorio del conjunto. Genera un error si el conjunto está vacío.\n",
    "\n",
    "- `remove()`: Elimina un elemento del conjunto. Genera un error si el elemento no está presente.\n",
    "\n",
    "- `discard()`: Elimina un elemento del conjunto, sin error si el elemento no está presente.\n",
    "\n",
    "- `clear()`: Elimina todos los elementos del conjunto."
   ]
  },
  {
   "cell_type": "markdown",
   "metadata": {},
   "source": [
    "## `.add()`\n",
    "\n",
    "El método `.add()` es utilizado en sets para agregar un elemento al conjunto. Si el elemento ya está presente, no se insertará el elemento. Este método es útil para insertar nuevos elementos en un set de forma rápida y sencilla. "
   ]
  },
  {
   "cell_type": "code",
   "execution_count": 8,
   "metadata": {},
   "outputs": [
    {
     "name": "stdout",
     "output_type": "stream",
     "text": [
      "El set 'cosas' contiene los siguientes elementos: {'Teléfono', 'Viaje', 'Planta', 'Computadora', 'Juego', 'Libro', 'Canción', 'Café', 'Película'}\n",
      "La cantidad de alérgenos en nuestro set es: 9\n",
      "El set 'cosas' DESPUÉS DE AÑADIR LA CARTAS contiene los siguientes elementos: {'Teléfono', 'Viaje', 'Cartas', 'Planta', 'Computadora', 'Juego', 'Libro', 'Canción', 'Café', 'Película'}\n",
      "La cantidad de cosas en nuestro set DESPUÉS DE AÑADIR LA CARTAS es: 10\n"
     ]
    },
    {
     "ename": "TypeError",
     "evalue": "unhashable type: 'list'",
     "output_type": "error",
     "traceback": [
      "\u001b[0;31m---------------------------------------------------------------------------\u001b[0m",
      "\u001b[0;31mTypeError\u001b[0m                                 Traceback (most recent call last)",
      "Cell \u001b[0;32mIn[8], line 12\u001b[0m\n\u001b[1;32m      9\u001b[0m \u001b[38;5;28mprint\u001b[39m(\u001b[38;5;124m\"\u001b[39m\u001b[38;5;124mLa cantidad de cosas en nuestro set DESPUÉS DE AÑADIR LA CARTAS es:\u001b[39m\u001b[38;5;124m\"\u001b[39m, \u001b[38;5;28mlen\u001b[39m(cosas))\n\u001b[1;32m     11\u001b[0m \u001b[38;5;66;03m# Intentando añadir más de un elemento al set\u001b[39;00m\n\u001b[0;32m---> 12\u001b[0m \u001b[43mcosas\u001b[49m\u001b[38;5;241;43m.\u001b[39;49m\u001b[43madd\u001b[49m\u001b[43m(\u001b[49m\u001b[43m[\u001b[49m\u001b[38;5;124;43m'\u001b[39;49m\u001b[38;5;124;43mZapato\u001b[39;49m\u001b[38;5;124;43m'\u001b[39;49m\u001b[43m,\u001b[49m\u001b[43m \u001b[49m\u001b[38;5;124;43m\"\u001b[39;49m\u001b[38;5;124;43mRed\u001b[39;49m\u001b[38;5;124;43m\"\u001b[39;49m\u001b[43m]\u001b[49m\u001b[43m)\u001b[49m  \u001b[38;5;66;03m# Esto generará un error\u001b[39;00m\n",
      "\u001b[0;31mTypeError\u001b[0m: unhashable type: 'list'"
     ]
    }
   ],
   "source": [
    "# imaginemos que ahora queremos añadir una cosa nueva a nuestro set usando el método 'add()'. Para eso, lo único que deberemos hacer es pasar el elemento nuevo al set\n",
    "print(\"El set 'cosas' contiene los siguientes elementos:\", cosas)\n",
    "print(\"La cantidad de alérgenos en nuestro set es:\", len(cosas))\n",
    "\n",
    "# Añadiendo 'Mostaza' utilizando el método 'add()'\n",
    "cosas.add('Cartas')\n",
    "\n",
    "print(\"El set 'cosas' DESPUÉS DE AÑADIR LA CARTAS contiene los siguientes elementos:\", cosas)\n",
    "print(\"La cantidad de cosas en nuestro set DESPUÉS DE AÑADIR LA CARTAS es:\", len(cosas))\n",
    "\n",
    "# Intentando añadir más de un elemento al set\n",
    "cosas.add(['Zapato', \"Red\"])  # Esto generará un error\n"
   ]
  },
  {
   "cell_type": "markdown",
   "metadata": {},
   "source": [
    "Oh! hemos obtenido un error. En este caso, el error es `TypeError: unhashable type: 'list'`. Esto significa que no podemos utilizar listas con el método `.add()`. En resumen, el error indica que los elementos de la lista no pueden ser \"hasheados\" o convertidos en un valor único, lo cual es necesario para agregar elementos a un set.\n",
    "\n",
    "Sabiendo que el método `.add()` no es adecuado para insertar más de un elemento en un set, podemos recurrir al método `.update()` como alternativa. Este método nos permite agregar múltiples elementos a la vez, ya sea pasando un set, una lista o cualquier otra iterable como argumento. Veamos cómo usarlo a continuación."
   ]
  },
  {
   "cell_type": "markdown",
   "metadata": {},
   "source": [
    "## `.update()`\n",
    "\n",
    "El método `.update()` se emplea para agregar múltiples elementos a un set. Para utilizarlo, debemos pasarle los elementos que deseamos agregar en forma de lista o set. Esto permite actualizar el conjunto con varios elementos de una sola vez, evitando la necesidad de agregar cada elemento individualmente con el método `.add()`. "
   ]
  },
  {
   "cell_type": "code",
   "execution_count": 10,
   "metadata": {},
   "outputs": [
    {
     "name": "stdout",
     "output_type": "stream",
     "text": [
      "El set 'cosas' contiene los siguientes elementos: {'Teléfono', 'Viaje', 'Cartas', 'Planta', 'Computadora', 'Juego', 'Libro', 'Canción', 'Café', 'Película'}\n",
      "El set 'cosas' DESPUÉS DE AÑADIR LOS ELEMENTOS contiene los siguientes elementos: {'Teléfono', 'Viaje', 'Cartas', 'Planta', 'Computadora', 'Juego', 'Libro', 'Pala', 'Canción', 'Navaja', 'Café', 'Película'}\n"
     ]
    }
   ],
   "source": [
    "print(\"El set 'cosas' contiene los siguientes elementos:\", cosas)\n",
    "\n",
    "# nos creamos una lista con los elementos que queremos introducir en nuestro set\n",
    "actualizacion = ['Pala', 'Navaja']\n",
    "\n",
    "# le pasamos la lista creada al método 'update()'\n",
    "cosas.update(actualizacion)\n",
    "\n",
    "print(\"El set 'cosas' DESPUÉS DE AÑADIR LOS ELEMENTOS contiene los siguientes elementos:\", cosas)"
   ]
  },
  {
   "cell_type": "code",
   "execution_count": 11,
   "metadata": {},
   "outputs": [
    {
     "name": "stdout",
     "output_type": "stream",
     "text": [
      "El set 'cosas' contiene los siguientes elementos: {'Teléfono', 'Viaje', 'Cartas', 'Planta', 'Computadora', 'Juego', 'Libro', 'Pala', 'Canción', 'Navaja', 'Café', 'Película'}\n",
      "El set 'cosas' DESPUÉS DE AÑADIR LOS ELEMENTOS contiene los siguientes elementos: {'Teléfono', 'Viaje', 'Cartas', 'Planta', 'Gato', 'Computadora', 'Juego', 'Libro', 'Pala', 'Mosquito', 'Canción', 'Navaja', 'Café', 'Película'}\n"
     ]
    }
   ],
   "source": [
    "print(\"El set 'cosas' contiene los siguientes elementos:\", cosas)\n",
    "\n",
    "# como hemos visto,  también le podemos pasar un set a este método, definimos un set con los nuevos elementos que queremos incluir\n",
    "actualizacion2 = {'Gato', \"Mosquito\"}\n",
    "\n",
    "# usamos el método 'update()'\n",
    "cosas.update(actualizacion2)\n",
    "\n",
    "print(\"El set 'cosas' DESPUÉS DE AÑADIR LOS ELEMENTOS contiene los siguientes elementos:\", cosas)"
   ]
  },
  {
   "cell_type": "markdown",
   "metadata": {},
   "source": [
    "<div style=\"background-color: #F74646; padding: 10px; border-left: 6px solid #000080; color: black; border-radius: 10px;\">\n",
    "Por lo tanto, las principales diferencias entre los métodos `add` y `update` en sets son:\n",
    "\n",
    "| Método        | Descripción                                                                                             |\n",
    "|---------------|---------------------------------------------------------------------------------------------------------|\n",
    "| `add()`       | Se utiliza para agregar un solo elemento a un conjunto. Si el elemento ya está presente, no se hace nada.|\n",
    "| `update()`    | Se utiliza para agregar múltiples elementos a un conjunto. Los elementos se pasan como una lista u otro iterable. |\n",
    "\n",
    "</div>\n"
   ]
  },
  {
   "cell_type": "markdown",
   "metadata": {},
   "source": [
    "## `.copy()`\n",
    "\n",
    "Se utiliza para crear una copia superficial de un conjunto existente. Este método genera un nuevo set que contiene los mismos elementos que el conjunto original, pero sin duplicar los elementos en sí mismos. En otras palabras, se hace una referencia a los elementos del conjunto original en lugar de copiarlos completamente, es decir, igual que hemos aprendido hasta ahora con el método copy en otros tipos de datos. \n",
    "\n",
    "El uso de `copy()` es especialmente beneficioso en situaciones donde se requiere mantener la integridad de los datos originales mientras se realizan modificaciones o análisis en una copia separada. En resumen, `copy()` proporciona una forma eficiente y segura de duplicar conjuntos en Python sin afectar el conjunto original."
   ]
  },
  {
   "cell_type": "code",
   "execution_count": 14,
   "metadata": {},
   "outputs": [
    {
     "name": "stdout",
     "output_type": "stream",
     "text": [
      "El set 'cosas' contiene los siguientes elementos: {'Teléfono', 'Viaje', 'Cartas', 'Planta', 'Gato', 'Computadora', 'Juego', 'Libro', 'Pala', 'Mosquito', 'Canción', 'Navaja', 'Café', 'Película'}\n",
      "El set 'alergenos1' contiene los siguientes elementos: {'Teléfono', 'Viaje', 'Cartas', 'Planta', 'Gato', 'Computadora', 'Juego', 'Libro', 'Pala', 'Mosquito', 'Canción', 'Navaja', 'Café', 'Película'}\n",
      "\n",
      "-----------\n",
      "\n",
      "El SET ORIGINAL es: {'Teléfono', 'Viaje', 'Cartas', 'Planta', 'Gato', 'Computadora', 'Juego', 'Libro', 'Pala', 'Mosquito', 'Canción', 'Navaja', 'Café', 'Película'}\n",
      "El SET COPIA después de añadir un elemento es: {'Teléfono', 'Viaje', 'Cartas', 'Planta', 'Gato', 'Computadora', 'Juego', 'Libro', 'Pala', 'Mosquito', 'Canción', 'Armarios', 'Navaja', 'Café', 'Película'}\n"
     ]
    }
   ],
   "source": [
    "print(\"El set 'cosas' contiene los siguientes elementos:\", cosas)\n",
    "\n",
    "# nos hacemos una copia de set cosas\n",
    "cosas_copia = cosas.copy()\n",
    "print(\"El set 'alergenos1' contiene los siguientes elementos:\", cosas_copia)\n",
    "\n",
    "# como siempre, hacemos una modificación en la copia y confirmaremos que el set original no se ha modificado\n",
    "# añadimos un elemento nuevo al set utilizando el método 'add()'\n",
    "cosas_copia.add(\"Armarios\")\n",
    "\n",
    "# chequeamos que los sets son diferentes\n",
    "print(\"\\n-----------\\n\")\n",
    "print(f\"El SET ORIGINAL es: {cosas}\")\n",
    "print(f\"El SET COPIA después de añadir un elemento es: {cosas_copia}\")"
   ]
  },
  {
   "cell_type": "markdown",
   "metadata": {},
   "source": [
    "## `.pop()`\n",
    "\n",
    "El método `pop()` se utiliza para eliminar y devolver **un elemento aleatorio** del set. Debido a que los sets no tienen un orden específico, el elemento eliminado es seleccionado al azar. Al igual que en otros tipos de datos, el método `pop()` devuelve el elemento eliminado del conjunto, modificando así el conjunto original. Esto significa que el conjunto se sobrescribe y se pierde el elemento que se eliminó."
   ]
  },
  {
   "cell_type": "code",
   "execution_count": 15,
   "metadata": {},
   "outputs": [
    {
     "name": "stdout",
     "output_type": "stream",
     "text": [
      "El set 'cosas' contiene los siguientes elementos: {'Teléfono', 'Viaje', 'Cartas', 'Planta', 'Gato', 'Computadora', 'Juego', 'Libro', 'Pala', 'Mosquito', 'Canción', 'Navaja', 'Café', 'Película'}\n",
      "El set 'cosas' contiene  14 elementos\n",
      "--------------------------------\n",
      "\n",
      "El elemento eliminado de nuestro set 'cosas es: Teléfono\n",
      "El set 'cosas' DESPUÉS DE HABER ELIMINADO UN ELEMENTO AL AZAR es: {'Viaje', 'Cartas', 'Planta', 'Gato', 'Computadora', 'Juego', 'Libro', 'Pala', 'Mosquito', 'Canción', 'Navaja', 'Café', 'Película'}\n",
      "El set 'cosas' DESPUÉS DE HABER ELIMINADO UN ELEMENTO AL AZAR contiene  13 elementos\n"
     ]
    }
   ],
   "source": [
    "# eliminamos un elemento de set. Como no tienen orden, lo eliminará de forma aleatoria\n",
    "print(\"El set 'cosas' contiene los siguientes elementos:\", cosas)\n",
    "print(\"El set 'cosas' contiene \", len(cosas), \"elementos\")\n",
    "print(\"--------------------------------\\n\")\n",
    "\n",
    "# almacenamos en una variable el elemento que nos elimina el método '.pop()'\n",
    "elemento = cosas.pop()\n",
    "print(\"El elemento eliminado de nuestro set 'cosas es:\", elemento)\n",
    "print(\"El set 'cosas' DESPUÉS DE HABER ELIMINADO UN ELEMENTO AL AZAR es:\", cosas)\n",
    "print(\"El set 'cosas' DESPUÉS DE HABER ELIMINADO UN ELEMENTO AL AZAR contiene \", len(cosas), \"elementos\")\n"
   ]
  },
  {
   "cell_type": "markdown",
   "metadata": {},
   "source": [
    "## `.remove()`\n",
    "\n",
    "Se para eliminar un elemento específico de un conjunto. Este método permite eliminar únicamente un elemento a la vez. Si el elemento especificado no se encuentra en el conjunto, el método `remove()` generará un error. Esta característica es importante a considerar al utilizar el método, ya que se debe asegurar que el elemento a eliminar exista en el conjunto para evitar errores. "
   ]
  },
  {
   "cell_type": "code",
   "execution_count": 18,
   "metadata": {},
   "outputs": [
    {
     "name": "stdout",
     "output_type": "stream",
     "text": [
      "El set 'cosas' contiene los siguientes elementos: {'Viaje', 'Cartas', 'Planta', 'Gato', 'Computadora', 'Juego', 'Libro', 'Pala', 'Mosquito', 'Canción', 'Navaja', 'Café', 'Película'}\n"
     ]
    },
    {
     "ename": "TypeError",
     "evalue": "unhashable type: 'list'",
     "output_type": "error",
     "traceback": [
      "\u001b[0;31m---------------------------------------------------------------------------\u001b[0m",
      "\u001b[0;31mTypeError\u001b[0m                                 Traceback (most recent call last)",
      "Cell \u001b[0;32mIn[18], line 4\u001b[0m\n\u001b[1;32m      1\u001b[0m \u001b[38;5;28mprint\u001b[39m(\u001b[38;5;124m\"\u001b[39m\u001b[38;5;124mEl set \u001b[39m\u001b[38;5;124m'\u001b[39m\u001b[38;5;124mcosas\u001b[39m\u001b[38;5;124m'\u001b[39m\u001b[38;5;124m contiene los siguientes elementos:\u001b[39m\u001b[38;5;124m\"\u001b[39m, cosas)\n\u001b[1;32m      3\u001b[0m \u001b[38;5;66;03m# imaginemos que queremos eliminar 'Planta' y \"Juego\" de nuestro set, como hemos dicho tendremos que hacerlo por separado, pero para confirmarlo, veamos que error nos devuelve cuando intentamos eliminar dos elementos a la vez\u001b[39;00m\n\u001b[0;32m----> 4\u001b[0m \u001b[43mcosas\u001b[49m\u001b[38;5;241;43m.\u001b[39;49m\u001b[43mremove\u001b[49m\u001b[43m(\u001b[49m\u001b[43m[\u001b[49m\u001b[38;5;124;43m\"\u001b[39;49m\u001b[38;5;124;43mPlanta\u001b[39;49m\u001b[38;5;124;43m\"\u001b[39;49m\u001b[43m,\u001b[49m\u001b[43m \u001b[49m\u001b[38;5;124;43m\"\u001b[39;49m\u001b[38;5;124;43mJuego\u001b[39;49m\u001b[38;5;124;43m\"\u001b[39;49m\u001b[43m]\u001b[49m\u001b[43m)\u001b[49m\n",
      "\u001b[0;31mTypeError\u001b[0m: unhashable type: 'list'"
     ]
    }
   ],
   "source": [
    "print(\"El set 'cosas' contiene los siguientes elementos:\", cosas)\n",
    "\n",
    "# imaginemos que queremos eliminar 'Planta' y \"Juego\" de nuestro set, como hemos dicho tendremos que hacerlo por separado, pero para confirmarlo, veamos que error nos devuelve cuando intentamos eliminar dos elementos a la vez\n",
    "cosas.remove([\"Planta\", \"Juego\"])"
   ]
  },
  {
   "cell_type": "markdown",
   "metadata": {},
   "source": [
    "Ya nos vamos familiarizando con los errores, en este caso nos esta indicando que estamos intentando usar una lista como argumento para el método `remove()` de un set el cual no lo permite, por lo que para poner eliminar elementos tendremos que hacerlo de uno en uno usando este método. "
   ]
  },
  {
   "cell_type": "code",
   "execution_count": 20,
   "metadata": {},
   "outputs": [
    {
     "name": "stdout",
     "output_type": "stream",
     "text": [
      "El set 'cosas' contiene los siguientes elementos: {'Viaje', 'Cartas', 'Planta', 'Gato', 'Computadora', 'Juego', 'Libro', 'Pala', 'Mosquito', 'Canción', 'Navaja', 'Café', 'Película'}\n",
      "El set 'cosas' ANTES DE ELIMINAR UN ELEMENTO contiene  13 elementos\n",
      "--------------------------------\n",
      "\n",
      "El set 'cosas' DESPUÉS DE ELIMINAR 'Pala' contiene los siguientes elementos: {'Viaje', 'Cartas', 'Planta', 'Gato', 'Computadora', 'Juego', 'Libro', 'Mosquito', 'Canción', 'Navaja', 'Café', 'Película'}\n",
      "El set 'cosas' DESPUÉS DE HABER ELIMINADO 'Pala' contiene  12 elementos\n",
      "--------------------------------\n",
      "\n",
      "El set 'cosas' DESPUÉS DE ELIMINAR 'Película' contiene los siguientes elementos: {'Viaje', 'Cartas', 'Planta', 'Gato', 'Computadora', 'Juego', 'Libro', 'Mosquito', 'Canción', 'Navaja', 'Café'}\n",
      "El set 'cosas' DESPUÉS DE HABER ELIMINADO 'Película' contiene  11 elementos\n"
     ]
    }
   ],
   "source": [
    "# en este caso usaremos el set alergenos2\n",
    "print(\"El set 'cosas' contiene los siguientes elementos:\", cosas)\n",
    "print(\"El set 'cosas' ANTES DE ELIMINAR UN ELEMENTO contiene \", len(cosas), \"elementos\")\n",
    "print(\"--------------------------------\\n\")\n",
    "\n",
    "# aplicamos la función '.remove()' incluyendo el elemento que queremos eliminar\n",
    "cosas.remove(\"Pala\")\n",
    "print(\"El set 'cosas' DESPUÉS DE ELIMINAR 'Pala' contiene los siguientes elementos:\", cosas)\n",
    "print(\"El set 'cosas' DESPUÉS DE HABER ELIMINADO 'Pala' contiene \", len(cosas), \"elementos\")\n",
    "print(\"--------------------------------\\n\")\n",
    "\n",
    "# seguimos elimininado más elementos\n",
    "cosas.remove(\"Película\")\n",
    "print(\"El set 'cosas' DESPUÉS DE ELIMINAR 'Película' contiene los siguientes elementos:\", cosas)\n",
    "print(\"El set 'cosas' DESPUÉS DE HABER ELIMINADO 'Película' contiene \", len(cosas), \"elementos\")\n"
   ]
  },
  {
   "cell_type": "markdown",
   "metadata": {},
   "source": [
    "## `.discard()`\n",
    "\n",
    "Este método elimina un elemento específico del set. La característica principal de `discard()` es que no genera un error si el elemento no existe en el conjunto. Esto significa que podemos usar `discard()` para eliminar un elemento sin preocuparnos por verificar primero si está presente. Sin embargo, es importante tener en cuenta que `discard()` solo elimina un elemento a la vez. Si quisieramos eliminar varios elementos a la vez y no nos importa si alguno de ellos no está en el conjunto, podemos usar `discard()` en un bucle (que veremos mas adelante) para eliminar cada elemento individualmente. De esta manera, `discard()` proporciona una forma segura de eliminar elementos de un conjunto sin tener que manejar explícitamente errores en caso de que el elemento no esté presente."
   ]
  },
  {
   "cell_type": "code",
   "execution_count": 22,
   "metadata": {},
   "outputs": [
    {
     "name": "stdout",
     "output_type": "stream",
     "text": [
      "El set 'cosas' contiene los siguientes elementos: {'Viaje', 'Cartas', 'Planta', 'Gato', 'Computadora', 'Juego', 'Libro', 'Mosquito', 'Canción', 'Navaja', 'Café'}\n",
      "El set 'cosas' ANTES DE ELIMINAR UN ELEMENTO contiene  11 elementos\n",
      "--------------------------------\n",
      "\n",
      "El set 'cosas' DESPUÉS DE ELIMINAR 'Sulfitos' contiene los siguientes elementos: {'Viaje', 'Cartas', 'Planta', 'Gato', 'Computadora', 'Juego', 'Libro', 'Mosquito', 'Canción', 'Navaja', 'Café'}\n",
      "El set 'cosas' DESPUÉS DE HABER ELIMINADO 'Sulfitos' contiene  11 elementos\n",
      "--------------------------------\n",
      "\n"
     ]
    }
   ],
   "source": [
    "# en este caso usaremos el set cosas\n",
    "print(\"El set 'cosas' contiene los siguientes elementos:\", cosas)\n",
    "print(\"El set 'cosas' ANTES DE ELIMINAR UN ELEMENTO contiene \", len(cosas), \"elementos\")\n",
    "print(\"--------------------------------\\n\")\n",
    "\n",
    "# aplicamos la función '.discard()' incluyendo el elemento que queremos eliminar\n",
    "cosas.discard(\"Sulfitos\")\n",
    "print(\"El set 'cosas' DESPUÉS DE ELIMINAR 'Sulfitos' contiene los siguientes elementos:\", cosas)\n",
    "print(\"El set 'cosas' DESPUÉS DE HABER ELIMINADO 'Sulfitos' contiene \", len(cosas), \"elementos\")\n",
    "print(\"--------------------------------\\n\")\n",
    "\n",
    "# fijaos como en este caso, a pesar de que 'Sulfitos' no esta en el set, no nos devuelve ningun error."
   ]
  },
  {
   "cell_type": "markdown",
   "metadata": {},
   "source": [
    "<div style=\"background-color: #F74646; padding: 10px; border-left: 6px solid #000080; color: black; border-radius: 10px;\">\n",
    "Las principales diferencias entre los métodos `pop`, `remove` y `discard` en sets son:\n",
    "\n",
    "| Método    | Descripción                                                                                                       |\n",
    "|-----------|-------------------------------------------------------------------------------------------------------------------|\n",
    "| `pop()`   | Elimina y devuelve un elemento aleatorio del conjunto. Genera un error si el conjunto está vacío.                 |\n",
    "| `remove()`| Elimina un elemento específico del conjunto. Genera un error si el elemento no está presente en el conjunto.   Pero nos permite eliminar más de un elemento a la vez.    |\n",
    "| `discard()`| Elimina un elemento específico del conjunto. No genera un error si el elemento no está presente en el conjunto. |\n",
    "\n",
    "</div>\n"
   ]
  },
  {
   "cell_type": "markdown",
   "metadata": {},
   "source": [
    "## `.clear()`\n",
    "\n",
    "Nos permite vaciar completamente un conjunto, eliminando todos sus elementos. Al llamar a `clear()` en un conjunto, se elimina todo su contenido, dejándolo vacío. Esto es útil cuando necesitamos reiniciar un conjunto. Es importante tener en cuenta que `clear()` no elimina el conjunto en sí, sino solo los elementos que contiene. El conjunto permanece intacto y puede seguir utilizándose después de llamar a `clear()`."
   ]
  },
  {
   "cell_type": "code",
   "execution_count": 23,
   "metadata": {},
   "outputs": [
    {
     "name": "stdout",
     "output_type": "stream",
     "text": [
      "El set 'cosas' contiene los siguientes elementos: {'Viaje', 'Cartas', 'Planta', 'Gato', 'Computadora', 'Juego', 'Libro', 'Mosquito', 'Canción', 'Navaja', 'Café'}\n",
      "El set 'cosas' DESPUÉS DE HABER  APLICADO EL MÉTODO clear() contiene los siguientes elementos: set()\n"
     ]
    }
   ],
   "source": [
    "# en este caso usaremos el set cosas\n",
    "print(\"El set 'cosas' contiene los siguientes elementos:\", cosas)\n",
    "\n",
    "# aplicamos la función '.clear()', que nos dejará el set vacío\n",
    "cosas.clear()\n",
    "print(\"El set 'cosas' DESPUÉS DE HABER  APLICADO EL MÉTODO clear() contiene los siguientes elementos:\", cosas)\n"
   ]
  },
  {
   "cell_type": "markdown",
   "metadata": {},
   "source": [
    "# Operaciones de conjuntos con sets\n",
    "\n",
    "Los sets en Python admiten una variedad de operaciones para manipular y comparar conjuntos o sets. A continuación, presentamos las operaciones más comunes que se pueden realizar con los sets en Python:\n",
    "\n",
    "- **Unión**: La unión de dos conjuntos crea un nuevo conjunto que contiene todos los elementos únicos de ambos conjuntos. Esto se logra mediante el operador `|` o el método `union()`.\n",
    "\n",
    "- **Intersección**: La intersección de dos conjuntos produce un conjunto que solo contiene elementos presentes en ambos conjuntos. Esto se realiza con el operador `&` o el método `intersection()`.\n",
    "\n",
    "- **Diferencia**: La diferencia entre dos conjuntos produce un conjunto que contiene elementos del primer conjunto que no están presentes en el segundo conjunto. Esto se realiza con el operador `-` o el método `difference()`.\n",
    "\n",
    "- **Diferencia simétrica**: La diferencia simétrica entre dos conjuntos crea un conjunto que contiene elementos que están en uno de los conjuntos, pero no en ambos. Esto se logra mediante el operador `^` o el método `symmetric_difference()`.\n",
    "\n",
    "- **Elementos en común**: El método `isdisjoint()` se utiliza para verificar si dos conjuntos no tienen elementos en común. Devuelve True si los conjuntos no tienen elementos compartidos y False si los tienen.\n",
    "\n",
    "- **Subset**: El método `issubset()` determina si un conjunto es un subconjunto de otro. Devuelve True si todos los elementos del primer conjunto están presentes en el segundo conjunto.\n",
    "\n",
    "- **Superset**: El método `issuperset()` determina si un conjunto contiene a otro conjunto. Devuelve True si todos los elementos del segundo conjunto están presentes en el primer conjunto."
   ]
  },
  {
   "cell_type": "markdown",
   "metadata": {},
   "source": [
    "## `.union()` (A ∪ B)\n",
    "\n",
    "El método `union` se utiliza para combinar todos los elementos únicos de dos sets. El resultado es un nuevo set que incluye cada elemento que aparece en cualquiera de los conjuntos originales, sin duplicados. Es una operación fundamental en teoría de conjuntos y se utiliza ampliamente en matemáticas, estadísticas, ciencias de la computación y campos relacionados para combinar conjuntos de datos.\n",
    "\n",
    "Para visualizar mejor cómo funciona esta método, veámoslo a través de un Diagrama de Venn:\n",
    "\n",
    "![union](https://github.com/Hack-io-Data/Imagenes/blob/main/02-Imagenes/Python_b%C3%A1sico/union_sets.png?raw=true)"
   ]
  },
  {
   "cell_type": "code",
   "execution_count": 25,
   "metadata": {},
   "outputs": [
    {
     "name": "stdout",
     "output_type": "stream",
     "text": [
      "El set1 contiene los siguientes elementos: {1, 2, 3}\n",
      "El set2 contiene los siguientes elementos: {2, 3, 4}\n",
      "------------------------------------------------\n",
      "\n",
      "La unión (A ∪ B) de los dos sets, es decir, todos los elementos de los ' set1' y el 'set2' son: {1, 2, 3, 4}\n"
     ]
    }
   ],
   "source": [
    "# lo primero que hacemos es definir dos sets\n",
    "set1 = {1,2,3}\n",
    "set2 = {2,3,4}\n",
    "\n",
    "print(\"El set1 contiene los siguientes elementos:\", set1)\n",
    "print(\"El set2 contiene los siguientes elementos:\", set2)\n",
    "print(\"------------------------------------------------\\n\")\n",
    "\n",
    "# imaginemos que queremos unir todos los elementos que tienen los dos sets(), usaremos el método '.union()'. Fijaos como de nuevo seguimos sin tener elementos repetidos dentro del set resultado\n",
    "set_union = set1.union(set2)\n",
    "print(\"La unión (A ∪ B) de los dos sets, es decir, todos los elementos de los ' set1' y el 'set2' son:\", set_union)"
   ]
  },
  {
   "cell_type": "markdown",
   "metadata": {},
   "source": [
    "## `.intersection()`\n",
    "\n",
    "Se utiliza para encontrar elementos comunes entre dos o más *sets*. Este método devuelve un nuevo conjunto que contiene únicamente los elementos que existen en todos los conjuntos involucrados en la operación de intersección. \n",
    "\n",
    "Veamos el diagrama de Venn:\n",
    "\n",
    "![interseccion](https://github.com/Hack-io-Data/Imagenes/blob/main/02-Imagenes/Python_b%C3%A1sico/interseccion_sets.png?raw=true)"
   ]
  },
  {
   "cell_type": "code",
   "execution_count": null,
   "metadata": {},
   "outputs": [
    {
     "name": "stdout",
     "output_type": "stream",
     "text": [
      "El set1 contiene los siguientes elementos: {'c', 'b', 'a'}\n",
      "El set2 contiene los siguientes elementos: {'c', 'b', 'd'}\n",
      "------------------------------------------------\n",
      "\n",
      "Los elementos que tienen en común el ' set1' y el 'set2' son: {'c', 'b'}\n"
     ]
    }
   ],
   "source": [
    "print(\"El set1 contiene los siguientes elementos:\", set1)\n",
    "print(\"El set2 contiene los siguientes elementos:\", set2)\n",
    "print(\"------------------------------------------------\\n\")\n",
    "\n",
    "# imaginemos que queremos sacar solo aquellos elementos que están en común en los dos sets()\n",
    "set_interseccion = set1.intersection(set2)\n",
    "print(\"Los elementos que tienen en común el ' set1' y el 'set2' son:\", set_interseccion)"
   ]
  },
  {
   "cell_type": "markdown",
   "metadata": {},
   "source": [
    "## `.difference()`\n",
    "\n",
    "Se utiliza para encontrar elementos que están en un *set* pero no en otro. Este método devuelve un nuevo conjunto que contiene los elementos del conjunto original que no están presentes en el conjunto especificado como argumento. El orden es importante en esta operación; `A.difference(B)` no es lo mismo que `B.difference(A)`.\n",
    "\n",
    "Si lo vieramos en el diagrama de Venn: \n",
    "\n",
    "![diferencia](https://github.com/Hack-io-Data/Imagenes/blob/main/02-Imagenes/Python_b%C3%A1sico/diferencia_sets.png?raw=true)"
   ]
  },
  {
   "cell_type": "code",
   "execution_count": null,
   "metadata": {},
   "outputs": [
    {
     "name": "stdout",
     "output_type": "stream",
     "text": [
      "El set1 contiene los siguientes elementos: {'c', 'b', 'a'}\n",
      "El set2 contiene los siguientes elementos: {'c', 'b', 'd'}\n",
      "------------------------------------------------\n",
      "\n",
      "Los elementos que están en el set1 pero no en el set2 son: {'a'}\n"
     ]
    }
   ],
   "source": [
    "print(\"El set1 contiene los siguientes elementos:\", set1)\n",
    "print(\"El set2 contiene los siguientes elementos:\", set2)\n",
    "print(\"------------------------------------------------\\n\")\n",
    "\n",
    "# ¿qué elementos tenemos en el set1 pero no en el set2?\n",
    "set_diferencia1 = set1.difference(set2)\n",
    "print(\"Los elementos que están en el set1 pero no en el set2 son:\", set_diferencia1)"
   ]
  },
  {
   "cell_type": "code",
   "execution_count": null,
   "metadata": {},
   "outputs": [
    {
     "name": "stdout",
     "output_type": "stream",
     "text": [
      "El set1 contiene los siguientes elementos: {'c', 'b', 'a'}\n",
      "El set2 contiene los siguientes elementos: {'c', 'b', 'd'}\n",
      "------------------------------------------------\n",
      "\n",
      "Los elementos que están en el set1 pero no en el set2 son: {'d'}\n"
     ]
    }
   ],
   "source": [
    "print(\"El set1 contiene los siguientes elementos:\", set1)\n",
    "print(\"El set2 contiene los siguientes elementos:\", set2)\n",
    "print(\"------------------------------------------------\\n\")\n",
    "\n",
    "# ¿qué elementos tenemos en el set2 pero no en el set1?\n",
    "set_diferencia2 = set2.difference(set1)\n",
    "print(\"Los elementos que están en el set1 pero no en el set2 son:\", set_diferencia2)"
   ]
  },
  {
   "cell_type": "markdown",
   "metadata": {},
   "source": [
    "## `.symmetric_difference()`\n",
    "\n",
    "Es similar al `.difference()` pero en este caso, este método nos devolverá los **elementos de ambos conjuntos, que no están presentes en el otro**. En este caso, nos va a devolver un set con los elementos que son únicos en cada uno de los `sets` que comparamos. Por lo tanto, en este caso, el orden ya no es importante.\n",
    "\n",
    "![diferenciasimetrica](https://github.com/Hack-io-Data/Imagenes/blob/main/02-Imagenes/Python_b%C3%A1sico/diferencia_simetrica_sets.png?raw=true)"
   ]
  },
  {
   "cell_type": "code",
   "execution_count": null,
   "metadata": {},
   "outputs": [
    {
     "name": "stdout",
     "output_type": "stream",
     "text": [
      "El set1 contiene los siguientes elementos: {'c', 'b', 'a'}\n",
      "El set2 contiene los siguientes elementos: {'c', 'b', 'd'}\n",
      "------------------------------------------------\n",
      "\n",
      "Los elementos que aparecen en un set pero no en el otro son: {'a', 'd'}\n"
     ]
    }
   ],
   "source": [
    "print(\"El set1 contiene los siguientes elementos:\", set1)\n",
    "print(\"El set2 contiene los siguientes elementos:\", set2)\n",
    "print(\"------------------------------------------------\\n\")\n",
    "\n",
    "# que elementos son unicos del set1 y set2?\n",
    "set_diferencia_simetrica = set1.symmetric_difference(set2)\n",
    "print(\"Los elementos que aparecen en un set pero no en el otro son:\", set_diferencia_simetrica)"
   ]
  },
  {
   "cell_type": "markdown",
   "metadata": {},
   "source": [
    "## `.isdisjoint()`\n",
    "\n",
    "En algunos casos, los sets que queremos comparar no tienen ningún elemento en común. Como hemos dicho,  es utilizado para determinar si dos conjuntos (sets) son disjuntos, es decir, **si no tienen elementos en común**.\n",
    "\n",
    "Para utilizar el método `disjoint()`, se debe llamar a este método en un conjunto y pasar como argumento el otro conjunto que se desea comparar. El método devuelve un valor booleano True si los dos conjuntos son disjuntos (no tienen elementos en común) y devuelve False en caso contrario."
   ]
  },
  {
   "cell_type": "code",
   "execution_count": null,
   "metadata": {},
   "outputs": [
    {
     "name": "stdout",
     "output_type": "stream",
     "text": [
      "El set1 contiene los siguientes elementos: {'c', 'b', 'a'}\n",
      "El set2 contiene los siguientes elementos: {'c', 'b', 'd'}\n",
      "------------------------------------------------\n",
      "\n",
      "¿Tienen los sets los elementos completamente diferentes?: False\n"
     ]
    }
   ],
   "source": [
    "print(\"El set1 contiene los siguientes elementos:\", set1)\n",
    "print(\"El set2 contiene los siguientes elementos:\", set2)\n",
    "print(\"------------------------------------------------\\n\")\n",
    "\n",
    "set_disjoint1 = set1.isdisjoint(set2)\n",
    "print(\"¿Tienen los sets los elementos completamente diferentes?:\", set_disjoint1)\n",
    "\n",
    "# en este caso nos sale False porque los dos sets comparten al menos algún elemento. "
   ]
  },
  {
   "cell_type": "code",
   "execution_count": null,
   "metadata": {},
   "outputs": [
    {
     "name": "stdout",
     "output_type": "stream",
     "text": [
      "El set3 contiene los siguientes elementos: {'c', 'b'}\n",
      "El set4 contiene los siguientes elementos: {'d', 'a'}\n",
      "------------------------------------------------\n",
      "\n",
      "¿Tienen los sets los elementos completamente diferentes?: True\n"
     ]
    }
   ],
   "source": [
    "# definamos dos sets nuevos \n",
    "set3 = {'b', 'c'}\n",
    "set4 = {'a', 'd'}\n",
    "\n",
    "print(\"El set3 contiene los siguientes elementos:\", set3)\n",
    "print(\"El set4 contiene los siguientes elementos:\", set4)\n",
    "print(\"------------------------------------------------\\n\")\n",
    "\n",
    "# que elementos son unicos del set1 y set2?\n",
    "set_disjoint2 = set3.isdisjoint(set4)\n",
    "print(\"¿Tienen los sets los elementos completamente diferentes?:\", set_disjoint2)\n",
    "\n",
    "# en este caso nos devuelve True ya que niguno de los elementos en común. "
   ]
  },
  {
   "cell_type": "markdown",
   "metadata": {},
   "source": [
    "## `.issubset()`\n",
    "\n",
    "Si no son disjuntos, puede que todos los elementos de un set ya estén definidos en el otro: todos los mamíferos son animales, pero no todos los animales son mamíferos. Pues los mamíferos son un *subset*  de los animales, y como sinónimo los animales son un *superset* de los mamíferos. Ambos pueden ser comprobados usando los símbolos `<` y `>`. Empezamos con el `subset`:"
   ]
  },
  {
   "cell_type": "code",
   "execution_count": null,
   "metadata": {},
   "outputs": [
    {
     "name": "stdout",
     "output_type": "stream",
     "text": [
      "El set5 contiene los siguientes elementos: {'b', 'a', 'd'}\n",
      "El set6 contiene los siguientes elementos: {'d', 'a'}\n",
      "------------------------------------------------\n",
      "\n",
      "¿Están todos los elementos del set5 en el set6? Es decir, ¿todos los animales son mamíferos?: False\n"
     ]
    }
   ],
   "source": [
    "# definamos dos sets nuevos \n",
    "set5 = {\"a\", \"b\", \"d\"}\n",
    "set6 = {\"a\", \"d\"}\n",
    "\n",
    "print(\"El set5 contiene los siguientes elementos:\", set5)\n",
    "print(\"El set6 contiene los siguientes elementos:\", set6)\n",
    "print(\"------------------------------------------------\\n\")\n",
    "\n",
    "# que elementos son unicos del set1 y set2?\n",
    "set_issubset1 = set5.issubset(set6)\n",
    "print(\"¿Están todos los elementos del set5 en el set6? Es decir, ¿todos los animales son mamíferos?:\", set_issubset1)\n",
    "\n",
    "# en este caso nos devuelve False ya que no todos los elementos del set5 están contenidos en el set6"
   ]
  },
  {
   "cell_type": "code",
   "execution_count": null,
   "metadata": {},
   "outputs": [
    {
     "name": "stdout",
     "output_type": "stream",
     "text": [
      "El set5 contiene los siguientes elementos: {'b', 'a', 'd'}\n",
      "El set6 contiene los siguientes elementos: {'d', 'a'}\n",
      "------------------------------------------------\n",
      "\n",
      "¿Están todos los elementos del set6 en el set5? Es decir, ¿todos los mamíferos son animales?: True\n"
     ]
    }
   ],
   "source": [
    "# hagamos el ejemplo inverso\n",
    "print(\"El set5 contiene los siguientes elementos:\", set5)\n",
    "print(\"El set6 contiene los siguientes elementos:\", set6)\n",
    "print(\"------------------------------------------------\\n\")\n",
    "\n",
    "# que elementos son unicos del set1 y set2?\n",
    "set_issubset2 = set6.issubset(set5)\n",
    "print(\"¿Están todos los elementos del set6 en el set5? Es decir, ¿todos los mamíferos son animales?:\", set_issubset2)\n",
    "\n",
    "# en este caso nos devuelve TRue ya que  todos los elementos del set6 están contenidos en el set5"
   ]
  },
  {
   "cell_type": "markdown",
   "metadata": {},
   "source": [
    "## `.issuperset()`\n",
    "\n",
    "Podríamos decir, que es la inversa del método anterior. "
   ]
  },
  {
   "cell_type": "code",
   "execution_count": null,
   "metadata": {},
   "outputs": [
    {
     "name": "stdout",
     "output_type": "stream",
     "text": [
      "El set5 contiene los siguientes elementos: {'b', 'a', 'd'}\n",
      "El set6 contiene los siguientes elementos: {'d', 'a'}\n",
      "------------------------------------------------\n",
      "\n",
      "¿Están todos los elementos del set6 en el set5?: True\n"
     ]
    }
   ],
   "source": [
    "print(\"El set5 contiene los siguientes elementos:\", set5)\n",
    "print(\"El set6 contiene los siguientes elementos:\", set6)\n",
    "print(\"------------------------------------------------\\n\")\n",
    "\n",
    "# que elementos son unicos del set1 y set2?\n",
    "set_issuperset1 = set5.issuperset(set6)\n",
    "print(\"¿Están todos los elementos del set6 en el set5?:\", set_issuperset1)\n"
   ]
  },
  {
   "cell_type": "code",
   "execution_count": null,
   "metadata": {},
   "outputs": [
    {
     "name": "stdout",
     "output_type": "stream",
     "text": [
      "El set5 contiene los siguientes elementos: {'b', 'a', 'd'}\n",
      "El set6 contiene los siguientes elementos: {'d', 'a'}\n",
      "------------------------------------------------\n",
      "\n",
      "¿Están todos los elementos del set5 en el set6?: False\n"
     ]
    }
   ],
   "source": [
    "print(\"El set5 contiene los siguientes elementos:\", set5)\n",
    "print(\"El set6 contiene los siguientes elementos:\", set6)\n",
    "print(\"------------------------------------------------\\n\")\n",
    "\n",
    "# que elementos son unicos del set1 y set2?\n",
    "set_issuperset1 = set6.issuperset(set5)\n",
    "print(\"¿Están todos los elementos del set5 en el set6?:\", set_issuperset1)\n"
   ]
  }
 ],
 "metadata": {
  "interpreter": {
   "hash": "8560ba40f25f8debc3b21cfdc72602d7855270eb253b25380125fbd9b6cd3418"
  },
  "kernelspec": {
   "display_name": "Python 3 (ipykernel)",
   "language": "python",
   "name": "python3"
  },
  "language_info": {
   "codemirror_mode": {
    "name": "ipython",
    "version": 3
   },
   "file_extension": ".py",
   "mimetype": "text/x-python",
   "name": "python",
   "nbconvert_exporter": "python",
   "pygments_lexer": "ipython3",
   "version": "3.11.8"
  },
  "toc": {
   "base_numbering": 1,
   "nav_menu": {},
   "number_sections": true,
   "sideBar": true,
   "skip_h1_title": false,
   "title_cell": "Table of Contents",
   "title_sidebar": "Contents",
   "toc_cell": true,
   "toc_position": {
    "height": "calc(100% - 180px)",
    "left": "10px",
    "top": "150px",
    "width": "307.2px"
   },
   "toc_section_display": true,
   "toc_window_display": true
  }
 },
 "nbformat": 4,
 "nbformat_minor": 2
}

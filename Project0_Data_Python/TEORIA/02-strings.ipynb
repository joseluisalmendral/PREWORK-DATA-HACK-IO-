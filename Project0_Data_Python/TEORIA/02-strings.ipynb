{
 "cells": [
  {
   "cell_type": "markdown",
   "metadata": {},
   "source": [
    "<div style=\"text-align: center;\">\n",
    "  <img src=\"https://github.com/Hack-io-Data/Imagenes/blob/main/01-LogosHackio/logo_celeste@4x.png?raw=true\" alt=\"esquema\" />\n",
    "</div>\n"
   ]
  },
  {
   "cell_type": "markdown",
   "metadata": {
    "toc": true
   },
   "source": [
    "<h1>Table of Contents<span class=\"tocSkip\"></span></h1>\n",
    "<div class=\"toc\"><ul class=\"toc-item\"><li><span><a href=\"#Operaciones-con-Strings\" data-toc-modified-id=\"Operaciones-con-Strings-1\"><span class=\"toc-item-num\">1&nbsp;&nbsp;</span>Operaciones con <em>Strings</em></a></span><ul class=\"toc-item\"><li><span><a href=\"#Concatenación\" data-toc-modified-id=\"Concatenación-1.1\"><span class=\"toc-item-num\">1.1&nbsp;&nbsp;</span>Concatenación</a></span></li><li><span><a href=\"#Repetición\" data-toc-modified-id=\"Repetición-1.2\"><span class=\"toc-item-num\">1.2&nbsp;&nbsp;</span>Repetición</a></span></li><li><span><a href=\"#Slicing\" data-toc-modified-id=\"Slicing-1.3\"><span class=\"toc-item-num\">1.3&nbsp;&nbsp;</span><em>Slicing</em></a></span></li><li><span><a href=\"#Pertenencia-y-No-Pertenencia\" data-toc-modified-id=\"Pertenencia-y-No-Pertenencia-1.4\"><span class=\"toc-item-num\">1.4&nbsp;&nbsp;</span>Pertenencia y No Pertenencia</a></span></li></ul></li><li><span><a href=\"#Métodos-de-Strings\" data-toc-modified-id=\"Métodos-de-Strings-2\"><span class=\"toc-item-num\">2&nbsp;&nbsp;</span>Métodos de <em>Strings</em></a></span><ul class=\"toc-item\"><li><span><a href=\"#upper()\" data-toc-modified-id=\"upper()-2.1\"><span class=\"toc-item-num\">2.1&nbsp;&nbsp;</span><code>upper()</code></a></span></li><li><span><a href=\"#lower()\" data-toc-modified-id=\"lower()-2.2\"><span class=\"toc-item-num\">2.2&nbsp;&nbsp;</span><code>lower()</code></a></span></li><li><span><a href=\"#capitalize()\" data-toc-modified-id=\"capitalize()-2.3\"><span class=\"toc-item-num\">2.3&nbsp;&nbsp;</span><code>capitalize()</code></a></span></li><li><span><a href=\"#title()\" data-toc-modified-id=\"title()-2.4\"><span class=\"toc-item-num\">2.4&nbsp;&nbsp;</span><code>title()</code></a></span></li><li><span><a href=\"#swapcase()\" data-toc-modified-id=\"swapcase()-2.5\"><span class=\"toc-item-num\">2.5&nbsp;&nbsp;</span><code>swapcase()</code></a></span></li><li><span><a href=\"#strip()\" data-toc-modified-id=\"strip()-2.6\"><span class=\"toc-item-num\">2.6&nbsp;&nbsp;</span><code>strip()</code></a></span></li><li><span><a href=\"#split()\" data-toc-modified-id=\"split()-2.7\"><span class=\"toc-item-num\">2.7&nbsp;&nbsp;</span><code>split()</code></a></span></li><li><span><a href=\"#replace()\" data-toc-modified-id=\"replace()-2.8\"><span class=\"toc-item-num\">2.8&nbsp;&nbsp;</span><code>replace()</code></a></span></li><li><span><a href=\"#join()\" data-toc-modified-id=\"join()-2.9\"><span class=\"toc-item-num\">2.9&nbsp;&nbsp;</span><code>join()</code></a></span></li><li><span><a href=\"#find()\" data-toc-modified-id=\"find()-2.10\"><span class=\"toc-item-num\">2.10&nbsp;&nbsp;</span><code>find()</code></a></span></li></ul></li><li><span><a href=\"#Otros-métodos-de-strings\" data-toc-modified-id=\"Otros-métodos-de-strings-3\"><span class=\"toc-item-num\">3&nbsp;&nbsp;</span>Otros métodos de strings</a></span></li></ul></div>"
   ]
  },
  {
   "cell_type": "markdown",
   "metadata": {},
   "source": [
    "# Operaciones con *Strings*\n",
    "\n",
    "Además de los métodos de *strings* que veremos más adelante en la lección, en Python se pueden realizar varias operaciones básicas con *strings*. Veamos algunas de las operaciones más importantes que podemos hacer con *strings*:\n",
    "\n",
    "- `Concatenación`: Combina dos o más cadenas en una sola.\n",
    "\n",
    "- `Repetición`: Repite una cadena un número específico de veces.\n",
    "\n",
    "- `Indexación`: Accede a un carácter en una posición específica de la cadena.\n",
    "\n",
    "- `Slicing (Corte)`: Extrae una porción específica de la cadena.\n",
    "\n",
    "- `Pertenencia (in)`: Comprueba si una subcadena está presente en la cadena.\n",
    "\n",
    "- `No Pertenencia (not in)`: Comprueba si una subcadena no está presente en la cadena."
   ]
  },
  {
   "cell_type": "markdown",
   "metadata": {},
   "source": [
    "## Concatenación\n",
    "\n",
    "La concatenación en *strings* es una operación que permite combinar dos o más cadenas de texto en una sola. Esta técnica es esencial para la creación de mensajes dinámicos, la manipulación de datos textuales y la construcción de cadenas complejas a partir de elementos más simples. A continuación, exploraremos cómo realizar la concatenación de strings y algunas de sus aplicaciones prácticas.\n",
    "\n",
    "La sintaxis básica para concatenar strings en Python es muy sencilla:\n",
    "\n",
    "```python\n",
    "string1 = \"Hola\"\n",
    "string2 = \"Mundo\"\n",
    "resultado = string1 + \" \" + string2\n",
    "print(resultado)  # Output: \"Hola Mundo\"\n",
    "```\n",
    "\n",
    "Aunque el operador `+` es sencillo y directo, para concatenaciones más complejas o legibles, se recomienda usar f-strings (*formatted strings*):\n",
    "  ```python\n",
    "  nombre = \"Carlos\"\n",
    "  edad = 30\n",
    "  mensaje = f\"Hola, {nombre}. Tienes {edad} años.\"\n",
    "  print(mensaje)  # Output: \"Hola, Carlos. Tienes 30 años.\"\n",
    "  ```\n",
    "\n"
   ]
  },
  {
   "cell_type": "code",
   "execution_count": 3,
   "metadata": {},
   "outputs": [
    {
     "name": "stdout",
     "output_type": "stream",
     "text": [
      "La variable 'nombre_completo' es:  LolaLopez\n",
      "La variable 'nombre_completo2' es:  Lola Lopez\n"
     ]
    }
   ],
   "source": [
    "# definimos dos variables de tipo string\n",
    "nombre = \"Lola\"\n",
    "apellido = 'Lopez'\n",
    "\n",
    "# una operación muy sencilla que podmemos hacer con strings es sumarlos, para concatenar los dos strings \n",
    "# en este caso vamos a crear una variable que sea 'nombre_completo' que va a ser el resultado de sumar los dos strings definidos previamente\n",
    "nombre_completo = nombre + apellido\n",
    "print(\"La variable 'nombre_completo' es: \", nombre_completo)\n",
    "\n",
    "# Si nos fijamos, al sumar los dos strings no hay ningún espacio, por lo que vamos a sumar los strings con un espacio en el medio\n",
    "nombre_completo2 = nombre + \" \" + apellido\n",
    "print(\"La variable 'nombre_completo2' es: \", nombre_completo2)"
   ]
  },
  {
   "cell_type": "markdown",
   "metadata": {},
   "source": [
    "Antes hemos dicho, que cuando la concatenación de *strings*  es más compleja, debemos usar los `f-strings`. Se trata de una característica que facilita la inclusión de variables dentro de cadenas de texto. Ofrecen una manera más legible y concisa de formatear *strings*. \n",
    "\n",
    "La sintaxis básica de una *f-string* es añadir una `f` antes de la cadena de texto, y colocar las variables dentro de llaves `{}`. Por ejemplo: \n",
    "\n",
    "```python\n",
    "nombre = \"Ana\"\n",
    "edad = 25\n",
    "mensaje = f\"Hola, {nombre}. Tienes {edad} años.\"\n",
    "print(mensaje)  # Output: \"Hola, Ana. Tienes 25 años.\"\n",
    "```\n",
    "\n",
    "**Ventajas de usar f-strings**\n",
    "\n",
    "- **Legibilidad**: Las *f-strings* son más fáciles de leer y escribir, especialmente cuando se trabaja con múltiples variables o expresiones.\n",
    "\n",
    "- **Concisión**: Reducen la cantidad de código necesario para formatear *strings*.\n",
    "\n",
    "- **Flexibilidad**: Permiten la inclusión de cualquier expresión válida de Python dentro de las llaves.\n"
   ]
  },
  {
   "cell_type": "code",
   "execution_count": 4,
   "metadata": {},
   "outputs": [
    {
     "name": "stdout",
     "output_type": "stream",
     "text": [
      "Hola, Carlos. Tienes 30 años.\n"
     ]
    }
   ],
   "source": [
    "# veamos un primer ejemplo donde vamos a combinar una variable de tipo string con una variable de tipo numérica usando el format \n",
    "nombre = \"Carlos\"\n",
    "edad = 30\n",
    "\n",
    "# mostramos en pantalla un mensaje usando las dos variables definidas previamente\n",
    "print(f\"Hola, {nombre}. Tienes {edad} años.\")"
   ]
  },
  {
   "cell_type": "code",
   "execution_count": 7,
   "metadata": {},
   "outputs": [
    {
     "name": "stdout",
     "output_type": "stream",
     "text": [
      "El precio es $50.00.\n"
     ]
    }
   ],
   "source": [
    "# podemos incluso formatear el número de decimales de un número\n",
    "# definimos una variable con 5 decimales\n",
    "precio = 49.99888\n",
    "\n",
    "# mostramos el número definido previamente, redondeando los decimales a 2 usando el format\n",
    "print(f\"El precio es ${precio:.2f}.\")"
   ]
  },
  {
   "cell_type": "markdown",
   "metadata": {},
   "source": [
    "## Repetición\n",
    "\n",
    "La repetición en *strings* es una operación que permite duplicar un *string* un número específico de veces. Esta operación se realiza utilizando el operador de multiplicación `*`. \n",
    "\n",
    "La sintaxis para repetir una cadena es:\n",
    "\n",
    "```python\n",
    "cadena = \"Hola\"\n",
    "resultado = cadena * 3\n",
    "print(resultado)  # Output: \"HolaHolaHola\"\n",
    "```\n",
    "\n",
    "**Buenas prácticas**:\n",
    "\n",
    "- **Uso Controlado**: Debemos asegurarnos de no repetir cadenas excesivamente largas, ya que puede afectar el rendimiento.\n",
    "\n",
    "- **Legibilidad**: Usa la repetición para mejorar la legibilidad del código, no para complicarla.\n"
   ]
  },
  {
   "cell_type": "code",
   "execution_count": 9,
   "metadata": {},
   "outputs": [
    {
     "name": "stdout",
     "output_type": "stream",
     "text": [
      "El separador definido es: \n",
      "------------------------------\n"
     ]
    }
   ],
   "source": [
    "# esta repetición de cadenas de texto nos puede ayudar a generar patrones, como vemos a continuación\n",
    "separador = \"-\" * 30\n",
    "print(\"El separador definido es: \")\n",
    "print(separador)  "
   ]
  },
  {
   "cell_type": "code",
   "execution_count": 10,
   "metadata": {},
   "outputs": [
    {
     "name": "stdout",
     "output_type": "stream",
     "text": [
      "*****Bienvenidos*****\n"
     ]
    }
   ],
   "source": [
    "# lo podemos usar para formatear ciertos textos como vemos a continuación\n",
    "titulo = \"Bienvenidos\"\n",
    "decorado = \"*\" * 5 + titulo + \"*\" * 5\n",
    "print(decorado)  "
   ]
  },
  {
   "cell_type": "markdown",
   "metadata": {},
   "source": [
    "## *Slicing* \n",
    "\n",
    "La indexación en *strings* es una operación que permite acceder a caracteres individuales dentro de una cadena de texto. Cada carácter en una cadena tiene una posición específica, conocida como índice, que se puede utilizar para recuperar y manipular ese carácter.\n",
    "\n",
    "En Python, los índices comienzan en 0, lo que significa que el primer carácter de la cadena tiene un índice de 0, el segundo un índice de 1, y así sucesivamente, como vemos en la imagen: \n",
    "\n",
    "![imagen](https://github.com/Hack-io-Data/Imagenes/blob/main/02-Imagenes/Python_b%C3%A1sico/string_index.png?raw=true)\n",
    "\n",
    "\n",
    "La sintaxis para acceder a un carácter en una cadena es:\n",
    "\n",
    "```python\n",
    "cadena = \"Python\"\n",
    "primer_caracter = cadena[0]\n",
    "print(primer_caracter)  # Output: \"P\"\n",
    "```\n",
    "\n",
    "\n",
    "Python también permite el uso de índices negativos para acceder a los caracteres desde el final de la cadena. El índice -1 representa el último carácter, -2 el penúltimo, y así sucesivamente:\n",
    "\n",
    "![negativos](https://github.com/Hack-io-Data/Imagenes/blob/main/02-Imagenes/Python_b%C3%A1sico/string_index_negativo.png?raw=true)"
   ]
  },
  {
   "cell_type": "code",
   "execution_count": 17,
   "metadata": {},
   "outputs": [
    {
     "name": "stdout",
     "output_type": "stream",
     "text": [
      "Usando índices positivos 'cadena[4]' es: o\n",
      "Usando índices negativos 'cadena[-2]' es: o\n"
     ]
    }
   ],
   "source": [
    "# como hemos dicho la indexación es útil para obtener caracteres específicos de una cadena\n",
    "# en este caso estamos accediendo a la tercera letra del string, lo que corresponde con el índice 2 de la variable\n",
    "cadena = \"Python\"\n",
    "print(f\"Usando índices positivos 'cadena[4]' es: {cadena[4]}\")  \n",
    "\n",
    "# usando índices negativos, para sacar la misma letra usaríamos\n",
    "print(f\"Usando índices negativos 'cadena[-2]' es: {cadena[-2]}\")"
   ]
  },
  {
   "cell_type": "code",
   "execution_count": 21,
   "metadata": {},
   "outputs": [
    {
     "name": "stdout",
     "output_type": "stream",
     "text": [
      "El resultado de 'cadena2[0:3]' es: Pyt\n"
     ]
    }
   ],
   "source": [
    "# no solo podemos acceder a un elemento, podemos coger un rango de letras, para eso tendremos que usar la sintáxis [inicio:fin]\n",
    "cadena2 = \"Python\"\n",
    "\n",
    "# vamos a seleccionar los elementos de la primera letra (índice 0), hasta la letra 3 (índice 2)\n",
    "print(f\"El resultado de 'cadena2[0:3]' es: {cadena2[0:3]}\")"
   ]
  },
  {
   "cell_type": "markdown",
   "metadata": {},
   "source": [
    "## Pertenencia y No Pertenencia\n",
    "\n",
    "La pertenencia en *strings* es una operación que permite verificar si una subcadena está presente dentro de una cadena de texto. Utilizando los operadores `in` y `not in`, podemos comprobar fácilmente la existencia o ausencia de subcadenas, lo que es muy útil para la validación de datos, búsqueda y filtrado de información.\n",
    "\n",
    "La sintaxis para usar `in` y `not in` es:\n",
    "\n",
    "```python\n",
    "subcadena in cadena\n",
    "subcadena not in cadena\n",
    "```"
   ]
  },
  {
   "cell_type": "code",
   "execution_count": 30,
   "metadata": {},
   "outputs": [
    {
     "name": "stdout",
     "output_type": "stream",
     "text": [
      "La variable original es Hola Mundo\n",
      "¿Está 'Mundo' en la variable 'saludo'? (usando in) True\n",
      "¿No está 'Mundo' en la variable 'saludo'? (usando not in) False\n"
     ]
    }
   ],
   "source": [
    "# podemos usarlo para saber si una palabra esta dentro de un string\n",
    "saludo = \"Hola Mundo\"\n",
    "print(f\"La variable original es {saludo}\")\n",
    "\n",
    "print(f\"¿Está 'Mundo' en la variable 'saludo'? (usando in) {'Mundo' in saludo}\")\n",
    "\n",
    "# o podemos usar el operador not in, para preguntar si no esta\n",
    "print(f\"¿No está 'Mundo' en la variable 'saludo'? (usando not in) {'Mundo' not in saludo}\")"
   ]
  },
  {
   "cell_type": "markdown",
   "metadata": {},
   "source": [
    "# Métodos de *Strings* \n",
    "\n",
    "Los métodos de *strings* son funciones integradas que se aplican a objetos de tipo *string* para realizar diversas operaciones. Estos métodos permiten manipular, buscar, y transformar cadenas de texto de manera eficiente. Algunos de los métodos de *strings* más usados son:\n",
    "\n",
    "- **`str.lower()`**: Convierte todos los caracteres de la cadena a minúsculas.\n",
    "  ```python\n",
    "  texto = \"Hola Mundo\"\n",
    "  resultado = texto.lower()  # \"hola mundo\"\n",
    "  ```\n",
    "\n",
    "- **`str.upper()`**: Convierte todos los caracteres de la cadena a mayúsculas.\n",
    "\n",
    "  ```python\n",
    "  texto = \"Hola Mundo\"\n",
    "  resultado = texto.upper()  # \"HOLA MUNDO\"\n",
    "  ```\n",
    "\n",
    "- **`str.strip()`**: Elimina los espacios en blanco al principio y al final de la cadena.\n",
    "\n",
    "  ```python\n",
    "  texto = \"  Hola Mundo  \"\n",
    "  resultado = texto.strip()  # \"Hola Mundo\"\n",
    "  ```\n",
    "\n",
    "- **`str.replace()`**: Reemplaza todas las apariciones de una subcadena por otra.\n",
    "\n",
    "  ```python\n",
    "  texto = \"Hola Mundo\"\n",
    "  resultado = texto.replace(\"Mundo\", \"Python\")  # \"Hola Python\"\n",
    "  ```\n",
    "\n",
    "- **`str.split()`**: Divide la cadena en una lista de subcadenas usando un separador especificado.\n",
    "\n",
    "  ```python\n",
    "  texto = \"Hola Mundo\"\n",
    "  resultado = texto.split()  # [\"Hola\", \"Mundo\"]\n",
    "  ```\n",
    "\n",
    "- **`str.join()`**: Une una lista de subcadenas en una sola cadena, usando un separador.\n",
    "\n",
    "  ```python\n",
    "  lista = [\"Hola\", \"Mundo\"]\n",
    "  resultado = \" \".join(lista)  # \"Hola Mundo\"\n",
    "  ```\n",
    "\n",
    "- **`str.find()`**: Devuelve el índice de la primera aparición de una subcadena en la cadena, o -1 si no se encuentra.\n",
    "\n",
    "  ```python\n",
    "  texto = \"Hola Mundo\"\n",
    "  resultado = texto.find(\"Mundo\")  # 5\n",
    "  ```\n",
    "\n",
    "- **`str.startswith()`**: Devuelve `True` si la cadena empieza con la subcadena especificada, de lo contrario, devuelve `False`.\n",
    "\n",
    "  ```python\n",
    "  texto = \"Hola Mundo\"\n",
    "  resultado = texto.startswith(\"Hola\")  # True\n",
    "  ```\n",
    "\n",
    "- **`str.endswith()`**: Devuelve `True` si la cadena termina con la subcadena especificada, de lo contrario, devuelve `False`.\n",
    "\n",
    "  ```python\n",
    "  texto = \"Hola Mundo\"\n",
    "  resultado = texto.endswith(\"Mundo\")  # True\n",
    "  ```\n",
    "\n",
    "- **`str.isdigit()`**: Devuelve `True` si todos los caracteres de la cadena son dígitos, de lo contrario, devuelve `False`.\n",
    "\n",
    "  ```python\n",
    "  texto = \"12345\"\n",
    "  resultado = texto.isdigit()  # True\n",
    "  ```"
   ]
  },
  {
   "cell_type": "markdown",
   "metadata": {},
   "source": [
    "## `upper()`\n",
    "\n",
    "Pone todas las letras en mayúscula. Ya que tenemos una frase, es decir una cadena de texto un poco más larga, podemos manipularla, por ejemplo ponerla en mayúsculas o minúsculas. En inglés se llaman *upper case* y *lower case*. Jugamos un poco con esto:"
   ]
  },
  {
   "cell_type": "code",
   "execution_count": 22,
   "metadata": {},
   "outputs": [
    {
     "name": "stdout",
     "output_type": "stream",
     "text": [
      "BIENVENIDXS A HACKIO\n"
     ]
    }
   ],
   "source": [
    "# definimos una variable que vamos a usar para probar estos métodos \n",
    "bienvenida = \"Bienvenidxs a Hackio\"\n",
    "\n",
    "# convertimos todas las letras a mayúsculas\n",
    "print(bienvenida.upper())\n"
   ]
  },
  {
   "cell_type": "code",
   "execution_count": 25,
   "metadata": {},
   "outputs": [
    {
     "name": "stdout",
     "output_type": "stream",
     "text": [
      "La variable 'bienvenida' tiene el valor Bienvenidxs a Hackio\n",
      "La variable después de convertila en mayúsculas y almacenarla en la variable 'bienvenida_mayus' es:  BIENVENIDXS A HACKIO\n"
     ]
    }
   ],
   "source": [
    "# ¿Qué pasará si ahora volvemos a ver el contenido de bienvenida usando un `print()`? \n",
    "# ¿Estará en mayúscula o como estaba originalmente?\n",
    "print(f\"La variable 'bienvenida' tiene el valor {bienvenida}\")\n",
    "\n",
    "# Vaya.... no se ha quedado todo en mayúsculas... 😢. \n",
    "# ¿Cómo podríamos hacer para que son guardará todo en mayúsculas? Crearnos una nueva variable\n",
    "bienvenida_mayus = bienvenida.upper()\n",
    "print(f\"La variable después de convertila en mayúsculas y almacenarla en la variable 'bienvenida_mayus' es:  {bienvenida_mayus}\")"
   ]
  },
  {
   "cell_type": "markdown",
   "metadata": {},
   "source": [
    "<div style=\"background-color: #F74646; padding: 10px; border-left: 6px solid #000080; color: black; border-radius: 10px;\">\n",
    "\n",
    "Hemos visto que el método `upper()` no sobreescribe el valor de la variable original, y que si queremos almacenar el resultado debemos crear una nueva variable nueva. Esto lo debemos hacer con todos estos método de *strings* que vamos a ver. \n",
    "</div>\n",
    "\n",
    "\n",
    "## `lower()`\n",
    "\n",
    "Pone todas las letras de nuestro *string* en minúscula. "
   ]
  },
  {
   "cell_type": "code",
   "execution_count": 26,
   "metadata": {},
   "outputs": [
    {
     "name": "stdout",
     "output_type": "stream",
     "text": [
      "bienvenidxs a hackio\n"
     ]
    }
   ],
   "source": [
    "# convertimos todas las letras a minúsculas\n",
    "print(bienvenida.lower())\n"
   ]
  },
  {
   "cell_type": "markdown",
   "metadata": {},
   "source": [
    "## `capitalize()`\n",
    "\n",
    "Para poner la primera letra de la frase en mayúscula\n"
   ]
  },
  {
   "cell_type": "code",
   "execution_count": 93,
   "metadata": {},
   "outputs": [
    {
     "name": "stdout",
     "output_type": "stream",
     "text": [
      "Hello ana, ¡bienvenida a este bootcamp!\n"
     ]
    }
   ],
   "source": [
    "print(bienvenida.capitalize())"
   ]
  },
  {
   "cell_type": "markdown",
   "metadata": {},
   "source": [
    "## `title()`\n",
    "\n",
    "Para poner la primera letra de cada palabra en mayúscula"
   ]
  },
  {
   "cell_type": "code",
   "execution_count": 94,
   "metadata": {},
   "outputs": [
    {
     "name": "stdout",
     "output_type": "stream",
     "text": [
      "Hello Ana, ¡Bienvenida A Este Bootcamp!\n"
     ]
    }
   ],
   "source": [
    "print(bienvenida.title())"
   ]
  },
  {
   "cell_type": "markdown",
   "metadata": {},
   "source": [
    "## `swapcase()`\n",
    "\n",
    "Para convertir las mayúsculas en minúsculas y las minúsculas en mayúsculas"
   ]
  },
  {
   "cell_type": "code",
   "execution_count": 11,
   "metadata": {},
   "outputs": [
    {
     "name": "stdout",
     "output_type": "stream",
     "text": [
      "hELLO aDA lOVELACE, ¡BIENVENIDA A ESTE BOOTCAMP!\n"
     ]
    }
   ],
   "source": [
    "print(bienvenida.swapcase())"
   ]
  },
  {
   "cell_type": "markdown",
   "metadata": {},
   "source": [
    "## `strip()`\n",
    "\n",
    "Otro método que podría servirnos es `.strip()`. `strip` quita todos los espacios que haya al principio y al final del *string*:"
   ]
  },
  {
   "cell_type": "code",
   "execution_count": 32,
   "metadata": {},
   "outputs": [
    {
     "name": "stdout",
     "output_type": "stream",
     "text": [
      "La variable que acabamos de definir es:     Nos alegra que estés aquí.     \n",
      "La variable cuando le aplicamos el método strip es: Nos alegra que estés aquí.\n"
     ]
    }
   ],
   "source": [
    "bienvenida2 = '    Nos alegra que estés aquí.     '\n",
    "print(f\"La variable que acabamos de definir es: {bienvenida2}\")\n",
    "print(f\"La variable cuando le aplicamos el método strip es: {bienvenida2.strip()}\")\n",
    "# Recordamos que aunque hayamos aplicado el método `strip` no queda guardado en la variable y\n",
    "# que tendremos que sobreescribirla o crear una variable nueva. "
   ]
  },
  {
   "cell_type": "markdown",
   "metadata": {},
   "source": [
    "## `split()` \n",
    "\n",
    "\n",
    "El método split() divide un *string* en una lista.\n",
    "\n",
    "Podemos especificar el separador, el cuál por defecto es cualquier espacio en blanco."
   ]
  },
  {
   "cell_type": "code",
   "execution_count": 43,
   "metadata": {},
   "outputs": [
    {
     "name": "stdout",
     "output_type": "stream",
     "text": [
      "La variable original es: Buenos dias chicas, sigamos aprendiendo métodos de los strings\n",
      "La lista generada después de dividir el string es: ['Estamos', 'aprendiendo', 'strings']\n"
     ]
    }
   ],
   "source": [
    "# definamos un nuevo string\n",
    "aprendizaje = \"Estamos aprendiendo strings\"\n",
    "print(f\"La variable original es: {saludo}\")\n",
    "\n",
    "# si hacemos un split sin especificar separador, veremos que nos devuelve una lista, donde separa nuestro string por los espacios\n",
    "aprendizaje_split = aprendizaje.split()\n",
    "print(f\"La lista generada después de dividir el string es: {aprendizaje_split}\")"
   ]
  },
  {
   "cell_type": "code",
   "execution_count": 44,
   "metadata": {},
   "outputs": [
    {
     "name": "stdout",
     "output_type": "stream",
     "text": [
      "La variable original es: Estamos aprendiendo strings\n",
      "La lista cuando hemos dividido por la 'd' es: ['Estamos apre', 'die', 'do stri', 'gs'] \n"
     ]
    }
   ],
   "source": [
    "# también podemos especificar un separador, en este caso, separaremos por las \"n\". Vemoas que es lo que pasa:\n",
    "aprendizaje_separado2 = aprendizaje.split(\"n\")\n",
    "print(f\"La variable original es: {aprendizaje}\")\n",
    "print(f\"La lista cuando hemos dividido por la 'd' es: {aprendizaje_separado2} \")\n",
    "\n",
    "# Como vemos, lo que ha ocurrido es que nos ha creado una lista, donde nos ha separado el *string* anterior \n",
    "# en cada punto donde se encontro una \"d\"."
   ]
  },
  {
   "cell_type": "code",
   "execution_count": 36,
   "metadata": {},
   "outputs": [
    {
     "data": {
      "text/plain": [
       "'En un lugar de la Mancha, de cuyo nombre no quiero acordarme, no ha mucho tiempo que vivía un hidalgo de los de \\nlanza en astillero, adarga antigua, rocín flaco y galgo corredor. Una olla de algo más vaca que carnero, salpicón las más noches,\\nduelos y quebrantos los sábados, lantejas los viernes, algún palomino de añadidura los domingos, \\nconsumían las tres partes de su hacienda.'"
      ]
     },
     "execution_count": 36,
     "metadata": {},
     "output_type": "execute_result"
    }
   ],
   "source": [
    "# imaginemos ahora que tenemos un *string* multilínea: \n",
    "don_quijote = \"\"\"En un lugar de la Mancha, de cuyo nombre no quiero acordarme, no ha mucho tiempo que vivía un hidalgo de los de \n",
    "lanza en astillero, adarga antigua, rocín flaco y galgo corredor. Una olla de algo más vaca que carnero, salpicón las más noches,\n",
    "duelos y quebrantos los sábados, lantejas los viernes, algún palomino de añadidura los domingos, \n",
    "consumían las tres partes de su hacienda.\"\"\"\n",
    "\n",
    "# si nos fijamos, cada línea esta separado por una \"\\n\", es el símbolo que usará python para indicar el salto de línea. \n",
    "don_quijote"
   ]
  },
  {
   "cell_type": "code",
   "execution_count": 39,
   "metadata": {},
   "outputs": [
    {
     "name": "stdout",
     "output_type": "stream",
     "text": [
      "Después de dividir por el salto de línea es: \n",
      "  ['En un lugar de la Mancha, de cuyo nombre no quiero acordarme, no ha mucho tiempo que vivía un hidalgo de los de ', 'lanza en astillero, adarga antigua, rocín flaco y galgo corredor. Una olla de algo más vaca que carnero, salpicón las más noches,', 'duelos y quebrantos los sábados, lantejas los viernes, algún palomino de añadidura los domingos, ', 'consumían las tres partes de su hacienda.']\n"
     ]
    }
   ],
   "source": [
    "# En este caso, queremos separar nuestro *string* por esos saltos de línea, para eso deberemos ...\n",
    "don_quijote_separado = don_quijote.split(\"\\n\")\n",
    "print(f\"Después de dividir por el salto de línea es: \\n  {don_quijote_separado}\")"
   ]
  },
  {
   "cell_type": "markdown",
   "metadata": {},
   "source": [
    "## `replace()`\n",
    "\n",
    "Sustituye una frase especificada por otra frase especificada.\n",
    "\n",
    "\n"
   ]
  },
  {
   "cell_type": "code",
   "execution_count": 46,
   "metadata": {},
   "outputs": [
    {
     "name": "stdout",
     "output_type": "stream",
     "text": [
      "La variable 'aprendizaje' es: Estamos aprendiendo strings\n",
      "La variable 'aprendizaje_python' después del replace es: Estamos aprendiendo Python\n"
     ]
    }
   ],
   "source": [
    "# recordemos que era saludo\n",
    "print(f\"La variable 'aprendizaje' es: {aprendizaje}\")\n",
    "\n",
    "# En este caso, queremos reemplazar la palabra \"chicas\" por \"Adalabers\". \n",
    "aprendizaje_python = aprendizaje.replace(\"strings\", \"Python\")\n",
    "print(f\"La variable 'aprendizaje_python' después del replace es: {aprendizaje_python}\")\n"
   ]
  },
  {
   "cell_type": "code",
   "execution_count": 48,
   "metadata": {},
   "outputs": [
    {
     "data": {
      "text/plain": [
       "'En un lugar de la Mancha, de cuyo nombre no quiero acordarme, no ha mucho tiempo que vivía un hidalgo de DON QUIJOTE de \\nlanza en astillero, adarga antigua, rocín flaco y galgo corredor. Una olla de algo más vaca que carnero, salpicón las más noches,\\nduelos y quebrantos DON QUIJOTE sábados, lantejas los viernes, algún palomino de añadidura los domingos, \\nconsumían las tres partes de su hacienda.'"
      ]
     },
     "execution_count": 48,
     "metadata": {},
     "output_type": "execute_result"
    }
   ],
   "source": [
    "# puede ser que solo nos interese reemplazar los dos primeros, con Python y `replace` lo podemos hacer. Veamos cómo: \n",
    "don_quijote_cambiado = don_quijote.replace(\" los \", \" DON QUIJOTE \", 2)\n",
    "don_quijote_cambiado\n",
    "\n",
    "# Si nos fijamos ahora, se han reemplazado los dos primeros \"los\", mientras que el último se ha conservado. "
   ]
  },
  {
   "cell_type": "markdown",
   "metadata": {},
   "source": [
    "## `join()` \n",
    "\n",
    "Toma todos los elementos de un iterable (una lista o una tupla) y los une en un *string*.\n",
    "\n",
    "Debemos especificar un *string* como separador."
   ]
  },
  {
   "cell_type": "code",
   "execution_count": 49,
   "metadata": {},
   "outputs": [
    {
     "name": "stdout",
     "output_type": "stream",
     "text": [
      "La lista original es ['Hackio', 'esta', 'empezando']\n",
      "La lista unida en un único string es: Hackio esta empezando \n"
     ]
    }
   ],
   "source": [
    "# lo primero definimos una lista (no las hemos vist\"o todavía, pero pronto las aprenderemos)\n",
    "lista_hackio = [\"Hackio\", \"esta\", \"empezando\"]\n",
    "print(f\"La lista original es {lista_hackio}\")\n",
    "\n",
    "# Nuestro objetivo es unir cada elemento de esa lista en un único string\n",
    "string_hackio =  \" \".join(lista_hackio)\n",
    "print(f\"La lista unida en un único string es: {string_hackio} \")\n",
    "\n",
    "# Si nos fijamos, hemos unido todos los elementos de la lista en un único string separado por espacios. \n",
    "# También podríamos separlos por una \"_\" de la siguiente forma: \n",
    "\n"
   ]
  },
  {
   "cell_type": "code",
   "execution_count": 50,
   "metadata": {},
   "outputs": [
    {
     "name": "stdout",
     "output_type": "stream",
     "text": [
      "La lista original es ['Hackio', 'esta', 'empezando']\n",
      "La lista unida en un único string es: Hackio_esta_empezando \n"
     ]
    }
   ],
   "source": [
    "# podríamos unir por cualquier cosa, por ejemplo por \"_\"\n",
    "print(f\"La lista original es {lista_hackio}\")\n",
    "\n",
    "string_hackio2 =  \"_\".join(lista_hackio)\n",
    "print(f\"La lista unida en un único string es: {string_hackio2} \")\n"
   ]
  },
  {
   "cell_type": "markdown",
   "metadata": {},
   "source": [
    "## `find()`\n",
    "\n",
    "Encuentra la primera aparición del valor especificado. Este método va a devolver -1 si no se encuentra el valor. Si encuentra una coincidencia, nos devuelve el número de la posición donde se encuentra el *string* que estamos buscando. \n",
    "\n",
    "El método `find() `es prácticamente igual que el método `index()`, la única diferencia es que el método index() lanza una excepción si no se encuentra el valor.\n",
    "\n",
    "Su sintaxis es: \n",
    "\n",
    "```python\n",
    "string.find(valor, inicio, final)\n",
    "```\n",
    "Donde: \n",
    "\n",
    "- `valor`: hace referencia a el *string*  que queremos buscar.\n",
    "\n",
    "- `inicio`: hace referencia a la posición donde queremos empezar a buscar.\n",
    "\n",
    "- `final`: hace referencia a la posición donde queremos finalizar la búsqueda."
   ]
  },
  {
   "cell_type": "code",
   "execution_count": 58,
   "metadata": {},
   "outputs": [
    {
     "name": "stdout",
     "output_type": "stream",
     "text": [
      "La variable aprendizaje es: Estamos aprendiendo strings\n",
      "La primera 'm' en nuestro string esta en posición: 4\n"
     ]
    }
   ],
   "source": [
    "# recordemos saludo\n",
    "print(f\"La variable aprendizaje es: {aprendizaje}\")\n",
    "\n",
    "# Vamos a querer buscar todas las \"n\" de nuestro string. \n",
    "# Empezando por la letra que está en la posición 1, hasta la letra que esta en posición 6\n",
    "print(f\"La primera 'm' en nuestro string esta en posición: {aprendizaje.find('m', 1, 6)}\")"
   ]
  },
  {
   "cell_type": "markdown",
   "metadata": {},
   "source": [
    "# Otros métodos de strings\n",
    "\n",
    "Los métodos que hemos visto a lo largo de este jupyter y en los videos son los métodos más comunes de los strings. Sin embargo, en Python podemos encontrar otros métodos que pueden resultar interesantes. Aquí os dejamos un listado de estos otros métodos con algunos ejemplos de como aplicarlos y el *output* que nos devuelven: \n",
    "\n",
    "**NOTA**: No hace falta que os los aprendáis de memoria, simplemente tenemos que saber que existen y siempre podremos acceder a la documentación para recordarlos! \n",
    "\n",
    "\n",
    "| Método                  | Descripción                                                                                                   | Ejemplo                                                        |\n",
    "|-------------------------|---------------------------------------------------------------------------------------------------------------|----------------------------------------------------------------|\n",
    "| `casefold()`            | Devuelve una versión en minúsculas del string, adecuada para comparaciones sin distinción entre mayúsculas y minúsculas. | `'HELLO World'.casefold()` => `'hello world'`                  |\n",
    "| `center(width[, fillchar])` | Centra el string en un campo de ancho fijo.                                                                   | `'hello'.center(10)` => `'  hello   '`                        |\n",
    "| `endswith(suffix[, start[, end]])` | Comprueba si el string termina con el sufijo dado.                                                           | `'hello world'.endswith('world')` => `True`                     |\n",
    "| `expandtabs(tabsize=8)` | Expande las tabulaciones en espacios.                                                                         | `'hello\\tworld'.expandtabs()` => `'hello   world'`              |\n",
    "| `find(sub[, start[, end]])` | Encuentra la primera aparición de una subcadena en el string.                                                 | `'hello world'.find('o')` => `4`                                |\n",
    "| `isalnum()`             | Comprueba si todos los caracteres del string son alfanuméricos.                                               | `'hello123'.isalnum()` => `True`                               |\n",
    "| `isalpha()`             | Comprueba si todos los caracteres del string son alfabéticos.                                                 | `'hello'.isalpha()` => `True`                                   |\n",
    "| `isascii()`             | Comprueba si el string contiene solo caracteres ASCII.                                                        | `'hello'.isascii()` => `True`                                   |\n",
    "| `isdecimal()`           | Comprueba si el string contiene solo caracteres decimales.                                                    | `'123'.isdecimal()` => `True`                                   |\n",
    "| `isdigit()`             | Comprueba si el string contiene solo dígitos.                                                                 | `'123'.isdigit()` => `True`                                     |\n",
    "| `isidentifier()`        | Comprueba si el string es un identificador válido de Python.                                                  | `'hello_world'.isidentifier()` => `True`                        |\n",
    "| `islower()`             | Comprueba si todos los caracteres del string están en minúsculas.                                              | `'hello'.islower()` => `True`                                   |\n",
    "| `isnumeric()`           | Comprueba si el string contiene solo caracteres numéricos.                                                     | `'123'.isnumeric()` => `True`                                   |\n",
    "| `isprintable()`         | Comprueba si todos los caracteres del string son imprimibles.                                                  | `'hello\\nworld'.isprintable()` => `False`                       |\n",
    "| `isspace()`             | Comprueba si el string contiene solo espacios en blanco.                                                       | `' \\t\\n'.isspace()` => `True`                                  |\n",
    "| `istitle()`             | Comprueba si el string sigue las reglas de capitalización de un título.                                        | `'Hello World'.istitle()` => `True`                             |\n",
    "| `isupper()`             | Comprueba si todos los caracteres del string están en mayúsculas.                                              | `'HELLO'.isupper()` => `True`                                   |\n",
    "| `ljust(width[, fillchar])` | Justifica el string a la izquierda en un campo de ancho fijo.                                                  | `'hello'.ljust(10)` => `'hello     '`                        |\n",
    "| `lstrip([chars])`       | Elimina los caracteres de espacio en blanco (u otros caracteres especificados) del lado izquierdo del string. | `'  hello'.lstrip()` => `'hello'`                               |\n",
    "| `partition(sep)`        | Divide el string en tres partes utilizando el separador especificado.                                           | `'hello world'.partition(' ')` => `('hello', ' ', 'world')`    |\n",
    "| `rfind(sub[, start[, end]])` | Similar a `find()`, pero busca desde el final del string.                                                       | `'hello world'.rfind('o')` => `7`                              |\n",
    "| `rindex(sub[, start[, end]])` | Similar a `index()`, pero busca desde el final del string.                                                      | `'hello world'.rindex('o')` => `7`                             |\n",
    "| `rjust(width[, fillchar])` | Justifica el string a la derecha en un campo de ancho fijo.                                                    | `'hello'.rjust(10)` => `'     hello'`                        |\n",
    "| `rsplit(sep=None, maxsplit=-1)` | Divide el string en una lista de subcadenas, comenzando desde el final del string.                             | `'hello world'.rsplit(' ', 1)` => `['hello', 'world']`        |\n",
    "| `rstrip([chars])`       | Elimina los caracteres de espacio en blanco (u otros caracteres especificados) del lado derecho del string.   | `'hello  '.rstrip()` => `'hello'`                               |\n",
    "| `splitlines([keepends])` | Divide el string en una lista de líneas.                                                                      | `'hello\\nworld'.splitlines()` => `['hello', 'world']`           |\n",
    "| `startswith(prefix[, start[, end]])` | Comprueba si el string comienza con el prefijo dado.                                                          | `'hello world'.startswith('hello')` => `True`                   |\n",
    "| `swapcase()`            | Intercambia entre mayúsculas y minúsculas en todo el string.                                                   | `'Hello World'.swapcase()` => `'hELLO wORLD'`                   |\n",
    "| `translate(table)`      | Aplica una tabla de traducción a cada carácter en el string.                                                   | `'hello'.translate(str.maketrans('el', 'ip'))` => `'hippo'`     |\n",
    "| `zfill(width)`          | Rellena el string con ceros a la izquierda hasta alcanzar la longitud especificada.                             | `'42'.zfill(5)` => `'00042'`                                    |\n"
   ]
  },
  {
   "cell_type": "markdown",
   "metadata": {},
   "source": []
  }
 ],
 "metadata": {
  "colab": {
   "collapsed_sections": [],
   "name": "01-variables-v3.ipynb",
   "provenance": [
    {
     "file_id": "1tXHJR8cKSo08vDdGSAm7rJsLK5DWWU6k",
     "timestamp": 1641196405601
    },
    {
     "file_id": "1nJs_RCWTcl0l6j6i5mHhZveMzPQQGsS6",
     "timestamp": 1639740222910
    }
   ]
  },
  "kernelspec": {
   "display_name": "Python 3 (ipykernel)",
   "language": "python",
   "name": "python3"
  },
  "language_info": {
   "codemirror_mode": {
    "name": "ipython",
    "version": 3
   },
   "file_extension": ".py",
   "mimetype": "text/x-python",
   "name": "python",
   "nbconvert_exporter": "python",
   "pygments_lexer": "ipython3",
   "version": "3.1.-1"
  },
  "toc": {
   "base_numbering": 1,
   "nav_menu": {},
   "number_sections": true,
   "sideBar": true,
   "skip_h1_title": false,
   "title_cell": "Table of Contents",
   "title_sidebar": "Contents",
   "toc_cell": true,
   "toc_position": {},
   "toc_section_display": true,
   "toc_window_display": true
  },
  "vscode": {
   "interpreter": {
    "hash": "31f2aee4e71d21fbe5cf8b01ff0e069b9275f58929596ceb00d14d90e3e16cd6"
   }
  }
 },
 "nbformat": 4,
 "nbformat_minor": 1
}

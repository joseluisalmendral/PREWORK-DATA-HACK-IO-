{
 "cells": [
  {
   "cell_type": "markdown",
   "metadata": {},
   "source": [
    "<div style=\"text-align: center;\">\n",
    "  <img src=\"https://github.com/Hack-io-Data/Imagenes/blob/main/01-LogosHackio/logo_celeste@4x.png?raw=true\" alt=\"esquema\" />\n",
    "</div>\n"
   ]
  },
  {
   "cell_type": "markdown",
   "metadata": {
    "toc": true
   },
   "source": [
    "<h1>Table of Contents<span class=\"tocSkip\"></span></h1>\n",
    "<div class=\"toc\"><ul class=\"toc-item\"><li><span><a href=\"#¿Qué-son-las-funciones?\" data-toc-modified-id=\"¿Qué-son-las-funciones?-1\"><span class=\"toc-item-num\">1&nbsp;&nbsp;</span>¿Qué son las funciones?</a></span></li><li><span><a href=\"#Motivación-de-las-funciones\" data-toc-modified-id=\"Motivación-de-las-funciones-2\"><span class=\"toc-item-num\">2&nbsp;&nbsp;</span>Motivación de las funciones</a></span></li><li><span><a href=\"#Tipos-de-funciones-en-Python\" data-toc-modified-id=\"Tipos-de-funciones-en-Python-3\"><span class=\"toc-item-num\">3&nbsp;&nbsp;</span>Tipos de funciones en Python</a></span></li><li><span><a href=\"#Conceptos-básicos\" data-toc-modified-id=\"Conceptos-básicos-4\"><span class=\"toc-item-num\">4&nbsp;&nbsp;</span>Conceptos básicos</a></span><ul class=\"toc-item\"><li><span><a href=\"#Variables-Locales-frente-a-Globales\" data-toc-modified-id=\"Variables-Locales-frente-a-Globales-4.1\"><span class=\"toc-item-num\">4.1&nbsp;&nbsp;</span>Variables Locales frente a Globales</a></span></li><li><span><a href=\"#Argumentos-vs-Parámetros\" data-toc-modified-id=\"Argumentos-vs-Parámetros-4.2\"><span class=\"toc-item-num\">4.2&nbsp;&nbsp;</span>Argumentos vs Parámetros</a></span></li><li><span><a href=\"#print-vs-return-en-funciones\" data-toc-modified-id=\"print-vs-return-en-funciones-4.3\"><span class=\"toc-item-num\">4.3&nbsp;&nbsp;</span><code>print</code> vs <code>return</code> en funciones</a></span></li></ul></li><li><span><a href=\"#Funciones-sin-parámetros\" data-toc-modified-id=\"Funciones-sin-parámetros-5\"><span class=\"toc-item-num\">5&nbsp;&nbsp;</span>Funciones sin parámetros</a></span></li><li><span><a href=\"#Funciones-con-parámetros\" data-toc-modified-id=\"Funciones-con-parámetros-6\"><span class=\"toc-item-num\">6&nbsp;&nbsp;</span>Funciones con parámetros</a></span></li></ul></div>"
   ]
  },
  {
   "cell_type": "markdown",
   "metadata": {},
   "source": [
    "# ¿Qué son las funciones?\n",
    "\n",
    "Las funciones en Python son bloques de código que se invocan para realizar tareas específicas. Su propósito es organizar el código en segmentos más manejables, lo que facilita su comprensión, lectura y mantenimiento. Aunque puedes utilizar funciones una vez definidas, repasemos algunas características clave. El código dentro de una función se ejecuta solo cuando es llamado. Puedes definir funciones sin que tengan impacto hasta que las llamas, momento en el que puedes verificar si tu programación cumple tus expectativas. Toda función tiene paréntesis y puede producir resultados como la creación de nuevas variables, la modificación de variables existentes o acciones como abrir archivos o enviar correos.\n",
    "\n",
    "# Motivación de las funciones\n",
    "\n",
    "- `Reutilización`: Si escribimos un código útil que necesitaremos repetidamente, copiar y pegar puede ser tedioso y propenso a errores. Una solución eficiente es crear una función para la tarea repetida.\n",
    "\n",
    "- `Modularidad`: Las funciones permiten dividir procesos en pasos más pequeños y manejables.\n",
    "\n",
    "**Componentes principales de las funciones en Python:**\n",
    "\n",
    "- Estamento `def`: Palabra clave obligatoria para comenzar a definir una función.\n",
    "\n",
    "- `Nombre de la función`: Puede ser elegido por el programador y debe ser intuitivo y descriptivo.\n",
    "\n",
    "- `Parámetros`: Opcionales, pero los paréntesis son obligatorios. Pueden estar vacíos.\n",
    "\n",
    "- Estamento `return`: Opcional, indica la finalización del procesamiento de la función.\n",
    "\n",
    "![funcion](https://github.com/Hack-io-Data/Imagenes/blob/main/02-Imagenes/Python_b%C3%A1sico/funciones.png?raw=true)\n",
    "\n",
    "En el ejemplo dado, se define una función llamada `far_to_celsius` que convierte una temperatura en grados Fahrenheit a grados Celsius, utilizando el argumento \"temp\". Además, vemos que dentro de la función tenemos un texto que está entre `\"\"\"`. Esto son los `docstrings` de las funciones. Los *docstrings* (o cadenas de documentación) son una forma de agregar comentarios descriptivos a las funciones. Su propósito es proporcionar documentación sobre lo que hace la función, sus parámetros y valores de retorno, facilitando así la comprensión y el mantenimiento del código. Los *docstrings* se colocan justo después de la declaración de la función y se delimitan mediante triples comillas (simples o dobles). Su estructura típica es: \n",
    "\n",
    "- **Descripción breve**: Una línea que resume la función.\n",
    "\n",
    "- **Descripción detallada (opcional)**: Explicaciones más detalladas del comportamiento de la función.\n",
    "\n",
    "- **Parámetros**: Descripción de cada parámetro que recibe la función.\n",
    "\n",
    "- **Valores de retorno**: Información sobre lo que devuelve la función.\n",
    "\n",
    "- **Ejemplos (opcional)**: Ejemplos de uso de la función.\n",
    "\n",
    "# Tipos de funciones en Python\n",
    "\n",
    "1. **Funciones incorporadas (Built-in functions):** Son aquellas que están integradas en Python y están disponibles para su uso directo. Ejemplos comunes incluyen `print()`, `len()`, `range()`, entre otros. Estas ya las conocemos y estamos muy familiarizados con ellas. \n",
    "\n",
    "2. **Funciones definidas por el usuario (User-defined functions):** Son funciones creadas por nosotros mismos para llevar a cabo tareas específicas. Se definen utilizando la palabra clave `def` seguida del nombre de la función y su cuerpo. Las que vemos en la imagen de arriba. \n",
    "\n",
    "3. **Funciones lambda (*Lambda functions*):** También conocidas como funciones anónimas, son funciones pequeñas y sin nombre que pueden tener cualquier número de argumentos, pero solo pueden tener una expresión. Se definen utilizando la palabra clave `lambda`. Las veremos cuando empiece el curso. \n",
    "\n",
    "4. **Funciones recursivas:** Son funciones que se llaman a sí mismas durante su ejecución. Se utilizan para resolver problemas que pueden dividirse en subproblemas más pequeños y similares al problema original.\n",
    "\n",
    "5. **Funciones de orden superior (Higher-order functions):** Son aquellas que aceptan otras funciones como argumentos o devuelven funciones como resultados. Esto permite un estilo de programación más flexible y poderoso, como en el caso de `map()`, `filter()` y `reduce()`. Estas las veremos cuando empiece el curso. \n",
    "\n",
    "6. **Funciones generadoras (Generator functions):** Son funciones que utilizan la declaración `yield` en lugar de `return` para devolver un valor. Permiten generar una secuencia de valores de manera eficiente y perezosa, lo que significa que no generan todos los valores a la vez, sino según sea necesario. Las veremos a lo largo del curso. \n"
   ]
  },
  {
   "cell_type": "markdown",
   "metadata": {},
   "source": [
    "# Conceptos básicos\n",
    "\n",
    "## Variables Locales frente a Globales\n",
    "\n",
    "Las **variables globales** y las **variables locales** representan distintos niveles de alcance y visibilidad dentro del código. Las variables globales se definen fuera de las funciones y tienen un alcance que abarca todo el código, mientras que las variables locales se definen dentro de una función y están limitadas a su ámbito de la función.\n",
    "\n",
    "> En términos simples, las variables locales solo son accesibles dentro de la función donde se han declarado, mientras que las variables globales pueden ser accedidas desde cualquier parte del código.\n",
    "\n",
    "- **Variables locales**: Una **variable local** es aquella que se declara dentro del cuerpo de una función y solo es válida dentro de ese contexto. Estas variables son creadas y utilizadas exclusivamente dentro de la función donde se han definido. No tienen ninguna relación con variables que puedan tener el mismo nombre en otros lugares del código.\n",
    "\n",
    "    Cuando una variable se declara dentro de una función, se crea una instancia local de esa variable que solo existe mientras la función se está ejecutando. Esta instancia es independiente de otras variables con el mismo nombre que puedan existir fuera de la función.\n",
    "\n",
    "- **Variables Globales**: Una **variable global** es aquella que se declara fuera de cualquier función y es accesible desde cualquier parte del código, incluidas las funciones. Estas variables tienen un alcance que abarca todo el programa y pueden ser modificadas desde cualquier parte del código.\n",
    "\n",
    "    Cuando se define una variable global, esta se convierte en una entidad accesible y modificable en cualquier contexto del programa. Sin embargo, es importante tener cuidado al modificar variables globales desde dentro de las funciones, ya que esto puede llevar a resultados inesperados y dificultar el mantenimiento del código.\n",
    "\n"
   ]
  },
  {
   "cell_type": "code",
   "execution_count": 1,
   "metadata": {},
   "outputs": [
    {
     "name": "stdout",
     "output_type": "stream",
     "text": [
      "El área del círculo es: 78.53975\n"
     ]
    }
   ],
   "source": [
    "# Definimos una función para calcular el área de un círculo\n",
    "def calcular_area_circulo(radio):\n",
    "    # definimos la variable local 'area' dentro de la función\n",
    "    area = 3.14159 * radio ** 2\n",
    "    # devolvemos la variable area \n",
    "    return area\n",
    "\n",
    "# Llamamos a la función para calcular el área de un círculo con radio 5\n",
    "area_circulo = calcular_area_circulo(5)\n",
    "print(f\"El área del círculo es: {area_circulo}\")\n"
   ]
  },
  {
   "cell_type": "code",
   "execution_count": 2,
   "metadata": {},
   "outputs": [
    {
     "ename": "NameError",
     "evalue": "name 'area' is not defined",
     "output_type": "error",
     "traceback": [
      "\u001b[0;31m---------------------------------------------------------------------------\u001b[0m",
      "\u001b[0;31mNameError\u001b[0m                                 Traceback (most recent call last)",
      "Cell \u001b[0;32mIn[2], line 3\u001b[0m\n\u001b[1;32m      1\u001b[0m \u001b[38;5;66;03m# Si ahora queremos el valor de la variable \"area\" usando un print, no va a dar un error. \u001b[39;00m\n\u001b[1;32m      2\u001b[0m \u001b[38;5;66;03m# y es que como hemos dicho, la variable \"area\" solo existe cuando usamos la función \"calcular_area_circulo\", fuera de ella Python nunca la reconocerá. \u001b[39;00m\n\u001b[0;32m----> 3\u001b[0m \u001b[43marea\u001b[49m\n",
      "\u001b[0;31mNameError\u001b[0m: name 'area' is not defined"
     ]
    }
   ],
   "source": [
    "# Si ahora queremos el valor de la variable \"area\" usando un print, no va a dar un error. \n",
    "# y es que como hemos dicho, la variable \"area\" solo existe cuando usamos la función \"calcular_area_circulo\", fuera de ella Python nunca la reconocerá. \n",
    "area"
   ]
  },
  {
   "cell_type": "code",
   "execution_count": 3,
   "metadata": {},
   "outputs": [
    {
     "name": "stdout",
     "output_type": "stream",
     "text": [
      "Dentro de la función: Python es un lenguaje versátil y poderoso\n"
     ]
    }
   ],
   "source": [
    "# Definimos una variable global (fuera de la función) llamada \"opinion\" fuera de cualquier función\n",
    "opinion = \"Python es un lenguaje versátil y poderoso\"\n",
    "\n",
    "# Definimos una función que imprime la variable global \"opinion\"\n",
    "def imprimir_opinion():\n",
    "    print(f'Dentro de la función: {opinion}')\n",
    "\n",
    "# Llamamos a la función para imprimir la variable global\n",
    "imprimir_opinion()\n"
   ]
  },
  {
   "cell_type": "code",
   "execution_count": 4,
   "metadata": {},
   "outputs": [
    {
     "name": "stdout",
     "output_type": "stream",
     "text": [
      "Fuera de la función: Python es un lenguaje versátil y poderoso\n"
     ]
    }
   ],
   "source": [
    "# que pasaría si ahora llamo a la variable de la misma forma que hicimos en el ejemplo anterior, que recordemos, nos daba error. \n",
    "print(f'Fuera de la función: {opinion}')"
   ]
  },
  {
   "cell_type": "markdown",
   "metadata": {},
   "source": [
    "<div style=\"background-color: #F74646; padding: 10px; border-left: 6px solid #000080; color: black; border-radius: 10px;\">\n",
    "Ahora no se produce un error debido a que \"opinion\" es una variable global. Esto significa que está disponible en cualquier parte del código (jupyter), ya sea dentro o fuera de una función. Las variables globales se definen fuera de las funciones y pueden ser accedidas y modificadas desde cualquier lugar del programa. Esto proporciona flexibilidad y facilita el uso compartido de datos entre diferentes partes del código. Al ser una variable global, \"opinion\" puede ser utilizada en cualquier momento sin necesidad de ser declarada nuevamente. Esto simplifica el código y evita errores relacionados con el alcance de las variables.\n",
    "</div>\n",
    "\n"
   ]
  },
  {
   "cell_type": "markdown",
   "metadata": {},
   "source": [
    "## Argumentos vs Parámetros\n",
    "\n",
    "En Python, aunque los términos \"parámetros\" y \"argumentos\" a menudo se usan de manera intercambiable, en realidad tienen significados distintos.\n",
    "\n",
    "Los `parámetros` son las variables que se definen en la declaración de una función y actúan como marcadores de posición para los valores que se pasarán a la función. Estos parámetros funcionan como variables locales dentro del cuerpo de la función.\n",
    "\n",
    "Los `argumentos` son los valores reales que se pasan a una función cuando se invoca. Pueden ser cualquier tipo de objeto de Python, como números, cadenas, listas, tuplas, o diccionarios.\n",
    "\n",
    "La diferencia principal es que los `parámetros` son parte de la definición de la función, mientras que los `argumentos` son los datos que se proporcionan a la función cuando se llama.\n",
    "\n",
    "Veamos un ejemplo:\n",
    "\n",
    "```python\n",
    "def multiplicar(num1, num2):\n",
    "    return num1 * num2\n",
    "\n",
    "resultado = multiplicar(2, 3)\n",
    "```\n",
    "\n",
    "En este ejemplo: \n",
    "- \"num1\" y \"num2\" son los parámetros de la función `multiplicar`. \n",
    "\n",
    "- \"2\" y \"3\" son los argumentos de la función.  Python asigna estos valores a los parámetros \"num1\" y \"num2\".\n",
    " \n",
    "- Finalmente, el resultado de la multiplicación se almacena en la variable \"resultado\"."
   ]
  },
  {
   "cell_type": "markdown",
   "metadata": {},
   "source": [
    "## `print` vs `return` en funciones\n",
    "\n",
    "En Python, `print` y `return` son dos mecanismos esenciales que sirven propósitos diferentes en el contexto de las funciones. Es importante comprender cómo y cuándo usar cada uno, ya que juegan roles cruciales en la interacción con los datos y en el flujo de control del código.\n",
    "\n",
    "- `print`: Se utiliza para mostrar información en el jupyter notebook. Muestra el valor proporcionado en pantalla para que el usuario lo vea. No afecta al flujo de la función ni su estado interno; simplemente realiza una acción visible. Es útil para depuración, mensajes informativos, o cualquier necesidad de interacción directa con el usuario. Pongamos un ejemplo: \n",
    "\n",
    "    ```python\n",
    "    def mostrar_mensaje(mensaje):\n",
    "        print(mensaje)\n",
    "\n",
    "    mostrar_mensaje(\"Hola, mundo!\")\n",
    "    ```\n",
    "\n",
    "    En este ejemplo, la función `mostrar_mensaje` imprime \"Hola, mundo!\" en la consola, pero no devuelve ningún valor al llamador.\n",
    "\n",
    "- `return`: Se utiliza para devolver un valor desde una función. A diferencia del print, el return termina la ejecución de la función y devuelve un valor al punto donde se llamó la función. Influye directamente en el flujo del programa, ya que el valor devuelto puede ser utilizado posteriormente en el código. Crucial para el paso de datos entre funciones, para obtener resultados de cálculos o cualquier operación donde el resultado necesita ser reutilizado. Por ejemplo: \n",
    "\n",
    "    ```python\n",
    "    def calcular_suma(a, b):\n",
    "        return a + b\n",
    "\n",
    "    resultado = calcular_suma(5, 3)\n",
    "    print(resultado)  # Esto imprimirá 8\n",
    "    ```\n",
    "\n",
    "    En este ejemplo, la función `calcular_suma` devuelve la suma de `a` y `b`, que luego se almacena en la variable `resultado`. Este valor puede ser utilizado posteriormente en el programa.\n",
    "\n",
    "\n",
    "| **Aspecto**                  | **print**                                     | **return**                                       |\n",
    "|------------------------------|-----------------------------------------------|--------------------------------------------------|\n",
    "| **Propósito**                | Mostrar información en la salida estándar     | Devolver un valor desde una función al llamador  |\n",
    "| **Efecto**                   | Muestra el valor en la consola                | Termina la ejecución de la función y devuelve un valor al punto de llamada |\n",
    "| **Alcance**                  | No afecta el flujo de la función ni su estado interno | Influye en el flujo del programa, permitiendo reutilizar el valor devuelto |\n",
    "| **Contexto de Uso**          | Depuración, mensajes informativos, interacción con el usuario | Paso de datos entre funciones, obtener resultados de cálculos |\n",
    "| **Interacción con el Usuario vs. Flujo de Datos** | Proporciona información al usuario                | Permite que las funciones pasen resultados a otras partes del código |\n",
    "| **Efecto en la Función**     | No termina la ejecución de la función         | Termina la ejecución de la función               |\n",
    "| **Alcance y Usabilidad**     | No proporciona valor reutilizable             | Proporciona valor que puede ser capturado y reutilizado |\n",
    "\n",
    "\n",
    "\n",
    "En resumen, `print` es para comunicación directa con el usuario, mientras que `return` es para la transmisión de datos dentro del programa. Ambos son esenciales, pero se utilizan en contextos muy diferentes según las necesidades del programa."
   ]
  },
  {
   "cell_type": "code",
   "execution_count": 5,
   "metadata": {},
   "outputs": [
    {
     "name": "stdout",
     "output_type": "stream",
     "text": [
      "Procesando el valor: 10\n",
      "Resultado final: 20\n"
     ]
    }
   ],
   "source": [
    "# Para mostrar estas diferencias, veamos un ejemplo donde se utilizan ambos:\n",
    "\n",
    "def procesar_datos(valor):\n",
    "    print(f\"Procesando el valor: {valor}\")  # Interacción con el usuario\n",
    "    resultado = valor * 2\n",
    "    return resultado  # Flujo de datos\n",
    "\n",
    "resultado_final = procesar_datos(10)\n",
    "print(f\"Resultado final: {resultado_final}\")"
   ]
  },
  {
   "cell_type": "markdown",
   "metadata": {},
   "source": [
    "<div style=\"background-color: #F74646; padding: 10px; border-left: 6px solid #000080; color: black; border-radius: 10px;\">\n",
    "\n",
    "**Entendamos lo que hemos escrito antes:**\n",
    "\n",
    "- `print(f\"Procesando el valor: {valor}\")` muestra el mensaje en la consola.\n",
    "\n",
    "- `return resultado` devuelve el valor calculado (`valor * 2`), que se almacena en `resultado_final` para uso posterior.\n",
    "</div>\n"
   ]
  },
  {
   "cell_type": "markdown",
   "metadata": {},
   "source": [
    "# Funciones sin parámetros\n",
    "\n",
    "Las funciones sin parámetros son aquellas que no reciben ningún valor de entrada. En otras palabras, no hay nada entre los paréntesis en su definición. Como ya hemos visto, las funciones se definen utilizando la palabra clave `def`, seguida de un nombre descriptivo para la función. Este nombre debe seguir las mismas reglas de nomenclatura que las variables, es decir, nunca pondremos los nombres de las funciones en mayúscula, sin espacios, con nombres intuitivos, etc. A continuación, se colocan paréntesis vacíos y se cierra con dos puntos (:). El cuerpo de la función debe estar indentado con 4 espacios, siguiendo las convenciones de Python (igual que hacíamos con los `if`, los `for` o  `while`. ).\n",
    "\n",
    "Una función no se ejecuta hasta que es invocada. Para invocar una función, simplemente se llama por su nombre seguido de paréntesis vacíos en el caso de la funciones sin parámetros. Aquí hay un ejemplo:\n",
    "\n",
    "```python\n",
    "def saludar():\n",
    "    print(\"Hola, mundo!\")\n",
    "\n",
    "# Invocamos la función\n",
    "saludar()\n",
    "```\n",
    "\n",
    "En este ejemplo, `saludar` es una función sin parámetros. Se define utilizando `def`, y su cuerpo contiene una instrucción `print`. La función `saludar` se ejecuta cuando se invoca con `saludar()`."
   ]
  },
  {
   "cell_type": "code",
   "execution_count": 6,
   "metadata": {},
   "outputs": [
    {
     "name": "stdout",
     "output_type": "stream",
     "text": [
      "El valor de 'x' dentro de la función es: 10\n"
     ]
    }
   ],
   "source": [
    "# Empezamos creando la función a la que le pondremos el nombre de \"ejemplo_funcion\", la cual no va a recibir ningún parámetro.\n",
    "def ejemplo_funcion():\n",
    "    \"\"\"\n",
    "    Imprime el valor de la variable 'x' dentro de la función.\n",
    "\n",
    "    Esta función crea una variable 'x', le asigna el valor 10 y \n",
    "    luego imprime un mensaje en la pantalla que muestra el valor de 'x'.\n",
    "\n",
    "    Params:\n",
    "        No recibe ningún parámetro.\n",
    "\n",
    "    Returns:\n",
    "        No devuelve ningún valor. Solo imprime el mensaje en la pantalla.\n",
    "    \"\"\"\n",
    "    # Dentro de la función, creamos una variable \"x\" y le asignamos el valor 10\n",
    "    x = 10\n",
    "    # Utilizamos print para mostrar un mensaje en la pantalla que incluya el valor de la variable \"x\"\n",
    "    print(\"El valor de 'x' dentro de la función es:\", x)\n",
    "\n",
    "# llamamos o invocamos a la función a la que hemos creado previamente \n",
    "ejemplo_funcion()"
   ]
  },
  {
   "cell_type": "markdown",
   "metadata": {},
   "source": [
    "Y voilà! Hemos creado nuestra primera función 💪🏽.\n",
    "\n",
    "Ahora puede surgir la siguiente duda 🤔: ¿Podemos almacenar el mensaje que imprime la función `ejemplo_funcion` en una variable? La respuesta es ¡no! Y es que, como hemos dicho antes, cuando hemos visto la diferencia entre el `print()` y el `return`,  esta función utiliza print para mostrar el valor de x directamente en la consola. La instrucción print simplemente envía la salida a la pantalla y no devuelve ningún valor que pueda ser almacenado en una variable. Y esto es muy importante, una función sin return nos devuelve un `None`. Veámoslo con un ejemplo: "
   ]
  },
  {
   "cell_type": "code",
   "execution_count": 7,
   "metadata": {},
   "outputs": [
    {
     "name": "stdout",
     "output_type": "stream",
     "text": [
      "El valor de 'x' dentro de la función es: 10\n",
      "el print que tenemos dentro de la función es: None\n"
     ]
    }
   ],
   "source": [
    "# para almacenar el resultado en una variable lo único que tendremos que hacer será igualar la función a una variable. De la misma forma que lo hacemos cuando definimos una lista, un diccionario, etc. \n",
    "mensaje =  ejemplo_funcion()\n",
    "\n",
    "# Vemos que en pantalla nos ha salido el saludo, pero.. ¿Qué contienen la variable saludo? Como hemos dicho, nos devuelve un None!\n",
    "print(\"el print que tenemos dentro de la función es:\", mensaje)\n"
   ]
  },
  {
   "cell_type": "code",
   "execution_count": 7,
   "metadata": {},
   "outputs": [
    {
     "name": "stdout",
     "output_type": "stream",
     "text": [
      "Hola, mundo!\n"
     ]
    }
   ],
   "source": [
    "# creemos otro ejemplo. En este caso, vamos a crear una función llamada 'imprimir_mensaje' que nos va a mostrar por pantalla \"Hola, mundo!\"\n",
    "def imprimir_mensaje():\n",
    "    \"\"\"\n",
    "    Imprime un mensaje predefinido en la pantalla.\n",
    "\n",
    "    Esta función define una variable 'mensaje' con el valor \"Hola, mundo!\"\n",
    "    y luego imprime este mensaje en la pantalla.\n",
    "\n",
    "    Params:\n",
    "        No recibe ningún parámetro.\n",
    "\n",
    "    Returns:\n",
    "        No devuelve ningún valor. Simplemente imprime el mensaje en la pantalla.\n",
    "    \"\"\"\n",
    "\n",
    "    # creamos una variable llamada 'mensaje' que es un string \n",
    "    mensaje = \"Hola, mundo!\"\n",
    "\n",
    "    # mostramos por pantalla la variable mensaje\n",
    "    print(mensaje)\n",
    "\n",
    "# llamamos a la función para poder ejecutarla, como tenemos un función sin return, la función nos devolverá un None, por lo que no tiene sentido almacenar el resultado de la función en una variable\n",
    "imprimir_mensaje()\n"
   ]
  },
  {
   "cell_type": "code",
   "execution_count": 9,
   "metadata": {},
   "outputs": [
    {
     "name": "stdout",
     "output_type": "stream",
     "text": [
      "El resultado de la función sumar_numeros es: 21\n"
     ]
    }
   ],
   "source": [
    "# ahora vamos a crear una función con return, por lo que podremos almacenar el resultado de la función en una variable\n",
    "def sumar_numeros():\n",
    "    \"\"\"\n",
    "    Suma dos números dados y devuelve el resultado.\n",
    "\n",
    "    Esta función toma dos números como entrada, los suma y devuelve el resultado de la suma.\n",
    "\n",
    "    Params:\n",
    "        No recibe ningún parámetro\n",
    "\n",
    "    Returns:\n",
    "        int o float: La suma de los dos números dados.\n",
    "    \"\"\"\n",
    "    # creamos una variable llamanda 'resultado'  que es el resultado de sumar 2 + 19\n",
    "    resultado = 2 + 19\n",
    "    return resultado\n",
    "\n",
    "# llamamos a la función 'sumar_numeros' y almacenamos el resultado en la variable 'total'\n",
    "total = sumar_numeros()\n",
    "print(f\"El resultado de la función sumar_numeros es: {total}\")\n"
   ]
  },
  {
   "cell_type": "code",
   "execution_count": 11,
   "metadata": {},
   "outputs": [
    {
     "name": "stdout",
     "output_type": "stream",
     "text": [
      "los números pares de la lista que tenemos dentro de la función son:  [12, 68, 198, 168, 190]\n"
     ]
    }
   ],
   "source": [
    "# vamos a seguir viendo más ejemplos. Vamos a crear una función con una lista de números y devuelve una lista con los números pares encontrados en la lista que tenemos en el interior.\n",
    "# definimos la función con la palabra clave \"def\" y el nombre de la función seguido de los paréntesis \n",
    "def es_par():\n",
    "    \"\"\"\n",
    "    Identifica los números pares en una lista predefinida y devuelve una lista con esos números.\n",
    "\n",
    "    La función crea una lista predefinida llamada 'numeros' y luego itera sobre ella para encontrar \n",
    "    los números pares. Los números pares encontrados se almacenan en una lista llamada 'pares'. \n",
    "    Finalmente, la función devuelve la lista 'pares' que contiene los números pares.\n",
    "\n",
    "    Params:\n",
    "        No recibe ningún parámetro \n",
    "\n",
    "    Returns:\n",
    "        list: Una lista que contiene los números pares encontrados en la lista predefinida 'numeros'.\n",
    "    \"\"\"\n",
    "    # definimos una lista de números\n",
    "    numeros = [12, 45, 68, 19, 198, 155, 168, 190]\n",
    "\n",
    "    # definimos una lista vacía donde iremos almacenando los números pares que nos interesan\n",
    "    pares = []\n",
    "\n",
    "    # iteramos por la lista de números\n",
    "    for num in numeros:\n",
    "        # establecemos la condición para seleccionar solo los números pares\n",
    "        if num % 2 == 0:\n",
    "            # en caso de que se cumpla la condición, añadimos el número a la lista 'pares'\n",
    "            pares.append(num)\n",
    "\n",
    "    # cuando termine de iterar por toda la lista, queremos que la función nos devuelva la lista con los números pares\n",
    "    return pares\n",
    "\n",
    "\n",
    "# llamamos a la función y almacenamos los resultados en una variable que se llame \"pares\". \n",
    "pares = es_par()\n",
    "print(\"los números pares de la lista que tenemos dentro de la función son: \", pares)\n"
   ]
  },
  {
   "cell_type": "markdown",
   "metadata": {},
   "source": [
    "📌 **Importante sobre el comportamiento de `return` en funciones**: Como hemos dicho al inicio, cuando comparamos el `print()` y el `return`, en las funciones al encontrar `return` se detiene la ejecución del código. Verifiquemos su impacto dentro de un bucle `for`:"
   ]
  },
  {
   "cell_type": "code",
   "execution_count": 12,
   "metadata": {},
   "outputs": [
    {
     "name": "stdout",
     "output_type": "stream",
     "text": [
      "los números pares de la lista que tenemos dentro de la función son:  [12]\n"
     ]
    }
   ],
   "source": [
    "# definimos la función es_par pero con algunos cambios\n",
    "def es_par2():\n",
    "    \"\"\"\n",
    "    Identifica los números pares en una lista predefinida y devuelve una lista con esos números.\n",
    "\n",
    "    La función crea una lista predefinida llamada 'numeros' y luego itera sobre ella para encontrar \n",
    "    los números pares. Los números pares encontrados se almacenan en una lista llamada 'pares'. \n",
    "    Sin embargo, el 'return' se encuentra dentro del bucle 'for', por lo que la función devuelve \n",
    "    solo los números pares encontrados hasta el primer número impar, lo que puede no ser el resultado deseado.\n",
    "\n",
    "    Parámetros:\n",
    "        No recibe ningún parámetro\n",
    "\n",
    "    Returns:\n",
    "        list: Una lista que contiene los números pares encontrados en la lista predefinida 'numeros'.\n",
    "    \"\"\"\n",
    "    # definimos una lista de números\n",
    "    numeros = [12, 45, 68, 19, 198, 155, 168, 190]\n",
    "\n",
    "    # definimos una lista vacía donde iremos almacenando los números pares que nos interesan\n",
    "    pares = []\n",
    "\n",
    "    # iteramos por la lista de números\n",
    "    for num in numeros:\n",
    "        # establecemos la condición para seleccionar solo los números pares\n",
    "        if num % 2 == 0:\n",
    "            # en caso de que se cumpla la condición, añadimos el número a la lista 'pares'\n",
    "            pares.append(num)\n",
    "        \n",
    "        # ponemos el return dentro del bucle 'for', lo que puede limitar los resultados\n",
    "\n",
    "    # cuando termine de iterar por toda la lista, queremos que la función nos devuelva la lista con los números pares\n",
    "    return pares\n",
    "\n",
    "\n",
    "pares2 = es_par2()\n",
    "print(\"los números pares de la lista que tenemos dentro de la función son: \", pares2)\n"
   ]
  },
  {
   "cell_type": "markdown",
   "metadata": {},
   "source": [
    "¡Vaya! Solo obtuvimos un número. Esto ocurrió porque colocamos `return` dentro de `for`, deteniendo el código en la primera iteración. Por lo tanto,  \n",
    "\n",
    "- Funciones sin `return` devuelven `None`.\n",
    "\n",
    "- La definición de función comienza con `def` seguido del nombre.\n",
    "\n",
    "- `return` finaliza la ejecución de la función.\n",
    "\n",
    "- `print()` muestra en pantalla, `return` establece el resultado."
   ]
  },
  {
   "cell_type": "markdown",
   "metadata": {},
   "source": [
    "# Funciones con parámetros\n",
    "\n",
    "\n",
    "Hasta ahora solo hemos visto funciones sin parámetros, sin embargo, las funciones pueden tener uno o varios parámetros, que son variables que se utilizan para recibir valores externos en la función. Los parámetros son una forma de personalizar la función y hacerla más flexible, permitiendo que se utilice con diferentes valores de entrada.\n",
    "\n",
    "Para definir una función con parámetros en Python, se utiliza la siguiente sintaxis:\n",
    "\n",
    "```python\n",
    "def nombre_de_la_funcion(parametro1, parametro2, ...):\n",
    "    # Código de la función aquí\n",
    "```\n",
    "\n",
    "En este ejemplo, \"nombre_de_la_funcion\" es el nombre que le damos a la función, y \"parametro1\", \"parametro2\", etc. son los nombres que le damos a los parámetros que recibirá la función. Los parámetros se separan por comas y se pueden definir tantos como sea necesario.\n",
    "\n",
    "Una vez que se han definido los parámetros, se pueden utilizar dentro de la función como si fueran variables normales. Por ejemplo, considera la siguiente función que suma dos números:\n",
    "\n",
    "```python\n",
    "def sumar(a, b):\n",
    "    resultado = a + b\n",
    "    print(\"La suma de\", a, \"y\", b, \"es:\", resultado)\n",
    "\n",
    "\n",
    "# llamamos a la función\n",
    "sumar(5, 7)\n",
    "```\n",
    "\n",
    "En este ejemplo, definimos una función llamada \"sumar\" que recibe dos parámetros, \"a\" y \"b\". Dentro de la función, sumamos los dos valores y guardamos el resultado en la variable \"resultado\". Luego, imprimimos un mensaje que indica cuál es la suma de los dos números.\n",
    "\n",
    "Finalmente, llamamos a la función \"sumar\" con los valores 5 y 7. Al llamar a la función de esta manera, Python pasará los valores 5 y 7 como argumentos para los parámetros \"a\" y \"b\" de la función. Como resultado, la función imprimirá el mensaje \"La suma de 5 y 7 es: 12\".\n",
    "\n",
    "Las funciones con parámetros tienen varias ventajas, entre ellas:\n",
    "\n",
    "\n",
    "- **Reutilización de código**: las funciones con parámetros permiten definir un conjunto de instrucciones que pueden ser ejecutadas varias veces con diferentes valores de entrada. De esta forma, se evita tener que repetir el mismo código una y otra vez en diferentes partes del programa.\n",
    "\n",
    "- **Flexibilidad**: los parámetros de una función permiten personalizar la forma en que se ejecuta la función para diferentes valores de entrada. Esto hace que la función sea más flexible y pueda adaptarse a diferentes situaciones.\n",
    "\n",
    "- **Legibilidad del código**: las funciones con parámetros pueden hacer que el código sea más fácil de leer y entender. Al tener los parámetros definidos claramente en la definición de la función, se hace más evidente qué valores se están utilizando en cada parte del código.\n",
    "\n",
    "- **Modularidad**: las funciones con parámetros hacen que el código sea más modular, lo que significa que se puede dividir en piezas más pequeñas y manejables. Cada función con parámetros puede realizar una tarea específica, lo que facilita el mantenimiento y la actualización del código.\n",
    "\n",
    "Sigamos con el ejemplo de la función de \"es_par\". En este caso, nosotras teníamos en el interior de la función una lista de números, pero... ¿qué pasaría si quisieramos evaluar otra lista de números? Tendríamos que modificar la función cambiando la lista. Esto puede resultar poco práctico, por lo que no sería una buena función. La solución, hacer que esta función reciba un parámetro que sea una lista, que nosotras podremos ir modificando. **NOTA** los parámetros de una función puede ser de cualquier tipo, *strings*, listas, tuplas, diccionarios, *integers*, *floats*. "
   ]
  },
  {
   "cell_type": "code",
   "execution_count": 13,
   "metadata": {},
   "outputs": [
    {
     "name": "stdout",
     "output_type": "stream",
     "text": [
      "los números pares de la lista que tenemos dentro de la función son:  [12, 68, 198, 168, 190]\n"
     ]
    }
   ],
   "source": [
    "# lo primero que hacemos es recordar cual es la función que habíamos definido previamente\n",
    "def es_par():\n",
    "    \"\"\"\n",
    "    Identifica los números pares en una lista predefinida y devuelve una lista con esos números.\n",
    "\n",
    "    La función crea una lista predefinida llamada 'numeros' y luego itera sobre ella para encontrar \n",
    "    los números pares. Los números pares encontrados se almacenan en una lista llamada 'pares'. \n",
    "    Finalmente, la función devuelve la lista 'pares' que contiene los números pares.\n",
    "\n",
    "    Params:\n",
    "        No recibe ningún parámetro \n",
    "\n",
    "    Returns:\n",
    "        list: Una lista que contiene los números pares encontrados en la lista predefinida 'numeros'.\n",
    "    \"\"\"\n",
    "    # definimos una lista de números\n",
    "    numeros = [12, 45, 68, 19, 198, 155, 168, 190]\n",
    "\n",
    "    # definimos una lista vacía donde iremos almacenando los números pares que nos interesan\n",
    "    pares = []\n",
    "\n",
    "    # iteramos por la lista de números\n",
    "    for num in numeros:\n",
    "        # establecemos la condición para seleccionar solo los números pares\n",
    "        if num % 2 == 0:\n",
    "            # en caso de que se cumpla la condición, añadimos el número a la lista 'pares'\n",
    "            pares.append(num)\n",
    "\n",
    "    # cuando termine de iterar por toda la lista, queremos que la función nos devuelva la lista con los números pares\n",
    "    return pares\n",
    "\n",
    "\n",
    "# llamamos a la función y almacenamos los resultados en una variable que se llame \"pares\". \n",
    "pares = es_par()\n",
    "print(\"los números pares de la lista que tenemos dentro de la función son: \", pares)\n"
   ]
  },
  {
   "cell_type": "code",
   "execution_count": 14,
   "metadata": {},
   "outputs": [
    {
     "name": "stdout",
     "output_type": "stream",
     "text": [
      "los números pares de la lista que tenemos dentro de la función son:  [78, 18, 190]\n",
      "--------------------------\n",
      "los números pares de la lista que tenemos dentro de la función son:  [12, 1972, 178, 122]\n"
     ]
    }
   ],
   "source": [
    "# la función de antes estaba bien, pero era poco útil ya que solo está analizando los números pares de una lista, es decir, no es escalable\n",
    "# definimos la función, pero en este caso entre paréntesis le pasaremos un parámetro. El nombre de ese parámetro puede ser el que queramos! En este caso lo hemos llamado \"nuestra_lista\", pero lo podríamos llamar por ejemplo \"brocoli\"\n",
    "def es_par_3(nuestra_lista):\n",
    "    \"\"\"\n",
    "    Identifica los números pares en una lista dada y devuelve una lista con esos números.\n",
    "\n",
    "    La función toma como parámetro una lista de números llamada 'nuestra_lista'. \n",
    "    Itera sobre esta lista para encontrar los números pares y los almacena en una lista llamada 'pares'. \n",
    "\n",
    "    Params:\n",
    "        nuestra_lista (list): Una lista de números a ser evaluados.\n",
    "\n",
    "    Returns:\n",
    "        list: Una lista que contiene los números pares encontrados en 'nuestra_lista'.\n",
    "    \"\"\"\n",
    "    # Creamos una lista vacía para almacenar los números pares\n",
    "    pares = []\n",
    "\n",
    "    # Iteramos por la lista de números dada como parámetro\n",
    "    for num in nuestra_lista: \n",
    "        # Verificamos si el número es par\n",
    "        if num % 2 == 0:\n",
    "            # Si es par, lo añadimos a la lista de pares\n",
    "            pares.append(num) \n",
    "\n",
    "    # Retornamos la lista que contiene los números pares encontrados en nuestra_lista\n",
    "    return pares\n",
    "\n",
    "\n",
    "# definimos una lista nueva \n",
    "lista_numeros1  = [78, 19, 67, 11, 18, 190, 1675]\n",
    "\n",
    "# llamamos a la función. Fijaos que en este caso, si que le pasamos un argumento a la función entre los paréntesis, son los valores de los parámetros. \n",
    "pares4 = es_par_3(lista_numeros1)\n",
    "print(\"los números pares de la lista que tenemos dentro de la función son: \", pares4)\n",
    "print(\"--------------------------\")\n",
    "\n",
    "# ahora podremos definir otra lista de números, y sin necesidad de modificar la función conseguiremos los resultados deseados\n",
    "lista_numeros2 = [12, 8889, 1972, 178, 122, 197, 11, 109]\n",
    "\n",
    "pares5 = es_par_3(lista_numeros2)\n",
    "print(\"los números pares de la lista que tenemos dentro de la función son: \", pares5)\n"
   ]
  },
  {
   "cell_type": "code",
   "execution_count": 15,
   "metadata": {},
   "outputs": [
    {
     "ename": "TypeError",
     "evalue": "es_par_3() missing 1 required positional argument: 'nuestra_lista'",
     "output_type": "error",
     "traceback": [
      "\u001b[0;31m---------------------------------------------------------------------------\u001b[0m",
      "\u001b[0;31mTypeError\u001b[0m                                 Traceback (most recent call last)",
      "Cell \u001b[0;32mIn[15], line 3\u001b[0m\n\u001b[1;32m      1\u001b[0m \u001b[38;5;66;03m# ¿Qué pasaría si no le pasamos el argumento a una función que hemos definido con parámetros? Veamos un ejemplo:\u001b[39;00m\n\u001b[1;32m      2\u001b[0m \u001b[38;5;66;03m# fijaos que en este caso no estamos poniendo nada entre paréntesis. Es decir, no le estamos pasando nada a nuestra función!\u001b[39;00m\n\u001b[0;32m----> 3\u001b[0m pares5 \u001b[38;5;241m=\u001b[39m \u001b[43mes_par_3\u001b[49m\u001b[43m(\u001b[49m\u001b[43m)\u001b[49m\n",
      "\u001b[0;31mTypeError\u001b[0m: es_par_3() missing 1 required positional argument: 'nuestra_lista'"
     ]
    }
   ],
   "source": [
    "# ¿Qué pasaría si no le pasamos el argumento a una función que hemos definido con parámetros? Veamos un ejemplo:\n",
    "# fijaos que en este caso no estamos poniendo nada entre paréntesis. Es decir, no le estamos pasando nada a nuestra función!\n",
    "pares6 = es_par_3()"
   ]
  },
  {
   "cell_type": "markdown",
   "metadata": {},
   "source": [
    "El error que estamos obteniendo, `TypeError: es_par_3() missing 1 required positional argument: 'nuestra_lista'`, nos indica que al llamar a la función `es_par_3`, no le estamos pasando el parámetro requerido, que es 'nuestra_lista'. \n",
    "\n",
    "Ahora, podemos avanzar definiendo una función que tome dos parámetros. Por ejemplo, crearemos una función que sume dos números cualquiera."
   ]
  },
  {
   "cell_type": "code",
   "execution_count": 16,
   "metadata": {},
   "outputs": [
    {
     "name": "stdout",
     "output_type": "stream",
     "text": [
      "el resultado de la suma es: 92\n"
     ]
    }
   ],
   "source": [
    "# definimos la función que recibe dos parámetros, a y b. Recordemos que pueden llamarse como queramos, podríamos llamarlo también \"numero1\" y \"numero2\"\n",
    "def sumar(a, b):\n",
    "    \"\"\"\n",
    "    Suma dos números y devuelve el resultado.\n",
    "\n",
    "    Esta función toma dos parámetros, 'a' y 'b', y devuelve la suma de ambos. \n",
    "\n",
    "    Params:\n",
    "        a (int, float): El primer número a sumar.\n",
    "        b (int, float): El segundo número a sumar.\n",
    "\n",
    "    Returns:\n",
    "        int o float: La suma de los dos números proporcionados como argumentos.\n",
    "    \"\"\"\n",
    "    # Introducimos el código para realizar la suma de 'a' y 'b'\n",
    "    suma = a + b\n",
    "\n",
    "    # Indicamos el retorno, que en este caso será el resultado de la suma de 'a' y 'b'\n",
    "    return suma\n",
    "\n",
    "\n",
    "# llamamos a la función, pasándole entre paréntesis los argumentos que recibe y almancenamos los resultados en una variable que se llama \"resultado_suma\"\n",
    "resultado_suma = sumar(3,89)\n",
    "print(\"el resultado de la suma es:\", resultado_suma)"
   ]
  },
  {
   "cell_type": "code",
   "execution_count": 17,
   "metadata": {},
   "outputs": [
    {
     "name": "stdout",
     "output_type": "stream",
     "text": [
      "el primer número elegido por el usuario es: 1\n",
      "-------------------------\n",
      "el primer número elegido por el usuario es: 2\n",
      "-------------------------\n",
      "el resultado de la suma es:  3\n"
     ]
    }
   ],
   "source": [
    "# le podemos pasar los números directamente como hemos en el ejemplo anterior o una variable donde tengamos un número, como vemos en este ejemplo con un input\n",
    "\n",
    "# le pedimos al usuario que eliga un número para sumar\n",
    "numero_1 = int(input(\"Elige el primer numero a sumar\"))\n",
    "print(\"el primer número elegido por el usuario es:\", numero_1)\n",
    "print(\"-------------------------\")\n",
    "\n",
    "# le pedimos al usuario que eliga otro número para sumar\n",
    "numero_2 = int(input(\"Elige el primer numero a sumar\"))\n",
    "print(\"el primer número elegido por el usuario es:\", numero_2)\n",
    "print(\"-------------------------\")\n",
    "\n",
    "\n",
    "# llamamos a la función \"sumar\" y almancemos los resultados en una variable llamada \"resultado_suma2\"\n",
    "resultado_suma2 = sumar(numero_1, numero_2)\n",
    "print(\"el resultado de la suma es: \", resultado_suma2)"
   ]
  }
 ],
 "metadata": {
  "kernelspec": {
   "display_name": "Python 3 (ipykernel)",
   "language": "python",
   "name": "python3"
  },
  "language_info": {
   "codemirror_mode": {
    "name": "ipython",
    "version": 3
   },
   "file_extension": ".py",
   "mimetype": "text/x-python",
   "name": "python",
   "nbconvert_exporter": "python",
   "pygments_lexer": "ipython3",
   "version": "3.11.8"
  },
  "toc": {
   "base_numbering": 1,
   "nav_menu": {},
   "number_sections": true,
   "sideBar": true,
   "skip_h1_title": false,
   "title_cell": "Table of Contents",
   "title_sidebar": "Contents",
   "toc_cell": true,
   "toc_position": {},
   "toc_section_display": true,
   "toc_window_display": true
  },
  "vscode": {
   "interpreter": {
    "hash": "31f2aee4e71d21fbe5cf8b01ff0e069b9275f58929596ceb00d14d90e3e16cd6"
   }
  }
 },
 "nbformat": 4,
 "nbformat_minor": 2
}

{
 "cells": [
  {
   "cell_type": "markdown",
   "metadata": {},
   "source": [
    "<div style=\"text-align: center;\">\n",
    "  <img src=\"https://github.com/Hack-io-Data/Imagenes/blob/main/01-LogosHackio/logo_celeste@4x.png?raw=true\" alt=\"esquema\" />\n",
    "</div>\n"
   ]
  },
  {
   "cell_type": "markdown",
   "metadata": {
    "toc": true
   },
   "source": [
    "<h1>Table of Contents<span class=\"tocSkip\"></span></h1>\n",
    "<div class=\"toc\"><ul class=\"toc-item\"><li><span><a href=\"#¿Qué-es-el-control-de-flujo-en-Python?\" data-toc-modified-id=\"¿Qué-es-el-control-de-flujo-en-Python?-1\"><span class=\"toc-item-num\">1&nbsp;&nbsp;</span>¿Qué es el control de flujo en Python?</a></span></li><li><span><a href=\"#Estructuras-de-selección:\" data-toc-modified-id=\"Estructuras-de-selección:-2\"><span class=\"toc-item-num\">2&nbsp;&nbsp;</span>Estructuras de selección:</a></span><ul class=\"toc-item\"><li><span><a href=\"#La-función-if\" data-toc-modified-id=\"La-función-if-2.1\"><span class=\"toc-item-num\">2.1&nbsp;&nbsp;</span>La función <code>if</code></a></span></li><li><span><a href=\"#If-...-else-...\" data-toc-modified-id=\"If-...-else-...-2.2\"><span class=\"toc-item-num\">2.2&nbsp;&nbsp;</span>If ... else ...</a></span></li><li><span><a href=\"#If-...-elif-...-else\" data-toc-modified-id=\"If-...-elif-...-else-2.3\"><span class=\"toc-item-num\">2.3&nbsp;&nbsp;</span>If ... elif ... else</a></span></li><li><span><a href=\"#If-anidados\" data-toc-modified-id=\"If-anidados-2.4\"><span class=\"toc-item-num\">2.4&nbsp;&nbsp;</span>If anidados</a></span></li><li><span><a href=\"#Condiciones-múltiples\" data-toc-modified-id=\"Condiciones-múltiples-2.5\"><span class=\"toc-item-num\">2.5&nbsp;&nbsp;</span>Condiciones múltiples</a></span></li></ul></li><li><span><a href=\"#Estructuras-de-iteración\" data-toc-modified-id=\"Estructuras-de-iteración-3\"><span class=\"toc-item-num\">3&nbsp;&nbsp;</span>Estructuras de iteración</a></span><ul class=\"toc-item\"><li><span><a href=\"#while\" data-toc-modified-id=\"while-3.1\"><span class=\"toc-item-num\">3.1&nbsp;&nbsp;</span>while</a></span></li></ul></li></ul></div>"
   ]
  },
  {
   "cell_type": "markdown",
   "metadata": {},
   "source": [
    "# ¿Qué es el control de flujo en Python?\n",
    "\n",
    "El término \"control de flujo\" describe cómo se determina la secuencia de ejecución de las instrucciones en un código. Este concepto es fundamental para dirigir la operación del código en función de decisiones lógicas, repetición de procesos y manejo de funciones y errores. El control de flujo es implementado usando diversas estructuras que permiten a los programadores tener un gran control sobre la lógica de sus programas.\n",
    "\n",
    "**Los principales tipos de estructuras de control de flujo que tenemos en Python son:**\n",
    "\n",
    "- **Estructuras de selección**: Las estructuras de selección, también conocidas como estructuras condicionales, nos permiten tomar decisiones ejecutando diferentes secciones de código dependiendo de una o más condiciones. La más básica y ampliamente usada es la declaración `if`, que bifurca el flujo del código en caminos alternativos según se cumplan o no ciertas condiciones. Su sintaxis básica es:\n",
    "\n",
    "    ```python\n",
    "    if condicion:\n",
    "        # código que se ejecuta si la condición es verdadera\n",
    "    else:\n",
    "        # código que se ejecuta si la condición es falsa\n",
    "    ```\n",
    "\n",
    "    También es común utilizar `elif`  o `else` para manejar múltiples condiciones mutuamente excluyentes dentro de un solo bloque `if`.\n",
    "\n",
    "- **Estructuras de iteración**: Estas estructuras nos permiten ejecutar un bloque de código repetidamente. Python proporciona dos bucles principales:\n",
    "\n",
    "    - `for`: Ideal para iterar sobre una secuencia (como una lista o una cadena de texto) o sobre un rango de números. Su sintaxis básica es: \n",
    "    \n",
    "        ```python\n",
    "        for elemento in secuencia:\n",
    "            # acción con elemento\n",
    "        ```\n",
    "\n",
    "    - `while`: Ejecuta repetidamente un bloque de código mientras se cumpla una condición. Su sintaxis básica es:\n",
    "    \n",
    "        ```python\n",
    "        while condicion:\n",
    "            # código que se ejecuta repetidamente\n",
    "        ```\n",
    "\n",
    "- **Estructuras de control de funciones**: Python utiliza estructuras adicionales para controlar el flujo de ejecución en funciones, incluyendo el manejo de excepciones y la interrupción o continuación de bucles. Este tipo de estructuras no las veremos en el prework, y las aprenderemos en los primeros días de clase del bootcamp,\n",
    "\n",
    "    - `try`/`except`: Captura y maneja errores o excepciones que ocurren dentro de un bloque de código.\n",
    "\n",
    "        ```python\n",
    "        try:\n",
    "            # intenta ejecutar código que puede fallar\n",
    "        except ErrorComoOcurre:\n",
    "            # maneja la excepción\n",
    "        ```\n",
    "\n",
    "    - `break`: Termina un bucle antes de que se haya completado su ciclo normal.\n",
    "    \n",
    "    - `continue`: Omite el resto del cuerpo del bucle para una iteración particular y continua con la siguiente.\n",
    "\n",
    "    - `pass`: Actúa como un relleno o marcador temporal y no tiene ningún efecto en el flujo del programa.\n",
    "\n",
    "\n",
    "Pensemos un ejemplo cotidiano para entender mejor como funcionan todos estos conceptos: medir la temperatura del aire en el exterior. Desde una perspectiva de programación, este proceso podría automatizarse y controlarse utilizando las estructuras de flujo mencionadas:\n",
    "\n",
    "1. **Inicializar dispositivo**: Configura el sensor de temperatura.\n",
    "\n",
    "2. **Leer datos**: Utiliza un bucle `while` para tomar mediciones continuas.\n",
    "\n",
    "3. **Evaluar condiciones**: Si la temperatura es extremadamente alta o baja, utiliza una declaración `if` para decidir si se deben tomar acciones específicas.\n",
    "\n",
    "4. **Registrar resultados**: Guarda los datos en un archivo o base de datos.\n",
    "\n",
    "5. **Manejo de errores**: Utiliza `try` y `except` para manejar posibles errores en la lectura de los sensores o en la escritura de los datos.\n",
    "\n"
   ]
  },
  {
   "cell_type": "markdown",
   "metadata": {
    "id": "FikwiIv_Eb-L"
   },
   "source": [
    "# Estructuras de selección: \n",
    "\n",
    "## La función `if`\n",
    "\n",
    "La instrucción `if` es un elemento esencial que nos va a permitir el manejo condicional de la ejecución de bloques de código. Constituye la base de la toma de decisiones dentro del entorno de programación, facilitando la implementación de lógica condicional. Su sintaxis básica es:\n",
    "\n",
    "```python\n",
    "if condición:\n",
    "    # Sección de código que se ejecuta si la condición es verdadera\n",
    "```\n",
    "\n",
    "- **Evaluación de la Condición**: Python evalúa la expresión especificada en la cláusula `if`. Si el resultado es True, el bloque de código indentado inmediatamente después de la declaración se ejecuta.\n",
    "\n",
    "- **Flujo de Control**: Si la condición se evalúa como False, Python omite el bloque de código asociado y continúa la ejecución en la siguiente línea de código que comparte el mismo nivel de indentación que la instrucción if.\n",
    "\n",
    "\n",
    "\n",
    "Es importante destacar que la condición dentro de una instrucción `if` puede incluir operaciones lógicas complejas, combinando múltiples condiciones con operadores como `and`, `or`, y `not` para formular condiciones más sofisticadas.\n",
    "\n",
    "Además veremos a lo largo de esta lección que podremos anidar condiciones, es decir, una condición dentro de otra. \n"
   ]
  },
  {
   "cell_type": "code",
   "execution_count": 1,
   "metadata": {},
   "outputs": [
    {
     "name": "stdout",
     "output_type": "stream",
     "text": [
      "Los litros de leche que tenemos son: 6\n"
     ]
    }
   ],
   "source": [
    "# definimos una variable usando la función input donde os preguntaremos cuántos litros de leche tenemos. Sobre esta variable estableceremos unas condiciones en nuestro if\n",
    "## 📌 Nota: si ejecutais este celda, poned un número que sea igual a 6. \n",
    "\n",
    "litros_leche = int(input(\"¿Cuántos litros de leche tienes en la nevera?\"))\n",
    "print(\"Los litros de leche que tenemos son:\", litros_leche)"
   ]
  },
  {
   "cell_type": "code",
   "execution_count": 3,
   "metadata": {
    "id": "XnqC3l73Eb-M",
    "outputId": "fccb6fe8-6b40-4681-cba4-51aebe9daeae"
   },
   "outputs": [
    {
     "name": "stdout",
     "output_type": "stream",
     "text": [
      "Tenemos mucha leche, ¿no te apetece beber leche?\n"
     ]
    }
   ],
   "source": [
    "# vamos a empezar a hacer algunas operaciones básicas, empezaremos por chequear si tenemos más de 6 listros de leche en la nevera\n",
    "if litros_leche > 4: # si los litros de leche que tenemos en la nevera es mayor que 4\n",
    "    \n",
    "    # en caso de que se cumpla la condición queremos sacar un mensaje, para lo que usaremos un print\n",
    "    print('Tenemos mucha leche, ¿no te apetece beber leche?')"
   ]
  },
  {
   "cell_type": "code",
   "execution_count": 4,
   "metadata": {},
   "outputs": [],
   "source": [
    "# Pero... ¿Qué pasaría si no se cumple la condición que especificamos en el `if`? Es decir, nuestra condición a chequear en este caso sería litros_leche > 10. \n",
    "# vamos a chequear si tenemos más de 10 litros de leche en la nevera. Es decir, en este caso esa condición es Falsa\n",
    "if litros_leche > 10: \n",
    "    print('Tenemos muchísima leche, ¿no te apetece beber?')"
   ]
  },
  {
   "cell_type": "markdown",
   "metadata": {},
   "source": [
    "Ups, parece que no ha ocurrido nada. Este resultado se debe a que en nuestro código solo hemos especificado lo que debería ocurrir si la condición se cumple, sin incluir instrucciones para el caso contrario. No te preocupes, en breve avanzaremos en esta lección y aprenderemos cómo manejar estas situaciones.\n",
    "\n",
    "Ahora vamos a modificar el ejemplo para añadir más dinamismo. Imaginemos que queremos que, si hay una gran cantidad de leche en la nevera, el sistema nos notifique no una, sino dos veces. Sin embargo, si la cantidad no es considerable, preferimos no recibir ninguna alerta. Ejecuta las celdas de código siguientes. ¿El resultado es el que esperabas?"
   ]
  },
  {
   "cell_type": "code",
   "execution_count": 6,
   "metadata": {
    "id": "Uagi_8j_Eb-N",
    "outputId": "bacf3625-e724-4a95-a739-b40aaa2b205f"
   },
   "outputs": [
    {
     "name": "stdout",
     "output_type": "stream",
     "text": [
      "Los litros de leche que tenemos son: 6\n",
      "------------------\n",
      "Tenemos mucha leche, ¿no te apetece comerte una?\n",
      "Repito: Tenemos mucha leche, ¿no te apetece beber?\n"
     ]
    }
   ],
   "source": [
    "print(\"Los litros de leche que tenemos son:\", litros_leche)\n",
    "print(\"------------------\")\n",
    "\n",
    "# si los litros de leche en la nevera es mayor que 4 queremos que: \n",
    "if litros_leche > 4:\n",
    "\n",
    "    # nos printees primero que hay mucha leche\n",
    "    print('Tenemos mucha leche, ¿no te apetece comerte una?')\n",
    "\n",
    "    # nos printees después un mensaje repitiendo que tenemos mucha leche\n",
    "    print('Repito: Tenemos mucha leche, ¿no te apetece beber?')"
   ]
  },
  {
   "cell_type": "markdown",
   "metadata": {},
   "source": [
    "No estamos limitados a usar solo impresiones (`prints`) dentro de las condiciones `if`. También podemos ejecutar otras operaciones más complejas. Por ejemplo, supongamos que estamos organizando nuestra lista de compras. Podríamos establecer un criterio que diga que si tenemos dos litros de leche o menos en la nevera, deberíamos agregar más a nuestra lista de compras.\n",
    "\n",
    "**¿Cómo implementaríamos esto en código? 🤔**\n",
    "\n",
    "Para lograr esto, aplicaríamos métodos y técnicas que hemos aprendido en lecciones anteriores:"
   ]
  },
  {
   "cell_type": "code",
   "execution_count": 7,
   "metadata": {},
   "outputs": [
    {
     "name": "stdout",
     "output_type": "stream",
     "text": [
      "La lista de la compra contiene: []\n",
      "------------------\n",
      "Los litros de leche que tenemos en la nevera es: 6\n",
      "------------------\n",
      "Los litros de leche que tenemos en la nevera es: 1\n",
      "------------------\n",
      "La lista de la compra contiene: ['leche']\n"
     ]
    }
   ],
   "source": [
    "# lo primero que hacemos es crearnos una lista, que será nuestra lista de la compra\n",
    "\n",
    "lista_compra = []\n",
    "print(\"La lista de la compra contiene:\", lista_compra)\n",
    "print(\"------------------\")\n",
    "\n",
    "print(\"Los litros de leche que tenemos en la nevera es:\", litros_leche)\n",
    "print(\"------------------\")\n",
    "\n",
    "# imaginemos que nos hemos bebido 5 litros. Tendremos que restar 5 a nuestra variable numero_peras\n",
    "\n",
    "litros_leche -= 5 # esto es lo mismo que poner numero_peras = numero_peras - 5\n",
    "print(\"Los litros de leche que tenemos en la nevera es:\", litros_leche)\n",
    "print(\"------------------\")\n",
    "\n",
    "# por último definimos nuestro if. Lo que chequearemos es si tenemos menos de dos litros de leche\n",
    "\n",
    "if litros_leche < 2: \n",
    "    # si esta condición se cumple queremos añadir leche a nuestra lista. Para eso podremos usar el método 'append()' que aprendimos en la lección de listas! \n",
    "    lista_compra.append(\"leche\")\n",
    "    \n",
    "print(\"La lista de la compra contiene:\", lista_compra )"
   ]
  },
  {
   "cell_type": "code",
   "execution_count": 8,
   "metadata": {},
   "outputs": [
    {
     "name": "stdout",
     "output_type": "stream",
     "text": [
      "Los litros de leche que tenemos en la nevera es: 1\n",
      "------------------\n",
      "Hemos comprado: 1 litros de leche\n",
      "------------------\n",
      "Los litros de leche que tenemos en la nevera es: 11\n",
      "------------------\n"
     ]
    }
   ],
   "source": [
    "# Otras operaciones que podremos hacer dentro de un `if` son sumas, restas, multiplicaciones, etc.\n",
    "# Veamos un ejemplo. Imaginemos ahora que queremos actualizar los litros de leche si he ido a la compra. \n",
    "\n",
    "print(\"Los litros de leche que tenemos en la nevera es:\", litros_leche)\n",
    "print(\"------------------\")\n",
    "\n",
    "# imaginemos que fuimos a la compra y hemos vuelto a casa y queremos actualizar nuestros litros de leche. Primero definimos los litros de leche que hemos comprado\n",
    "litros_comprados = 10\n",
    "print(\"Hemos comprado:\", litros_leche, \"litros de leche\")\n",
    "print(\"------------------\")\n",
    "\n",
    "# ahora tendremos que chequear si en nuestra lista de la compra teníamos leche. Para eso podremos usar el método \"in\" que aprendimos en lecciones anteriores\n",
    "# chequeamos si \"leche\" está en nuestra lista\n",
    "if \"leche\" in lista_compra: \n",
    "\n",
    "    # si está en nuestra lista, lo que haremos será sumar al número de peras que tenemos las peras compradas. \n",
    "    litros_leche += litros_comprados\n",
    "\n",
    "print(\"Los litros de leche que tenemos en la nevera es:\", litros_leche)\n",
    "print(\"------------------\")\n"
   ]
  },
  {
   "cell_type": "markdown",
   "metadata": {
    "id": "uJCaOC6_Eb-P"
   },
   "source": [
    "## If ... else ...\n",
    "\n",
    "Hasta ahora, hemos explorado lo que ocurre cuando una condición específica dentro de un `if` se cumple. Sin embargo, aún no hemos analizado qué sucede cuando la condición no se cumple. En Python, la estructura condicional `if`...`else` nos permite manejar ambos escenarios: ejecutando un bloque de código si se cumple una condición y otro bloque diferente si no se cumple.\n",
    "\n",
    "La sintaxis básica de `if`...`else` en Python se muestra a continuación:\n",
    "\n",
    "```python\n",
    "if condicion_1:\n",
    "    # código a ejecutar si se cumple la condición 1\n",
    "else:\n",
    "    # código a ejecutar si la condición 1 no se cumple\n",
    "```\n",
    "\n",
    "Continuando con el ejemplo de la lista de la compra, ahora queremos determinar si tenemos suficientes litros de leche o si necesitamos que el sistema nos avise para añadir más a la lista. Aquí un ejemplo práctico:\n"
   ]
  },
  {
   "cell_type": "code",
   "execution_count": 9,
   "metadata": {},
   "outputs": [
    {
     "name": "stdout",
     "output_type": "stream",
     "text": [
      "Los litros de leche que tenemos en la nevera es: 11\n",
      "------------------\n",
      "Tenemos mucha leche, deberíamos beber...\n"
     ]
    }
   ],
   "source": [
    "# lo primero que haremos será recordar cuántas litros de leche tenemos en la nevera\n",
    "\n",
    "print(\"Los litros de leche que tenemos en la nevera es:\", litros_leche)\n",
    "print(\"------------------\")\n",
    "\n",
    "# primero chequearemos si tenemos menos de 2 litros. Recordamos era nuestra condión para meter la leche en nuestra lista de la compra\n",
    "if litros_leche < 2:  \n",
    "    print('Tenemos poca leche, hay que meter leche en la lista de la compra')\n",
    "    lista_compra.append(\"leche\")\n",
    "\n",
    "# si esta condición no se cumple, usaremos el else para especificar que queremos que pase. En este caso, que nos muestre un mensaje de que tenemos mucha leche. Debemos beber leche! \n",
    "else: \n",
    "    print('Tenemos mucha leche, deberíamos beber...')"
   ]
  },
  {
   "cell_type": "markdown",
   "metadata": {},
   "source": [
    "**Análisis del comportamiento de la estructura if...else que acabamos de escribir**\n",
    "\n",
    "- Python comienza evaluando la condición especificada en el `if`. Esta evaluación determina si la condición es verdadera o falsa.\n",
    "\n",
    "- Si la condición es falsa, como es el caso en este ejemplo, Python no ejecuta el bloque de código dentro del `if`.\n",
    "\n",
    "- En lugar de detenerse, Python continúa a la siguiente parte del código. Aquí entra en juego el `else`, que especifica qué debe hacerse si la condición del `if` no se cumple.\n",
    "\n",
    "- Dado que la condición del `if` es falsa, Python ejecutará el bloque de código dentro del `else`. En este escenario, el código resultante nos indica que debemos comer peras.\n",
    "\n",
    "📌 **Nota Importante**:\n",
    "\n",
    "- Observa que la indentación del `else` es la misma que la del `if`. Esta uniformidad de indentación es crucial para definir qué bloques de código están asociados con cada parte de la estructura condicional.\n",
    "\n",
    "- No es necesario especificar una condición en el `else`. Esta cláusula automáticamente abarca todas las situaciones que no cumplen con la condición del `if`.\n",
    "\n",
    "**¿Qué pasaría si la condición del `if` se cumple?**"
   ]
  },
  {
   "cell_type": "code",
   "execution_count": 11,
   "metadata": {},
   "outputs": [
    {
     "name": "stdout",
     "output_type": "stream",
     "text": [
      "La leche que tenemos en la nevera es: 1\n",
      "------------------\n",
      "Tenemos poca leche, hay que meterla en la lista de la compra\n",
      "La lista de la compra contiene: ['leche', 'leche', 'leche']\n",
      "------------------\n"
     ]
    }
   ],
   "source": [
    "# creemos otra variable de los litros de leche\n",
    "litros_leche2 = 1\n",
    "print(\"La leche que tenemos en la nevera es:\", litros_leche2)\n",
    "print(\"------------------\")\n",
    "\n",
    "# primero chequearemos si tenemos menos de 2 litros. Recordamos era nuestra condión para meter la leche en nuestra lista de la compra\n",
    "if litros_leche2 < 2:  \n",
    "    print('Tenemos poca leche, hay que meterla en la lista de la compra')\n",
    "    lista_compra.append(\"leche\")\n",
    "\n",
    "# si esta condición no se cumple, usaremos el else para especificar que queremos que pase. En este caso, que nos muestre un mensaje de que tenemos mucha leche. Debemos beber leche! \n",
    "else: \n",
    "    print('Tenemos mucha leche, deberíamos beber...')\n",
    "\n",
    "print(\"La lista de la compra contiene:\", lista_compra)\n",
    "print(\"------------------\")\n",
    "\n",
    "# Fijaos que tenemos tres veces leche porque ya la añadimos en el apartado anterior cuando estabamos aprendiendo la condición `if`. "
   ]
  },
  {
   "cell_type": "markdown",
   "metadata": {
    "id": "gdM3IYIBEb-Q"
   },
   "source": [
    "## If ... elif ... else\n",
    "\n",
    "A menudo, es necesario verificar más de una condición. La condición en la línea `if` devuelve `True` o `False`, y el `else` abarca todas las situaciones no cubiertas por el `if`. La sentencia `elif`  permite realizar comprobaciones adicionales después de una sentencia `if` inicial. A diferencia del `else`, el `elif` incluye otra expresión/condición a verificar, similar a la inicial con `if`.\n",
    "\n",
    "Ya hemos visto el `if ... else`, que es una estructura condicional para ejecutar un bloque de código si se cumple una condición y otro bloque si no se cumple. La sintaxis es:\n",
    "\n",
    "```python\n",
    "if condicion:\n",
    "    # código a ejecutar si se cumple la condición\n",
    "else:\n",
    "    # código a ejecutar si no se cumple la condición\n",
    "```\n",
    "\n",
    "En este ejemplo, \"condicion\" es una expresión booleana que se evalúa como verdadera o falsa. Si \"condicion\" es verdadera, se ejecutará el código dentro del primer bloque `if`. Si es falsa, se ejecutará el código dentro del bloque `else`.\n",
    "\n",
    "También se puede utilizar `if`, `elif`, y `else` para evaluar múltiples condiciones. La sintaxis es:\n",
    "\n",
    "```python\n",
    "if condicion_1:\n",
    "    # código a ejecutar si se cumple la condición 1\n",
    "elif condicion_2:\n",
    "    # código a ejecutar si no se cumple la condición 1 pero se cumple la condición 2\n",
    "else:\n",
    "    # código a ejecutar si no se cumple ninguna de las condiciones anteriores\n",
    "```\n",
    "\n",
    "Esta estructura permite manejar varias condiciones de manera clara y ordenada."
   ]
  },
  {
   "cell_type": "markdown",
   "metadata": {},
   "source": [
    "Imaginemos ahora que queremos incluir varias condiciones, estas serían: \n",
    "\n",
    "- Si tenemos más de 50 litros de leche, devolveremos un mensaje de que tenemos demasiada leche y deberíamos donarla. \n",
    "\n",
    "- Si tenemos más de 4 litros de leche, devolveremos un mensaje diciendo que si no te apetece beber leche\n",
    "\n",
    "- Si tenemos más de 0 litros de leche y menos de 4, las apuntaremos en la lista de compra\n",
    "\n",
    "- Si no se cumple ninguna de las condiciones, devolveremos un mensaje de que nos hemos quedado sin leche. "
   ]
  },
  {
   "cell_type": "code",
   "execution_count": 12,
   "metadata": {},
   "outputs": [
    {
     "name": "stdout",
     "output_type": "stream",
     "text": [
      "Los litros de leche que tenemos en la nevera son: 11\n",
      "------------------\n",
      "Tenemos muchos litros de leche, ¿no te apetece beber?\n"
     ]
    }
   ],
   "source": [
    "# recordemos cuántos litros de leche teníamos\n",
    "print(\"Los litros de leche que tenemos en la nevera son:\", litros_leche)\n",
    "print(\"------------------\")\n",
    "\n",
    "# indicamos nuestra primera condición. Es decir, tener mas de 50 litros de leche\n",
    "if litros_leche > 50: \n",
    "    print('Tenemos demasiados litros de leche, dónalos al banco de alimentos.')\n",
    "\n",
    "# en el elif pondremos las nuevas condiciones que queremos chequear. En este caso si hay más de 4 litros de leche. \n",
    "elif litros_leche > 4: \n",
    "    print('Tenemos muchos litros de leche, ¿no te apetece beber?')\n",
    "\n",
    "# podemos añadir todas las condiciones que queramos, es decir, podemos añadir todos los elif que queramos. En este caso, si es mayor que 0\n",
    "elif litros_leche > 0: \n",
    "    print(\"Añadiendo elemento a la lista de la compra\")\n",
    "    lista_compra.append(\"leche\")\n",
    "\n",
    "# por último añadimos el else especificamos lo que queremos que ocurra si no se cumplen ninguna de las condiciones anteriores. \n",
    "else:\n",
    "    print('No tenemos leche.')"
   ]
  },
  {
   "cell_type": "markdown",
   "metadata": {},
   "source": [
    "Fíjate que el orden de las condiciones es crucial, ya que el código evaluará cada condición secuencialmente y **se detendrá en la primera que sea verdadera**, sin ejecutar el resto del código.\n",
    "\n",
    "Imaginemos que colocamos primero la condición \"mayor que 0\" antes que \"mayor que 4\". ¿Qué crees que pasará?"
   ]
  },
  {
   "cell_type": "code",
   "execution_count": 13,
   "metadata": {},
   "outputs": [
    {
     "name": "stdout",
     "output_type": "stream",
     "text": [
      "Los litros de leche  que tenemos en la nevera son: 11\n",
      "------------------\n",
      "Añadiendo elemento a la lista de la compra\n"
     ]
    }
   ],
   "source": [
    "# recordemos cuántos litros de leche tenemos\n",
    "print(\"Los litros de leche  que tenemos en la nevera son:\", litros_leche)\n",
    "print(\"------------------\")\n",
    "\n",
    "# indicamos nuestra primera condición. Es decir, tener mas de 50 litros\n",
    "if litros_leche > 50: \n",
    "    print('Tenemos demasiados litros de leche, dónalas al banco de alimentos.')\n",
    "\n",
    "elif litros_leche > 0: \n",
    "    print(\"Añadiendo elemento a la lista de la compra\")\n",
    "    lista_compra.append(\"leche\")\n",
    "\n",
    "elif litros_leche > 4: \n",
    "    print('Tenemos muchos litros de leche, ¿no te apetece beber?')\n",
    "\n",
    "else:\n",
    "    print('No tenemos leche.')"
   ]
  },
  {
   "cell_type": "markdown",
   "metadata": {},
   "source": [
    "<div style=\"background-color: #F74646; padding: 10px; border-left: 6px solid #000080; color: black; border-radius: 10px;\">\n",
    "\n",
    "**¿Qué ha pasado aquí?**\n",
    "\n",
    "Python ha comenzado a leer nuestro código:\n",
    "\n",
    "- ¿Es `litros_leche` mayor que 50? No, por lo tanto, no se ejecuta la línea dentro del `if` y sigue leyendo el código.\n",
    "\n",
    "- ¿Es `litros_leche` mayor que 0? Sí, por lo tanto, se ejecuta la línea de código dentro del primer `elif`. Esto añade \"leche\" a la lista de la compra y devuelve el mensaje correspondiente.\n",
    "\n",
    "- Como esta condición se ha cumplido, el programa se detiene y no continúa leyendo el código. Por eso, no se ejecuta el `print` del siguiente `elif`, incluso si su condición se cumple.\n",
    "\n",
    "</div>\n"
   ]
  },
  {
   "cell_type": "markdown",
   "metadata": {},
   "source": [
    "Lo mismo pasaría si el número de litros de leche fuera 60. Veamoslo con un ejemplo: \n"
   ]
  },
  {
   "cell_type": "code",
   "execution_count": 14,
   "metadata": {},
   "outputs": [
    {
     "name": "stdout",
     "output_type": "stream",
     "text": [
      "Los litros de leche que tenemos en la nevera son: 60\n",
      "------------------\n",
      "Añadiendo elemento a la lista de la compra\n"
     ]
    }
   ],
   "source": [
    "# definimos una nueva variable donde los litros de leche sean 60\n",
    "litros_leche3 = 60\n",
    "print(\"Los litros de leche que tenemos en la nevera son:\", litros_leche3)\n",
    "print(\"------------------\")\n",
    "\n",
    "# si ejecutamos el código que creamos al inicio del apartado \n",
    "if litros_leche3 > 0: \n",
    "    print(\"Añadiendo elemento a la lista de la compra\")\n",
    "    lista_compra.append(\"leche\")\n",
    "\n",
    "elif litros_leche3 > 50: \n",
    "    print('Tenemos demasiados litros de leche, dónalos al banco de alimentos.')\n",
    "\n",
    "elif litros_leche3 > 4: \n",
    "    print('Tenemos muchos litros de leche, ¿no te apetece beber?')\n",
    "\n",
    "\n",
    "else:\n",
    "    print('No tenemos leche.')"
   ]
  },
  {
   "cell_type": "markdown",
   "metadata": {},
   "source": [
    "<div style=\"background-color: #F74646; padding: 10px; border-left: 6px solid #000080; color: black; border-radius: 10px;\">\n",
    "\n",
    "Aunque todas las condiciones del `if` y los `elif` sean ciertas, el código se detendrá en el momento en que Python encuentre una condición verdadera, que en este caso es la primera.\n",
    "\n",
    "Algunos puntos importantes al usar condicionales `if` ... `elif` ... `else`:\n",
    "\n",
    "- Puede haber múltiples `elif`, pero solo un `if` y un `else`.\n",
    "\n",
    "- El programa se detendrá al encontrar una condición que sea `True`, ignorando el resto del código que sigue.\n",
    "\n",
    "\n",
    "</div>"
   ]
  },
  {
   "cell_type": "markdown",
   "metadata": {},
   "source": [
    "## If anidados\n",
    "\n",
    "Los `if` anidados son simplemente una sentencia `if` dentro de otra. Pueden anidarse tantas veces como sea necesario, lo que permite construir códigos que responden a múltiples condiciones. Sin embargo, el uso excesivo de `if` anidados puede dificultar la lectura y el mantenimiento del código. Por lo tanto, es recomendable utilizarlos con moderación y optar por técnicas de programación más avanzadas, como estructuras de datos y algoritmos.\n",
    "\n",
    "Vamos a dividir nuestro código en varios bloques:\n",
    "\n",
    "1. Chequearemos si tenemos más de 4 litros de leche. Si es así, definiremos nuevas condiciones:\n",
    "\n",
    "    1.1 La primera condición a verificar será si tenemos más de 50 litros de leche. En ese caso, sugeriremos donarlos.\n",
    "\n",
    "    1.2 Si no se cumple la condición anterior, ofreceremos beber leche.\n",
    "\n",
    "2. Estableceremos el resto de las posibilidades, es decir, si tenemos 4 o menos litros de leche:\n",
    "\n",
    "    2.1 Si tenemos menos de 4 litros de leche pero más de 0, añadiremos leche a nuestra lista de la compra.\n",
    "\n",
    "    2.2 Si no se cumple la condición anterior, devolveremos un mensaje indicando que estamos sin leche."
   ]
  },
  {
   "cell_type": "code",
   "execution_count": 15,
   "metadata": {
    "cellView": "form",
    "id": "Yc3jhvIJEb-R"
   },
   "outputs": [
    {
     "name": "stdout",
     "output_type": "stream",
     "text": [
      "Los litros de leche que tenemos en la nevera son: 11\n",
      "------------------\n",
      "Tenemos muchos litros de leche, ¿no te apetece beber?\n"
     ]
    }
   ],
   "source": [
    "print(\"Los litros de leche que tenemos en la nevera son:\", litros_leche)\n",
    "print(\"------------------\")\n",
    "\n",
    "# Condición 1️⃣. Es el número de litros de leche es mayor que 4?\n",
    "if litros_leche > 4: \n",
    "\n",
    "    # condición  1️⃣.1️⃣ en caso de que sea si, ¿Es el número de litros de leche mayor que 50? \n",
    "    if litros_leche > 50 :\n",
    "        print('Tenemos demasiados litros de leche, dónalos al banco de alimentos.')\n",
    "        \n",
    "    # si se cumple la condición 1️⃣ pero no la 1️⃣.1️⃣ se ejecutará esta línea de código\n",
    "    else:\n",
    "        print('Tenemos muchos litros de leche, ¿no te apetece beber?')\n",
    "\n",
    "# si no se cumple la condición 1️⃣, pasaremos a esta parte del código, es decir, nuestros litros de leche son menor que 4\n",
    "else: \n",
    "    # 2️⃣.1️⃣ Si los litros de leche son menor que 4, pero mayor que 0 se añadirá peras a la lista de la compra\n",
    "    if litros_leche > 0 :\n",
    "        lista_compra.append(\"leche\")\n",
    "        print(\"añadiendo leche a la lista de la compra\")\n",
    "\n",
    "    # 2️⃣.2️⃣ en caso de que no cumplan ninguna de las condiciones se ejecutará esta línea de código\n",
    "    else:\n",
    "        print('No tenemos leche.')"
   ]
  },
  {
   "cell_type": "markdown",
   "metadata": {},
   "source": [
    "<div style=\"background-color: #FFBB33; padding: 10px; border-left: 6px solid #000080; color: black; border-radius: 10px;\">\n",
    "\n",
    "En este caso, teníamos 11 litros de leche, por lo tanto, se cumple la condición 1️⃣ y la condición 1️⃣.2️⃣. Como resultado, el código nos devuelve el mensaje sugiriendo beber leche. Esto puede parecer un poco confuso al principio, pero se puede entender como un camino con varias bifurcaciones. A medida que avanzamos, cada bifurcación nos lleva por una ruta diferente según las condiciones que se van cumpliendo.\n",
    "</div>"
   ]
  },
  {
   "cell_type": "code",
   "execution_count": 16,
   "metadata": {},
   "outputs": [
    {
     "name": "stdout",
     "output_type": "stream",
     "text": [
      "Los litros de leche que tenemos en la nevera son: 60\n",
      "------------------\n",
      "Tenemos demasiados litros de leche, dónalas al banco de alimentos.\n"
     ]
    }
   ],
   "source": [
    "# creemonos otra variable con un número diferente de litros de leche\n",
    "litros_leche4 = 60\n",
    "\n",
    "print(\"Los litros de leche que tenemos en la nevera son:\", litros_leche4)\n",
    "print(\"------------------\")\n",
    "\n",
    "# 1️⃣ primera condición. Son los litros de leche mayor que que 4?\n",
    "if litros_leche4 > 4: \n",
    "\n",
    "    # 1️⃣.1️⃣ en caso de que sea si, ¿Son los litros de leche mayor que 50? \n",
    "    if litros_leche4 > 50 :\n",
    "        print('Tenemos demasiados litros de leche, dónalas al banco de alimentos.')\n",
    "        \n",
    "    # si se cumple la condición 1️⃣ pero no la 1️⃣.1️⃣ se ejecutará esta línea de código\n",
    "    else:\n",
    "        print('Tenemos muchos litros de leche, ¿no te apetece beber?')\n",
    "\n",
    "# si no se cumple la condición 1️⃣, pasaremos a esta parte del código, es decir, nuestro litros de leche es menor que 4\n",
    "else: \n",
    "    # 2️⃣.1️⃣ Si los litros de leche es menor que 4, pero mayor que 0 se añadirá peras a la lista de la compra\n",
    "    if litros_leche4 > 0 :\n",
    "        lista_compra.append(\"leche\")\n",
    "        print(\"añadiendo leche a la lista de la compra\")\n",
    "\n",
    "    # 2️⃣.2️⃣ en caso de que no cumplan ninguna de las condiciones se ejecutará esta línea de código\n",
    "    else:\n",
    "        print('No tenemos leche.')"
   ]
  },
  {
   "cell_type": "markdown",
   "metadata": {},
   "source": [
    "En este caso se cumplen las condiciones 1️⃣ y  1️⃣.1️⃣, por lo tanto nos devuelve el mensaje de donar. "
   ]
  },
  {
   "cell_type": "markdown",
   "metadata": {
    "id": "Ly5JY6hHpjbs"
   },
   "source": [
    "## Condiciones múltiples\n",
    "\n",
    "Como ya hemos visto, las estructuras de control `if`, `elif` y `else` nos permiten tomar decisiones en nuestro código basadas en condiciones booleanas. A veces, necesitamos evaluar múltiples condiciones dentro de una misma sentencia para manejar casos más complejos. Aquí es donde los operadores lógicos `and` y `or` resultan particularmente útiles. Estos operadores nos permiten combinar múltiples condiciones en una sola expresión, lo que facilita la escritura de código más legible y eficiente:\n",
    "\n",
    "- **Operador `and`**: Este operador evalúa a `True` solo si todas las condiciones son verdaderas. Si alguna de las condiciones es falsa, la expresión completa se evalúa como `False`. Es decir, se tienen que cumplir todas las condiciones para que se ejecute la línea de código que está dentro del condicional.\n",
    "\n",
    "- **Operador `or`**: Este operador evalúa a `True` si al menos una de las condiciones es verdadera. Si todas las condiciones son falsas, la expresión completa se evalúa como `False`. Es decir, se tiene que cumplir al menos una condición para que se ejecute el código que tenemos dentro del condicional.\n",
    "\n",
    "**Ventajas de Usar `and` y `or`**\n",
    "\n",
    "- **Legibilidad**: Al combinar condiciones con `and` y `or`, el código se vuelve más conciso y fácil de entender. En lugar de anidar múltiples `if` (como vimos en el ejemplo anterior), podemos expresar todas las condiciones en una sola línea.\n",
    "\n",
    "- **Eficiencia**: Utilizar operadores lógicos puede hacer que el código sea más eficiente. Python evalúa las condiciones de izquierda a derecha y utiliza un corto circuito:\n",
    "\n",
    "   - Con `and`, si una condición es falsa, las restantes no se evalúan porque el resultado ya es `False`.\n",
    "\n",
    "   - Con `or`, si una condición es verdadera, las restantes no se evalúan porque el resultado ya es `True`."
   ]
  },
  {
   "cell_type": "code",
   "execution_count": 20,
   "metadata": {},
   "outputs": [
    {
     "name": "stdout",
     "output_type": "stream",
     "text": [
      "Los litros de leche que tenemos en la nevera es: 11\n",
      "-------------------\n",
      "Tenemos demasiados litros de leche, dónalos al banco de alimentos.\n"
     ]
    }
   ],
   "source": [
    "print(\"Los litros de leche que tenemos en la nevera es:\", litros_leche)\n",
    "print(\"-------------------\")\n",
    "\n",
    "if litros_leche > 4 and litros_leche < 50:  \n",
    "    print('Tenemos demasiados litros de leche, dónalos al banco de alimentos.')\n",
    "\n",
    "elif 4 < litros_leche and litros_leche > 0: \n",
    "    lista_compra.append(\"leche\")\n",
    "    print('Añadiendo elemento a la lista de la compra')"
   ]
  },
  {
   "cell_type": "markdown",
   "metadata": {
    "id": "giLt4L_B6lME"
   },
   "source": [
    "Mucho más corto, ¿verdad?. Aquí hay algunas conclusiones clave de este ejemplo:\n",
    "\n",
    "- Podemos definir rangos de valores para una variable en una sola línea utilizando los operadores `<`, `<=`, `>=` y `>`.\n",
    "  \n",
    "- Los operadores `or` y `and` nos permiten establecer múltiples condiciones en una sola expresión.\n",
    "  \n",
    "- El uso del `else` es opcional.\n",
    "\n",
    "Ahora, introduciremos una nueva variable booleana llamada `nevera_en_marcha`. En base a esta variable, definiremos las siguientes condiciones:\n",
    "\n",
    "1. Si la nevera está en marcha:\n",
    "\n",
    "    -  Si los litros de leche están entre 0 y 4, las agregaremos a nuestra lista de compras.\n",
    "\n",
    "    -  Si los litros de leche están entre 4 y 50, mostraremos un mensaje sugiriendo beber leche.\n",
    "    \n",
    "2. Si la nevera está apagada, mostraremos un mensaje indicando que la nevera está rota."
   ]
  },
  {
   "cell_type": "code",
   "execution_count": 21,
   "metadata": {},
   "outputs": [
    {
     "name": "stdout",
     "output_type": "stream",
     "text": [
      "¿La nevera esta encendida? True\n",
      "-------------------\n",
      "Los litros de leche que tenemos en la nevera son: 11\n",
      "-------------------\n",
      "Tenemos muchos litros de leche, ¿no te apetece beber\n"
     ]
    }
   ],
   "source": [
    "# establecemos que la nevera está en marcha\n",
    "nevera_en_marcha = True\n",
    "print(\"¿La nevera esta encendida?\", nevera_en_marcha)\n",
    "print(\"-------------------\")\n",
    "\n",
    "print(\"Los litros de leche que tenemos en la nevera son:\", litros_leche)\n",
    "print(\"-------------------\")\n",
    "\n",
    "# chequeamos el valor de la nevera. En caso de que esté encendida\n",
    "if nevera_en_marcha: # esto es lo mismo que poner if nevera_en_marcha == True\n",
    "\n",
    "  # en caso de que este encendida y los litros de leche estén entre 0 y 4 (sin incluir)\n",
    "  if 0 < litros_leche < 4:\n",
    "    print('Añadimos leche a la lista')\n",
    "    lista_compra.append(\"leche\")\n",
    "\n",
    "  # en caso de que los litros de leche estén entre 4 y 50 sugerimos beber leche\n",
    "  elif 4 < litros_leche < 50:\n",
    "    print('Tenemos muchos litros de leche, ¿no te apetece beber')\n",
    "\n",
    "# en caso de que la nevera esté apagada, es decir que el valor de nevera_en_marcha == False\n",
    "else:  \n",
    "  # sacaremos por pantalla el mensaje de que la nevera esta rota\n",
    "  print('La nevera está rota.')"
   ]
  },
  {
   "cell_type": "markdown",
   "metadata": {},
   "source": [
    "En este escenario:\n",
    "\n",
    "- Se satisface la primera condición, es decir, `nevera_en_marcha == True`. \n",
    "\n",
    "- Dentro de esta condición, hay dos subcondiciones:\n",
    "\n",
    "  - La primera subcondición verifica si los litros de leche están entre 0 y 4, mediante un `if` anidado dentro del primer `if`.\n",
    "\n",
    "  - La segunda subcondición verifica si los litros de leche están entre 4 y 50, utilizando un `else` dentro del primer `if`. \n",
    "\n",
    "En este caso, la segunda subcondición se cumple, por lo tanto, el código imprimirá el mensaje indicando que hay mucha leche"
   ]
  },
  {
   "cell_type": "code",
   "execution_count": 22,
   "metadata": {},
   "outputs": [
    {
     "name": "stdout",
     "output_type": "stream",
     "text": [
      "¿La nevera esta encendida? False\n",
      "-------------------\n",
      "Los litros de leche que tenemos en la nevera son: 11\n",
      "-------------------\n",
      "La nevera está rota.\n"
     ]
    }
   ],
   "source": [
    "# volvemos a ejecutar el código de antes, pero en este caso para la variable nevera_en_marcha2\n",
    "nevera_en_marcha2 = False\n",
    "\n",
    "print(\"¿La nevera esta encendida?\", nevera_en_marcha2)\n",
    "print(\"-------------------\")\n",
    "\n",
    "print(\"Los litros de leche que tenemos en la nevera son:\", litros_leche)\n",
    "print(\"-------------------\")\n",
    "\n",
    "# chequeamos el valor de la nevera. En caso de que esté encendida\n",
    "if nevera_en_marcha2: # esto es lo mismo que poner if nevera_en_marcha2 == True\n",
    "\n",
    "  # en caso de que este encendida y los litros de leche estén entre 0 y 4(sin incluir)\n",
    "  if 0 < litros_leche < 4:\n",
    "    print('Añadimos leche a la lista')\n",
    "    lista_compra.append(\"leche\")\n",
    "\n",
    "  # en caso de que los litros de leche estén entre 4 (sin incluir) y 50 (son incluir) sugerimos beber leche\n",
    "  elif 4 < litros_leche < 50:\n",
    "    print('Tenemos mucha leche, ¿no te apetece beber?')\n",
    "\n",
    "# en caso de que la nevera esté apagada, es decir que el valor de nevera_en_marcha2 == False\n",
    "else:  \n",
    "  # sacaremos por pantalla el mensaje de que la nevera esta rota\n",
    "  print('La nevera está rota.')"
   ]
  },
  {
   "cell_type": "markdown",
   "metadata": {},
   "source": [
    "<div style=\"background-color:  #FFBB33; padding: 10px; border-left: 6px solid #000080; color: black; border-radius: 10px;\">\n",
    "En este caso, dado que el valor de <strong> nevera_en_marcha2 </strong> es False, la primera condición `if` no se cumple. En consecuencia, el programa pasará directamente al primer `else`, y se imprimirá el mensaje que indica que la nevera está rota.\n",
    "</div>"
   ]
  },
  {
   "cell_type": "markdown",
   "metadata": {
    "id": "vHvvKitkHOle"
   },
   "source": [
    "📌 Es crucial notar cómo el orden de las condiciones afecta el flujo del programa. Antes de definir nuestras condiciones en Python, es recomendable planificar y estructurar nuestro pensamiento. Por ejemplo, consideremos el escenario en el que nos comemos un helado todos los viernes, pero si nuestro congelador está averiado, vamos a la heladería como alternativa.\n",
    "\n",
    "```python\n",
    "# Primero, evaluamos si hoy es viernes y luego si el congelador está en funcionamiento\n",
    "if hoy_es_viernes:\n",
    "    if congelador_en_marcha:\n",
    "        print('Coge un helado, ¡te lo mereces!')\n",
    "    else:\n",
    "        print('Sal a la heladería, ¡te lo mereces!')\n",
    "\n",
    "# Otra forma de abordar la misma lógica\n",
    "if congelador_en_marcha:\n",
    "    if hoy_es_viernes:\n",
    "        print('Coge un helado, ¡te lo mereces!')\n",
    "else:\n",
    "    if hoy_es_viernes:\n",
    "        print('Sal a la heladería, ¡te lo mereces!')\n",
    "```\n"
   ]
  },
  {
   "cell_type": "markdown",
   "metadata": {
    "id": "4qrKdW8lFIjY"
   },
   "source": [
    "Pero este código de arriba puede resultar algo redundante, ya que estamos aprendiendo que podemos definir múltiples condiciones en un `if` o un `elif` usando operadores del tipo `and` u `or`. Y este ejemplo que tenemos ahora es un buen ejemplo! Veamos como lo podemos simplificar: "
   ]
  },
  {
   "cell_type": "code",
   "execution_count": 24,
   "metadata": {},
   "outputs": [
    {
     "name": "stdout",
     "output_type": "stream",
     "text": [
      "¿Es hoy viernes? True\n",
      "-------------------\n",
      "¿Está en congelador en marcha? False\n",
      "-------------------\n",
      "Sal a la heladería, ¡te lo mereces!\n"
     ]
    }
   ],
   "source": [
    "# como siempre, definimos nuestras variables\n",
    "hoy_es_viernes = True\n",
    "print(\"¿Es hoy viernes?\", hoy_es_viernes)\n",
    "print(\"-------------------\")\n",
    "\n",
    "congelador_en_marcha = False\n",
    "print(\"¿Está en congelador en marcha?\", congelador_en_marcha)\n",
    "print(\"-------------------\")\n",
    "\n",
    "# es el momento de definir todas nuestras condiciones\n",
    "\n",
    "# si es viernes (hoy_es_viernes == True) Y el congelador funciona (congelador_en_marcha == True), nos merecemos un helado! \n",
    "if hoy_es_viernes and congelador_en_marcha:\n",
    "    print('Coge un helado, ¡te lo mereces!')\n",
    "\n",
    "# en caso de que sea viernes (hoy_es_viernes == True), Y el congelador no funcione ( not congelador en marcha o congelador_en_marcha == False) sal y comprate un helado\n",
    "elif hoy_es_viernes and not congelador_en_marcha:\n",
    "    print('Sal a la heladería, ¡te lo mereces!')\n",
    "\n",
    "else:\n",
    "    print(\"Todavía no toca helado, pero ya queda menos!\")"
   ]
  },
  {
   "cell_type": "code",
   "execution_count": 23,
   "metadata": {},
   "outputs": [
    {
     "name": "stdout",
     "output_type": "stream",
     "text": [
      "¿Es hoy viernes? False\n",
      "-------------------\n",
      "¿Está en congelador en marcha? False\n",
      "-------------------\n",
      "Todavía no toca helado, pero ya queda menos!\n"
     ]
    }
   ],
   "source": [
    "# ¿qué pasaría si no fuera viernes?\n",
    "hoy_es_viernes2 = False\n",
    "print(\"¿Es hoy viernes?\", hoy_es_viernes2)\n",
    "print(\"-------------------\")\n",
    "\n",
    "congelador_en_marcha2 = False\n",
    "print(\"¿Está en congelador en marcha?\", congelador_en_marcha2)\n",
    "print(\"-------------------\")\n",
    "\n",
    "\n",
    "if hoy_es_viernes2 and congelador_en_marcha2:\n",
    "    print('Coge un helado, ¡te lo mereces!')\n",
    "\n",
    "elif hoy_es_viernes2 and not congelador_en_marcha2:\n",
    "    print('Sal a la heladería, ¡te lo mereces!')\n",
    "else:\n",
    "    print(\"Todavía no toca helado, pero ya queda menos!\")"
   ]
  },
  {
   "cell_type": "markdown",
   "metadata": {},
   "source": [
    "Pero, ¿cuál es la diferencia entre `and` y `or`?\n",
    "\n",
    "- Utilizamos `and` cuando queremos que **TODAS** las condiciones especificadas se cumplan.\n",
    "\n",
    "- Utilizamos `or` cuando queremos que **ALGUNA** de las condiciones especificadas se cumpla.\n",
    "\n",
    "Hasta ahora, en los ejemplos que hemos visto, hemos utilizado `and`. Veamos qué sucede si usamos `or`."
   ]
  },
  {
   "cell_type": "code",
   "execution_count": 25,
   "metadata": {},
   "outputs": [
    {
     "name": "stdout",
     "output_type": "stream",
     "text": [
      "¿Es hoy viernes? True\n",
      "-------------------\n",
      "¿Está en congelador en marcha? False\n",
      "-------------------\n",
      "Coge un helado, ¡te lo mereces!\n"
     ]
    }
   ],
   "source": [
    "print(\"¿Es hoy viernes?\", hoy_es_viernes)\n",
    "print(\"-------------------\")\n",
    "\n",
    "print(\"¿Está en congelador en marcha?\", congelador_en_marcha)\n",
    "print(\"-------------------\")\n",
    "\n",
    "# en este caso chequearemos si es viernes O el congelador está en marcha\n",
    "if hoy_es_viernes or congelador_en_marcha:\n",
    "        print('Coge un helado, ¡te lo mereces!')\n",
    "\n",
    "# en esta condición chequearemos si es viernes O si el congelador no funciona\n",
    "elif hoy_es_viernes or not congelador_en_marcha:\n",
    "        print('Sal a la heladería, ¡te lo mereces!')\n",
    "\n",
    "else:\n",
    "        print(\"Todavía no toca helado, pero ya queda menos!\")"
   ]
  },
  {
   "cell_type": "markdown",
   "metadata": {},
   "source": [
    "<div style=\"background-color: #F74646; padding: 10px; border-left: 6px solid #000080; color: black; border-radius: 10px;\">\n",
    "\n",
    "En este ejemplo, ¿qué está sucediendo?\n",
    "\n",
    "Python comienza a leer el programa y sigue estos pasos:\n",
    "\n",
    "- El `if`:\n",
    "\n",
    "  - Comprueba si `hoy_es_viernes == True` **o** `congelador_en_marcha == True`. Si alguna de estas condiciones se cumple, el programa se detiene y muestra el mensaje \"Coge un helado\". Dado que es viernes, aunque el congelador esté apagado, esta condición se cumple y el programa se detiene, sin ejecutar las líneas de código siguientes.\n",
    "\n",
    "- En el `elif`:\n",
    "  - Comprueba si `hoy_es_viernes == True` **o** `congelador_en_marcha == False`.\n",
    "\n",
    "- En el `else`:\n",
    "  - Si ninguna de las condiciones anteriores se cumple, se ejecuta la línea de código dentro de este bloque.\n",
    "\n",
    "A partir de aquí, os invitamos a cambiar los valores de las variables `hoy_es_viernes` y `congelador_en_marcha` para observar cómo cambian los resultados.\n",
    "</div>"
   ]
  },
  {
   "cell_type": "markdown",
   "metadata": {},
   "source": [
    "# Estructuras de iteración\n",
    "\n",
    "## while\n",
    "\n",
    "El bucle `while` es una estructura fundamental en Python, permitiendo repetir un bloque de código mientras una condición dada se cumpla. Su sintaxis básica es simple: se especifica una condición seguida de dos puntos y un bloque de código indentado que se ejecuta mientras la condición sea verdadera.\n",
    "\n",
    "La sintaxis básica del bucle `while` en Python es la siguiente:\n",
    "\n",
    "```python\n",
    "while condición:\n",
    "    # bloque de código a ejecutar mientras se cumpla la condición\n",
    "```\n",
    "\n",
    "El bucle `while` se utiliza cuando no sabemos cuántas veces necesitaremos ejecutar el código. Sin embargo, debemos tener cuidado, ya que si la condición nunca se vuelve falsa, el bucle se ejecutará infinitamente, lo que puede resultar en un bloqueo del programa (es lo que se suele llamar \"bucle infinito\").\n",
    "\n",
    "Para evitar bucles infinitos, es crucial asegurarse de que la condición del `while` eventualmente se vuelva falsa. Por ejemplo, podríamos solicitar al usuario que ingrese ciertos datos y verificar si la entrada coincide con cierto valor. Mientras la entrada no sea válida, el bucle continuará solicitando al usuario que ingrese los datos adecuados.\n",
    "\n",
    "```python\n",
    "respuesta = \"\"\n",
    "while respuesta != \"si\" and respuesta != \"no\":\n",
    "    respuesta = input(\"¿Quieres continuar? (si/no): \").lower()\n",
    "```\n",
    "\n",
    "En este ejemplo, el bucle seguirá pidiendo al usuario que ingrese una respuesta hasta que esta sea \"si\" o \"no\".\n",
    "\n",
    "Los bucles `while` también pueden ser útiles para realizar tareas como la búsqueda de ciertos elementos en una lista o la ejecución de una acción hasta que se cumpla una condición específica.\n",
    "\n",
    "```python\n",
    "numeros = [1, 2, 3, 4, 5, 6, 7, 8, 9, 10]\n",
    "indice = 0\n",
    "while indice < len(numeros):\n",
    "    if numeros[indice] % 2 == 0:\n",
    "        print(\"Número par encontrado:\", numeros[indice])\n",
    "        break  # Salimos del bucle si encontramos un número par\n",
    "    indice += 1\n",
    "```\n",
    "\n",
    "En este ejemplo, el bucle `while` recorre la lista `numeros` hasta que se encuentra un número par. Una vez que se encuentra un número par, el bucle se interrumpe con la instrucción `break`.\n",
    "\n",
    "Es importante recordar que los bucles `while` deben usarse con precaución para evitar bucles infinitos. Es recomendable asegurarse de que la condición del bucle eventualmente se vuelva falsa y de que haya un mecanismo para terminar el bucle cuando sea necesario."
   ]
  },
  {
   "cell_type": "markdown",
   "metadata": {},
   "source": [
    "Continuemos con el ejemplo de los litros de leche que hemos estado utilizando. Hasta ahora, teníamos una variable que almacenaba los litros de leche en nuestra nevera. Sin embargo, en la vida real, sería más realista restar un litro de leche de la cantidad cada vez que la consumimos. Además, sería útil agregar los litros de leche a la lista de compras cuando quedan menos de dos.\n",
    "\n",
    "Veamos cómo podríamos implementarlo en Python:"
   ]
  },
  {
   "cell_type": "code",
   "execution_count": 31,
   "metadata": {},
   "outputs": [
    {
     "name": "stdout",
     "output_type": "stream",
     "text": [
      "El límite de litros de leche para ir al supermercado es: 2\n",
      "---------------------------\n",
      "Los litros de leche que tenemos en la nevera son: 2\n",
      "---------------------------\n",
      "Los litros de leche que tenemos en la nevera son 11\n",
      "Los litros de leche que tenemos en la nevera son 10\n",
      "Los litros de leche que tenemos en la nevera son 9\n",
      "Los litros de leche que tenemos en la nevera son 8\n",
      "Los litros de leche que tenemos en la nevera son 7\n",
      "Los litros de leche que tenemos en la nevera son 6\n",
      "Los litros de leche que tenemos en la nevera son 5\n",
      "Los litros de leche que tenemos en la nevera son 4\n",
      "Los litros de leche que tenemos en la nevera son 3\n"
     ]
    }
   ],
   "source": [
    "# los primero que vamos a hacer es definir una variable, que será nuestro límite de litros de leche en la nevera. Cuando llegue a ese valor querremos añadirlo a la lista de la compra. \n",
    "\n",
    "limite_leche = 2\n",
    "\n",
    "print(\"El límite de litros de leche para ir al supermercado es:\", limite_leche)\n",
    "print(\"---------------------------\")\n",
    "\n",
    "print(\"Los litros de leche que tenemos en la nevera son:\", limite_leche)\n",
    "print(\"---------------------------\")\n",
    "\n",
    "# lo que estamos haciendo aquí es establecer la condición usando el while, donde decimos que siempre que si los litros de leche son mayor que el límite, seguiremos bebiendo leche\n",
    "# este código parará cuando los litros de leche seas igual o menor a el límite que indicamos con nuestra variable limite_leche.\n",
    "while litros_leche > limite_leche:\n",
    "  print(f'Los litros de leche que tenemos en la nevera son {litros_leche}')\n",
    "\n",
    "  # cada vez que me como una pera la quito de la cantidad de peras que tenemos en la nevera\n",
    "  litros_leche -= 1    # recordemos que sinónimo de i = i + 1\n"
   ]
  },
  {
   "cell_type": "markdown",
   "metadata": {},
   "source": [
    "\n",
    "<div style=\"background-color: #FFBB33; padding: 10px; border-left: 6px solid #000080; color: black; border-radius: 10px;\">\n",
    "\n",
    "<strong>¿Qué está sucediendo?</strong>\n",
    "\n",
    "- Comenzamos el bucle <u>while</u> y evaluamos si el valor de <u>'litros_leche'</u> es mayor que <u>'limite_leche'</u>, es decir, ¿es 11 mayor que 2?\n",
    "\n",
    "  - Si es así, imprimimos el <u>'los litros de leche'</u> que tenemos y restamos un litro al total. Después de este primer bucle <u>while</u> y la resta, los litros de leche serán 10.\n",
    "\n",
    "- Como la condición aún se cumple, el código continúa ejecutándose. Volvemos a preguntar: ¿es 10 mayor que 2?\n",
    "\n",
    "  - Si es así, imprimimos <u>'los litros de leche'</u> que tenemos y restamos un litro al total. Después de este segundo bucle <u>while</u> y la resta, los litros de leche serán 9.\n",
    "\n",
    "- Este proceso continúa hasta que la pregunta \"¿Son los litros de leche mayor que el límite de litros?\" sea Falso. En ese momento, el bucle <u>while</u> se detiene y el programa termina.\n",
    "</div>"
   ]
  },
  {
   "cell_type": "markdown",
   "metadata": {},
   "source": [
    "Vamos a explorar otro ejemplo de uso de `while`, pero esta vez agregaremos un poco de complejidad. En el ejemplo anterior, solo vimos un bucle `while` sin condiciones internas. Sin embargo, podemos añadirlas. Dentro de un bucle `while`, podemos incluir estructuras `if`, `elif` y `else`.\n",
    "\n",
    "En este escenario, desarrollaremos un programa que, mientras una condición sea verdadera, solicitará al usuario que elija una opción de las proporcionadas. Si el usuario ingresa una opción no válida, cambiaremos el valor a False y el programa se detendrá."
   ]
  },
  {
   "cell_type": "code",
   "execution_count": 32,
   "metadata": {},
   "outputs": [
    {
     "name": "stdout",
     "output_type": "stream",
     "text": [
      "El valor de la variable 'opcion' es: True\n",
      "-----------------\n",
      "Has seleccionado 'a'!\n",
      "Has seleccionado r ! la cual no es una opción inválida 😔\n",
      "\n"
     ]
    }
   ],
   "source": [
    "# definimos una variable con el valor de True. \n",
    "opcion = True\n",
    "\n",
    "print(\"El valor de la variable 'opcion' es:\", opcion)\n",
    "print(\"-----------------\")\n",
    "# especificamos que si la variable opcion es True, entonces seguiremos ejecutando el código\n",
    "while opcion == True: # es lo mismo que poner while opcion\n",
    "\n",
    "    # pedimos al usuario que introduzca una de las opciones que tenemos\n",
    "    selecciona_opcion = input(\"Por favor selecciona una letra de las siguientes: 'a', 'b', or 'c'\")\n",
    "\n",
    "    # empezamos poniendo condicionales if. Si la opción del usuario es \"a\", printeamos un mensaje indicando cuál fue la selección de usuario\n",
    "    if selecciona_opcion == \"a\":\n",
    "        print(\"Has seleccionado 'a'!\")\n",
    "\n",
    "    # hacemos lo mismo para el resto de las opciones que le pasamos al usuario\n",
    "    elif selecciona_opcion == \"b\":\n",
    "        print(\"Has seleccionado 'b'!\")\n",
    "    elif selecciona_opcion == \"c\":\n",
    "        print(\"Has seleccionado 'c'!\")\n",
    "    \n",
    "    # en caso de que el usuario no haya seleccionado ninguna de las opciones que le hemos pasado, entonces cambiaremos el valor de la variable opcion a False\n",
    "    else:\n",
    "        print(\"Has seleccionado\", selecciona_opcion, \"! la cual no es una opción inválida 😔\")\n",
    "\n",
    "        # en caso de que ocurra esta condición, nuestra variable opcion cambiará a False y el bucle while se parará, ya que para que funcione la variable opcion debe ser True\n",
    "        print()\n",
    "        opcion =  False"
   ]
  },
  {
   "cell_type": "code",
   "execution_count": null,
   "metadata": {},
   "outputs": [],
   "source": []
  }
 ],
 "metadata": {
  "colab": {
   "collapsed_sections": [],
   "name": "02-boolean-statements.ipynb",
   "provenance": [
    {
     "file_id": "1lHGdy-osjs1puGjGpU1iU_FN0RFd80om",
     "timestamp": 1639470758251
    }
   ]
  },
  "kernelspec": {
   "display_name": "Python 3 (ipykernel)",
   "language": "python",
   "name": "python3"
  },
  "language_info": {
   "codemirror_mode": {
    "name": "ipython",
    "version": 3
   },
   "file_extension": ".py",
   "mimetype": "text/x-python",
   "name": "python",
   "nbconvert_exporter": "python",
   "pygments_lexer": "ipython3",
   "version": "3.11.8"
  },
  "toc": {
   "base_numbering": 1,
   "nav_menu": {},
   "number_sections": true,
   "sideBar": true,
   "skip_h1_title": false,
   "title_cell": "Table of Contents",
   "title_sidebar": "Contents",
   "toc_cell": true,
   "toc_position": {
    "height": "calc(100% - 180px)",
    "left": "10px",
    "top": "150px",
    "width": "307.2px"
   },
   "toc_section_display": true,
   "toc_window_display": true
  },
  "vscode": {
   "interpreter": {
    "hash": "31f2aee4e71d21fbe5cf8b01ff0e069b9275f58929596ceb00d14d90e3e16cd6"
   }
  }
 },
 "nbformat": 4,
 "nbformat_minor": 1
}

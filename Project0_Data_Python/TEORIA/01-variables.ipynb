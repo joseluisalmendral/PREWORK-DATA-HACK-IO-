{
 "cells": [
  {
   "cell_type": "markdown",
   "metadata": {},
   "source": [
    "<div style=\"text-align: center;\">\n",
    "  <img src=\"https://github.com/Hack-io-Data/Imagenes/blob/main/01-LogosHackio/logo_celeste@4x.png?raw=true\" alt=\"logohackio\" />\n",
    "</div>\n"
   ]
  },
  {
   "cell_type": "markdown",
   "metadata": {
    "toc": true
   },
   "source": [
    "<h1>Table of Contents<span class=\"tocSkip\"></span></h1>\n",
    "<div class=\"toc\"><ul class=\"toc-item\"><li><span><a href=\"#Tipos-de-Datos\" data-toc-modified-id=\"Tipos-de-Datos-1\"><span class=\"toc-item-num\">1&nbsp;&nbsp;</span>Tipos de Datos</a></span></li><li><span><a href=\"#Variables\" data-toc-modified-id=\"Variables-2\"><span class=\"toc-item-num\">2&nbsp;&nbsp;</span>Variables</a></span></li><li><span><a href=\"#Funciones-incorporadas\" data-toc-modified-id=\"Funciones-incorporadas-3\"><span class=\"toc-item-num\">3&nbsp;&nbsp;</span>Funciones incorporadas</a></span><ul class=\"toc-item\"><li><span><a href=\"#print()\" data-toc-modified-id=\"print()-3.1\"><span class=\"toc-item-num\">3.1&nbsp;&nbsp;</span><code>print()</code></a></span></li><li><span><a href=\"#type()\" data-toc-modified-id=\"type()-3.2\"><span class=\"toc-item-num\">3.2&nbsp;&nbsp;</span><code>type()</code></a></span></li><li><span><a href=\"#len()\" data-toc-modified-id=\"len()-3.3\"><span class=\"toc-item-num\">3.3&nbsp;&nbsp;</span><code>len()</code></a></span></li></ul></li><li><span><a href=\"#Números-Enteros-(int)\" data-toc-modified-id=\"Números-Enteros-(int)-4\"><span class=\"toc-item-num\">4&nbsp;&nbsp;</span>Números Enteros (<em>int</em>)</a></span></li><li><span><a href=\"#Números-decimales-(float)\" data-toc-modified-id=\"Números-decimales-(float)-5\"><span class=\"toc-item-num\">5&nbsp;&nbsp;</span>Números decimales (<em>float</em>)</a></span></li><li><span><a href=\"#Números-complejos-(complex)\" data-toc-modified-id=\"Números-complejos-(complex)-6\"><span class=\"toc-item-num\">6&nbsp;&nbsp;</span>Números complejos (<em>complex</em>)</a></span></li><li><span><a href=\"#Cadenas-de-caracteres-o-strings\" data-toc-modified-id=\"Cadenas-de-caracteres-o-strings-7\"><span class=\"toc-item-num\">7&nbsp;&nbsp;</span>Cadenas de caracteres o <em>strings</em></a></span></li><li><span><a href=\"#Booleanos\" data-toc-modified-id=\"Booleanos-8\"><span class=\"toc-item-num\">8&nbsp;&nbsp;</span>Booleanos</a></span></li><li><span><a href=\"#NoneType\" data-toc-modified-id=\"NoneType-9\"><span class=\"toc-item-num\">9&nbsp;&nbsp;</span>NoneType</a></span></li><li><span><a href=\"#Datos-de-tipo-Fecha-y-Hora\" data-toc-modified-id=\"Datos-de-tipo-Fecha-y-Hora-10\"><span class=\"toc-item-num\">10&nbsp;&nbsp;</span>Datos de tipo Fecha y Hora</a></span></li><li><span><a href=\"#Operadores-en-Python\" data-toc-modified-id=\"Operadores-en-Python-11\"><span class=\"toc-item-num\">11&nbsp;&nbsp;</span>Operadores en Python</a></span><ul class=\"toc-item\"><li><span><a href=\"#Operadores-aritméticos\" data-toc-modified-id=\"Operadores-aritméticos-11.1\"><span class=\"toc-item-num\">11.1&nbsp;&nbsp;</span>Operadores aritméticos</a></span></li><li><span><a href=\"#Operadores-de-Comparación\" data-toc-modified-id=\"Operadores-de-Comparación-11.2\"><span class=\"toc-item-num\">11.2&nbsp;&nbsp;</span>Operadores de Comparación</a></span></li></ul></li><li><span><a href=\"#Operadores-Lógicos\" data-toc-modified-id=\"Operadores-Lógicos-12\"><span class=\"toc-item-num\">12&nbsp;&nbsp;</span>Operadores Lógicos</a></span></li><li><span><a href=\"#Conversión-de-datos\" data-toc-modified-id=\"Conversión-de-datos-13\"><span class=\"toc-item-num\">13&nbsp;&nbsp;</span>Conversión de datos</a></span></li><li><span><a href=\"#input()\" data-toc-modified-id=\"input()-14\"><span class=\"toc-item-num\">14&nbsp;&nbsp;</span><code>input()</code></a></span></li></ul></div>"
   ]
  },
  {
   "cell_type": "markdown",
   "metadata": {
    "id": "PlWAqrlds-7G"
   },
   "source": [
    "# Tipos de Datos\n",
    "\n",
    "Python es un lenguaje de programación de alto nivel conocido por su sintaxis clara y legible. En Python, las variables son contenedores que se utilizan para almacenar datos en la memoria durante la ejecución del programa. Cada variable tiene un nombre único que se utiliza para referirse a ella y un valor asociado que puede ser de diferentes tipos. Los tipos de variables que podemos encontrar en Python:\n",
    "\n",
    "\n",
    "1. **Enteros (int):** Representan números enteros, positivos o negativos, sin parte decimal. Ejemplos: `5`, `-10`, `1000`.\n",
    "\n",
    "2. **Flotantes (float):** Representan números con parte decimal. Pueden ser números reales, positivos o negativos. Ejemplos: `3.14`, `2.718`, `-0.5`.\n",
    "\n",
    "3. **Complejos (complex)**: Representan valores numéricos con parte real e imaginaria. Se definen como `a + bj`, donde `a` es la parte real, `b` es la parte imaginaria y `j` es la unidad imaginaria. Son útiles para cálculos matemáticos avanzados.\n",
    "\n",
    "4. **Cadenas de caracteres (str):** Representan texto. Se pueden definir utilizando comillas simples (`'`) o dobles (`\"`). Ejemplos: `'Hola Mundo'`, `\"Python es genial\"`.\n",
    "\n",
    "5. **Booleanos (bool):** Representan valores lógicos Verdadero (`True`) o Falso (`False`). Se utilizan en operaciones de lógica booleana y de control de flujo. Ejemplos: `True`, `False`.\n",
    "\n",
    "8. **NoneType (None):** Representa la ausencia de valor o un valor nulo. Se utiliza para indicar que una variable no tiene un valor asignado.\n",
    "\n",
    "9. **Datos de Fecha y Hora (datetime)**: Python proporciona módulos como datetime y time para trabajar con fechas y horas. Estos módulos te permiten crear, manipular y formatear fechas y horas de una manera fácil y eficiente."
   ]
  },
  {
   "cell_type": "markdown",
   "metadata": {},
   "source": [
    "# Variables\n",
    "\n",
    "En Python, una variable es un nombre que se refiere a un valor almacenado en la memoria. Es una forma de etiquetar y acceder a datos para su posterior procesamiento. Las variables pueden contener diferentes tipos y estructuras de datos, como números, **strings**, listas, diccionarios, etc.\n",
    "\n",
    "Las variables en Python se definen mediante el operador de asignación `=`. No es necesario declarar explícitamente el tipo de variable como ocurre en otros lenguajes de programación (C, C++, etc.); Python infiere automáticamente el tipo basándose en el valor asignado. Por ejemplo:\n",
    "\n",
    "```python\n",
    "nombre = \"Alice\"   # Variable de tipo *string*\n",
    "edad = 25          # Variable de tipo entero (int)\n",
    "precio = 9.99      # Variable de tipo decimal (float)\n",
    "```\n",
    "<div style=\"background-color: #F74646; padding: 10px; border-left: 6px solid #000080; color: black; border-radius: 10px;\">\n",
    "Buenas prácticas para definir variables:\n",
    "\n",
    "1. **Nombres descriptivos:** Debemos usar nombres de variables que sean descriptivos y significativos para el propósito que sirven. Esto ayuda a que el código sea más legible y comprensible.\n",
    "\n",
    "2. **Convención de nomenclatura:** Sigue las convenciones de nomenclatura de Python, como el uso de minúsculas para los nombres de variables, separando palabras con guiones bajos en caso de nombres compuestos (`nombre_descriptivo`), y evitando nombres que sean palabras reservadas de Python.\n",
    "\n",
    "3. **Utiliza nombres concisos pero informativos:** Las variables deben ser lo suficientemente cortas como para no ser engorrosas, pero lo suficientemente largas como para ser descriptivas. Evita abreviaturas excesivamente cortas o poco claras.\n",
    "\n",
    "4. **Evita nombres genéricos:** Evita nombres genéricos como `x`, `y`, `z`, etc., a menos que sean comúnmente utilizados en contextos matemáticos o de programación.\n",
    "\n",
    "5. **Mantén la consistencia:** Mantén un estilo consistente en la nomenclatura de variables a lo largo del código y entre diferentes proyectos para facilitar la legibilidad y mantenimiento del código.\n",
    "\n",
    "6. **Reasignación consciente:** Evita reasignar variables con diferentes tipos de datos o nombres diferentes en diferentes partes del código, ya que esto puede llevar a confusiones y errores difíciles de depurar.\n",
    "</div>\n",
    "\n",
    "En Python tenemos el `Zen de Python` que es un conjunto de principios y directrices que guían el diseño del lenguaje de programación Python. Estos principios están destinados a fomentar un código limpio, legible y fácil de entender. Fueron escritos por Tim Peters y se incluyen en el intérprete de Python como un poema. Podemos verlos ejecutando `import this` en cualquier intérprete de Python, como tenemos en la siguiente celda de código. \n",
    "\n"
   ]
  },
  {
   "cell_type": "code",
   "execution_count": 1,
   "metadata": {},
   "outputs": [
    {
     "name": "stdout",
     "output_type": "stream",
     "text": [
      "The Zen of Python, by Tim Peters\n",
      "\n",
      "Beautiful is better than ugly.\n",
      "Explicit is better than implicit.\n",
      "Simple is better than complex.\n",
      "Complex is better than complicated.\n",
      "Flat is better than nested.\n",
      "Sparse is better than dense.\n",
      "Readability counts.\n",
      "Special cases aren't special enough to break the rules.\n",
      "Although practicality beats purity.\n",
      "Errors should never pass silently.\n",
      "Unless explicitly silenced.\n",
      "In the face of ambiguity, refuse the temptation to guess.\n",
      "There should be one-- and preferably only one --obvious way to do it.\n",
      "Although that way may not be obvious at first unless you're Dutch.\n",
      "Now is better than never.\n",
      "Although never is often better than *right* now.\n",
      "If the implementation is hard to explain, it's a bad idea.\n",
      "If the implementation is easy to explain, it may be a good idea.\n",
      "Namespaces are one honking great idea -- let's do more of those!\n"
     ]
    }
   ],
   "source": [
    "import this"
   ]
  },
  {
   "cell_type": "markdown",
   "metadata": {},
   "source": [
    "# Funciones incorporadas\n",
    "\n",
    "Antes de ver los distintos tipo de datos que tenemos en Python vamos a aprender tres funciones que son esenciales cuando empezamos a programar. Las funciones `print()`, `type()` y `len()`.  Estas funciones nos permiten imprimir información  y conocer el tipo de datos de una variable, respectivamente.\n",
    "\n",
    "## `print()`\n",
    "\n",
    "Se utiliza para imprimir mensajes, variables y otros objetos. Es una herramienta de depuración imprescindible y nos permite visualizar resultados durante la ejecución de un programa."
   ]
  },
  {
   "cell_type": "code",
   "execution_count": 2,
   "metadata": {},
   "outputs": [
    {
     "name": "stdout",
     "output_type": "stream",
     "text": [
      "¡Hola, mundo!\n"
     ]
    }
   ],
   "source": [
    "# Ejemplo de uso básico de print()\n",
    "print(\"¡Hola, mundo!\")  # Imprime el mensaje \"¡Hola, mundo!\""
   ]
  },
  {
   "cell_type": "code",
   "execution_count": 3,
   "metadata": {},
   "outputs": [
    {
     "name": "stdout",
     "output_type": "stream",
     "text": [
      "Mi nombre es Juan y tengo 30 años.\n"
     ]
    }
   ],
   "source": [
    "# El 'print()' también nos permite mostrar varias variables a la vez como vemos en el ejemplo a continuación: \n",
    "\n",
    "# definimos una variable llamada \"nombre\" de tipo *string*\n",
    "nombre = \"Juan\"\n",
    "\n",
    "# definimos una variable llamada \"edad\" de tipo int (número entero)\n",
    "edad = 30\n",
    "\n",
    "# mostramos por pantalla las variables definidas previamente junto con otro texto. \n",
    "print(\"Mi nombre es\", nombre, \"y tengo\", edad, \"años.\")"
   ]
  },
  {
   "cell_type": "markdown",
   "metadata": {},
   "source": [
    "## `type()`\n",
    "\n",
    "Nos permite conocer el tipo de datos de una variable o un objeto en Python. Esto es útil para comprender la estructura de nuestros datos y cómo interactuar con ellos de manera efectiva.\n",
    "\n",
    "La función `type()` puede ser especialmente útil cuando trabajamos con datos de entrada desconocidos o necesitamos verificar el tipo de datos antes de realizar ciertas operaciones."
   ]
  },
  {
   "cell_type": "code",
   "execution_count": 4,
   "metadata": {},
   "outputs": [
    {
     "name": "stdout",
     "output_type": "stream",
     "text": [
      "<class 'int'>\n",
      "<class 'str'>\n",
      "<class 'float'>\n"
     ]
    }
   ],
   "source": [
    "# Ejemplo de uso de type()\n",
    "\n",
    "# definimos una variable llamada 'x' de tipo entero (int)\n",
    "x = 10\n",
    "\n",
    "# definimos una variable llamada 'y' de tipo *string*\n",
    "y = \"Hola\"\n",
    "\n",
    "# definimos una variable llamada 'z' de tipo decimal (float)\n",
    "z = 19.45\n",
    "\n",
    "# Imprime <class 'int'>, que indica que x es un entero (int)\n",
    "print(type(x)) \n",
    "\n",
    "# Imprime <class 'str'>, que indica que y es una cadena de texto (str) \n",
    "print(type(y))  \n",
    "\n",
    " # Imprime <class 'list'>, que indica que z es una lista (list)\n",
    "print(type(z)) \n"
   ]
  },
  {
   "cell_type": "markdown",
   "metadata": {},
   "source": [
    "## `len()`\n",
    "\n",
    "La función `len()` es una herramienta fundamental para trabajar con secuencias y colecciones de datos. Esta función devuelve la longitud de un objeto, que se interpreta como el número de elementos que contiene. Es una de las funciones integradas más utilizadas y versátiles en Python, ya que se puede aplicar a una amplia variedad de tipos de datos, incluidos listas, cadenas, tuplas, conjuntos y diccionarios.\n",
    "\n",
    "La sintaxis básica de `len()` es:\n",
    "\n",
    "```python\n",
    "len(objeto)\n",
    "```\n"
   ]
  },
  {
   "cell_type": "code",
   "execution_count": 22,
   "metadata": {},
   "outputs": [
    {
     "name": "stdout",
     "output_type": "stream",
     "text": [
      "El número de elementos en la variable cadena es: 11\n"
     ]
    }
   ],
   "source": [
    "# definimos una variable 'cadena'  que es de tipo string\n",
    "cadena = \"Hola, Mundo\"\n",
    "\n",
    "# creamos una variable 'longitud_cadena' que es igual al resultado de sumar cuántos elementos tiene la variable cadena. SE CUENTAN LOS ESPACIOS\n",
    "longitud_cadena = len(cadena)\n",
    "\n",
    "# mostramos el resultado\n",
    "print(f\"El número de elementos en la variable cadena es: {longitud_cadena}\")  # Salida: 11"
   ]
  },
  {
   "cell_type": "code",
   "execution_count": null,
   "metadata": {},
   "outputs": [],
   "source": [
    "# ¿qué pasaría si calculamos la longitud de una variable de tipo numérica?\n",
    "numero = 42\n",
    "\n",
    "# Esto generará un TypeError porque los enteros no tienen longitud.\n",
    "print(f\"La longitud del número es: {len(numero)}\")  "
   ]
  },
  {
   "cell_type": "markdown",
   "metadata": {
    "id": "Rv7dayxvMbUn"
   },
   "source": [
    "# Números Enteros (*int*)\n",
    "\n",
    "Los números enteros (`int`) son un tipo de datos que representan números sin parte fraccionaria o decimal. Pueden ser positivos o negativos, y no tienen límite de tamaño en la mayoría de las versiones de Python. Se utilizan para contar, indexar, realizar cálculos aritméticos y más.\n",
    "\n",
    "Los números enteros en Python se definen utilizando la notación estándar, por ejemplo:\n",
    "\n",
    "```python\n",
    "numero_entero = 42\n",
    "```\n",
    "\n",
    "Python proporciona una amplia variedad de operaciones y funciones incorporadas para trabajar con números enteros, incluyendo operadores aritméticos (`+`, `-`, `*`, `/`, `//`, `%`, `**`), comparaciones (`<`, `>`, `<=`, `>=`, `==`, `!=`), y funciones matemáticas (`abs()`, `pow()`, `round()`, etc.). Todas estas operaciones las iremos viendo a lo largo de este jupyter. "
   ]
  },
  {
   "cell_type": "code",
   "execution_count": 5,
   "metadata": {
    "colab": {
     "base_uri": "https://localhost:8080/"
    },
    "executionInfo": {
     "elapsed": 3,
     "status": "ok",
     "timestamp": 1639388967658,
     "user": {
      "displayName": "Anne Krus",
      "photoUrl": "https://lh3.googleusercontent.com/a-/AOh14GjbqsQGGv_WqtIcVrkmdaggg-avHI_hm9wkTTxk=s64",
      "userId": "08074981739476979686"
     },
     "user_tz": -60
    },
    "id": "T32Vye0lMlhM",
    "outputId": "81c0220a-5dfa-4c86-8c50-34488c7f1989"
   },
   "outputs": [
    {
     "name": "stdout",
     "output_type": "stream",
     "text": [
      "La variable num_hijos toma el valor:  3\n",
      "El tipo de dato de la variable num_hijos es: <class 'int'>\n"
     ]
    }
   ],
   "source": [
    "# vamos a definir nuestra primera variable de tipo integer, en este caso crearemos la variable 'num_hijos' que va a ser igual 3\n",
    "num_hijos = 3\n",
    "\n",
    "# vamos a mostrar por pantalla el valor de la variable 'num_hijos' usando la funcion 'print()'\n",
    "print(\"La variable num_hijos toma el valor: \", num_hijos)\n",
    "\n",
    "# comprobamos el tipo de dato de la variable 'num_hijos' usando la función 'type()' en combinación con la función 'print()'\n",
    "print(\"El tipo de dato de la variable num_hijos es:\", type(num_hijos))"
   ]
  },
  {
   "cell_type": "code",
   "execution_count": 6,
   "metadata": {
    "colab": {
     "base_uri": "https://localhost:8080/",
     "height": 165
    },
    "executionInfo": {
     "elapsed": 206,
     "status": "error",
     "timestamp": 1639388972386,
     "user": {
      "displayName": "Anne Krus",
      "photoUrl": "https://lh3.googleusercontent.com/a-/AOh14GjbqsQGGv_WqtIcVrkmdaggg-avHI_hm9wkTTxk=s64",
      "userId": "08074981739476979686"
     },
     "user_tz": -60
    },
    "id": "UcFaFgCgMl5s",
    "outputId": "38638e58-9fcf-41b7-9f9c-15ad3ef0e6fb"
   },
   "outputs": [
    {
     "ename": "NameError",
     "evalue": "name 'lolo' is not defined",
     "output_type": "error",
     "traceback": [
      "\u001b[0;31m---------------------------------------------------------------------------\u001b[0m",
      "\u001b[0;31mNameError\u001b[0m                                 Traceback (most recent call last)",
      "Cell \u001b[0;32mIn[6], line 3\u001b[0m\n\u001b[1;32m      1\u001b[0m \u001b[38;5;66;03m# ¿Que pasaría si usaramos la función 'print()' con el nombre de una variable que no hemos definido previamente\u001b[39;00m\n\u001b[1;32m      2\u001b[0m \u001b[38;5;66;03m# por ejemplo, usemos la función 'print()' con una variable llamada 'lolo' que no ha sido definida en ningún momento\u001b[39;00m\n\u001b[0;32m----> 3\u001b[0m \u001b[38;5;28mprint\u001b[39m(\u001b[43mlolo\u001b[49m)\n",
      "\u001b[0;31mNameError\u001b[0m: name 'lolo' is not defined"
     ]
    }
   ],
   "source": [
    "# ¿Que pasaría si usaramos la función 'print()' con el nombre de una variable que no hemos definido previamente\n",
    "# por ejemplo, usemos la función 'print()' con una variable llamada 'lolo' que no ha sido definida en ningún momento\n",
    "print(lolo)"
   ]
  },
  {
   "cell_type": "markdown",
   "metadata": {},
   "source": [
    "Como podemos ver nos devuelve un error, `NameError`. Este error indica que Python no puede encontrar una definición para la variable `'lolo'` en el código actual. Esto es porque estamos intentando usar una variable que no ha sido definida previamente o si hay un error tipográfico en el nombre de la variable. "
   ]
  },
  {
   "cell_type": "markdown",
   "metadata": {},
   "source": [
    "# Números decimales (*float*)\n",
    "\n",
    "Los números decimales, también conocidos como números de punto flotante, son una forma de representar valores numéricos que incluyen una parte decimal. En Python, los números decimales se pueden representar utilizando el tipo de datos `float`.\n",
    "\n",
    "```python\n",
    "# Ejemplo de números decimales\n",
    "numero_decimal = 3.14\n",
    "otro_decimal = -0.5\n",
    "```\n",
    "\n",
    "Los números decimales pueden ser positivos o negativos y para definirlos debemos usar un punto decimal para representar la parte decimal. \n",
    "\n",
    "Es importante tener en cuenta que los números decimales en Python pueden sufrir de imprecisiones debido a la representación en binario en el ordenador. Esto puede conducir a resultados inesperados en cálculos que involucran operaciones aritméticas con números decimales. Para tareas que requieren precisión exacta, se suele recomienda el uso de bibliotecas especializadas como `decimal`."
   ]
  },
  {
   "cell_type": "code",
   "execution_count": null,
   "metadata": {},
   "outputs": [
    {
     "name": "stdout",
     "output_type": "stream",
     "text": [
      "El tipo de la variable altura es:  1.78\n",
      "El tipo de dato de la variable altura es:  <class 'float'>\n"
     ]
    }
   ],
   "source": [
    "# definimos una variable llamada 'altura' que toma el valor de 1.87\n",
    "# Fijaos como hemos definido el número decimal usando \".\"\n",
    "altura = 1.78\n",
    "\n",
    "# mostramos por pantalla el valor de la variable 'altura\" usando la función 'print()'\n",
    "print(\"El tipo de la variable altura es: \", altura )\n",
    "\n",
    "# mostramos por pantalla el tipo de la variable 'altura' usando la función 'type()' en combinación con la función 'print()'\n",
    "print(\"El tipo de dato de la variable altura es: \", type(altura))"
   ]
  },
  {
   "cell_type": "markdown",
   "metadata": {},
   "source": [
    "# Números complejos (*complex*)\n",
    "\n",
    "Los números complejos son una extensión de los números reales que incluyen una parte real y una parte imaginaria. En Python, los números complejos se representan utilizando el tipo de datos `complex`.\n",
    "\n",
    "```python\n",
    "# Ejemplo de números complejos\n",
    "numero_complejo = 3 + 2j\n",
    "```\n",
    "\n",
    "En estos ejemplos, `3` es la parte real y `2j` es la parte imaginaria del número complejo. La `j` se utiliza para denotar la parte imaginaria en Python.\n",
    "\n",
    "Los números complejos son útiles en matemáticas y ciencias, donde se encuentran en ecuaciones y cálculos que involucran fenómenos físicos y matemáticos complejos, como la teoría de números, análisis de circuitos eléctricos, procesamiento de señales, entre otros.\n",
    "\n",
    "Python proporciona funciones y métodos integrados para trabajar con números complejos, lo que permite realizar operaciones como suma, resta, multiplicación, división, módulo, fase, entre otros, de manera sencilla y eficiente."
   ]
  },
  {
   "cell_type": "code",
   "execution_count": null,
   "metadata": {},
   "outputs": [
    {
     "name": "stdout",
     "output_type": "stream",
     "text": [
      "El valor de la variable numero_complejo es (5+8j)\n",
      "El tipo de dato de la variable numero_complejo es <class 'complex'>\n"
     ]
    }
   ],
   "source": [
    "# definimos una variable llamada 'numero_complejo' que toma el valor '5 + 8j'\n",
    "numero_complejo = 5 + 8j\n",
    "\n",
    "# mostramos por pantalla el valor de la variable 'numero_complejo' usando 'print()'\n",
    "print(f\"El valor de la variable numero_complejo es {numero_complejo}\")\n",
    "\n",
    "# mostramos por pantalla el tipo de dato de la variable 'numero_complejo' usando la función 'type()'\n",
    "print(f\"El tipo de dato de la variable numero_complejo es {type(numero_complejo)}\")"
   ]
  },
  {
   "cell_type": "markdown",
   "metadata": {},
   "source": [
    "# Cadenas de caracteres o *strings*\n",
    "\n",
    "Los *strings* son una secuencia de caracteres encerrados entre comillas simples (''), comillas dobles (\"\") o triple comillas (''' o \"\"\"). Son muy versátiles y se utilizan para almacenar texto, ya sea una letra,  una sola palabra, una frase o incluso varios párrafos.\n",
    "\n",
    "Un aspecto importante de los *strings* es su inmutabilidad, lo que significa que una vez que se crea un *string*, no se puede modificar. Por ejemplo, si tenemos el *string* 'Hola', no podremos cambiar la 'H' por una 'J' directamente en el *string* existente. En cambio, tendríamos que crear un nuevo *string* con la modificación deseada.\n",
    "\n",
    "```python\n",
    "# Ejemplo de *string*\n",
    "mensaje = 'Hola Mundo!'\n",
    "\n",
    "# Intentar cambiar una letra en el *string* existente genera un error\n",
    "mensaje[0] = 'J'  # Esto generará un TypeError\n",
    "```\n",
    "\n",
    "Sin embargo, los *strings* admiten una amplia gama de operaciones y métodos para manipular y trabajar con ellos, que veremos más adelante. Puedes concatenar *strings*, dividirlos, buscar subcadenas, convertirlos a mayúsculas o minúsculas, y mucho más.\n",
    "\n",
    "\n",
    "Los *strings* son una parte fundamental de Python y se utilizan en una amplia variedad de aplicaciones, desde manipulación de texto hasta procesamiento de datos y generación de informes. Entender cómo trabajar con *strings* te permitirá aprovechar al máximo el poder de Python para tareas relacionadas con el texto."
   ]
  },
  {
   "cell_type": "code",
   "execution_count": null,
   "metadata": {},
   "outputs": [
    {
     "name": "stdout",
     "output_type": "stream",
     "text": [
      "El valor de la variable numero_complejo es 'Buenos dias, estamos aprendiendo Python'\n",
      "El tipo de dato de la variable numero_complejo es <class 'str'>\n"
     ]
    }
   ],
   "source": [
    "# definimos una variable llamada 'frase' que toma el valor 'Buenos dias, estamos aprendiendo Python'\n",
    "frase = \"Buenos dias, estamos aprendiendo Python\"\n",
    "\n",
    "# mostramos por pantalla el valor de la variable 'frase' usando 'print()'\n",
    "print(f\"El valor de la variable frase es '{frase}'\")\n",
    "\n",
    "# mostramos por pantalla el tipo de dato de la variable 'frase' usando la función 'type()'\n",
    "print(f\"El tipo de dato de la variable frase es {type(frase)}\")"
   ]
  },
  {
   "cell_type": "code",
   "execution_count": null,
   "metadata": {},
   "outputs": [
    {
     "name": "stdout",
     "output_type": "stream",
     "text": [
      "El valor de la variable numero_complejo es: \n",
      "  Buenos dias, estamos aprendiendo Python.\n",
      "              En este caso estamos aprendiendo strings\n",
      "              \n",
      "El tipo de dato de la variable numero_complejo es <class 'str'>\n"
     ]
    }
   ],
   "source": [
    "# podemos definir strings con triples comillas (\"\"\" frase \"\"\"). \n",
    "# Normalmente usaremos este tipo de sintaxis para escribir string en múltiples lineas, o parrafos\n",
    "parrafo = \"\"\" Buenos dias, estamos aprendiendo Python.\n",
    "              En este caso estamos aprendiendo strings\n",
    "              \"\"\"\n",
    "\n",
    "# mostramos por pantalla el valor de la variable 'parrafo' usando 'print()'\n",
    "print(f\"El valor de la variable parrafo es: \\n {parrafo}\") # el símbolo \\n indica el salto de linea. \n",
    "\n",
    "# mostramos por pantalla el tipo de dato de la variable 'parrafo' usando la función 'type()'\n",
    "print(f\"El tipo de dato de la variable parrafo es {type(parrafo)}\")"
   ]
  },
  {
   "cell_type": "markdown",
   "metadata": {},
   "source": [
    "# Booleanos\n",
    "\n",
    "Los booleanos son un tipo de dato que puede tener uno de dos valores: `True` (verdadero) o `False` (falso). Son utilizados para representar estados de verdad en la lógica booleana y son fundamentales en programación para tomar decisiones y controlar el flujo del programa. Por lo tanto, los tipos de booleanos que tenemos son:\n",
    "\n",
    "\n",
    "- **True:** Representa el valor verdadero. Se utiliza cuando una afirmación o condición es cierta.\n",
    "\n",
    "- **False:** Representa el valor falso. Se utiliza cuando una afirmación o condición es falsa.\n",
    "\n",
    "Las principales funcionalidades de este tipo de datos son: \n",
    "- **Evaluación de condiciones:** Los booleanos se utilizan para evaluar condiciones en estructuras de control como condicionales (if, elif, else) y bucles (while, for).\n",
    "\n",
    "- **Control de flujo:** Permiten controlar el flujo de ejecución del programa. Según el valor de verdad de una expresión booleana, el programa tomará diferentes caminos.\n",
    "\n",
    "- **Comparaciones:** Se utilizan para comparar valores y realizar operaciones lógicas como igualdad, desigualdad, mayor que, menor que, etc.\n",
    "\n",
    "- **Asignación de estados:** Los booleanos se utilizan para asignar estados a variables que representan condiciones, como el estado de un interruptor (encendido/apagado) o el estado de un proceso (activo/inactivo).\n"
   ]
  },
  {
   "cell_type": "code",
   "execution_count": null,
   "metadata": {},
   "outputs": [
    {
     "name": "stdout",
     "output_type": "stream",
     "text": [
      "El valor de la variable booleano es: True\n",
      "El tipo de dato de la variable booleano es <class 'bool'>\n"
     ]
    }
   ],
   "source": [
    "# definimos una variable llamada 'booleano' que toma el valor 'True'\n",
    "booleano = True\n",
    "\n",
    "# mostramos por pantalla el valor de la variable 'booleano' usando 'print()'\n",
    "print(f\"El valor de la variable booleano es: {booleano}\")\n",
    "\n",
    "# mostramos por pantalla el tipo de dato de la variable 'booleano' usando la función 'type()'\n",
    "print(f\"El tipo de dato de la variable booleano es {type(booleano)}\")"
   ]
  },
  {
   "cell_type": "markdown",
   "metadata": {},
   "source": [
    "# NoneType\n",
    "\n",
    "NoneType es un tipo de dato que representa la ausencia de valor o la falta de un valor válido. Es único y se utiliza para indicar que una variable o expresión no tiene un valor asignado o que su valor es nulo. Sus características principales son:\n",
    "\n",
    "- **Único valor:** None es el único valor del tipo NoneType en Python.\n",
    "\n",
    "- **Indicador de ausencia:** Se utiliza para indicar la falta de un valor válido.\n",
    "\n",
    "- **Evaluación a falso:** En contextos booleanos, None se evalúa como False.\n",
    "\n",
    "En general lo usaremos para:\n",
    "\n",
    "- **Inicialización de variables:** Se utiliza para inicializar variables que aún no tienen un valor asignado, pero que necesitan ser declaradas.\n",
    "\n",
    "- **Valor de retorno:** Las funciones pueden devolver None para indicar que no retornan ningún valor útil.\n",
    "\n",
    "- **Parámetros opcionales:** Se puede utilizar como valor predeterminado para parámetros de funciones que son opcionales.\n",
    "\n",
    "- **Sentencias de control:** Se puede usar en condicionales (if, elif, else) para verificar si una variable es None o no.\n",
    "\n",
    "<div style=\"background-color: #F74646; padding: 10px; border-left: 6px solid #000080; color: black; border-radius: 10px;\">\n",
    "\n",
    "**Cuidado con None:**\n",
    "\n",
    "- Es importante tener en cuenta que None no es lo mismo que cero, una cadena vacía o una lista vacía. None representa la ausencia de valor, mientras que los otros valores representan valores específicos.\n",
    "- Al trabajar con funciones que pueden devolver None, es importante manejar correctamente este caso en el código para evitar errores de tipo NoneType.\n",
    "</div>"
   ]
  },
  {
   "cell_type": "markdown",
   "metadata": {},
   "source": [
    "# Datos de tipo Fecha y Hora\n",
    "\n",
    "Los datos de tipo `datetime` proporciona variables para trabajar con fechas y horas de una manera eficiente. Son útiles para manejar operaciones relacionadas con fechas y horas que involucran programación de calendarios, manejo de datos temporales y más. Algunas de las funciones más importantes que tenemos son:\n",
    "\n",
    "\n",
    "- **`datetime`**: Representa una combinación de fecha y hora. Es la más utilizada y proporciona métodos para manipular fechas y horas, como obtener el año, mes, día, hora, minuto, segundo, etc.\n",
    "\n",
    "- **`date`**: Representa una fecha (año, mes y día) sin información sobre la hora.\n",
    "\n",
    "- **`time`**: Representa una hora (hora, minuto, segundo y microsegundo) sin información sobre la fecha.\n",
    "\n",
    "- **`timedelta`**: Representa la diferencia entre dos objetos `datetime`, `date` o `time`. Se utiliza comúnmente para realizar cálculos de tiempo, como sumar o restar días, horas, etc."
   ]
  },
  {
   "cell_type": "code",
   "execution_count": null,
   "metadata": {},
   "outputs": [
    {
     "name": "stdout",
     "output_type": "stream",
     "text": [
      "El valor de la variable dia_actual es: 2024-04-16 00:24:36.596649\n",
      "El tipo de dato de la variable dia_actual es <class 'datetime.datetime'>\n"
     ]
    }
   ],
   "source": [
    "# para trabajar con este tipo de datos necesitamos importar la siguiente librería\n",
    "from datetime import datetime, date, time, timedelta\n",
    "\n",
    "# Creamos una variable 'dia_actual' que toma el valor de la fecha de hoy\n",
    "dia_actual = datetime.now()\n",
    "\n",
    "# mostramos por pantalla el valor de la variable 'dia_actual' usando 'print()'\n",
    "print(f\"El valor de la variable dia_actual es: {dia_actual}\")\n",
    "\n",
    "# mostramos por pantalla el tipo de dato de la variable 'dia_actual' usando la función 'type()'\n",
    "print(f\"El tipo de dato de la variable dia_actual es {type(dia_actual)}\")\n"
   ]
  },
  {
   "cell_type": "markdown",
   "metadata": {},
   "source": [
    "# Operadores en Python\n",
    "\n",
    "\n",
    "En este apartado, aprenderemos las operaciones fundamentales que se pueden realizar en Python, las principales son: \n",
    "\n",
    "- **Operaciones aritméticas**, como suma, resta, multiplicación, división y exponenciación, que son básicas para realizar cálculos matemáticos.\n",
    "\n",
    "- **Operaciones de asignación** incluyen operadores como `=`, `+=`, `-=`, y `*=`, que combinan una operación aritmética con la asignación de valores a las variables, haciendo el código más eficiente.\n",
    "\n",
    "- **Operaciones de comparación** (`==`, `!=`, `>`, `<`, `>=`, `<=`) nos permiten comparar valores y obtener resultados booleanos, esenciales para la toma de decisiones en el programa.\n",
    "\n",
    "-  **Operaciones lógicas** (`and`, `or`, `not`) permiten combinar múltiples condiciones booleanas, controlando el flujo de ejecución del programa de manera precisa."
   ]
  },
  {
   "cell_type": "markdown",
   "metadata": {},
   "source": [
    "## Operadores aritméticos\n",
    "\n",
    "Las operaciones aritméticas son operaciones matemáticas que se realizan sobre números para realizar cálculos y manipulaciones. En Python, tenemos varios tipos de operaciones aritméticas que son útiles en una amplia gama de aplicaciones. Aquí tienes una explicación detallada:\n",
    "\n",
    "\n",
    "- **Suma (+)**: Se utiliza para sumar dos números.\n",
    "\n",
    "- **Resta (-)**: Se utiliza para restar un número de otro.\n",
    "\n",
    "- **Multiplicación (\\*)**: Se utiliza para multiplicar dos números.\n",
    "\n",
    "- **División (/)**: Se utiliza para dividir un número entre otro. En Python 3.x, esta operación devuelve un resultado de punto flotante incluso si los operandos son enteros.\n",
    "\n",
    "- **División entera (//)**: Se utiliza para realizar la división entera entre dos números. Devuelve solo la parte entera del cociente.\n",
    "\n",
    "- **Módulo (%)**: Devuelve el resto de la división entre dos números.\n",
    "\n",
    "- **Potenciación (\\*\\*)**: Se utiliza para elevar un número a una potencia especificada."
   ]
  },
  {
   "cell_type": "code",
   "execution_count": 1,
   "metadata": {},
   "outputs": [
    {
     "name": "stdout",
     "output_type": "stream",
     "text": [
      "Has recibido un ingreso, tu nuevo saldo es 335\n",
      "Has gastado dinero, tu nuevo saldo es 220\n",
      "Has tenido múltiples movidas en tu cuenta, tu saldo actual es 320\n"
     ]
    }
   ],
   "source": [
    "# definimos tres variables numéricas de tipo int\n",
    "saldo = 235\n",
    "ingreso = 100\n",
    "gasto = 15\n",
    "\n",
    "# creamos nuestro primer print, con la suma de dos de las variables definidas previamente\n",
    "print('Has recibido un ingreso, tu nuevo saldo es',saldo + ingreso)\n",
    "\n",
    "# mostramos por pantalla el resultado de la resta de dos variables\n",
    "print('Has gastado dinero, tu nuevo saldo es',saldo - gasto)\n",
    "\n",
    "# volvemos a definir la variable 'saldo' resultado de la combinación de operaciones\n",
    "saldo = saldo + ingreso - gasto\n",
    "print('Has tenido múltiples movidas en tu cuenta, tu saldo actual es',saldo)\n"
   ]
  },
  {
   "cell_type": "code",
   "execution_count": 3,
   "metadata": {},
   "outputs": [
    {
     "name": "stdout",
     "output_type": "stream",
     "text": [
      "Hemos vendido 15 unidades.\n"
     ]
    }
   ],
   "source": [
    "# sigamos con la multiplicación, usando el operado '*'\n",
    "# definimos dos variables de tipo integer\n",
    "unidades = 3\n",
    "cantidad_ventas = 5\n",
    "\n",
    "# creamos la variable 'productos_vendidos' resultado de la multiplicación de las dos variables definidas previamente\n",
    "productos_vendidos = unidades * cantidad_ventas\n",
    "print(f'Hemos vendido {productos_vendidos} unidades.')\n"
   ]
  },
  {
   "cell_type": "code",
   "execution_count": 7,
   "metadata": {},
   "outputs": [
    {
     "name": "stdout",
     "output_type": "stream",
     "text": [
      "El número de botellas por persona usando la división: 2.4285714285714284\n",
      "El número de botellas por persona usando la división entera: 2\n"
     ]
    }
   ],
   "source": [
    "# veamos ahora la división y la división entera para ver sus diferencias\n",
    "botellas= 17\n",
    "personas = 7\n",
    "\n",
    "# vamos a crear una variable 'botellas_persona' para saber a cuantas botellas tocamos por persona\n",
    "botellas_persona = botellas / personas\n",
    "print(f\"El número de botellas por persona usando la división: {botellas_persona}\")\n",
    "\n",
    "# hacemos lo mismo con la división entera\n",
    "botellas_persona_entera = botellas // personas\n",
    "print(f\"El número de botellas por persona usando la división entera: {botellas_persona_entera}\")\n",
    "\n",
    "# Fijaos como la diferencia esta en que la división entera solo nos devuelve la parte entera de la división"
   ]
  },
  {
   "cell_type": "code",
   "execution_count": 9,
   "metadata": {},
   "outputs": [
    {
     "name": "stdout",
     "output_type": "stream",
     "text": [
      "La raíz de 5 es 2.23606797749979\n"
     ]
    }
   ],
   "source": [
    "# veamos ahora el operador **, que nos permite elevar un número a otro\n",
    "variable = 5\n",
    "raiz = variable ** 0.5\n",
    "print(f'La raíz de {variable} es {raiz}')"
   ]
  },
  {
   "cell_type": "markdown",
   "metadata": {},
   "source": [
    "A menudo, no necesitamos todos los decimales de un valor numérico. Por ejemplo, si el valor representa una cantidad en euros, generalmente solo nos interesan los céntimos, es decir, los primeros dos decimales.\n",
    "\n",
    "Para redondear números en Python, utilizamos la función `round()`. Esta función toma como argumento la variable o el número que deseas redondear. Opcionalmente, puedes agregar un segundo argumento para especificar el número de decimales que te interesan. Si no se proporciona este segundo argumento, el valor por defecto es `0`."
   ]
  },
  {
   "cell_type": "code",
   "execution_count": 12,
   "metadata": {},
   "outputs": [
    {
     "name": "stdout",
     "output_type": "stream",
     "text": [
      "El precio unitario del producto es 13.14€\n"
     ]
    }
   ],
   "source": [
    "# definimos una variable de tipo float\n",
    "total_factura = 236.45\n",
    "\n",
    "# definimos una variable de tipo integer\n",
    "unidades_vendidas= 18\n",
    "\n",
    "# calculamos el precio unitario de cada unidad y redondeamos a dos decimales usando la funcion round\n",
    "precio_unitario = round(total_factura/unidades_vendidas,2)\n",
    "print(f\"El precio unitario del producto es {precio_unitario}€\")"
   ]
  },
  {
   "cell_type": "markdown",
   "metadata": {},
   "source": [
    "## Operadores de Comparación\n",
    "\n",
    "Los operadores de comparación se utilizan para comparar dos valores y devolver un resultado booleano (`True` o `False`). Son fundamentales en la toma de decisiones y el control del flujo del programa, permitiendo evaluar condiciones dentro de sentencias condicionales (`if`, `elif`, `else`) y bucles (`while`, `for`). Los operadores de comparación más comunes:\n",
    "\n",
    "-  Igualdad (`==`): Compara si dos valores son iguales.\n",
    "\n",
    "    ```python\n",
    "    a = 5\n",
    "    b = 5\n",
    "    resultado = (a == b)  # True\n",
    "    ```\n",
    "\n",
    "- Desigualdad (`!=`): Compara si dos valores son diferentes.\n",
    "\n",
    "    ```python\n",
    "    a = 5\n",
    "    b = 3\n",
    "    resultado = (a != b)  # True\n",
    "    ```\n",
    "\n",
    "- Mayor que (`>`): Compara si el valor de la izquierda es mayor que el valor de la derecha.\n",
    "\n",
    "    ```python\n",
    "    a = 5\n",
    "    b = 3\n",
    "    resultado = (a > b)  # True\n",
    "    ```\n",
    "\n",
    "- Menor que (`<`): Compara si el valor de la izquierda es menor que el valor de la derecha.\n",
    "\n",
    "    ```python\n",
    "    a = 3\n",
    "    b = 5\n",
    "    resultado = (a < b)  # True\n",
    "    ```\n",
    "\n",
    "- Mayor o Igual que (`>=`): Compara si el valor de la izquierda es mayor o igual que el valor de la derecha.\n",
    "\n",
    "    ```python\n",
    "    a = 5\n",
    "    b = 5\n",
    "    resultado = (a >= b)  # True\n",
    "    ```\n",
    "\n",
    "- Menor o Igual que (`<=`): Compara si el valor de la izquierda es menor o igual que el valor de la derecha.\n",
    "\n",
    "    ```python\n",
    "    a = 3\n",
    "    b = 5\n",
    "    resultado = (a <= b)  # True\n",
    "    ```\n"
   ]
  },
  {
   "cell_type": "code",
   "execution_count": 20,
   "metadata": {},
   "outputs": [
    {
     "name": "stdout",
     "output_type": "stream",
     "text": [
      "¿Tenemos los mismos gatos que perros? False\n",
      "¿Tenemos el mismo número de perros y cobayas? True\n",
      "¿Tenemos más perros que gatos? False\n",
      "¿Tenemos menos perros que gatos? True\n",
      "¿¿Tenemos el más o igual número de perros que cobayas? True\n"
     ]
    }
   ],
   "source": [
    "# definimos tres variables que son las que vamos a trabajar, las tres de tipo integer\n",
    "num_gatos = 5\n",
    "num_perros = 1\n",
    "num_cobayas = 1\n",
    "\n",
    "# ¿Tenemos los mismos gatos que perros? Cuando queremos ver si algo es igual usaremos el operador '=='\n",
    "print(\"¿Tenemos los mismos gatos que perros?\", num_gatos == num_perros)\n",
    "\n",
    "# ¿Tenemos el mismo número de perros y cobayas? \n",
    "print(\"¿Tenemos el mismo número de perros y cobayas?\", num_perros == num_cobayas)\n",
    "\n",
    "# ¿Tenemos más perros que gatos?\n",
    "print(\"¿Tenemos más perros que gatos?\", num_perros > num_gatos)\n",
    "\n",
    "# ¿Tenemos menos perros que gatos?\n",
    "print(\"¿Tenemos menos perros que gatos?\", num_perros < num_gatos)\n",
    "\n",
    "# ¿Tenemos el más o igual número de perros que cobayas?\n",
    "print(\"¿¿Tenemos el más o igual número de perros que cobayas?\", num_perros  >= num_cobayas)"
   ]
  },
  {
   "cell_type": "markdown",
   "metadata": {},
   "source": [
    "# Operadores Lógicos\n",
    "\n",
    "En Python, los operadores lógicos `and` y `or` se utilizan para combinar múltiples expresiones condicionales y tomar decisiones basadas en múltiples condiciones. Estos operadores son fundamentales en la creación de declaraciones condicionales complejas y en la ejecución de lógica de control en programas.\n",
    "\n",
    "**Operador `and`**\n",
    "\n",
    "El operador `and` evalúa si **ambas** condiciones en una expresión compuesta son verdaderas (`True`). Si **ambas** son verdaderas, la expresión completa se evalúa como verdadera; de lo contrario, se evalúa como falsa.\n",
    "\n",
    "Su sintaxis es:\n",
    "\n",
    "```python\n",
    "condicion1 and condicion2\n",
    "```\n",
    "Donde: \n",
    "\n",
    "- `condicion1`: La primera expresión condicional.\n",
    "\n",
    "- `condicion2`: La segunda expresión condicional.\n",
    "\n",
    "**Operador `or`**\n",
    "\n",
    "El operador `or` evalúa si **al menos una** de las condiciones en una expresión compuesta es verdadera. Si **al menos una** es verdadera, la expresión completa se evalúa como verdadera; si **todas** son falsas, se evalúa como falsa.\n",
    "\n",
    "Su sintaxis es: \n",
    "\n",
    "```python\n",
    "condicion1 or condicion2\n",
    "```\n",
    "\n",
    "- `condicion1`: La primera expresión condicional.\n",
    "\n",
    "- `condicion2`: La segunda expresión condicional."
   ]
  },
  {
   "cell_type": "code",
   "execution_count": 23,
   "metadata": {},
   "outputs": [
    {
     "name": "stdout",
     "output_type": "stream",
     "text": [
      "¿Podemos llevar a nuestros amigos? True\n"
     ]
    }
   ],
   "source": [
    "# definimos la variable 'edad' de tipo integer\n",
    "edad = 25\n",
    "coche = \"Si\"\n",
    "# definimos la primera condición donde evaluamos su edad es mayor o igual que 18 y lo almacenamos en la variable 'es_mayor_edad'. \n",
    "es_mayor_de_edad = edad >= 18\n",
    "\n",
    "# definimos la segunda condición, donde evaluamos si la variable coche es igual a \"Si\"\n",
    "conduce = coche == \"Si\"\n",
    "\n",
    "# solo podremos llevar a nuestros amigos de viaje si se cumplen las dos condiciones, tener más de 18 y tener coche por lo que deberemos usar la sentencia 'and' \n",
    "llevar_amigos = es_mayor_de_edad and conduce\n",
    "print(f\"¿Podemos llevar a nuestros amigos? {llevar_amigos}\")\n",
    "\n",
    "# en este caso nos devuelve True porque las dos condiciones que establecimos son ciertas"
   ]
  },
  {
   "cell_type": "code",
   "execution_count": 24,
   "metadata": {},
   "outputs": [
    {
     "name": "stdout",
     "output_type": "stream",
     "text": [
      "¿Podemos llevar a nuestros amigos? False\n"
     ]
    }
   ],
   "source": [
    "# si cambiaramos alguna de las condiciones, para que una de ellas no se cumpla, ¿qué pasaría? \n",
    "# en este caso vamos a definir la variable de edad es 10\n",
    "edad = 10\n",
    "coche = \"Si\"\n",
    "# definimos la primera condición donde evaluamos su edad es mayor o igual que 18 y lo almacenamos en la variable 'es_mayor_edad'. \n",
    "es_mayor_de_edad = edad >= 18\n",
    "\n",
    "# definimos la segunda condición, donde evaluamos si la variable coche es igual a \"Si\"\n",
    "conduce = coche == \"Si\"\n",
    "\n",
    "# solo podremos llevar a nuestros amigos de viaje si se cumplen las dos condiciones, tener más de 18 y tener coche por lo que deberemos usar la sentencia 'and' \n",
    "llevar_amigos = es_mayor_de_edad and conduce\n",
    "print(f\"¿Podemos llevar a nuestros amigos? {llevar_amigos}\")\n",
    "\n",
    "# en este caso nos devuelve False, porque hay una de las condiciones que no se cumple, que es la de ser mauor de 18. "
   ]
  },
  {
   "cell_type": "code",
   "execution_count": 25,
   "metadata": {},
   "outputs": [
    {
     "name": "stdout",
     "output_type": "stream",
     "text": [
      "¿Le podemos ofrecer una promoción al cliente? True\n"
     ]
    }
   ],
   "source": [
    "# entendamos el 'or'. de nuevo definimos dos variables\n",
    "# definimos dos variables de tipo integer\n",
    "años_como_cliente = 3\n",
    "compras_en_ultimo_año = 15\n",
    "\n",
    "# definimos las dos condiciones que vamos a evaluar. \n",
    "# en la primera, evaluamos si lleva mas de 5 años como clientes y lo almacenamos en la variable 'es_cliente_antiguo' \n",
    "es_cliente_antiguo = años_como_cliente > 5\n",
    "\n",
    "# la segunda condición evalúa si el cliente hizo mas de 10 compras en el último año\n",
    "ha_comprado_suficiente = compras_en_ultimo_año > 10\n",
    "\n",
    "# Si el cliente lleva más de 5 años con nosotros O ha comprado mas de 10 veces en el último año, le ofreceremos una promoción\n",
    "es_elegible_para_promocion = es_cliente_antiguo or ha_comprado_suficiente\n",
    "\n",
    "print(f\"¿Le podemos ofrecer una promoción al cliente? {es_elegible_para_promocion}\")\n",
    "\n",
    "# en este caso sale True, porque se cumple AL MENOS UNA de las condiciones"
   ]
  },
  {
   "cell_type": "markdown",
   "metadata": {},
   "source": [
    "Incluso, podemos combinar operadores `and` y `or`. Supongamos que una plataforma en línea ofrece una membresía premium a los usuarios. Para ser elegible, los usuarios deben cumplir las siguientes condiciones:\n",
    "\n",
    "1. Condiciones Principales (al menos una debe ser verdadera):\n",
    "\n",
    "   - Ser un usuario registrado (con una cuenta activa).\n",
    "\n",
    "   - Ser un invitado especial (usuario invitado por la administración).\n",
    "\n",
    "2. Condiciones Secundarias (ambas deben ser verdaderas):\n",
    "\n",
    "   - Haber realizado al menos 5 compras en el último año.\n",
    "\n",
    "   - Tener una puntuación de lealtad de al menos 50.\n",
    "\n",
    "Solo si una de las condiciones principales es verdadera **y** ambas condiciones secundarias son verdaderas, el usuario será elegible para la membresía premium."
   ]
  },
  {
   "cell_type": "code",
   "execution_count": 27,
   "metadata": {},
   "outputs": [
    {
     "name": "stdout",
     "output_type": "stream",
     "text": [
      "¿puede recibir el cliene una membresía premium? True\n"
     ]
    }
   ],
   "source": [
    "# Información del usuario\n",
    "es_usuario_registrado = True\n",
    "es_invitado_especial = False\n",
    "compras_en_ultimo_año = 6\n",
    "puntuacion_lealtad = 55\n",
    "\n",
    "# definimos una variable con las condiciones principales\n",
    "es_elegible_principal = es_usuario_registrado or es_invitado_especial\n",
    "\n",
    "# definimos otra variable con las condiciones secundarias\n",
    "es_elegible_secundario = (compras_en_ultimo_año >= 5) and (puntuacion_lealtad >= 50)\n",
    "\n",
    "# combinamos es_elegible_principal y es_elegible_secundario usando and. Ambas deben ser True para que es_elegible_para_membresia_premium sea True.\n",
    "es_elegible_para_membresia_premium = es_elegible_principal and es_elegible_secundario\n",
    "print(f\"¿puede recibir el cliene una membresía premium? {es_elegible_para_membresia_premium}\")"
   ]
  },
  {
   "cell_type": "markdown",
   "metadata": {},
   "source": [
    "<div style=\"background-color: #F74646; padding: 10px; border-left: 6px solid #000080; color: black; border-radius: 10px;\">\n",
    "\n",
    "**Qué se evalúa antes, ¿el `and` o el `or`?**\n",
    "\n",
    "`and` tiene mayor precedencia que `or`. Esto significa que las expresiones con `and` se evalúan antes que las expresiones con `or` cuando no se usan paréntesis para especificar el orden. Por esto, para evitar ambigüedades y mejorar la legibilidad, es recomendable usar paréntesis para agrupar las condiciones. \n",
    "\n",
    "</div>\n"
   ]
  },
  {
   "cell_type": "markdown",
   "metadata": {},
   "source": [
    "# Conversión de datos \n",
    "\n",
    "La conversión de datos, también conocida como “*casting*”, es el proceso de transformar un valor de un tipo de dato a otro. La conversión de tipos es crucial cuando trabajamos con diferentes tipos de datos y necesitamos que se integren o interactúen correctamente. Python proporciona funciones integradas para convertir un tipo de dato en otro, como convertir cadenas a enteros, números a cadenas, y más.\n",
    "\n",
    "Para realizar una conversión explícita, usamos funciones integradas de Python para convertir un tipo de dato a otro según sea necesario. Algunas de las funciones más comunes son `int()`, `float()`, `str()`, `bool()`. \n"
   ]
  },
  {
   "cell_type": "code",
   "execution_count": 28,
   "metadata": {},
   "outputs": [
    {
     "name": "stdout",
     "output_type": "stream",
     "text": [
      "El resultado de la suma es: 13.14\n",
      "El tipo de la variable 'resultado es:  <class 'float'>\n"
     ]
    }
   ],
   "source": [
    "#  Python a veces convierte automáticamente un tipo de dato a otro cuando es necesario. \n",
    "# Esto se llama conversión implícita o \"type coercion\". \n",
    "# Suma de un entero y y float\n",
    "numero_entero = 10\n",
    "numero_flotante = 3.14\n",
    "\n",
    "# creamos una variable llamada 'resultado' que es el resultado de sumar las dos variables definidas previamente\n",
    "resultado = numero_entero + numero_flotante\n",
    "print(\"El resultado de la suma es:\", resultado)  \n",
    "print(\"El tipo de la variable 'resultado es: \", type(resultado)) \n",
    "\n",
    "#Aquí, Python convierte implícitamente `numero_entero` a un floar antes de realizar la suma, porque el resultado es de tipo `float`."
   ]
  },
  {
   "cell_type": "code",
   "execution_count": 32,
   "metadata": {},
   "outputs": [
    {
     "name": "stdout",
     "output_type": "stream",
     "text": [
      "El resultado de convertir 12.34 a entero es:  12\n",
      "El resultado de convertir 100 a entero es:  100\n"
     ]
    },
    {
     "ename": "ValueError",
     "evalue": "invalid literal for int() with base 10: 'Python'",
     "output_type": "error",
     "traceback": [
      "\u001b[0;31m---------------------------------------------------------------------------\u001b[0m",
      "\u001b[0;31mValueError\u001b[0m                                Traceback (most recent call last)",
      "Cell \u001b[0;32mIn[32], line 20\u001b[0m\n\u001b[1;32m     18\u001b[0m \u001b[38;5;66;03m# PERO CUIDADO, NO TODOS LOS STRINGS SE PUEDEN CONVERTIR A INT, como en el ejemplo que vemos a continuación\u001b[39;00m\n\u001b[1;32m     19\u001b[0m lenguaje \u001b[38;5;241m=\u001b[39m \u001b[38;5;124m\"\u001b[39m\u001b[38;5;124mPython\u001b[39m\u001b[38;5;124m\"\u001b[39m\n\u001b[0;32m---> 20\u001b[0m numero \u001b[38;5;241m=\u001b[39m \u001b[38;5;28;43mint\u001b[39;49m\u001b[43m(\u001b[49m\u001b[43mlenguaje\u001b[49m\u001b[43m)\u001b[49m\n",
      "\u001b[0;31mValueError\u001b[0m: invalid literal for int() with base 10: 'Python'"
     ]
    }
   ],
   "source": [
    "# convertir a Entero: `int()`, el cual convierte un valor a entero. Si se trata de un número decimal, la parte decimal se trunca.\n",
    "# definimos una variable de tipo float\n",
    "valor_flotante = 12.34\n",
    "\n",
    "# convertimos la variable a integer usando la función 'int()' \n",
    "valor_entero = int(valor_flotante)\n",
    "print(f\"El resultado de convertir {valor_flotante} a entero es: \", valor_entero) \n",
    "\n",
    "\n",
    "# PONGAMOS AHORA UN EJEMPLO DE STRING A INT\n",
    "# definimos una variable de tipo string con un número en el interior\n",
    "cadena_numero = \"100\"\n",
    "\n",
    "# lo convertimos a entero\n",
    "numero_entero = int(cadena_numero)\n",
    "print(f\"El resultado de convertir {cadena_numero} a entero es: \", cadena_numero) \n",
    "\n",
    "# PERO CUIDADO, NO TODOS LOS STRINGS SE PUEDEN CONVERTIR A INT, como en el ejemplo que vemos a continuación\n",
    "# ya que las letras nunca se podrán convertir a número, obtendremos el siguiente error: ValueError: invalid literal for int() with base 10: 'Python'\n",
    "lenguaje = \"Python\"\n",
    "numero = int(lenguaje)\n"
   ]
  },
  {
   "cell_type": "code",
   "execution_count": 34,
   "metadata": {},
   "outputs": [
    {
     "name": "stdout",
     "output_type": "stream",
     "text": [
      "El número 7 convertido a decimal es:  7.0\n"
     ]
    }
   ],
   "source": [
    "# Convertir a Flotante: `float()` Convierte un valor a flotante.\n",
    "# definimos una variable de tipo int\n",
    "numero_entero = 7\n",
    "\n",
    "# la convertimos a decimal, usando la función 'float()'\n",
    "numero_flotante = float(numero_entero)\n",
    "print(f\"El número {numero_entero} convertido a decimal es: \", numero_flotante)  \n",
    "\n",
    "# lo mismo podremos hacer con un string que contenga números como vimos en el caso de las conversiones a integer. "
   ]
  },
  {
   "cell_type": "code",
   "execution_count": 37,
   "metadata": {},
   "outputs": [
    {
     "name": "stdout",
     "output_type": "stream",
     "text": [
      "la variable 'numero_entero' que es de tipo <class 'int'> cambia su tipo a: <class 'str'>\n"
     ]
    }
   ],
   "source": [
    "# Convertir a Cadena: `str()` convierte un valor a cadena.\n",
    "# definimos una variable de tipo integer, pero podría ser también de tipo float\n",
    "numero_entero = 2024\n",
    "\n",
    "# lo convertimos a string\n",
    "cadena_numero = str(numero_entero)\n",
    "print(f\"la variable 'numero_entero' que es de tipo {type(numero_entero)} cambia su tipo a:\", type(cadena_numero)) "
   ]
  },
  {
   "cell_type": "code",
   "execution_count": 38,
   "metadata": {},
   "outputs": [
    {
     "name": "stdout",
     "output_type": "stream",
     "text": [
      "True\n",
      "False\n",
      "True\n",
      "False\n"
     ]
    }
   ],
   "source": [
    "# Convertir a Booleano: `bool()` Convierte un valor a booleano. \n",
    "# En Python, `0`, `0.0`, `\"\"`, `None` se evalúan como `False`, y cualquier otro valor se evalúa como `True`.\n",
    "print(bool(1))  # Salida: True\n",
    "print(bool(0))  # Salida: False\n",
    "\n",
    "# De cadena a booleano\n",
    "print(bool(\"Python\"))  # Salida: True\n",
    "print(bool(\"\"))  # Salida: False"
   ]
  },
  {
   "cell_type": "markdown",
   "metadata": {},
   "source": [
    "# `input()`\n",
    "\n",
    "Permite pausar la ejecución del programa y esperar a que el usuario ingrese algún dato, que luego se puede procesar dentro del programa. Es especialmente útil para crear programas interactivos y dinámicos. Es importante destacar que el tipo de dato que devuelve esta función es de tipo *string*.\n",
    "\n",
    "La sintaxis básica es:\n",
    "\n",
    "```python\n",
    "variable = input(\"Mensaje para el usuario: \")\n",
    "```\n",
    "Donde: \n",
    "\n",
    "- **\"Mensaje para el usuario\"**: Es una cadena de texto que se muestra al usuario antes de que ingrese su respuesta. Es opcional, pero ayuda a indicar al usuario qué tipo de entrada se espera.\n",
    "\n",
    "\n",
    "Normalmente usaremos esta función para: \n",
    "\n",
    "- La función `input` la usaremos para crear programas interactivos donde el usuario puede proporcionar datos que el programa procesará.\n",
    "\n",
    "- Podemos usar `input` para capturar varios datos del usuario y generar resultados personalizados.\n",
    "\n",
    "- Crear menús donde el usuario puede seleccionar opciones para ejecutar diferentes partes del programa.\n"
   ]
  },
  {
   "cell_type": "code",
   "execution_count": 3,
   "metadata": {},
   "outputs": [
    {
     "name": "stdout",
     "output_type": "stream",
     "text": [
      "Hola Lola !\n",
      "El tipo de la variable 'nombre' es: <class 'str'>\n"
     ]
    }
   ],
   "source": [
    "# creamos una variable llamada 'nombre' que almacenerá el resultado de la función input\n",
    "# cuando ejecutemos la celda, en la parte superior central aparecera una pequeña ventana donde podremos escribir lo que deseemos\n",
    "nombre = input(\"Por favor, ingresa tu nombre: \")\n",
    "\n",
    "# mostramos por pantalla el mensaje escrito en el input\n",
    "print(\"Hola\", nombre, \"!\")\n",
    "\n",
    "# mostramos el tipo de dato que es la variable 'nombre' \n",
    "print(\"El tipo de la variable 'nombre' es:\", type(nombre))"
   ]
  },
  {
   "cell_type": "code",
   "execution_count": 5,
   "metadata": {},
   "outputs": [
    {
     "name": "stdout",
     "output_type": "stream",
     "text": [
      "Tienes 67 años.\n",
      "El tipo de la variable 'edad' es: <class 'int'>\n"
     ]
    }
   ],
   "source": [
    "# como hemos dicho, la función input devuelve un string, si quisieramos usar la función input para generar una variable de tipo numérico\n",
    "# deberíamos usar los métodos de casteo que acabamos de aprender en combinación con la función input\n",
    "edad = int(input(\"Por favor, ingresa tu edad: \"))\n",
    "\n",
    "# mostramos por pantalla el resultado \n",
    "print(\"Tienes\", edad,  \"años.\")\n",
    "\n",
    "# vemos el tipo de la variable 'edad'\n",
    "print(\"El tipo de la variable 'edad' es:\", type(edad))"
   ]
  },
  {
   "cell_type": "code",
   "execution_count": 6,
   "metadata": {},
   "outputs": [
    {
     "name": "stdout",
     "output_type": "stream",
     "text": [
      "Tu altura es 0.28 metros.\n",
      "El tipo de la variable 'altura' es: <class 'float'>\n"
     ]
    }
   ],
   "source": [
    "# también lo podemos usar para generar variables de tipo float. Recordad que los decimales en Python se ponen con \".\"\"\n",
    "altura = float(input(\"Por favor, ingresa tu altura en metros: \"))\n",
    "\n",
    "# mostramos el resultado de la variable \n",
    "print(f\"Tu altura es\", altura, \"metros.\")\n",
    "\n",
    "# vemos el tipo de la variable 'edad'\n",
    "print(\"El tipo de la variable 'altura' es:\", type(altura))"
   ]
  }
 ],
 "metadata": {
  "colab": {
   "collapsed_sections": [],
   "name": "01-variables-v3.ipynb",
   "provenance": [
    {
     "file_id": "1tXHJR8cKSo08vDdGSAm7rJsLK5DWWU6k",
     "timestamp": 1641196405601
    },
    {
     "file_id": "1nJs_RCWTcl0l6j6i5mHhZveMzPQQGsS6",
     "timestamp": 1639740222910
    }
   ]
  },
  "kernelspec": {
   "display_name": "Python 3 (ipykernel)",
   "language": "python",
   "name": "python3"
  },
  "language_info": {
   "codemirror_mode": {
    "name": "ipython",
    "version": 3
   },
   "file_extension": ".py",
   "mimetype": "text/x-python",
   "name": "python",
   "nbconvert_exporter": "python",
   "pygments_lexer": "ipython3",
   "version": "3.12.4"
  },
  "toc": {
   "base_numbering": 1,
   "nav_menu": {},
   "number_sections": true,
   "sideBar": true,
   "skip_h1_title": false,
   "title_cell": "Table of Contents",
   "title_sidebar": "Contents",
   "toc_cell": true,
   "toc_position": {
    "height": "calc(100% - 180px)",
    "left": "10px",
    "top": "150px",
    "width": "302.398px"
   },
   "toc_section_display": true,
   "toc_window_display": true
  },
  "vscode": {
   "interpreter": {
    "hash": "31f2aee4e71d21fbe5cf8b01ff0e069b9275f58929596ceb00d14d90e3e16cd6"
   }
  }
 },
 "nbformat": 4,
 "nbformat_minor": 1
}

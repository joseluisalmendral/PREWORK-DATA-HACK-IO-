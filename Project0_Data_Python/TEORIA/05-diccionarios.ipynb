{
 "cells": [
  {
   "cell_type": "markdown",
   "metadata": {},
   "source": [
    "<div style=\"text-align: center;\">\n",
    "  <img src=\"https://github.com/Hack-io-Data/Imagenes/blob/main/01-LogosHackio/logo_celeste@4x.png?raw=true\" alt=\"esquema\" />\n",
    "</div>\n"
   ]
  },
  {
   "cell_type": "markdown",
   "metadata": {
    "toc": true
   },
   "source": [
    "<h1>Table of Contents<span class=\"tocSkip\"></span></h1>\n",
    "<div class=\"toc\"><ul class=\"toc-item\"><li><span><a href=\"#¿Qué-son-los-diccionarios-y-cómo-se-definen?\" data-toc-modified-id=\"¿Qué-son-los-diccionarios-y-cómo-se-definen?-1\"><span class=\"toc-item-num\">1&nbsp;&nbsp;</span>¿Qué son los diccionarios y cómo se definen?</a></span></li><li><span><a href=\"#Propiedades-de-los-diccionarios\" data-toc-modified-id=\"Propiedades-de-los-diccionarios-2\"><span class=\"toc-item-num\">2&nbsp;&nbsp;</span>Propiedades de los diccionarios</a></span></li><li><span><a href=\"#Métodos-de-los-diccionarios\" data-toc-modified-id=\"Métodos-de-los-diccionarios-3\"><span class=\"toc-item-num\">3&nbsp;&nbsp;</span>Métodos de los diccionarios</a></span><ul class=\"toc-item\"><li><span><a href=\"#copy()\" data-toc-modified-id=\"copy()-3.1\"><span class=\"toc-item-num\">3.1&nbsp;&nbsp;</span><code>copy()</code></a></span></li><li><span><a href=\"#clear()\" data-toc-modified-id=\"clear()-3.2\"><span class=\"toc-item-num\">3.2&nbsp;&nbsp;</span><code>clear()</code></a></span></li><li><span><a href=\"#update()\" data-toc-modified-id=\"update()-3.3\"><span class=\"toc-item-num\">3.3&nbsp;&nbsp;</span><code>update()</code></a></span></li><li><span><a href=\"#get()\" data-toc-modified-id=\"get()-3.4\"><span class=\"toc-item-num\">3.4&nbsp;&nbsp;</span><code>get()</code></a></span></li><li><span><a href=\"#setdefault()\" data-toc-modified-id=\"setdefault()-3.5\"><span class=\"toc-item-num\">3.5&nbsp;&nbsp;</span><code>setdefault()</code></a></span></li><li><span><a href=\"#sorted()\" data-toc-modified-id=\"sorted()-3.6\"><span class=\"toc-item-num\">3.6&nbsp;&nbsp;</span><code>sorted()</code></a></span></li><li><span><a href=\"#pop()\" data-toc-modified-id=\"pop()-3.7\"><span class=\"toc-item-num\">3.7&nbsp;&nbsp;</span><code>pop()</code></a></span></li><li><span><a href=\"#popitem()\" data-toc-modified-id=\"popitem()-3.8\"><span class=\"toc-item-num\">3.8&nbsp;&nbsp;</span><code>popitem()</code></a></span></li></ul></li><li><span><a href=\"#Algunas-notas-sobre-los-diccionarios\" data-toc-modified-id=\"Algunas-notas-sobre-los-diccionarios-4\"><span class=\"toc-item-num\">4&nbsp;&nbsp;</span>Algunas notas sobre los diccionarios</a></span></li></ul></div>"
   ]
  },
  {
   "cell_type": "markdown",
   "metadata": {},
   "source": [
    "# ¿Qué son los diccionarios y cómo se definen?\n",
    "\n",
    "Un diccionario es una estructura de datos que almacena elementos en pares clave-valor (*key*-*value*), donde cada clave debe ser única. Esta estructura es similar a una lista o una tupla, pero en lugar de acceder a los elementos por su posición, se accede a ellos a través de su clave. En un diccionario, los valores pueden ser cualquier tipo de objeto, como números, *strings*, listas, tuplas e incluso otros diccionarios. Sin embargo, las claves deben ser objetos inmutables como cadenas, números o tuplas. Los diccionarios son muy útiles porque nos van a permitir buscar, agregar y modificar valores rápidamente mediante el uso de claves en lugar de índices.\n",
    "\n",
    "Para definir un diccionario en Python, se usan llaves `{}`. Es importante notar que en un diccionario, **un valor nunca puede existir sin una clave que lo identifique**.\n",
    "\n",
    "**Las principales características de los diccionarios son:**\n",
    "\n",
    "- **No están ordenados**: Los elementos en un diccionario no están en ningún orden específico. No se puede acceder a los elementos de un diccionario utilizando índices, sino que se accede a ellos a través de las claves.\n",
    "\n",
    "- **Claves únicas**: Las claves en un diccionario deben ser únicas. Si se intenta agregar una clave existente a un diccionario, se sobrescribirá el valor anterior con el nuevo valor.\n",
    "\n",
    "- **Mutable**: Los diccionarios son mutables, lo que significa que se pueden agregar, modificar y eliminar elementos después de crearlos.\n",
    "\n",
    "- **Flexibles**: Los diccionarios pueden contener cualquier tipo de dato como valor, incluso otros diccionarios. Sin embargo, las claves deben ser inmutables, por lo que las cadenas, números y tuplas son buenas opciones de clave.\n",
    "\n",
    "- **Eficientes**: Los diccionarios son muy eficientes para buscar y recuperar valores basados en una clave. Es decir, los diccionarios son mucho más rápidos para acceder a valores que las listas o las tuplas.\n",
    "\n",
    "\n",
    "Ya hemos mencionado que los diccionarios se definen usando `{}`, pero existen otras formas de definirlos. Estas son:\n",
    "\n",
    "- **Usando llaves `{}` y pares clave-valor separados por comas**:\n",
    "\n",
    "   ```python\n",
    "   diccionario1 = {'nombre': 'Juan', 'edad': 30, 'ciudad': 'Madrid'}\n",
    "   ```\n",
    "\n",
    "2. **Usando el constructor `dict()` y pares clave-valor separados por comas**:\n",
    "\n",
    "   ```python\n",
    "   diccionario2 = dict(nombre='Ana', edad=25, ciudad='Barcelona')\n",
    "   ```\n",
    "\n",
    "3. **Usando una lista de tuplas clave-valor**:\n",
    "\n",
    "   ```python\n",
    "   lista_de_tuplas = [('nombre', 'Carlos'), ('edad', 35), ('ciudad', 'Valencia')]\n",
    "   diccionario3 = dict(lista_de_tuplas)\n",
    "   ```\n",
    "\n",
    "4. **Usando el método `fromkeys()` para crear un diccionario con claves y valores predeterminados**: Cuidado con esta forma de crear diccionarios, ya que todas las claves tendrán el mosmo valor predeterminado (en nuestro ejemplo 'desconocido')\n",
    "\n",
    "   ```python\n",
    "   claves = ['nombre', 'edad', 'ciudad']\n",
    "   diccionario4 = dict.fromkeys(claves, 'desconocido')\n",
    "   ```\n",
    "\n",
    "\n",
    "Veamos cada una de estas formas con más detalle y ejemplos prácticos."
   ]
  },
  {
   "cell_type": "markdown",
   "metadata": {},
   "source": [
    "**Usando llaves {} y pares clave-valor separados por coma.**\n",
    "\n",
    "Este es el método más común y directo para definir un diccionario. Se usan llaves `{}` y se separan las claves y valores con dos puntos `:`. Los pares clave-valor se separan entre sí con comas."
   ]
  },
  {
   "cell_type": "code",
   "execution_count": 1,
   "metadata": {},
   "outputs": [
    {
     "name": "stdout",
     "output_type": "stream",
     "text": [
      "Este es el primer diccionario: {'Lunes': 'Cocido', 'Martes': 'Patatas con costillas', 'Miércoles': 'Brocoli'}\n",
      "------\n",
      "Este es el segundo diccionario: {'Lunes': 10, 'Martes': 219, 'Miércoles': 1}\n",
      "------\n",
      "Este es el tercer diccionario: {1: 'Lunes', 2: 'Martes', 3: 'Miércoles'}\n",
      "------\n",
      "Este es el cuarto diccionario: {'rojo': [10, 'manzanas'], 'azul': [20, 'uvas'], 'verde': [30, 'pepinos']}\n"
     ]
    }
   ],
   "source": [
    "# definimos un diccionario donde las keys sean strings y lo values también\n",
    "diccionario1 = { 'Lunes':'Cocido', 'Martes':'Patatas con costillas', 'Miércoles':'Brocoli' }\n",
    "\n",
    "# también podemos tener diccionarios donde las keys sean strings y los values números\n",
    "diccionario2 = { 'Lunes': 10, 'Martes':219, 'Miércoles':1 }\n",
    "\n",
    "# o un diccionario donde sean números y los values strings\n",
    "diccionario3 = { 1:'Lunes', 2:'Martes',3:'Miércoles' }\n",
    "\n",
    "# o incluso diccionarios que tengan listas en sus values\n",
    "diccionario4 = { 'rojo': [10, \"manzanas\"], 'azul': [20, \"uvas\"], 'verde': [30, \"pepinos\"] }\n",
    "\n",
    "\n",
    "print(\"Este es el primer diccionario:\", diccionario1)\n",
    "print(\"------\")\n",
    "print(\"Este es el segundo diccionario:\", diccionario2)\n",
    "print(\"------\")\n",
    "print(\"Este es el tercer diccionario:\", diccionario3)\n",
    "print(\"------\")\n",
    "print(\"Este es el cuarto diccionario:\", diccionario4)"
   ]
  },
  {
   "cell_type": "markdown",
   "metadata": {},
   "source": [
    "**Usando el constructor dict() y pares clave-valor separados por coma.** \n",
    "\n",
    "El constructor `dict()` también puede usarse para crear diccionarios. Este método es útil cuando se prefieren usar comas para separar los pares clave-valor.\n"
   ]
  },
  {
   "cell_type": "code",
   "execution_count": 2,
   "metadata": {},
   "outputs": [
    {
     "name": "stdout",
     "output_type": "stream",
     "text": [
      "Este es el quinto diccionario: {'marca': 'Ford', 'modelo': 'Mustang', 'año': 1967}\n"
     ]
    }
   ],
   "source": [
    "# definimos el diccionario con \"dict\" usando el operador \"=\" y cada par de clave-valor separado por comas\n",
    "diccionario5 = dict(marca='Ford', modelo='Mustang', año=1967)\n",
    "\n",
    "print(\"Este es el quinto diccionario:\", diccionario5)"
   ]
  },
  {
   "cell_type": "markdown",
   "metadata": {},
   "source": [
    "**Usando una lista de tuplas clave-valor**\n",
    "\n",
    "Se puede crear un diccionario a partir de una lista de tuplas, donde cada tupla contiene una clave y su valor correspondiente.\n"
   ]
  },
  {
   "cell_type": "code",
   "execution_count": 3,
   "metadata": {},
   "outputs": [
    {
     "name": "stdout",
     "output_type": "stream",
     "text": [
      "Este es el sexto diccionario: {'marca': 'BMW', 'modelo': 'X5', 'año': 2018}\n"
     ]
    }
   ],
   "source": [
    "# creamos una lista de tuplas \n",
    "lista_tuplas = [('marca', 'BMW'), ('modelo', 'X5'), ('año', 2018)]\n",
    "# convertimos la lista de tuplas a diccionario\n",
    "diccionario6 = dict(lista_tuplas)\n",
    "\n",
    "print(\"Este es el sexto diccionario:\", diccionario6)"
   ]
  },
  {
   "cell_type": "markdown",
   "metadata": {},
   "source": [
    "**Usando el método fromkeys() para crear un diccionario con claves y valores predeterminados.**\n",
    "\n",
    "El método `fromkeys()` crea un diccionario nuevo con las claves proporcionadas y un valor predeterminado para todas las claves."
   ]
  },
  {
   "cell_type": "code",
   "execution_count": 4,
   "metadata": {},
   "outputs": [
    {
     "name": "stdout",
     "output_type": "stream",
     "text": [
      "Este es el septimo diccionario: {'marca': [], 'modelo': [], 'año': []}\n",
      "------\n"
     ]
    }
   ],
   "source": [
    "# definimos una lista con lo que serán nuestras futuras keys\n",
    "claves = ['marca', 'modelo', 'año']\n",
    "\n",
    "# establecemos el valor predeterminado de lo que serán nuestro futuros values. En este caso todos tendrán el valor de una lista vacía\n",
    "valor_predeterminado = []\n",
    "\n",
    "# definimos el diccionario usando \n",
    "diccionario7 = dict.fromkeys(claves, valor_predeterminado)\n",
    "\n",
    "print(\"Este es el septimo diccionario:\", diccionario7)\n",
    "print(\"------\")\n"
   ]
  },
  {
   "cell_type": "markdown",
   "metadata": {},
   "source": [
    "# Propiedades de los diccionarios\n",
    "\n",
    "Al igual que en las listas y las tuplas, los diccionarios tienen una serie de métodos que nos ayudan a conocer sus principales propiedades. Las más importantes son:\n",
    "\n",
    "- `len()`: Este método se utiliza para obtener la cantidad de elementos en un diccionario.\n",
    "\n",
    "- `keys()`: Este método devuelve una vista con todas las claves del diccionario.\n",
    "\n",
    "- `values()`: Este método devuelve una vista con todos los valores del diccionario.\n",
    "\n",
    "- `items()`: Este método devuelve una vista de pares clave-valor en el diccionario, donde cada par es representado por una tupla."
   ]
  },
  {
   "cell_type": "code",
   "execution_count": 5,
   "metadata": {},
   "outputs": [
    {
     "name": "stdout",
     "output_type": "stream",
     "text": [
      "El diccionario que hemos creado es:  {'frutas': ['manzana', 'plátano', 'cereza'], 'colores': ['rojo', 'amarillo', 'rojo']}\n",
      "La cantidad de pares de clave-valor del diccionario es:  2\n",
      "Las keys del diccionario son: dict_keys(['frutas', 'colores'])\n",
      "Los valores del diccionario son: dict_values([['manzana', 'plátano', 'cereza'], ['rojo', 'amarillo', 'rojo']])\n",
      "Los pares de clave-valor del diccionario son: (ESTO NOS DEVUELVE UNA LISTA DE TUPLAS) dict_items([('frutas', ['manzana', 'plátano', 'cereza']), ('colores', ['rojo', 'amarillo', 'rojo'])])\n"
     ]
    }
   ],
   "source": [
    "# lo primero que vamos a definir es un diccionario. En este caso vamos a crear un diccionario con dos claves o keys las cuales van a ser \"frutas\" y \"colores\"\n",
    "# los values serán listas donde almacenaremos los nombres de lasfrutas y sus colores\n",
    "\n",
    "diccionario_frutas = {\"frutas\": [\"manzana\", \"plátano\", \"cereza\"], \"colores\": [\"rojo\", \"amarillo\", \"rojo\"]}\n",
    "print(\"El diccionario que hemos creado es: \", diccionario_frutas)\n",
    "\n",
    "# Vamos a usar el método len para saber cuántos pares de clave-valor tenemos en el diccionario con la función len()\n",
    "print(\"La cantidad de pares de clave-valor del diccionario es: \", len(diccionario_frutas))\n",
    "\n",
    "# Vamos a sacar todas las claves del diccionario\n",
    "print(\"Las keys del diccionario son:\", diccionario_frutas.keys())\n",
    "\n",
    "# Vamos a sacar todos los valores del diccionario\n",
    "print(\"Los valores del diccionario son:\", diccionario_frutas.values())\n",
    "\n",
    "# Vamos a sacar todos los pares de clave-valor que tenemos en el diccionario\n",
    "print(\"Los pares de clave-valor del diccionario son: (ESTO NOS DEVUELVE UNA LISTA DE TUPLAS)\", diccionario_frutas.items())\n"
   ]
  },
  {
   "cell_type": "markdown",
   "metadata": {},
   "source": [
    "Al igual que en las listas y en las tuplas podemos usar el operador `in` y `not in` en diccionarios. Veamos como lo haríamos:"
   ]
  },
  {
   "cell_type": "code",
   "execution_count": 6,
   "metadata": {},
   "outputs": [
    {
     "name": "stdout",
     "output_type": "stream",
     "text": [
      "¿Esta la clave 'frutas' en mi diccionario? True\n",
      "¿Esta la clave 'patata' en mi diccionario? False\n",
      "¿Esta 'manzana' en mi los valores de mi diccionario? False\n",
      "¿Esta 'manzana' en los valores de mi diccionario? True\n"
     ]
    }
   ],
   "source": [
    "print(\"¿Esta la clave 'frutas' en mi diccionario?\", \"frutas\" in diccionario_frutas  )\n",
    "# si nos fijamos , por defecto nos busca sobre las claves\n",
    "\n",
    "print(\"¿Esta la clave 'patata' en mi diccionario?\", \"patata\" in diccionario_frutas  )\n",
    "\n",
    "# pero ¿qué pasaría si quisieramos hacerlo sobre los values? en este caso tendríamos que especificar el método .values()\n",
    "print(\"¿Esta 'manzana' en mi los valores de mi diccionario?\", \"manzana\" in diccionario_frutas.values())\n",
    "# Vaya... 😢, esto nos devuelve False, y es que lo que estamos evaluando es si 'manzana'  esta en [['Lola', 'Marta', 'Lorena'], [8, 9, 6]], lo cual es False, ya que en la lista de los valores tenemos más lista. Para que esto nos saliera True tendríamos que pasar toda la lista. Veámoslo\n",
    "\n",
    "print(\"¿Esta 'manzana' en los valores de mi diccionario?\", ['manzana', 'plátano', 'cereza'] in diccionario_frutas.values())\n"
   ]
  },
  {
   "cell_type": "markdown",
   "metadata": {},
   "source": [
    "# Métodos de los diccionarios\n",
    "\n",
    "Al igual que el resto de los tipos de datos que hemos visto en Python, los diccionarios tienen una serie de métodos que nos resultarán muy útiles para poder modificarlos. Aquí hay algunos de los métodos más comunes que se pueden usar con diccionarios:\n",
    "\n",
    "- `copy()`: Devuelve una copia superficial del diccionario.\n",
    "\n",
    "- `clear()`: Elimina todos los elementos del diccionario.\n",
    "\n",
    "- `update()`: Actualiza el diccionario con pares clave-valor de otro diccionario o de una lista de tuplas (clave, valor).\n",
    "\n",
    "- `get()`: Devuelve el valor de la clave dada si está presente en el diccionario, de lo contrario devuelve el valor predeterminado (opcional).\n",
    "\n",
    "- `setdefault()`: Si la clave está en el diccionario, devuelve su valor. Si no, inserta la clave con el valor predeterminado (opcional) y devuelve ese valor.\n",
    "\n",
    "- `pop()`: Elimina la clave y devuelve su valor. Si la clave no está presente y se proporciona un valor predeterminado, se devuelve ese valor. Si la clave no está presente y no se proporciona un valor predeterminado, se produce una excepción KeyError.\n",
    "\n",
    "- `popitem()`: Elimina y devuelve un par clave-valor arbitrario del diccionario. Si el diccionario está vacío, se produce una excepción KeyError.\n"
   ]
  },
  {
   "cell_type": "markdown",
   "metadata": {},
   "source": [
    "## `copy()`\n",
    "\n",
    "El método `copy()`  permite crear una copia superficial de un diccionario (como hemos estado viendo hasta ahora). Esta copia conserva la estructura del diccionario original, pero crea un nuevo diccionario independiente del original."
   ]
  },
  {
   "cell_type": "code",
   "execution_count": 7,
   "metadata": {},
   "outputs": [
    {
     "name": "stdout",
     "output_type": "stream",
     "text": [
      "El diccionario de las frutas de clase es:  {'frutas': ['manzana', 'plátano', 'cereza'], 'colores': ['rojo', 'amarillo', 'rojo']}\n",
      "La copia del diccionario de las frutas de clase es:  {'frutas': ['manzana', 'plátano', 'cereza'], 'colores': ['rojo', 'amarillo', 'rojo']}\n"
     ]
    }
   ],
   "source": [
    "# primero recordemos el último diccionario de frutas que habíamos creado previamente: \n",
    "print(\"El diccionario de las frutas de clase es: \", diccionario_frutas)\n",
    "\n",
    "# haciendo uso del método copy, nos haremos una copia exacta del diccionario anterior\n",
    "diccionario_frutas_copia = diccionario_frutas.copy()\n",
    "print(\"La copia del diccionario de las frutas de clase es: \", diccionario_frutas_copia)"
   ]
  },
  {
   "cell_type": "code",
   "execution_count": 8,
   "metadata": {},
   "outputs": [
    {
     "name": "stdout",
     "output_type": "stream",
     "text": [
      "El diccionario original es: {'frutas': ['manzana', 'plátano', 'cereza'], 'colores': ['rojo', 'amarillo', 'rojo']}\n",
      "\n",
      "---------\n",
      "\n",
      "La copia del diccionario es: {}\n"
     ]
    }
   ],
   "source": [
    "# si hicieramos cualquier modificación sobre la copia del diccionario, el diccionario original se mantendría sin ninguna modificación\n",
    "# en este caso vamos a vaciar la copia del diccionario\n",
    "diccionario_frutas_copia.clear()\n",
    "\n",
    "# observamos ahora como la copia ha sido modificada mientras que el original se ha mantenido igual\n",
    "print(f\"El diccionario original es: {diccionario_frutas}\")\n",
    "print(\"\\n---------\\n\")\n",
    "print(f\"La copia del diccionario es: {diccionario_frutas_copia}\")"
   ]
  },
  {
   "cell_type": "markdown",
   "metadata": {},
   "source": [
    "## `clear()`\n",
    "\n",
    "El método `clear()` se emplea para eliminar todos los elementos de un diccionario. Esencialmente, este método vacía por completo el diccionario, dejándolo sin ningún contenido."
   ]
  },
  {
   "cell_type": "code",
   "execution_count": 9,
   "metadata": {},
   "outputs": [
    {
     "name": "stdout",
     "output_type": "stream",
     "text": [
      "La copia del diccionario de las frutas de clase es:  {'frutas': ['manzana', 'plátano', 'cereza'], 'colores': ['rojo', 'amarillo', 'rojo']}\n",
      "El diccionario de las frutas de clase después de haberlo vaciado usando el método 'clear()` es:  {}\n",
      "El diccionario de las frutas de clase es:  {'frutas': ['manzana', 'plátano', 'cereza'], 'colores': ['rojo', 'amarillo', 'rojo']}\n"
     ]
    }
   ],
   "source": [
    "# volvemos a hacer la copia del diccionario original\n",
    "diccionario_frutas_copia = diccionario_frutas.copy()\n",
    "\n",
    "# mostramos la copia del diccionario que nos hicimos\n",
    "print(\"La copia del diccionario de las frutas de clase es: \", diccionario_frutas_copia)\n",
    "\n",
    "# vacíamos todo el contenido del diccionario usando el método clear()\n",
    "diccionario_frutas_copia.clear()\n",
    "\n",
    "print(\"El diccionario de las frutas de clase después de haberlo vaciado usando el método 'clear()` es: \", diccionario_frutas_copia)\n",
    "\n",
    "# como vimos en el método anterior, vemos que el diccionario original sigue intacto\n",
    "print(\"El diccionario de las frutas de clase es: \", diccionario_frutas)\n",
    "\n"
   ]
  },
  {
   "cell_type": "markdown",
   "metadata": {},
   "source": [
    "## `update()`\n",
    "\n",
    "El método `update()` permite actualizar los valores de un diccionario con los valores de otro diccionario o de un iterable de pares clave-valor. Este método afecta al diccionario original y resulta especialmente útil cuando se necesita actualizar su contenido con nuevos valores.\n",
    "\n",
    "Por ejemplo, supongamos que deseamos agregar un nuevo par clave-valor al diccionario, específicamente, queremos incluir una clave que indique si la fruta tiene hueso o no. En esta situación, podríamos crear un nuevo diccionario desde cero o utilizar el método `update()` para incorporar esta información.\n"
   ]
  },
  {
   "cell_type": "code",
   "execution_count": 10,
   "metadata": {},
   "outputs": [
    {
     "name": "stdout",
     "output_type": "stream",
     "text": [
      "El diccionario original de las frutas de clase es:  {'frutas': ['manzana', 'plátano', 'cereza'], 'colores': ['rojo', 'amarillo', 'rojo']}\n",
      "El diccionario de las frutas de clase después de añadir la nueva pareja de key-value es:  {'frutas': ['manzana', 'plátano', 'cereza'], 'colores': ['rojo', 'amarillo', 'rojo'], 'hueso': ['No', 'No', 'Si']}\n"
     ]
    }
   ],
   "source": [
    "print(\"El diccionario original de las frutas de clase es: \", diccionario_frutas)\n",
    "\n",
    "# añadimos un nuevo par de clave-valor a nuestro diccionario.\n",
    "# para eso lo primero que tenemos que crear un diccionario, con el nuevo par de clave-valor que queremos\n",
    "\n",
    "nuevo_elemento = {\"hueso\": [\"No\", \"No\", \"Si\"]}\n",
    "\n",
    "# utilizamos el método update para añadir la nueva pareja de key-value. FIJAOS QUE ESTE MÉTODO SOBREESCRIBE EL DICCIONARIO ORIGINAL!\n",
    "diccionario_frutas.update(nuevo_elemento)\n",
    "print(\"El diccionario de las frutas de clase después de añadir la nueva pareja de key-value es: \", diccionario_frutas)\n",
    "\n"
   ]
  },
  {
   "cell_type": "markdown",
   "metadata": {},
   "source": [
    "## `get()`\n",
    "\n",
    "El método `get()` se emplea para obtener el valor asociado a una clave en un diccionario. Se puede considerar similar a la indexación en listas o tuplas que hemos visto hasta ahora."
   ]
  },
  {
   "cell_type": "code",
   "execution_count": 11,
   "metadata": {},
   "outputs": [
    {
     "name": "stdout",
     "output_type": "stream",
     "text": [
      "El diccionario original de las frutas de clase es:  {'frutas': ['manzana', 'plátano', 'cereza'], 'colores': ['rojo', 'amarillo', 'rojo'], 'hueso': ['No', 'No', 'Si']}\n",
      "Los valores de la clave 'frutas' es:  ['manzana', 'plátano', 'cereza']\n",
      "Los valores de la clave 'nombres' es:  ['manzana', 'plátano', 'cereza']\n"
     ]
    }
   ],
   "source": [
    "# este método nos sirve para acceder a los valores de una key específica. \n",
    "# lo primero que vamos a hacer es recordar el diccionario de las frutas\n",
    "print(\"El diccionario original de las frutas de clase es: \", diccionario_frutas)\n",
    "\n",
    "# imaginemos ahora que queremos extraer solo los valores de los nombres de la clave \"frutas\". En este caso podemos usar el método `get()`\n",
    "print(\"Los valores de la clave 'frutas' es: \", diccionario_frutas.get(\"frutas\"))\n",
    "\n",
    "# otra forma de acceder a los valores de una clave es usando la sintaxis ([]), veamos un ejemplo:\n",
    "print(\"Los valores de la clave 'nombres' es: \", diccionario_frutas[\"frutas\"])\n",
    "\n",
    "\n"
   ]
  },
  {
   "cell_type": "markdown",
   "metadata": {},
   "source": [
    "📌 FIJAOS COMO EL OUTPUT DE LO QUE NOS DEVUELVE ES EXACTAMENTE EL MISMO! Pero entonces... ¿qué diferencia existe entre una forma y otra para acceder?\n",
    "\n",
    "La diferencia clave radica en que, a diferencia de la notación de corchetes ([]), que arroja un error si la clave no existe, el método `get()` devuelve None si la clave no está presente en el diccionario. Esto asegura una gestión más controlada de las claves ausentes en el diccionario, evitando errores."
   ]
  },
  {
   "cell_type": "code",
   "execution_count": 12,
   "metadata": {},
   "outputs": [
    {
     "name": "stdout",
     "output_type": "stream",
     "text": [
      "Los valores de la clave 'origen' es:  None\n"
     ]
    },
    {
     "ename": "KeyError",
     "evalue": "'origen'",
     "output_type": "error",
     "traceback": [
      "\u001b[0;31m---------------------------------------------------------------------------\u001b[0m",
      "\u001b[0;31mKeyError\u001b[0m                                  Traceback (most recent call last)",
      "Cell \u001b[0;32mIn[12], line 5\u001b[0m\n\u001b[1;32m      2\u001b[0m \u001b[38;5;28mprint\u001b[39m(\u001b[38;5;124m\"\u001b[39m\u001b[38;5;124mLos valores de la clave \u001b[39m\u001b[38;5;124m'\u001b[39m\u001b[38;5;124morigen\u001b[39m\u001b[38;5;124m'\u001b[39m\u001b[38;5;124m es: \u001b[39m\u001b[38;5;124m\"\u001b[39m, diccionario_frutas\u001b[38;5;241m.\u001b[39mget(\u001b[38;5;124m\"\u001b[39m\u001b[38;5;124morigen\u001b[39m\u001b[38;5;124m\"\u001b[39m))\n\u001b[1;32m      4\u001b[0m \u001b[38;5;66;03m# otra forma de acceder a los valores de una clave es usando la sintaxis ([]), veamos un ejemplo:\u001b[39;00m\n\u001b[0;32m----> 5\u001b[0m \u001b[38;5;28mprint\u001b[39m(\u001b[38;5;124m\"\u001b[39m\u001b[38;5;124mLos valores de la clave \u001b[39m\u001b[38;5;124m'\u001b[39m\u001b[38;5;124morigen\u001b[39m\u001b[38;5;124m'\u001b[39m\u001b[38;5;124m es: \u001b[39m\u001b[38;5;124m\"\u001b[39m, \u001b[43mdiccionario_frutas\u001b[49m\u001b[43m[\u001b[49m\u001b[38;5;124;43m\"\u001b[39;49m\u001b[38;5;124;43morigen\u001b[39;49m\u001b[38;5;124;43m\"\u001b[39;49m\u001b[43m]\u001b[49m)\n",
      "\u001b[0;31mKeyError\u001b[0m: 'origen'"
     ]
    }
   ],
   "source": [
    "# en este caso vamos a buscar la clave 'edad', la cual NO existe en nuestro diccionario.\n",
    "print(\"Los valores de la clave 'origen' es: \", diccionario_frutas.get(\"origen\"))\n",
    "\n",
    "# otra forma de acceder a los valores de una clave es usando la sintaxis ([]), veamos un ejemplo:\n",
    "print(\"Los valores de la clave 'origen' es: \", diccionario_frutas[\"origen\"])"
   ]
  },
  {
   "cell_type": "markdown",
   "metadata": {},
   "source": [
    "Como decíamos, el método `.get()` devuelve `None` cuando busca una clave ausente en el diccionario, mientras que la sintaxis de `[]` nos devuelve un error.  Sin embargo, el método `get()`, puede personalizarse para que devuelva un mensaje alternativo, como \"la clave buscada no existe en el diccionario\". Esto se logra añadiendo un parámetro al método `get()` donde especificamos este mensaje o un valor predeterminado. Esto ofrece flexibilidad al manejar casos donde la clave no está presente, permitiendo una respuesta más descriptiva en lugar de simplemente `None`, mejorando así la claridad y la experiencia del usuario al interactuar con el diccionario."
   ]
  },
  {
   "cell_type": "code",
   "execution_count": 13,
   "metadata": {},
   "outputs": [
    {
     "name": "stdout",
     "output_type": "stream",
     "text": [
      "Los valores de la clave 'origen' es:  la clave que estas buscando no esta en el diccionario\n"
     ]
    },
    {
     "ename": "KeyError",
     "evalue": "'origen'",
     "output_type": "error",
     "traceback": [
      "\u001b[0;31m---------------------------------------------------------------------------\u001b[0m",
      "\u001b[0;31mKeyError\u001b[0m                                  Traceback (most recent call last)",
      "Cell \u001b[0;32mIn[13], line 6\u001b[0m\n\u001b[1;32m      3\u001b[0m \u001b[38;5;28mprint\u001b[39m(\u001b[38;5;124m\"\u001b[39m\u001b[38;5;124mLos valores de la clave \u001b[39m\u001b[38;5;124m'\u001b[39m\u001b[38;5;124morigen\u001b[39m\u001b[38;5;124m'\u001b[39m\u001b[38;5;124m es: \u001b[39m\u001b[38;5;124m\"\u001b[39m, diccionario_frutas\u001b[38;5;241m.\u001b[39mget(\u001b[38;5;124m\"\u001b[39m\u001b[38;5;124morigen\u001b[39m\u001b[38;5;124m\"\u001b[39m, \u001b[38;5;124m'\u001b[39m\u001b[38;5;124mla clave que estas buscando no esta en el diccionario\u001b[39m\u001b[38;5;124m'\u001b[39m))\n\u001b[1;32m      5\u001b[0m \u001b[38;5;66;03m# sin embargo, esta segunda forma de acceder a una clave no tiene la opción de pasar este parámetro, por lo tanto, nunca podremos evitar este error. \u001b[39;00m\n\u001b[0;32m----> 6\u001b[0m \u001b[38;5;28mprint\u001b[39m(\u001b[38;5;124m\"\u001b[39m\u001b[38;5;124mLos valores de la clave \u001b[39m\u001b[38;5;124m'\u001b[39m\u001b[38;5;124morigen\u001b[39m\u001b[38;5;124m'\u001b[39m\u001b[38;5;124m es: \u001b[39m\u001b[38;5;124m\"\u001b[39m, \u001b[43mdiccionario_frutas\u001b[49m\u001b[43m[\u001b[49m\u001b[38;5;124;43m\"\u001b[39;49m\u001b[38;5;124;43morigen\u001b[39;49m\u001b[38;5;124;43m\"\u001b[39;49m\u001b[43m]\u001b[49m)\n",
      "\u001b[0;31mKeyError\u001b[0m: 'origen'"
     ]
    }
   ],
   "source": [
    "# buscamos la clave 'origen', y le vamos a añadir un valor predeterminado con el mensaje de 'la clave que estas buscando no esta en el diccionario'\n",
    "# si nos fijamos en el output, en este caso ya no aparece None si no que aparece el mensaje que le hemos puesto en el método `get()`\n",
    "print(\"Los valores de la clave 'origen' es: \", diccionario_frutas.get(\"origen\", 'la clave que estas buscando no esta en el diccionario'))\n",
    "\n",
    "# sin embargo, esta segunda forma de acceder a una clave no tiene la opción de pasar este parámetro, por lo tanto, nunca podremos evitar este error. \n",
    "print(\"Los valores de la clave 'origen' es: \", diccionario_frutas[\"origen\"])"
   ]
  },
  {
   "cell_type": "code",
   "execution_count": 14,
   "metadata": {},
   "outputs": [
    {
     "name": "stdout",
     "output_type": "stream",
     "text": [
      "Los valores de la clave 'hueso' es:  ['No', 'No', 'Si']\n",
      "Los valores de la clave 'hermanos' es:  ['No', 'No', 'Si']\n"
     ]
    }
   ],
   "source": [
    "# hagamos otros ejemplos con el método get. Saquemos los valores de la clave 'hueso'\n",
    "print(\"Los valores de la clave 'hueso' es: \", diccionario_frutas.get(\"hueso\"))\n",
    "\n",
    "# que es lo mismo que usar los '[]'\n",
    "print(\"Los valores de la clave 'hermanos' es: \", diccionario_frutas[\"hueso\"])"
   ]
  },
  {
   "cell_type": "markdown",
   "metadata": {},
   "source": [
    "## `setdefault()`\n",
    "\n",
    "El método `setdefault()` se emplea para obtener el valor asociado a una clave en un diccionario. Si la clave no existe, se inserta una nueva clave con un valor predeterminado especificado como argumento. Esto es útil para garantizar la existencia de una clave en el diccionario y establecer un valor por defecto si no está presente. Simplifica la lógica de manejo de claves, ya que evita la necesidad de comprobaciones manuales de existencia de claves antes de su acceso o modificación, lo que puede simplificar y hacer más legible el código."
   ]
  },
  {
   "cell_type": "code",
   "execution_count": 15,
   "metadata": {},
   "outputs": [
    {
     "name": "stdout",
     "output_type": "stream",
     "text": [
      "Los valores de la clave 'origen' es:  None\n",
      "Los valores de la clave 'origen' es:  None\n"
     ]
    }
   ],
   "source": [
    "# antes hemos visto como al usar el método 'get()' si buscabamos una clave que no existía nos devolvía None o un mensaje predeterminado. \n",
    "# veamos que como funciona el método setdefault\n",
    "\n",
    "# busquemos primero la clave 'origen', que ya sabemos que no existe en el diccionario con el método `get()`. \n",
    "# recordemos que, a este método si no le pasabamos el método predeterminado nos devuelve None\n",
    "print(\"Los valores de la clave 'origen' es: \", diccionario_frutas.get(\"origen\"))\n",
    "\n",
    "# hagamos exactamente lo mismo pero usando el método setdefault\n",
    "print(\"Los valores de la clave 'origen' es: \", diccionario_frutas.setdefault(\"origen\"))\n"
   ]
  },
  {
   "cell_type": "markdown",
   "metadata": {},
   "source": [
    "Como no le hemos añadido ningún parámetro al método `setdefault`, por defecto nos lo pone en `None`. Pero la parte más importante es que en este caso, este método nos devuelve el diccionario con un par de clave valor-nuevo 👇"
   ]
  },
  {
   "cell_type": "code",
   "execution_count": 16,
   "metadata": {},
   "outputs": [
    {
     "name": "stdout",
     "output_type": "stream",
     "text": [
      "El diccionario de las frutas es {'frutas': ['manzana', 'plátano', 'cereza'], 'colores': ['rojo', 'amarillo', 'rojo'], 'hueso': ['No', 'No', 'Si'], 'origen': None}\n"
     ]
    }
   ],
   "source": [
    "# profundicemos más en el método setdefault y veamos que es lo que ha pasado\n",
    "# para eso printeemos el diccionario\n",
    "print(\"El diccionario de las frutas es\", diccionario_frutas)"
   ]
  },
  {
   "cell_type": "code",
   "execution_count": 17,
   "metadata": {},
   "outputs": [
    {
     "name": "stdout",
     "output_type": "stream",
     "text": [
      "Los valores de la clave 'precio' es:  desconocido\n",
      "El contenido del diccionario es: {'frutas': ['manzana', 'plátano', 'cereza'], 'colores': ['rojo', 'amarillo', 'rojo'], 'hueso': ['No', 'No', 'Si'], 'origen': None, 'precio': 'desconocido'}\n"
     ]
    }
   ],
   "source": [
    "# pogamos ahora otro ejemplo, imaginemos que queremos buscar la clave 'precio' que tampoco esta en nuestro diccionario\n",
    "# a diferencia que en el ejemplo anterior, ahora vamos a pasar un parámetro extra indicando \"desconocido\"\n",
    "# hagamos exactamente lo mismo pero usando el método setdefault\n",
    "print(\"Los valores de la clave 'precio' es: \", diccionario_frutas.setdefault(\"precio\", \"desconocido\"))\n",
    "\n",
    "# chequeemos ahora el diccionario\n",
    "print(\"El contenido del diccionario es:\", diccionario_frutas)"
   ]
  },
  {
   "cell_type": "markdown",
   "metadata": {},
   "source": [
    "Ahora vemos que se nos ha creado un par de clave-valor nuevo, pero en este caso el valor nuevo no es None, si no el valor del parámetro que hemos puesto, en  este caso \"desconocido\". De la misma forma que le hemos puesto el string \"desconocido\", podríamos pasar una  lista o cualquier tipo de tipo de dato. En este caso, buscaremos la clave \"tienda\""
   ]
  },
  {
   "cell_type": "code",
   "execution_count": 18,
   "metadata": {},
   "outputs": [
    {
     "name": "stdout",
     "output_type": "stream",
     "text": [
      "Los valores de la clave 'tienda' es:  ['no esta en venta']\n",
      "El contenido del diccionario es: {'frutas': ['manzana', 'plátano', 'cereza'], 'colores': ['rojo', 'amarillo', 'rojo'], 'hueso': ['No', 'No', 'Si'], 'origen': None, 'precio': 'desconocido', 'tienda': ['no esta en venta']}\n"
     ]
    }
   ],
   "source": [
    "print(\"Los valores de la clave 'tienda' es: \", diccionario_frutas.setdefault(\"tienda\", [\"no esta en venta\"]))\n",
    "\n",
    "# chequeemos ahora el diccionario\n",
    "print(\"El contenido del diccionario es:\", diccionario_frutas)"
   ]
  },
  {
   "cell_type": "markdown",
   "metadata": {},
   "source": [
    "<div style=\"background-color: #F74646; padding: 10px; border-left: 6px solid #000080; color: black; border-radius: 10px;\">\n",
    "Las principales diferencias entre los métodos para acceder a información en los diccionarios son: \n",
    "\n",
    "| Método        | Descripción                                                                                                                                                             |\n",
    "|---------------|-------------------------------------------------------------------------------------------------------------------------------------------------------------------------|\n",
    "| `get()`       | Se utiliza para obtener el valor asociado a una clave en un diccionario. Si la clave no está presente, devuelve `None` o un valor predeterminado especificado como argumento. |\n",
    "| `setdefault()` | Se emplea para obtener el valor asociado a una clave en un diccionario. Si la clave no existe, se inserta una nueva clave con un valor predeterminado especificado como argumento. |\n",
    "| Corchetes ([])| Se utiliza para acceder directamente al valor asociado a una clave en un diccionario. Sin embargo, si la clave no existe, genera un error de clave no encontrada (KeyError).   |\n",
    "\n",
    "\n",
    "</div>"
   ]
  },
  {
   "cell_type": "markdown",
   "metadata": {},
   "source": [
    "## `sorted()`\n",
    "\n",
    "Como ya sabemos, el método `sorted()` se emplea para ordenar los elementos de una secuencia, como una lista. Cuando se aplica a un diccionario, `sorted()` devuelve una lista con las claves del diccionario ordenadas.  Es importante destacar que el diccionario original no se modifica; en su lugar, `sorted()` crea una nueva lista ordenada, preservando el diccionario original sin alterar su estructura. Este método resulta útil cuando se necesita acceder a los elementos del diccionario en un orden específico, lo que puede ser importante para ciertas operaciones o visualizaciones de datos."
   ]
  },
  {
   "cell_type": "code",
   "execution_count": 19,
   "metadata": {},
   "outputs": [
    {
     "name": "stdout",
     "output_type": "stream",
     "text": [
      "El diccionario con el que vamos a trabajar es: {'frutas': ['manzana', 'plátano', 'cereza'], 'colores': ['rojo', 'amarillo', 'rojo'], 'hueso': ['No', 'No', 'Si'], 'origen': None, 'precio': 'desconocido', 'tienda': ['no esta en venta']}\n",
      "Las claves del diccionario ordenado son: ['colores', 'frutas', 'hueso', 'origen', 'precio', 'tienda']\n"
     ]
    },
    {
     "ename": "TypeError",
     "evalue": "'<' not supported between instances of 'NoneType' and 'list'",
     "output_type": "error",
     "traceback": [
      "\u001b[0;31m---------------------------------------------------------------------------\u001b[0m",
      "\u001b[0;31mTypeError\u001b[0m                                 Traceback (most recent call last)",
      "Cell \u001b[0;32mIn[19], line 8\u001b[0m\n\u001b[1;32m      5\u001b[0m \u001b[38;5;28mprint\u001b[39m(\u001b[38;5;124m\"\u001b[39m\u001b[38;5;124mLas claves del diccionario ordenado son:\u001b[39m\u001b[38;5;124m\"\u001b[39m, \u001b[38;5;28msorted\u001b[39m(diccionario_frutas))\n\u001b[1;32m      7\u001b[0m \u001b[38;5;66;03m# ¿comó lo podríamos hacer si quisieramos ordenar por los valores? Tendríamos que usar el método '.values()' que aprendimos en esta lección\u001b[39;00m\n\u001b[0;32m----> 8\u001b[0m \u001b[38;5;28mprint\u001b[39m(\u001b[38;5;124m\"\u001b[39m\u001b[38;5;124mLos values del diccionario ordenado son:\u001b[39m\u001b[38;5;124m\"\u001b[39m, \u001b[38;5;28;43msorted\u001b[39;49m\u001b[43m(\u001b[49m\u001b[43mdiccionario_frutas\u001b[49m\u001b[38;5;241;43m.\u001b[39;49m\u001b[43mvalues\u001b[49m\u001b[43m(\u001b[49m\u001b[43m)\u001b[49m\u001b[43m)\u001b[49m)\n",
      "\u001b[0;31mTypeError\u001b[0m: '<' not supported between instances of 'NoneType' and 'list'"
     ]
    }
   ],
   "source": [
    "# recordemos el diccionario\n",
    "print(f\"El diccionario con el que vamos a trabajar es: {diccionario_frutas}\")\n",
    "\n",
    "# por defecto nos va a ordenar las keys del diccionario 👇🏽\n",
    "print(\"Las claves del diccionario ordenado son:\", sorted(diccionario_frutas))\n",
    "\n",
    "# ¿comó lo podríamos hacer si quisieramos ordenar por los valores? Tendríamos que usar el método '.values()' que aprendimos en esta lección\n",
    "print(\"Los values del diccionario ordenado son:\", sorted(diccionario_frutas.values()))"
   ]
  },
  {
   "cell_type": "markdown",
   "metadata": {},
   "source": [
    "Oh, parece que nos encontramos con un problema. 😢 Hemos obtenido un error, similar al que enfrentábamos con listas cuando intentábamos ordenar una que contenía números y palabras. Al igual que nosotros, Python no puede resolverlo. Repitamos este ejemplo, pero con un diccionario nuevo donde todos los valores son *strings*."
   ]
  },
  {
   "cell_type": "code",
   "execution_count": 20,
   "metadata": {},
   "outputs": [
    {
     "name": "stdout",
     "output_type": "stream",
     "text": [
      "El diccionario de las mascotas es: {'nombre': 'Gata', 'cumpleaños': '01/07', 'tipo': 'gato negro', 'vacunas': 'todas'}\n",
      "Los valores del diccionario ordenados son: ['01/07', 'Gata', 'gato negro', 'todas']\n",
      "Los valores del diccionario ordenados son: ['todas', 'gato negro', 'Gata', '01/07']\n"
     ]
    }
   ],
   "source": [
    "# definimos el diccionario\n",
    "diccionario_mascotas = {'nombre': 'Gata',\n",
    "                        'cumpleaños': '01/07',\n",
    "                        'tipo': 'gato negro',\n",
    "                        'vacunas': 'todas'}\n",
    "\n",
    "# mostramos el contenido del diccionario\n",
    "print(\"El diccionario de las mascotas es:\", diccionario_mascotas)\n",
    "\n",
    "# ordenamos los values por orden alfabético de la A a la Z\n",
    "print(\"Los valores del diccionario ordenados son:\", sorted(diccionario_mascotas.values()))\n",
    "\n",
    "# y si quisieramos ordenar de la Z-A, usaremos el método reverse = True\n",
    "print(\"Los valores del diccionario ordenados son:\", sorted(diccionario_mascotas.values(), reverse=True))"
   ]
  },
  {
   "cell_type": "markdown",
   "metadata": {},
   "source": [
    "## `pop()`\n",
    "\n",
    "El método `pop()` se utiliza para eliminar y retornar el valor de una clave específica en un diccionario. Este método toma un argumento, que es la clave que queremos eliminar. Si la clave existe en el diccionario, `pop()` eliminará el elemento y devolverá su valor. Sin embargo, si la clave no existe, `pop()` generará un error."
   ]
  },
  {
   "cell_type": "code",
   "execution_count": 21,
   "metadata": {},
   "outputs": [
    {
     "name": "stdout",
     "output_type": "stream",
     "text": [
      "El diccionario de las frutas es {'frutas': ['manzana', 'plátano', 'cereza'], 'colores': ['rojo', 'amarillo', 'rojo'], 'hueso': ['No', 'No', 'Si'], 'origen': None, 'precio': 'desconocido', 'tienda': ['no esta en venta']}\n",
      "Eliminamos la clave de 'origen' del diccionario: None\n",
      "El diccionario de las frutas es {'frutas': ['manzana', 'plátano', 'cereza'], 'colores': ['rojo', 'amarillo', 'rojo'], 'hueso': ['No', 'No', 'Si'], 'precio': 'desconocido', 'tienda': ['no esta en venta']}\n"
     ]
    }
   ],
   "source": [
    "# mostramos el contenido del diccionario\n",
    "print(\"El diccionario de las frutas es\", diccionario_frutas)\n",
    "\n",
    "# imaginemos ahora que queremos eliminar la clave de \"origen\" que tenía un valor de None usando el método `.pop()`\n",
    "# este método, .pop() nos devuelve el valor de la clave que estamos eliminando\n",
    "print(\"Eliminamos la clave de 'origen' del diccionario:\", diccionario_frutas.pop(\"origen\"))\n",
    "\n",
    "# veamos como queda el diccionario después de eliminar la clave:\n",
    "print(\"El diccionario de las frutas es\", diccionario_frutas)\n"
   ]
  },
  {
   "cell_type": "markdown",
   "metadata": {},
   "source": [
    "## `popitem()`\n",
    "\n",
    "El método `popitem()` se emplea para eliminar y devolver el último par clave-valor agregado al diccionario. No requiere ningún argumento y se utiliza comúnmente cuando se necesita eliminar el último elemento del diccionario."
   ]
  },
  {
   "cell_type": "code",
   "execution_count": 22,
   "metadata": {},
   "outputs": [
    {
     "name": "stdout",
     "output_type": "stream",
     "text": [
      "El diccionario de las frutas es {'frutas': ['manzana', 'plátano', 'cereza'], 'colores': ['rojo', 'amarillo', 'rojo'], 'hueso': ['No', 'No', 'Si'], 'precio': 'desconocido', 'tienda': ['no esta en venta']}\n",
      "Eliminamos EL ÚLTIMO PAR DE CLAVE-VALOR  del diccionario: ('tienda', ['no esta en venta'])\n",
      "El diccionario de las frutas es {'frutas': ['manzana', 'plátano', 'cereza'], 'colores': ['rojo', 'amarillo', 'rojo'], 'hueso': ['No', 'No', 'Si'], 'precio': 'desconocido'}\n"
     ]
    }
   ],
   "source": [
    "# mostramos el contenido del diccionario\n",
    "print(\"El diccionario de las frutas es\", diccionario_frutas)\n",
    "\n",
    "#imaginemos que quisieramos eliminar el último par de clave-valor del diccionario usando el método 'popitem()'👇. ESTE MÉTODO NOS DEVUELVE EL PAR DE CLAVE-VALOR QUE HA ELIMINADO\n",
    "print(\"Eliminamos EL ÚLTIMO PAR DE CLAVE-VALOR  del diccionario:\", diccionario_frutas.popitem())\n",
    "\n",
    "# veamos como queda el diccionario después de eliminar la clave:\n",
    "print(\"El diccionario de las frutas es\", diccionario_frutas)\n"
   ]
  },
  {
   "cell_type": "markdown",
   "metadata": {},
   "source": [
    "<div style=\"background-color: #F74646; padding: 10px; border-left: 6px solid #000080; color: black; border-radius: 10px;\">\n",
    "En resumen: \n",
    "\n",
    "| Método    | Descripción                                                                                                         |\n",
    "|-----------|---------------------------------------------------------------------------------------------------------------------|\n",
    "| `pop()`   | Lo usaremos para eliminar y devolver el valor asociado con una clave especificada en el diccionario. Toma un argumento que es la clave del elemento que queremos eliminar. Si la clave existe en el diccionario, `pop()` eliminará el elemento y devolverá su valor. Si la clave no existe en el diccionario, generará un error. Este método permite eliminar elementos de forma selectiva, eligiendo la clave que se desea eliminar. |\n",
    "| `popitem()` | Lo usaremos para eliminar y devolver el último par clave-valor agregado al diccionario. No toma ningún argumento. No permite eliminar elementos de forma selectiva, y solo se utiliza para eliminar el último elemento agregado al diccionario.                               |\n",
    "\n",
    "</div>\n"
   ]
  },
  {
   "cell_type": "markdown",
   "metadata": {},
   "source": [
    "# Algunas notas sobre los diccionarios\n",
    "\n",
    "Hasta ahora hemos visto un montón de métodos y propiedades de los diccionarios. Los diccionarios tienen una serie de peculiridades, especialmente relacionadas con la modificación de los valores. Veamoslo en detalle para poder entenderlo mejor: "
   ]
  },
  {
   "cell_type": "code",
   "execution_count": 23,
   "metadata": {},
   "outputs": [
    {
     "name": "stdout",
     "output_type": "stream",
     "text": [
      "El diccionario de la mascota es: {'nombre': 'Gata', 'cumpleaños': '01/07', 'tipo': 'gato negro', 'vacunas': 'todas'}\n",
      "El diccionario de la mascota es: {'nombre': 'Darwin', 'cumpleaños': '01/07', 'tipo': 'gato negro', 'vacunas': 'todas'}\n",
      "El diccionario de la mascota es: {'nombre': 'Darwin', 'cumpleaños': '01/07', 'tipo': 'gato negro', 'vacunas': []}\n",
      "El valor de la clave 'vacunas' es:  []\n",
      "El valor de la clave 'vacunas' es:  <class 'list'>\n",
      "El diccionario de la mascota después de añadir una vacuna a la lista es: {'nombre': 'Darwin', 'cumpleaños': '01/07', 'tipo': 'gato negro', 'vacunas': ['gripe']}\n",
      "El diccionario de la mascota después de añadir más vacunas a la lista es: {'nombre': 'Darwin', 'cumpleaños': '01/07', 'tipo': 'gato negro', 'vacunas': ['gripe', 'leucemia felina']}\n"
     ]
    }
   ],
   "source": [
    "# nos hacemos una copia del diccionario original\n",
    "\n",
    "diccionario_mascotas_copia = diccionario_mascotas.copy()\n",
    "# trabajaremos con el diccionario de las mascotas que habíamos creado previamente:\n",
    "print(\"El diccionario de la mascota es:\", diccionario_mascotas_copia)\n",
    "\n",
    "# imaginemos que nos hemos equivocado con en el nombre de nuestra mascota y queremos cambiarla, \n",
    "# eso lo podremos hacer accediendo a los valores como hemos aprendido con los corchetes y reemplazarlo con el valor que queramos\n",
    "diccionario_mascotas_copia[\"nombre\"] = \"Darwin\"\n",
    "\n",
    "# veamos como ha quedado el diccionario después del cambio. AHORA NUESTRA MASCOTA SE LLAMA 'Darwin' \n",
    "print(\"El diccionario de la mascota es:\", diccionario_mascotas_copia)\n",
    "\n",
    "# incluso podemos cambiar el tipo del valor, por ejemplo de un string a una lista. En este casio, nuestra mascota puede tener varias vacunas diferentes,\n",
    "#  pero en este caso lo tenemos como un único string, cuando en relidad queremos que sea una lista a la que le vayamos añadiendo las distintas vacunas que tiene\n",
    "# seguiremos la misma lógica de antes\n",
    "diccionario_mascotas_copia[\"vacunas\"] = []\n",
    "\n",
    "\n",
    "# veamos como ha quedado el diccionario después del cambio. AHORA el valor de la clave 'vacunas es una lista'\n",
    "print(\"El diccionario de la mascota es:\", diccionario_mascotas_copia)\n",
    "\n",
    "# ¿Y si quisieramos añadir una vacuna a la lista creada en el paso anterior? Podríamos volver a definir la clave, pero en vez de pasar una lista vacía, pasar una lista con \n",
    "# las vacunas que tiene la mascota, pero esto puede ser muy tedioso. \n",
    "# otra forma de hacerlo es usando métodos de listas. Desgranemos este problema:\n",
    "\n",
    "# si accedemos al valor de la clave \"vacunas\" nos devolverá una lista\n",
    "print(\"El valor de la clave 'vacunas' es: \", diccionario_mascotas_copia['vacunas'])\n",
    "\n",
    "# si vemos el tipo de este clave será una lista\n",
    "print(\"El valor de la clave 'vacunas' es: \", type(diccionario_mascotas_copia['vacunas']))\n",
    "\n",
    "\n",
    "# como se trata de una lista podremos usar los métodos de las listas que hemos aprendido hasta ahora, en concreto el método '.append()'\n",
    "diccionario_mascotas_copia[\"vacunas\"].append(\"gripe\")\n",
    "\n",
    "# veamos como ha quedado el diccionario después del cambio. AHORA el valor de la clave 'vacunas es una lista' que contiene el elemento \"gripe\"\n",
    "print(\"El diccionario de la mascota después de añadir una vacuna a la lista es:\", diccionario_mascotas_copia)\n",
    "\n",
    "# esta operación la podremos realizar todas las veces que queramos\n",
    "# como se trata de una lista podremos usar los métodos de las listas que hemos aprendido hasta ahora, en concreto el método '.append()'\n",
    "diccionario_mascotas_copia[\"vacunas\"].append(\"leucemia felina\")\n",
    "print(\"El diccionario de la mascota después de añadir más vacunas a la lista es:\", diccionario_mascotas_copia)\n",
    "\n",
    "\n",
    "# esta operación la podemos hacer con cualquier método de listas!!! "
   ]
  }
 ],
 "metadata": {
  "kernelspec": {
   "display_name": "Python 3 (ipykernel)",
   "language": "python",
   "name": "python3"
  },
  "language_info": {
   "codemirror_mode": {
    "name": "ipython",
    "version": 3
   },
   "file_extension": ".py",
   "mimetype": "text/x-python",
   "name": "python",
   "nbconvert_exporter": "python",
   "pygments_lexer": "ipython3",
   "version": "3.11.8"
  },
  "toc": {
   "base_numbering": 1,
   "nav_menu": {},
   "number_sections": true,
   "sideBar": true,
   "skip_h1_title": false,
   "title_cell": "Table of Contents",
   "title_sidebar": "Contents",
   "toc_cell": true,
   "toc_position": {
    "height": "calc(100% - 180px)",
    "left": "10px",
    "top": "150px",
    "width": "307.2px"
   },
   "toc_section_display": true,
   "toc_window_display": true
  },
  "vscode": {
   "interpreter": {
    "hash": "31f2aee4e71d21fbe5cf8b01ff0e069b9275f58929596ceb00d14d90e3e16cd6"
   }
  }
 },
 "nbformat": 4,
 "nbformat_minor": 2
}

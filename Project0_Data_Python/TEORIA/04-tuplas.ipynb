{
 "cells": [
  {
   "cell_type": "markdown",
   "metadata": {},
   "source": [
    "<div style=\"text-align: center;\">\n",
    "  <img src=\"https://github.com/Hack-io-Data/Imagenes/blob/main/01-LogosHackio/logo_celeste@4x.png?raw=true\" alt=\"esquema\" />\n",
    "</div>\n"
   ]
  },
  {
   "cell_type": "markdown",
   "metadata": {
    "toc": true
   },
   "source": [
    "<h1>Table of Contents<span class=\"tocSkip\"></span></h1>\n",
    "<div class=\"toc\"><ul class=\"toc-item\"><li><span><a href=\"#¿Qué-son-las-tuplas-y-como-se-definen?\" data-toc-modified-id=\"¿Qué-son-las-tuplas-y-como-se-definen?-1\"><span class=\"toc-item-num\">1&nbsp;&nbsp;</span>¿Qué son las tuplas y como se definen?</a></span></li><li><span><a href=\"#Indexación-en-tuplas\" data-toc-modified-id=\"Indexación-en-tuplas-2\"><span class=\"toc-item-num\">2&nbsp;&nbsp;</span>Indexación en tuplas</a></span></li><li><span><a href=\"#Propiedades-de-las-tuplas\" data-toc-modified-id=\"Propiedades-de-las-tuplas-3\"><span class=\"toc-item-num\">3&nbsp;&nbsp;</span>Propiedades de las tuplas</a></span></li><li><span><a href=\"#Métodos-de-las-tuplas\" data-toc-modified-id=\"Métodos-de-las-tuplas-4\"><span class=\"toc-item-num\">4&nbsp;&nbsp;</span>Métodos de las tuplas</a></span></li><li><span><a href=\"#Modificación-de-las-tuplas\" data-toc-modified-id=\"Modificación-de-las-tuplas-5\"><span class=\"toc-item-num\">5&nbsp;&nbsp;</span>Modificación de las tuplas</a></span></li><li><span><a href=\"#La-función-zip()\" data-toc-modified-id=\"La-función-zip()-6\"><span class=\"toc-item-num\">6&nbsp;&nbsp;</span>La función <code>zip()</code></a></span></li></ul></div>"
   ]
  },
  {
   "cell_type": "markdown",
   "metadata": {},
   "source": [
    "# ¿Qué son las tuplas y como se definen?\n",
    "\n",
    "Una tupla es una colección de datos ordenados e **inmutables**. A diferencia de las listas, que permiten modificaciones, las tuplas son estáticas una vez creadas. Se definen mediante paréntesis `()` o con el método `tuple()`, separando los elementos por comas. \n",
    "\n",
    "Las tuplas se utilizan para almacenar conjuntos de datos que no deben cambiar, como los días de la semana o las coordenadas geográficas. Aunque son similares a las listas, su inmutabilidad las hace más eficientes para operaciones de lectura, ya que no necesitan modificarse. \n",
    "\n",
    "Veamos con más detalle algunas de sus características principales:\n",
    "\n",
    "1. **Inmutabilidad**: Una vez creada, una tupla no puede ser modificada. Esto significa que no se pueden agregar, eliminar ni modificar elementos después de su creación.\n",
    "\n",
    "2. **Indexación**: Los elementos de una tupla se acceden mediante índices numéricos, igual que en las listas. Por ejemplo, `mi_tupla[0]` accede al primer elemento de la tupla.\n",
    "\n",
    "3. **Heterogeneidad**: Los elementos de una tupla pueden ser de diferentes tipos de datos. Por ejemplo, una tupla puede contener números, cadenas, booleanos, u otros tipos de datos de forma simultánea.\n",
    "\n",
    "4. **Eficiencia**: Debido a su inmutabilidad, las tuplas son más eficientes que las listas para operaciones de lectura de elementos. Esto se debe a que no necesitan ser modificadas, lo que las hace más rápidas en ciertas operaciones.\n",
    "\n",
    "\n",
    "Una vez creada, la tupla `mi_tupla` no puede ser modificada. Intentar agregar, eliminar o modificar elementos producirá un error. Sin embargo, los elementos individuales pueden ser accedidos y utilizados como cualquier otro valor. Existen varias formas de definir una tupla en Python. Si recordamos cómo definíamos una variable, lo hacíamos mediante la sintaxis `nombre = contenido`. Para crear una tupla, simplemente añadimos paréntesis alrededor de los elementos. Veamos un ejemplo:\n",
    "\n",
    "```python\n",
    "# Creamos una tupla con varios elementos utilizando paréntesis\n",
    "tupla_nombres = (\"Lola\", \"Rocio\", \"Olaya\")\n",
    "```\n",
    "\n",
    "Sin embargo, la creación de tuplas tiene algunas particularidades:\n",
    "\n",
    "- Si definimos una variable con paréntesis, pero la tupla tiene solo un elemento, sorprendentemente **no será una tupla**.\n",
    "\n",
    "- Si definimos una variable sin paréntesis pero con una coma, sorprendentemente **sí será una tupla**.\n",
    "\n",
    "- Si definimos una variable sin paréntesis y con múltiples elementos separados por comas, **también será una tupla**.\n",
    "\n",
    "Veamos estas peculiaridades con más detalle:"
   ]
  },
  {
   "cell_type": "code",
   "execution_count": 1,
   "metadata": {},
   "outputs": [
    {
     "name": "stdout",
     "output_type": "stream",
     "text": [
      "(18, 19, 17) es del tipo <class 'tuple'>\n"
     ]
    }
   ],
   "source": [
    "# definimos nuestra primera tupla \n",
    "tupla1 = (18, 19, 17)\n",
    "\n",
    "# mostramos la tupla y su tipo usando la función type que ya conocíamos\n",
    "print(tupla1, \"es del tipo\", type(tupla1))"
   ]
  },
  {
   "cell_type": "code",
   "execution_count": 3,
   "metadata": {},
   "outputs": [
    {
     "name": "stdout",
     "output_type": "stream",
     "text": [
      "19 es del tipo <class 'int'>\n"
     ]
    }
   ],
   "source": [
    "# definimos una variable con un único elemento entre paréntesis, sin comas. EN ESTE CASO SERÁ DE TIPO INT!!!!\n",
    "numero = (19)\n",
    "\n",
    "# mostramos la variable definida y el tipo de dicha variable\n",
    "print(numero, \"es del tipo\", type(numero))"
   ]
  },
  {
   "cell_type": "code",
   "execution_count": 4,
   "metadata": {},
   "outputs": [
    {
     "name": "stdout",
     "output_type": "stream",
     "text": [
      "(56,) es del tipo <class 'tuple'>\n"
     ]
    }
   ],
   "source": [
    "# si queremos que nuestra tupla tenga solo un elemento, lo podemos definir incluso sin paréntesis, pero incluyendo una coma en la definición de la variable\n",
    "tupla2 = 56,\n",
    "\n",
    "# mostramos la variable y su tipo\n",
    "print(tupla2, \"es del tipo\", type(tupla2))"
   ]
  },
  {
   "cell_type": "code",
   "execution_count": 5,
   "metadata": {},
   "outputs": [
    {
     "name": "stdout",
     "output_type": "stream",
     "text": [
      "('hola', 'adios', 'patata') es del tipo <class 'tuple'>\n"
     ]
    }
   ],
   "source": [
    "# lo mismo que hemos hecho en la celda alterior, lo podemoa hacer para varios elementos pero sin poner los paréntesis, como vemos a continuación\n",
    "# y es que en python, cualquier cualquier variable que este definida separando sus elementos por comas, sin poner parétesis, o corchetes o llaves, serán identificados comom tuplas\n",
    "tupla3 = \"hola\", \"adios\", \"patata\"\n",
    "\n",
    "# mostramos la variable y su tipo\n",
    "print(tupla3, \"es del tipo\", type(tupla3))"
   ]
  },
  {
   "cell_type": "code",
   "execution_count": 7,
   "metadata": {},
   "outputs": [
    {
     "name": "stdout",
     "output_type": "stream",
     "text": [
      "La lista de notas contiene:  [19, 168, 188, 'brocoli', 'patata']\n",
      "\n",
      "La tupla de notas contiene:  (19, 168, 188, 'brocoli', 'patata')\n"
     ]
    }
   ],
   "source": [
    "# Definimos la lista de notas\n",
    "notas = [19, 168, 188, \"brocoli\", \"patata\"]\n",
    "print(\"La lista de notas contiene: \", notas)\n",
    "\n",
    "# Convertimos la lista de notas a una tupla\n",
    "tupla_notass = tuple(notas)\n",
    "print(\"\\nLa tupla de notas contiene: \", tupla_notass)\n"
   ]
  },
  {
   "cell_type": "markdown",
   "metadata": {},
   "source": [
    "# Indexación en tuplas\n",
    "\n",
    "Al igual que las listas, las tuplas tienen un orden específico, lo que significa que podemos acceder a sus elementos utilizando índices. Por ejemplo, `[0]` nos dará el primer elemento, `[-1]` nos dará el último, y así sucesivamente. Esto nos permitirá acceder a los datos de una tupla. La indexación en las tuplas sigue la misma lógica que en las listas, lo que facilita su comprensión y utilización. E\n",
    "\n",
    "Recordemos como funcionaban los índices en Python: \n",
    "\n",
    "| Indexación Positiva | Indexación Negativa |\n",
    "| -------- | -------- |\n",
    "| ![Imagen 1](https://github.com/Hack-io-Data/Imagenes/blob/main/02-Imagenes/Python_b%C3%A1sico/tupla_index.png?raw=true) | ![Imagen 2](https://github.com/Hack-io-Data/Imagenes/blob/main/02-Imagenes/Python_b%C3%A1sico/tupla_index_negativos.png?raw=true) |\n",
    "\n"
   ]
  },
  {
   "cell_type": "code",
   "execution_count": 9,
   "metadata": {},
   "outputs": [
    {
     "data": {
      "text/plain": [
       "('H', 'A', 'C', 'K', '(', 'I', 'O', ')')"
      ]
     },
     "execution_count": 9,
     "metadata": {},
     "output_type": "execute_result"
    }
   ],
   "source": [
    "# definimos una tupla de strings\n",
    "letras = ('H', 'A', 'C', 'K', \"(\", \"I\", \"O\", \")\")\n",
    "letras"
   ]
  },
  {
   "cell_type": "code",
   "execution_count": 10,
   "metadata": {},
   "outputs": [
    {
     "name": "stdout",
     "output_type": "stream",
     "text": [
      "Los dos primeros elementos: [0:2] = ('H', 'A')\n",
      "Equivalente a [:2] = ('H', 'A')\n",
      "Con índices negativos: [:-7] = ('H',)\n",
      "Segundo y tercer elemento: [1:3] = ('A', 'C')\n",
      "Todos menos el primero: [1:] = ('A', 'C', 'K', '(', 'I', 'O', ')')\n",
      "Los dos últimos: [-2:] = ('O', ')')\n"
     ]
    }
   ],
   "source": [
    "print('Los dos primeros elementos: [0:2] =', letras[0:2])\n",
    "print('Equivalente a [:2] =', letras[:2])\n",
    "print('Con índices negativos: [:-7] =', letras[:-7])\n",
    "print('Segundo y tercer elemento: [1:3] =', letras[1:3])\n",
    "print('Todos menos el primero: [1:] =', letras[1:])\n",
    "print('Los dos últimos: [-2:] =', letras[-2:])\n"
   ]
  },
  {
   "cell_type": "markdown",
   "metadata": {},
   "source": [
    "# Propiedades de las tuplas\n",
    "\n",
    "\n",
    "En la lección anterior sobre listas, exploramos varios métodos útiles para inspeccionar las propiedades de las listas, en tuplas las tendremos igualmente. Estos métodos son esenciales para comprender y trabajar eficientemente con las tuplas en Python. Recordemos estos métodos:\n",
    "\n",
    "- `len()`: Se utiliza para determinar la longitud de una tupla, es decir, el número total de elementos que contiene. P\n",
    "\n",
    "    ```python\n",
    "    tupla = (1, 2, 3, 4, 5)\n",
    "    longitud = len(tupla)\n",
    "    print(\"La longitud de la tupla es:\", longitud)  # Salida: La longitud de la tupla es: 5\n",
    "    ```\n",
    "\n",
    "- `max()`: Ae utiliza para encontrar el elemento de mayor valor en una tupla. Funciona comparando los valores de los elementos y devolviendo el elemento con el valor más alto. \n",
    "\n",
    "    ```python\n",
    "    tupla = (5, 2, 8, 3, 1)\n",
    "    maximo = max(tupla)\n",
    "    print(\"El máximo elemento de la tupla es:\", maximo)  # Salida: El máximo elemento de la tupla es: 8\n",
    "    ```\n",
    "\n",
    "- `min()`: Realiza una función similar a `max()`, pero devuelve el elemento de menor valor en la tupla. Aquí tienes un ejemplo de cómo se usa:\n",
    "\n",
    "    ```python\n",
    "    tupla = (5, 2, 8, 3, 1)\n",
    "    minimo = min(tupla)\n",
    "    print(\"El mínimo elemento de la tupla es:\", minimo)  # Salida: El mínimo elemento de la tupla es: 1\n",
    "    ```\n"
   ]
  },
  {
   "cell_type": "code",
   "execution_count": 12,
   "metadata": {},
   "outputs": [
    {
     "name": "stdout",
     "output_type": "stream",
     "text": [
      "La longitud de la tupla es:  7\n",
      "El valor máximo de la tupla es:  9.3\n",
      "El valor mínimo de la tupla es:  6.9\n"
     ]
    }
   ],
   "source": [
    "# definimos una nueva tupla de notas de alumnas\n",
    "tupla_notas = (7.5, 8.2, 6.9, 7.8, 9.3, 8.7, 7.1)\n",
    "\n",
    "# mostramos la longitud de la tupla\n",
    "print(\"La longitud de la tupla es: \", len(tupla_notas))\n",
    "\n",
    "# imprimimos el valor máximo de la tupla\n",
    "print(\"El valor máximo de la tupla es: \", max(tupla_notas))\n",
    "\n",
    "# imprimimos el valor mínimo de la tupla\n",
    "print(\"El valor mínimo de la tupla es: \", min(tupla_notas))\n"
   ]
  },
  {
   "cell_type": "markdown",
   "metadata": {},
   "source": [
    "# Métodos de las tuplas\n",
    "\n",
    "En Python, las tuplas, aunque inmutables, proporcionan métodos útiles para operar sobre ellas. Algunos de los métodos son: \n",
    "\n",
    "-  `index()`: Devuelve el índice de la primera ocurrencia de un elemento en la tupla. \n",
    "\n",
    "- `count()`: Devuelve el número de veces que un elemento aparece en la tupla. \n",
    "\n",
    "Es importante recordar que las tuplas no admiten métodos que alteren su estructura, como `append()` o `extend()`, debido a su naturaleza inmutable. \n"
   ]
  },
  {
   "cell_type": "code",
   "execution_count": 16,
   "metadata": {},
   "outputs": [
    {
     "name": "stdout",
     "output_type": "stream",
     "text": [
      "El contenido de la tupla es:  (7.5, 8.2, 6.9, 7.8, 9.3, 8.7, 7.1)\n",
      "La nota 4.9 está en la posición:  3\n",
      "La nota 9 aparece: 1 veces en la tupla\n",
      "La nota 9 aparece: 0 veces en la tupla\n"
     ]
    }
   ],
   "source": [
    "# recordamos que tenemos en la variable tupla_notas\n",
    "\n",
    "print(\"El contenido de la tupla es: \", tupla_notas)\n",
    "\n",
    "# saquemos ahora en que posición está la nota 7.8 usando el método INDEX()\n",
    "print(\"La nota 4.9 está en la posición: \", tupla_notas.index(7.8))\n",
    "\n",
    "# saquemos ahora cuántas veces aparece la nota 6.9 en nuestra tupla usando el método COUNT()\n",
    "print(\"La nota 9 aparece:\", tupla_notas.count(6.9), \"veces en la tupla\")\n",
    "\n",
    "# ¿OS HABÉIS PLANTEADO QUE PASARÍA SI INTENTAMOS CONTAR UN VALOR QUE NO ESTÁ EN NUESTRA TUPLA O LISTA? Probemoslo con la nota 2 que no aparece en la tupla. BASICAMENTE NOS DEVOLVERÁ QUE ESE ELEMENTO APARECE 0 VECES EN NUESTA TUPLA\n",
    "print(\"La nota 9 aparece:\", tupla_notas.count(2), \"veces en la tupla\")\n"
   ]
  },
  {
   "cell_type": "markdown",
   "metadata": {},
   "source": [
    "# Modificación de las tuplas\n",
    "\n",
    "Como ya hemos dicho, las tuplas son objetos inmutables, lo que significa que una vez creadas, no se pueden modificar. Esto implica que no podemos emplear métodos como `pop()` o `append()`, similares a los utilizados en listas. Sin embargo, existen técnicas que permiten simular la modificación de una tupla. Algunas opciones son:\n",
    "\n",
    "- **Convertir la tupla a una lista**: Podemos convertir la tupla en una lista mutable, realizar los cambios necesarios y luego volver a convertirla en una tupla.\n",
    "\n",
    "    ```python\n",
    "    tupla = (1, 2, 3)\n",
    "    lista = list(tupla)\n",
    "    lista[0] = 4\n",
    "    tupla_modificada = tuple(lista)\n",
    "    ```\n",
    "\n",
    "- **Concatenación de tuplas**: Podemos crear una nueva tupla combinando partes de la tupla original con los valores modificados.\n",
    "\n",
    "    ```python\n",
    "    tupla = (1, 2, 3)\n",
    "    tupla_modificada = (4,) + tupla[1:]\n",
    "    ```\n",
    "\n",
    "- **Descomposición de tuplas**: Podemos asignar cada valor de la tupla a una variable individual y luego crear una nueva tupla con los valores modificados.\n",
    "\n",
    "    ```python\n",
    "    tupla = (1, 2, 3)\n",
    "    a, b, c = tupla\n",
    "    tupla_modificada = (4, b, c)\n",
    "    ```\n",
    "\n",
    "Estas técnicas nos permiten realizar cambios en los valores de una tupla sin modificarla directamente. Es importante tener en cuenta que, aunque se pueden simular las modificaciones, cada enfoque tiene sus propias implicaciones y es crucial elegir el más adecuado según el contexto y los requisitos de nuestro código.\n",
    "\n",
    "- La conversión de tuplas a listas y viceversa puede ser útil cuando se necesitan realizar múltiples modificaciones en los elementos de una tupla. Sin embargo, este enfoque puede ser menos eficiente en términos de rendimiento y consumo de memoria en comparación con otras técnicas.\n",
    "\n",
    "- La concatenación de tuplas es una forma simple y directa de agregar o modificar elementos en una tupla. Sin embargo, este método puede ser menos eficiente en términos de legibilidad del código y mantenimiento cuando se trabaja con tuplas más grandes o complejas.\n",
    "\n",
    "- La descomposición de tuplas es una técnica poderosa que permite modificar selectivamente valores individuales de una tupla. Es especialmente útil cuando se necesita mantener la estructura general de la tupla mientras se realizan cambios en valores específicos.\n"
   ]
  },
  {
   "cell_type": "markdown",
   "metadata": {},
   "source": [
    "**Convertir la tupla a una lista, modificar la lista y luego convertirla de nuevo a una tupla.**"
   ]
  },
  {
   "cell_type": "code",
   "execution_count": 17,
   "metadata": {},
   "outputs": [
    {
     "name": "stdout",
     "output_type": "stream",
     "text": [
      "La tupla original es: ('Lola', 'Rocio', 'Olaya')\n",
      "\n",
      "La tupla modificada es: ('Paola', 'Rocio', 'Olaya')\n"
     ]
    }
   ],
   "source": [
    "# definimos una tupla de nombres\n",
    "tupla_nombres = (\"Lola\", \"Rocio\", \"Olaya\")\n",
    "print(\"La tupla original es:\", tupla_nombres)\n",
    "\n",
    "# convertimos la tupla a lista\n",
    "lista_nombres = list(tupla_nombres)\n",
    "\n",
    "# cambiamos el nombre \"Lola\" por otro nombre\n",
    "lista_nombres[0] = \"Paola\"\n",
    "\n",
    "# convertimos la lista modificada a tupla\n",
    "tupla_nombres = tuple(lista_nombres)\n",
    "\n",
    "print(\"\\nLa tupla modificada es:\", tupla_nombres)\n"
   ]
  },
  {
   "cell_type": "markdown",
   "metadata": {},
   "source": [
    "**Utilizar la concatenación de tuplas para crear una nueva tupla con los valores modificados.**"
   ]
  },
  {
   "cell_type": "code",
   "execution_count": 4,
   "metadata": {},
   "outputs": [
    {
     "name": "stdout",
     "output_type": "stream",
     "text": [
      "La tupla 1 original es: ('Lola', 'Paula', 'Lorena')\n",
      "La tupla 2 original es: ('Marta', 'Lidia', 'Ana')\n",
      "La tupla resultado de la concatenación es: ('Lola', 'Paula', 'Lorena', 'Marta', 'Lidia', 'Ana')\n"
     ]
    }
   ],
   "source": [
    "# definimos una tupla con nombres de alumnas, \n",
    "tupla_nombres1 = (\"Lola\", \"Paula\", \"Lorena\")\n",
    "print(\"La tupla 1 original es:\", tupla_nombres1)\n",
    "\n",
    "# definimos una nueva tupla con más nombres\n",
    "tupla_nombres2 = (\"Marta\", \"Lidia\", \"Ana\")\n",
    "print(\"La tupla 2 original es:\", tupla_nombres2)\n",
    "\n",
    "\n",
    "nueva_tupla_nombres = tupla_nombres1 + tupla_nombres2\n",
    "print(\"La tupla resultado de la concatenación es:\", nueva_tupla_nombres)\n",
    "\n"
   ]
  },
  {
   "cell_type": "markdown",
   "metadata": {},
   "source": [
    "**Utilizar la descomposición de tuplas para crear variables separadas para cada valor de la tupla, y luego crear una nueva tupla con los valores modificados.**"
   ]
  },
  {
   "cell_type": "code",
   "execution_count": 5,
   "metadata": {},
   "outputs": [
    {
     "name": "stdout",
     "output_type": "stream",
     "text": [
      "La tupla 1 original es: ('Lola', 'Paula', 'Lorena')\n",
      "La nueva tupla es: ('Maria', 'Paula', 'Lorena')\n"
     ]
    }
   ],
   "source": [
    "# definimos una tupla con nombres de alumnas, \n",
    "tupla_nombres = (\"Lola\", \"Paula\", \"Lorena\")\n",
    "print(\"La tupla 1 original es:\", tupla_nombres1)\n",
    "\n",
    "# descomponemos los valores de las tupla, es decir, generamos 3 variables donde cada variable corresponderá a cada uno de los elementos de la tupla\n",
    "a, b, c = tupla_nombres\n",
    "\n",
    "# creamos una nueva tupla usando las variables que hemos creado previamente\n",
    "tupla_nombres3 = (\"Maria\", b, c)\n",
    "print(\"La nueva tupla es:\", tupla_nombres3)\n"
   ]
  },
  {
   "cell_type": "markdown",
   "metadata": {},
   "source": [
    "# La función `zip()`\n",
    "\n",
    "La función `zip()` toma dos o más objetos iterables (como listas, tuplas, diccionarios, etc.) y los combina en una sola estructura de datos. Esta estructura resultante está formada por tuplas, donde cada tupla contiene elementos correspondientes de los iterables originales. Básicamente, `zip()` crea pares de elementos, combinando el primer elemento de cada iterable, luego el segundo elemento de cada uno, y así sucesivamente. La función `zip()` nos puede resultar útil para muchas acciones que requieren la combinación de elementos de múltiples iterables. Algunos ejemplos (los veremos más detalladamente en las siguientes celdas con su código correspondiente):\n",
    "\n",
    "1. **Emparejar Datos Correspondientes**: Cuando tenemos dos listas o más que contienen datos relacionados, `zip()` nos permite emparejarlos fácilmente. Por ejemplo, si tenemos una lista de nombres y otra de edades, podemos combinarlas para crear pares de (nombre, edad).\n",
    "\n",
    "   ```python\n",
    "   nombres = [\"Ana\", \"Luis\", \"Marta\"]\n",
    "   edades = [25, 30, 22]\n",
    "   emparejados = list(zip(nombres, edades))\n",
    "   print(emparejados)  # Output: [('Ana', 25), ('Luis', 30), ('Marta', 22)]\n",
    "   ```\n",
    "\n",
    "2. **Construir Diccionarios**: `zip()` puede ser usado para construir diccionarios a partir de dos listas, una de claves y otra de valores.\n",
    "\n",
    "   ```python\n",
    "   claves = [\"nombre\", \"edad\", \"ciudad\"]\n",
    "   valores = [\"Ana\", 25, \"Madrid\"]\n",
    "   diccionario = dict(zip(claves, valores))\n",
    "   print(diccionario)  # Output: {'nombre': 'Ana', 'edad': 25, 'ciudad': 'Madrid'}\n",
    "   ```\n",
    "\n",
    "3. **Transponer Estructuras de Datos**: Si tenemos una lista de tuplas y queremos transponerla, `zip()` nos puede ayudar.\n",
    "\n",
    "   ```python\n",
    "   lista_de_tuplas = [(1, 'a'), (2, 'b'), (3, 'c')]\n",
    "   transpuesta = list(zip(*lista_de_tuplas))\n",
    "   print(transpuesta)  # Output: [(1, 2, 3), ('a', 'b', 'c')]\n",
    "   ```\n",
    "\n",
    "Pero antes de empezar con sus múltiples utilidades, veamos un ejemplo sencillo de como es su sintaxis y que es lo que nos devuelve. "
   ]
  },
  {
   "cell_type": "code",
   "execution_count": 2,
   "metadata": {},
   "outputs": [
    {
     "name": "stdout",
     "output_type": "stream",
     "text": [
      "El resultado del zip de estas listas es: <zip object at 0x106b63a00>\n"
     ]
    }
   ],
   "source": [
    "# definimos dos listas, una con nombres de clientes y otras con su facturación\n",
    "clientes = ['Paco', 'Carmen', 'Mariano', 'Agueda']\n",
    "facturacion = [ 2198,   411901,   180113,   1197301]\n",
    "\n",
    "# a estas dos listas les vamos a aplicar un zip\n",
    "zip1 = zip(clientes, facturacion)\n",
    "print(\"El resultado del zip de estas listas es:\", zip1 )\n",
    "\n",
    "# Vaya... nos devuelve algo raro que no sabemos que es muy bien... ¿Cómo podríamos hacer que esto fuera legible? --> Convirtiéndolo a lista. Desarrollemoslo en la siguiente celda. \n"
   ]
  },
  {
   "cell_type": "code",
   "execution_count": 3,
   "metadata": {},
   "outputs": [
    {
     "name": "stdout",
     "output_type": "stream",
     "text": [
      "El resultado del zip de estas listas es: <zip object at 0x106b636c0>\n",
      "El resultado del zip de estas listas  después de convertirlo a lista es: [('Paco', 2198), ('Carmen', 411901), ('Mariano', 180113), ('Agueda', 1197301)]\n"
     ]
    }
   ],
   "source": [
    "# definimos dos listas, una con nombres de clientes y otras con su facturación\n",
    "clientes = ['Paco', 'Carmen', 'Mariano', 'Agueda']\n",
    "facturacion = [ 2198,   411901,   180113,   1197301]\n",
    "\n",
    "# a estas dos listas les vamos a aplicar un zip\n",
    "zip1 = zip(clientes, facturacion)\n",
    "print(\"El resultado del zip de estas listas es:\", zip1 )\n",
    "\n",
    "# convertimos a lista el resultado del zip (fijaos que de momento no lo estamos almacenando en ninguna variable, simplemente estamos mostrando en pantalla los resultados)\n",
    "print(\"El resultado del zip de estas listas  después de convertirlo a lista es:\", list(zip1) )"
   ]
  },
  {
   "cell_type": "code",
   "execution_count": 4,
   "metadata": {},
   "outputs": [
    {
     "data": {
      "text/plain": [
       "[]"
      ]
     },
     "execution_count": 4,
     "metadata": {},
     "output_type": "execute_result"
    }
   ],
   "source": [
    "# pero... ¿qué pasaría si ahora queremos volver a mostrar el resultado de la variable zip1? \n",
    "list(zip1)"
   ]
  },
  {
   "cell_type": "markdown",
   "metadata": {},
   "source": [
    "¡Vaya! Nos ha dado una lista vacía. ¿Cómo es posible? `zip` es una función de un solo uso, lo que significa que una vez que la hemos utilizado, no podemos reutilizarla. En nuestro caso, hemos utilizado la variable `zip1` para convertirla en lista, por lo que ya la hemos usado una vez y no podremos volver a usarla. Es por esto, que es recomendable crear el objeto zip y convertirla a lista todo de una vez, como haremos en la siguiente celda. De esta forma, podremos usar el resultado del zip (convertido a lista) todas las veces que queramos. \n",
    "\n",
    "Continuemos entendiendo `zip()`. El resultado es una lista llena de tuplas donde los contenidos de letras y números están conectados, permitiendo usar uno para ordenar el otro. En este momento, cada elemento de `zip1` comienza con una letra. ¿Cómo podríamos ordenar el resultado del `zip` alfabéticamente?"
   ]
  },
  {
   "cell_type": "code",
   "execution_count": 5,
   "metadata": {},
   "outputs": [
    {
     "name": "stdout",
     "output_type": "stream",
     "text": [
      "El resultado del zip de estas listas es: [('Paco', 2198), ('Carmen', 411901), ('Mariano', 180113), ('Agueda', 1197301)]\n",
      "La lista ordenada es: [('Agueda', 1197301), ('Carmen', 411901), ('Mariano', 180113), ('Paco', 2198)]\n"
     ]
    }
   ],
   "source": [
    "# como hemos visto el zip es un objeto de un solo uso, por lo que tendremos que volver a definirlo de nuevo y convertirlo a lista todo de una vez como comentamos previamente\n",
    "\n",
    "# en este caso vamos a unir el zip y el list \n",
    "zip1 = list(zip(clientes, facturacion))\n",
    "print(\"El resultado del zip de estas listas es:\", zip1 )\n",
    "\n",
    "# imaginemos que ahora queremos ordenar el resultado del zip, como es una lista podremos usar el método \".sort()\", que recordemos nos sobreescribía la lista\n",
    "# es una lista, y por lo tanto, podremos usar el método sort de las listas\n",
    "zip1.sort()\n",
    "print(\"La lista ordenada es:\", zip1)"
   ]
  },
  {
   "cell_type": "code",
   "execution_count": 6,
   "metadata": {},
   "outputs": [
    {
     "name": "stdout",
     "output_type": "stream",
     "text": [
      "El resultado del zip de estas listas es: [(2198, 'Paco'), (411901, 'Carmen'), (180113, 'Mariano'), (1197301, 'Agueda')]\n",
      "La lista ordenada es: [(2198, 'Paco'), (180113, 'Mariano'), (411901, 'Carmen'), (1197301, 'Agueda')]\n"
     ]
    }
   ],
   "source": [
    "# el orden en el que le pasemos las listas al zip es importante, fijaos como en este ejemplo hemos invertido el orden de las listas, estamos pasando primero facturación y luego clientes\n",
    "zip2 = list(zip(facturacion, clientes))\n",
    "print(\"El resultado del zip de estas listas es:\", zip2 )\n",
    "\n",
    "# ordenamos los resultados\n",
    "zip2.sort()\n",
    "print(\"La lista ordenada es:\", zip2)"
   ]
  },
  {
   "cell_type": "code",
   "execution_count": 10,
   "metadata": {},
   "outputs": [
    {
     "name": "stdout",
     "output_type": "stream",
     "text": [
      "El resultado del zip de estas listas es: [('Paco', 2198, 'hola'), ('Carmen', 411901, 'adios'), ('Mariano', 180113, 'que tal')]\n"
     ]
    }
   ],
   "source": [
    "# nos podemos preguntar... lo podemos hacer con tres listas? \n",
    "## creemos otra lista, pero en este caso crearemos una lista con menos elementos\n",
    "\n",
    "otros = [\"hola\", \"adios\", \"que tal\"]\n",
    "\n",
    "# creamos otra variable, con un zip que incluye tres listas\n",
    "zip3 = list(zip(clientes, facturacion, otros))\n",
    "print(\"El resultado del zip de estas listas es:\", zip3 )\n",
    "\n",
    "# No hace falta que los contenedores tengan la misma longitud. El `zip` se corta automaticamente a la última fila que puede rellenar por completo, es decir al tamaño de la lista más corta."
   ]
  },
  {
   "cell_type": "code",
   "execution_count": 11,
   "metadata": {},
   "outputs": [
    {
     "name": "stdout",
     "output_type": "stream",
     "text": [
      "El resultado del zip de estas listas es: {'Paco': 2198, 'Carmen': 411901, 'Mariano': 180113, 'Agueda': 1197301}\n"
     ]
    }
   ],
   "source": [
    "# hasta ahora lo estamos convirtiendo a lista, pero también lo podríamos convertir a diccionario. Pongamos un ejemplo:\n",
    "zip3 = dict(zip(clientes, facturacion))\n",
    "\n",
    "# fijaos como ahora lo que hemos conseguido es crear un diccionario de una forma sencilla y rápida! \n",
    "print(\"El resultado del zip de estas listas es:\", zip3 )"
   ]
  },
  {
   "cell_type": "code",
   "execution_count": 16,
   "metadata": {},
   "outputs": [
    {
     "name": "stdout",
     "output_type": "stream",
     "text": [
      "El zip con el que vamos a trabajar es: [(2198, 'Paco'), (180113, 'Mariano'), (411901, 'Carmen'), (1197301, 'Agueda')]\n",
      "(2198, 180113, 411901, 1197301)\n",
      "('Paco', 'Mariano', 'Carmen', 'Agueda')\n"
     ]
    }
   ],
   "source": [
    "# sigamos con más usos de la función zip(). Como hemos visto, también nos va a permitir transponer información\n",
    "# imaginemos que tenemos la lista de tuplas zip1 y queremos hacer la inversa de lo que hemos estado haciendo hasta ahora. Es decir, separar los clientes por un lado y la facturación por otro lado. En este caso podemos usar el zip\n",
    "\n",
    "# recordemos el segundo zip que creamos 'zip2'\n",
    "print(f\"El zip con el que vamos a trabajar es: {zip2}\")\n",
    "\n",
    "facturacion, clientes = list(zip(*zip2))\n",
    "print(facturacion)\n",
    "print(clientes)"
   ]
  },
  {
   "cell_type": "markdown",
   "metadata": {},
   "source": [
    "**¿Qué estamos haciendo en este código?**\n",
    "\n",
    "En general, estamos realizando una transposición de una lista de tuplas y luego desempaquetando el resultado en dos listas separadas. Vamos a desglosar paso a paso qué está sucediendo:\n",
    "\n",
    "\n",
    "1. **Desempaquetamiento con `*`**: El operador `*` desempaqueta `zip2` de manera que los elementos individuales de la lista se pasan como argumentos separados a la función `zip()`. Es decir, `zip(*zip2)` es equivalente a `zip((100, 'Cliente1'), (200, 'Cliente2'), (300, 'Cliente3'))`.\n",
    "\n",
    "2. **Transposición con `zip()`**: La función `zip()` tomará estos elementos separados y agrupará los elementos correspondientes de cada uno en nuevas tuplas. En este caso, tomará los primeros elementos de cada tupla original (las facturaciones), luego los segundos elementos (los clientes), y así sucesivamente.\n",
    "\n",
    "3. **Conversión a Lista**: `list(zip(*zip2))` convierte el iterador resultante en una lista de tuplas transpuestas. En este ejemplo, el resultado de `zip(*zip2)` será un iterador que contiene:\n",
    "\n",
    "   ```python\n",
    "   transpuesto = zip(*zip2)\n",
    "   # transpuesto es un iterador que produce:\n",
    "   # [(100, 200, 300), ('Cliente1', 'Cliente2', 'Cliente3')]\n",
    "   ```\n",
    "\n",
    "   Al convertirlo en una lista:\n",
    "\n",
    "   ```python\n",
    "   transpuesto_lista = list(transpuesto)\n",
    "   # transpuesto_lista es:\n",
    "   # [(100, 200, 300), ('Cliente1', 'Cliente2', 'Cliente3')]\n",
    "   ```\n",
    "\n",
    "4. **Desempaquetamiento en Dos Listas Separadas**: Finalmente, desempaquetamos la lista de tuplas transpuestas en dos listas separadas, `facturacion` y `clientes`:\n",
    "\n",
    "   ```python\n",
    "   facturacion, clientes = [(100, 200, 300), ('Cliente1', 'Cliente2', 'Cliente3')]\n",
    "   ```\n",
    "\n",
    "   Esto asigna `facturacion` a `(100, 200, 300)` y `clientes` a `('Cliente1', 'Cliente2', 'Cliente3')`.\n",
    "\n",
    "   ```python\n",
    "   facturacion = (100, 200, 300)\n",
    "   clientes = ('Cliente1', 'Cliente2', 'Cliente3')\n",
    "   ```"
   ]
  },
  {
   "cell_type": "markdown",
   "metadata": {},
   "source": []
  }
 ],
 "metadata": {
  "kernelspec": {
   "display_name": "Python 3 (ipykernel)",
   "language": "python",
   "name": "python3"
  },
  "language_info": {
   "codemirror_mode": {
    "name": "ipython",
    "version": 3
   },
   "file_extension": ".py",
   "mimetype": "text/x-python",
   "name": "python",
   "nbconvert_exporter": "python",
   "pygments_lexer": "ipython3",
   "version": "3.11.8"
  },
  "toc": {
   "base_numbering": 1,
   "nav_menu": {},
   "number_sections": true,
   "sideBar": true,
   "skip_h1_title": false,
   "title_cell": "Table of Contents",
   "title_sidebar": "Contents",
   "toc_cell": true,
   "toc_position": {
    "height": "calc(100% - 180px)",
    "left": "10px",
    "top": "150px",
    "width": "302.398px"
   },
   "toc_section_display": true,
   "toc_window_display": true
  },
  "vscode": {
   "interpreter": {
    "hash": "8560ba40f25f8debc3b21cfdc72602d7855270eb253b25380125fbd9b6cd3418"
   }
  }
 },
 "nbformat": 4,
 "nbformat_minor": 2
}

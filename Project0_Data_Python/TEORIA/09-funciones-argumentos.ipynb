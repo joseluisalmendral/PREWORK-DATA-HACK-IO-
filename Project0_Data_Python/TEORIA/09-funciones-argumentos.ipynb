{
 "cells": [
  {
   "cell_type": "markdown",
   "metadata": {},
   "source": [
    "<div style=\"text-align: center;\">\n",
    "  <img src=\"https://github.com/Hack-io-Data/Imagenes/blob/main/01-LogosHackio/logo_celeste@4x.png?raw=true\" alt=\"esquema\" />\n",
    "</div>\n"
   ]
  },
  {
   "cell_type": "markdown",
   "metadata": {
    "toc": true
   },
   "source": [
    "<h1>Table of Contents<span class=\"tocSkip\"></span></h1>\n",
    "<div class=\"toc\"><ul class=\"toc-item\"><li><span><a href=\"#Parámetros-por-defecto\" data-toc-modified-id=\"Parámetros-por-defecto-1\"><span class=\"toc-item-num\">1&nbsp;&nbsp;</span>Parámetros por defecto</a></span></li><li><span><a href=\"#args-y-kwargs\" data-toc-modified-id=\"args-y-kwargs-2\"><span class=\"toc-item-num\">2&nbsp;&nbsp;</span><em>args</em> y <em>kwargs</em></a></span><ul class=\"toc-item\"><li><span><a href=\"#args\" data-toc-modified-id=\"args-2.1\"><span class=\"toc-item-num\">2.1&nbsp;&nbsp;</span><code>args</code></a></span></li><li><span><a href=\"#kwargs\" data-toc-modified-id=\"kwargs-2.2\"><span class=\"toc-item-num\">2.2&nbsp;&nbsp;</span><code>kwargs</code></a></span></li></ul></li><li><span><a href=\"#Recursividad\" data-toc-modified-id=\"Recursividad-3\"><span class=\"toc-item-num\">3&nbsp;&nbsp;</span>Recursividad</a></span></li></ul></div>"
   ]
  },
  {
   "cell_type": "markdown",
   "metadata": {},
   "source": [
    "# Parámetros por defecto\n",
    "\n",
    "Los parámetros por defecto en son valores predefinidos asignados a los argumentos de una función si no se especifica un valor al llamarla. Esta característica proporciona flexibilidad al permitir que la función sea invocada con menos argumentos si es necesario. Al definir una función, los valores por defecto se establecen, permitiendo que los usuarios omitan argumentos opcionales si no son necesarios.\n",
    "\n",
    "La sintaxis para definir un parámetro por defecto es:\n",
    "\n",
    "```python\n",
    "def mi_funcion(parametro1, parametro2=valor_por_defecto):\n",
    "    # Cuerpo de la función\n",
    "```\n",
    "\n",
    "Donde:\n",
    "\n",
    "- `parametro1`: Es un parámetro obligatorio. \n",
    "\n",
    "- `parametro2`: Tiene un valor por defecto `valor_por_defecto`, que se utiliza si no se proporciona ningún otro valor.\n",
    "\n",
    "Es esencial decir que los parámetros por defecto deben definirse al final de la lista de parámetros de una función. Los parámetros obligatorios deben ir primero, seguidos de los parámetros por defecto, como vemos en la sintaxis anterior.\n",
    "\n",
    "El uso de parámetros por defecto hace que el código sea más conciso y fácil de entender, especialmente con funciones que tienen múltiples parámetros opcionales. Además, ahorra tiempo en las llamadas de funciones, ya que no es necesario proporcionar valores para cada parámetro si se utilizan los valores por defecto.\n",
    "\n",
    "Hagamos un ejemplo, en este caso crearemos una función de saludo que toma dos parámetros:\n",
    "\n",
    "- El nombre de la persona a saludar.\n",
    "\n",
    "- Un saludo de buenos días predeterminado.\n"
   ]
  },
  {
   "cell_type": "code",
   "execution_count": 2,
   "metadata": {},
   "outputs": [
    {
     "name": "stdout",
     "output_type": "stream",
     "text": [
      "La función de saludo devuelve: Hola, Paco!\n"
     ]
    }
   ],
   "source": [
    "# definimos la función 'saludar' \n",
    "def saludar(nombre, mensaje = \"Hola\"):\n",
    "    \"\"\"\n",
    "    Genera un saludo personalizado.\n",
    "\n",
    "    Params:\n",
    "        nombre (str): El nombre de la persona a saludar.\n",
    "        mensaje (str, opcional): El mensaje de saludo. Por defecto es \"Hola\".\n",
    "\n",
    "    Returns:\n",
    "        str: El saludo personalizado que incluye el nombre y el mensaje.\n",
    "    \"\"\"\n",
    "\n",
    "    # definimos un string que se va a componer por el mensaje (que es igual a \"Hola\") y el nombre que le pasemos en la función\n",
    "    frase = f'{mensaje}, {nombre}!'\n",
    "    return frase\n",
    "\n",
    "# llamamos a la función 'saludar' y almacenamos los resultados en la variable 'saludo1'\n",
    "saludo1 = saludar(\"Paco\")\n",
    "\n",
    "# Si nos fijamos en lo que nos devuelve la función, vemos que, nos devuelve un saludo para Paco, con un 'Hola', que es nuestro parámetro por defecto. \n",
    "print(\"La función de saludo devuelve:\", saludo1)\n"
   ]
  },
  {
   "cell_type": "code",
   "execution_count": 4,
   "metadata": {},
   "outputs": [
    {
     "name": "stdout",
     "output_type": "stream",
     "text": [
      "La función de saludo devuelve: Hola, Lola!\n"
     ]
    }
   ],
   "source": [
    "# si ahora quisieramos saludar a Lola lo único que tendríamos que hacer es cambiar el valor de \"Paco\" a \"Lola\", veamos como hacerlo:\n",
    "saludo2 = saludar(\"Lola\")\n",
    "\n",
    "# El nombre varía, pero el saludo predeterminado (\"Hola\") permanece constante. \n",
    "print(\"La función de saludo devuelve:\", saludo2)"
   ]
  },
  {
   "cell_type": "code",
   "execution_count": 9,
   "metadata": {},
   "outputs": [
    {
     "name": "stdout",
     "output_type": "stream",
     "text": [
      "La función de saludo devuelve: Hoy me he levantado con un hambre atroz 🤤, Lorena!\n"
     ]
    }
   ],
   "source": [
    "# llamemos ahora a la función cambiando el parámetro por defecto\n",
    "saludo3 = saludar(\"Lorena\", mensaje = \"Hoy me he levantado con un hambre atroz 🤤\")\n",
    "\n",
    "# El resultado de la función cambió. Modificamos el parámetro predeterminado \"Hola\" a \"Hoy me he levantado con un hambre atroz 🤤\".\n",
    "print(\"La función de saludo devuelve:\", saludo3)"
   ]
  },
  {
   "cell_type": "markdown",
   "metadata": {},
   "source": [
    "Veamos otro ejemplo, en este caso vamos a crear una función de calculadora que acepte dos números y opcionalmente una operación (predeterminada: multiplicación), devolviendo el resultado de la operación especificada.\"\n",
    "\n",
    "- Un parámetro que será un número.\n",
    "\n",
    "- Un parámetro que será otro número.\n",
    "\n",
    "- Un tercer parámetro, que será nuestro parámetro por defecto que estableceremos en \"multiplicación\".\n",
    "\n",
    "Para eso, tendremos que:\n",
    "\n",
    "1. Define una función llamada \"calculadora\" que acepte dos parámetros numéricos: \"numero1\" y \"numero2\".\n",
    "\n",
    "2. Opcionalmente, define un tercer parámetro llamado \"operacion\" con un valor por defecto de \"multiplicación\".\n",
    "\n",
    "3. Implementa la lógica para realizar la operación especificada entre los dos números.\n",
    "\n",
    "4. Devuelve el resultado de la operación.\n",
    "\n",
    "5. Llama a la función \"calculadora\" con los números y la operación deseada para obtener el resultado."
   ]
  },
  {
   "cell_type": "code",
   "execution_count": 11,
   "metadata": {},
   "outputs": [
    {
     "name": "stdout",
     "output_type": "stream",
     "text": [
      "El resultado de la primera operación es: 6\n",
      "\n",
      "El resultado de la segunda operación es: 5\n",
      "\n",
      "El resultado de la tercera operación es: -1\n",
      "\n",
      "El resultado de la tercera operación es: 0.67\n"
     ]
    }
   ],
   "source": [
    "def calculadora(num1, num2, operacion='multiplicacion'):\n",
    "    \"\"\"\n",
    "    Realiza una operación matemática entre dos números.\n",
    "\n",
    "    Params:\n",
    "        num1 (float): El primer número para la operación.\n",
    "        num2 (float): El segundo número para la operación.\n",
    "        operacion (str, opcional): La operación a realizar. Opciones válidas: 'suma', 'resta', 'multiplicacion', 'division'. Por defecto es 'multiplicacion'.\n",
    "\n",
    "    Returns:\n",
    "        float or str: El resultado de la operación realizada. En caso de error, devuelve un mensaje de error.\n",
    "\n",
    "    Ejemplos:\n",
    "    >>> calculadora(5, 3)\n",
    "    15\n",
    "    >>> calculadora(10, 2, 'division')\n",
    "    5.0\n",
    "    >>> calculadora(8, 4, 'resta')\n",
    "    4\n",
    "    \"\"\"\n",
    "    if operacion == 'suma':\n",
    "        return num1 + num2\n",
    "    elif operacion == 'resta':\n",
    "        return num1 - num2\n",
    "    elif operacion == 'multiplicacion':\n",
    "        return num1 * num2\n",
    "    elif operacion == 'division':\n",
    "        if num2 != 0:\n",
    "            return num1 / num2\n",
    "        else:\n",
    "            return \"Error: división por cero\"\n",
    "    else:\n",
    "        return \"Operación no válida\"\n",
    "\n",
    "    \n",
    "# llamamos a la función con el parámetro por defecto y almacenamos los resultados en una variable llamada \"resultado\"\n",
    "resultado = calculadora(2,3)\n",
    "print(\"El resultado de la primera operación es:\", resultado)\n",
    "\n",
    "# cambiemos el parámetro por defecto a suma y almacenemos los resultados en otra variable llamada \"resultado2\"\n",
    "resultado2 = calculadora(2,3,operacion=\"suma\")\n",
    "print(\"\\nEl resultado de la segunda operación es:\", resultado2)\n",
    "\n",
    "\n",
    "# y ahora lo haremos con una resta\n",
    "resultado3 = calculadora(2,3,operacion=\"resta\")\n",
    "print(\"\\nEl resultado de la tercera operación es:\", resultado3)\n",
    "\n",
    "# y por último con una división\n",
    "resultado4 = calculadora(2,3,operacion=\"division\")\n",
    "print(\"\\nEl resultado de la tercera operación es:\", round(resultado4, 2))\n"
   ]
  },
  {
   "cell_type": "markdown",
   "metadata": {},
   "source": [
    "Al comenzar las clases sobre funciones, enfatizamos la importancia del orden de los parámetros. En el contexto de la definición de parámetros por defecto, estos siempre deben ubicarse **al final**. De lo contrario, generará un error. Por ejemplo, si colocamos el parámetro por defecto \"operacion\" al inicio o entre medio de los otros dos parámetros en la función `calculadora`, resultará en un error, como se demuestra a continuación:"
   ]
  },
  {
   "cell_type": "code",
   "execution_count": 12,
   "metadata": {},
   "outputs": [
    {
     "ename": "SyntaxError",
     "evalue": "non-default argument follows default argument (644649990.py, line 1)",
     "output_type": "error",
     "traceback": [
      "\u001b[0;36m  Cell \u001b[0;32mIn[12], line 1\u001b[0;36m\u001b[0m\n\u001b[0;31m    def calculadora(operacion='multiplicacion', num1, num2):\u001b[0m\n\u001b[0m                                                ^\u001b[0m\n\u001b[0;31mSyntaxError\u001b[0m\u001b[0;31m:\u001b[0m non-default argument follows default argument\n"
     ]
    }
   ],
   "source": [
    "def calculadora(operacion='multiplicacion', num1, num2):\n",
    "    \"\"\"\n",
    "    Realiza una operación matemática entre dos números.\n",
    "\n",
    "    Params:\n",
    "        num1 (float): El primer número para la operación.\n",
    "        num2 (float): El segundo número para la operación.\n",
    "        operacion (str, opcional): La operación a realizar. Opciones válidas: 'suma', 'resta', 'multiplicacion', 'division'. Por defecto es 'multiplicacion'.\n",
    "\n",
    "    Returns:\n",
    "        float or str: El resultado de la operación realizada. En caso de error, devuelve un mensaje de error.\n",
    "\n",
    "    Ejemplos:\n",
    "    >>> calculadora(5, 3)\n",
    "    15\n",
    "    >>> calculadora(10, 2, 'division')\n",
    "    5.0\n",
    "    >>> calculadora(8, 4, 'resta')\n",
    "    4\n",
    "    \"\"\"\n",
    "    if operacion == 'suma':\n",
    "        return num1 + num2\n",
    "    elif operacion == 'resta':\n",
    "        return num1 - num2\n",
    "    elif operacion == 'multiplicacion':\n",
    "        return num1 * num2\n",
    "    elif operacion == 'division':\n",
    "        if num2 != 0:\n",
    "            return num1 / num2\n",
    "        else:\n",
    "            return \"Error: división por cero\"\n",
    "    else:\n",
    "        return \"Operación no válida\""
   ]
  },
  {
   "cell_type": "markdown",
   "metadata": {},
   "source": [
    "El error que obtenemos, `SyntaxError: non-default argument follows default argument`, nos indica que los parámetros que no son por defecto deben preceder a los parámetros por defecto. Es fundamental comprender que podemos definir múltiples parámetros por defecto. Por ejemplo, en la función `calcular_precio()` que tenemos a continuación, el parámetro `producto` es obligatorio y debe ser suministrado al llamar a la función. Sin embargo, los parámetros `cantidad` y `descuento` tienen valores por defecto de 1 y 0, respectivamente.\n",
    "\n",
    "Al llamar a la función sin proporcionar valores para `cantidad` y `descuento`, se utilizarán los valores por defecto. Esta función ofrece flexibilidad para ajustar estos valores según sea necesario, pero también proporciona valores predeterminados para casos donde no se suministren argumentos opcionales."
   ]
  },
  {
   "cell_type": "code",
   "execution_count": 13,
   "metadata": {},
   "outputs": [
    {
     "name": "stdout",
     "output_type": "stream",
     "text": [
      "primer ejemplo\n",
      "Producto: calcetines\n",
      "Cantidad: 1\n",
      "Descuento: 0\n",
      "Total a pagar: $10\n",
      "--------------\n",
      "segundo ejemplo\n",
      "Producto: camiseta\n",
      "Cantidad: 2\n",
      "Descuento: 0\n",
      "Total a pagar: $20\n",
      "--------------\n",
      "segundo ejemplo\n",
      "Producto: diadema\n",
      "Cantidad: 3\n",
      "Descuento: 0.1\n",
      "Total a pagar: $27.0\n",
      "--------------\n"
     ]
    }
   ],
   "source": [
    "def calcular_precio(producto, cantidad=1, descuento=0):\n",
    "    \"\"\"\n",
    "    Calcula el precio total de un producto.\n",
    "\n",
    "    Parámetros:\n",
    "    - producto (str): Nombre del producto.\n",
    "    - cantidad (int, opcional): Cantidad del producto a comprar (por defecto es 1).\n",
    "    - descuento (float, opcional): Descuento aplicado al precio del producto en decimal (por defecto es 0).\n",
    "\n",
    "    Retorna:\n",
    "    - None: Esta función imprime el nombre del producto, la cantidad, el descuento aplicado y el total a pagar.\n",
    "    \"\"\"\n",
    "    precio_unitario = 10  # Precio por unidad del producto\n",
    "    total = cantidad * precio_unitario * (1 - descuento)\n",
    "    print(f\"Producto: {producto}\")\n",
    "    print(f\"Cantidad: {cantidad}\")\n",
    "    print(f\"Descuento: {descuento}\")\n",
    "    print(f\"Total a pagar: ${total}\")\n",
    "\n",
    "    \n",
    "# en el primer ejemplo se ultilizan los valores por defecto\n",
    "print(\"primer ejemplo\")\n",
    "precio_final1 = calcular_precio(\"calcetines\")\n",
    "print(\"--------------\")\n",
    "\n",
    "# segundo ejemplo En el segundo ejemplo, se proporciona un valor específico para cantidad (2), pero se utiliza el valor por defecto para descuento. \n",
    "print(\"segundo ejemplo\")\n",
    "precio_final2 = calcular_precio(\"camiseta\", cantidad = 2)\n",
    "print(\"--------------\")\n",
    "\n",
    "# En el tercer ejemplo, se proporcionan valores específicos tanto para cantidad (3) como para descuento (0.1).\n",
    "print(\"segundo ejemplo\")\n",
    "precio_final2 = calcular_precio(\"diadema\", cantidad = 3, descuento=0.1)\n",
    "print(\"--------------\")"
   ]
  },
  {
   "cell_type": "markdown",
   "metadata": {},
   "source": [
    "# *args* y *kwargs* \n",
    "\n",
    "En Python, *args y **kwargs son convenciones de nomenclatura utilizadas para permitir una mayor flexibilidad al definir funciones con un número variable de argumentos.\n",
    "\n",
    "- `*args`: Permiten pasar un número variable de argumentos posicionales a una función, los cuales son empaquetados en una tupla. Esto ofrece flexibilidad al definir funciones que pueden manejar un número arbitrario de argumentos sin especificarlos individualmente.\n",
    "\n",
    "- `**kwargs`: Permite pasar un número variable de argumentos clave-valor a una función, los cuales son empaquetados en un diccionario. Esto brinda la capacidad de manejar un conjunto flexible de argumentos con nombres y valores asociados.\n",
    "\n",
    "Estas convenciones de nomenclatura amplían la versatilidad de las funciones al permitirles aceptar diferentes tipos y cantidades de argumentos, lo que facilita la escritura de código más dinámico y adaptable.\n",
    "\n",
    "## `args`\n",
    "Como hemos dicho, los args son una herramienta para manejar un número variable de argumentos posicionales en las funciones. Esta característica nos permite escribir funciones más flexibles y genéricas que pueden adaptarse dinámicamente a diferentes situaciones sin necesidad de definir explícitamente cada argumento. \n",
    "\n",
    "Para comprender completamente el concepto de *args, es crucial entender cómo Python gestiona los argumentos de las funciones y cómo *args proporciona una solución elegante a los problemas asociados con un número variable de argumentos.\n",
    "\n",
    "**Tipos de argumentos en las funciones de Python**\n",
    "\n",
    "Antes de profundizar en *args, es importante recordar cómo Python maneja los argumentos en las funciones. Los argumentos pueden ser de dos tipos principales: posicionales y de palabras clave.\n",
    "\n",
    "1. **Argumentos posicionales:** Son aquellos argumentos que se pasan a una función en un orden específico y se asignan a los parámetros de la función en el mismo orden. Por ejemplo, en una función que calcula la suma de dos números, los números que se suman son argumentos posicionales.\n",
    "\n",
    "2. **Argumentos de palabras clave:** Son argumentos que se pasan a una función utilizando su nombre. Esto permite especificar los valores de los parámetros de la función de manera explícita, lo que puede mejorar significativamente la legibilidad del código.\n",
    "\n",
    "Esto permite combinar argumentos posicionales y de palabras clave en la creación de funciones para generar funciones más versátiles y adaptables a diferentes escenarios. Sin embargo, surge un desafío cuando se necesita manejar un número variable de argumentos posicionales en una función sin saber de antemano cuántos argumentos se pasarán.\n",
    "\n",
    "Aquí es donde entran en juego los `*args`. La sintaxis `*args` se utiliza en la definición de funciones para indicar que la función acepta un número variable de argumentos posicionales. La palabra clave \"args\" puede ser cualquier identificador válido en Python, pero `*args` es una convención comúnmente aceptada por la comunidad.\n",
    "\n",
    "Cuando se utiliza `*args` en la definición de una función, Python desempaqueta automáticamente los argumentos posicionales pasados a la función y los recopila en una tupla. Esto permite que la función maneje un número arbitrario de argumentos sin tener que especificarlos individualmente al definir la función.\n",
    "\n",
    "**Ventajas de `*args`**\n",
    "\n",
    "El uso de *args proporciona varias ventajas en la creación de funciones:\n",
    "\n",
    "- **Flexibilidad:** Permite a las funciones manejar un número variable de argumentos sin necesidad de definir cada uno individualmente, lo que hace que las funciones sean más adaptables y versátiles.\n",
    "\n",
    "- **Simplicidad:** Simplifica la definición de funciones al eliminar la necesidad de especificar todos los posibles argumentos en la firma de la función, lo que conduce a un código más limpio y legible.\n",
    "\n",
    "- **Escalabilidad:** Facilita la escalabilidad del código al permitir que las funciones acepten un número variable de argumentos, lo que las hace adecuadas para una amplia gama de situaciones sin requerir modificaciones significativas.\n",
    "\n",
    "Aunque `*args` proporciona una solución elegante para manejar un número variable de argumentos posicionales, hay algunas consideraciones a tener en cuenta:\n",
    "\n",
    "- **Orden de los argumentos:** El orden en el que se pasan los argumentos posicionales a una función es importante (como ya hemos visto hasta ahora), ya que determina cómo se recopilarán en la tupla `*args`. Es fundamental que los argumentos se pasen en el orden correcto para evitar resultados inesperados.\n",
    "\n",
    "- **Legibilidad del código:** Si bien `*args` puede mejorar la flexibilidad y la versatilidad de las funciones, su uso excesivo o inapropiado puede afectar la legibilidad del código. Es importante utilizar *args de manera prudente y solo cuando sea necesario para evitar confusiones."
   ]
  },
  {
   "cell_type": "code",
   "execution_count": 16,
   "metadata": {},
   "outputs": [
    {
     "name": "stdout",
     "output_type": "stream",
     "text": [
      "La media de las notas de las alumnas es 6.666666666666667\n"
     ]
    }
   ],
   "source": [
    "# definimos una función que recibirá tres parámetros donde cada uno de ellos corresponderá a una alumna\n",
    "def media_clase1(alumno1, alumno2, alumno3):\n",
    "    \"\"\"\n",
    "    Calcula la media de las notas de tres alumnas.\n",
    "\n",
    "    Params:\n",
    "        alumno1 (float): La nota de la primera alumna.\n",
    "        alumno2 (float): La nota de la segunda alumna.\n",
    "        alumno3 (float): La nota de la tercera alumna.\n",
    "\n",
    "    Returns:\n",
    "        float: La media de las notas de las tres alumnas.\n",
    "    \"\"\"\n",
    "    return (alumno1 + alumno2 + alumno3) / 3\n",
    "\n",
    "\n",
    "# llamamos a la función y le pasamos las notas de las alumnas \n",
    "media1 = media_clase1(3,7,10)\n",
    "print(\"La media de las notas de las alumnas es\", media1)"
   ]
  },
  {
   "cell_type": "markdown",
   "metadata": {},
   "source": [
    "Esta función asume un número fijo de alumnas, lo cual puede no ser realista en el futuro. Para abordar esto, podemos usar *args*, permitiendo un número variable de argumentos. Se utiliza colocando un asterisco (*) antes del nombre del parámetro.\n",
    "\n",
    "> Para trabajar con *args*, cuando definamos la función este tendrá que ir acompañado siempre de un *. "
   ]
  },
  {
   "cell_type": "code",
   "execution_count": 18,
   "metadata": {},
   "outputs": [],
   "source": [
    "# definimos la función, pero en este caso le vamos a pasar unos *args. Para ello, recordemos tenemos que poner un *. \n",
    "def media_clase2(*args):\n",
    "    \"\"\"\n",
    "    Calcula la media de las notas de un número variable de alumnas.\n",
    "\n",
    "    Params:\n",
    "        *args: Argumentos posicionales que representan las notas de las alumnas.\n",
    "\n",
    "    Returns:\n",
    "        float: La media de las notas.\n",
    "    \"\"\"\n",
    "\n",
    "    # una vez dentro de la función, podremos hacer lo que queramos con estos args (recordad que son una tupla y podremos aplicar todos los métodos de tuplas que conocemos). En este caso, como será una tupla haremos la suma de sus valores y lo dividiremos por su len. \n",
    "    # De esta forma hemos conseguido hacer nuestra función universal para nos valga para cualquiera número de alumnas. \n",
    "    return sum(args) / len(args)\n"
   ]
  },
  {
   "cell_type": "code",
   "execution_count": 19,
   "metadata": {},
   "outputs": [
    {
     "name": "stdout",
     "output_type": "stream",
     "text": [
      "La media para 7 alumnos es 4.0\n",
      "La media para 10 alumnos es 6.2\n"
     ]
    }
   ],
   "source": [
    "# hacemos la primera prueba para 7 alumnos\n",
    "media2 = media_clase2(1, 2, 3, 4, 5, 6, 7)\n",
    "print(f\"La media para 7 alumnos es {media2}\")\n",
    "\n",
    "# vamos a por el segundo ejemplo con 10 alumnos\n",
    "media3 = media_clase2(10, 6, 8, 1, 9, 6, 4, 3,8, 7)\n",
    "print(f\"La media para 10 alumnos es {media3}\")"
   ]
  },
  {
   "cell_type": "markdown",
   "metadata": {},
   "source": [
    "Los argumentos `*args` pueden combinarse con parámetros normales o con parámetros por defecto, pero es crucial seguir un orden específico en la definición de la función:\n",
    "\n",
    "- Los parámetros normales deben preceder a `*args`.\n",
    "\n",
    "- Los parámetros por defecto deben ubicarse después de *args.\n",
    "\n",
    "Veamos un ejemplo añadiendo un parámetro por defecto a la función media_clase2. Se ha agregado \"peso\", con un valor predeterminado de 1, que permite asignar un peso a cada calificación antes de calcular la media."
   ]
  },
  {
   "cell_type": "code",
   "execution_count": 20,
   "metadata": {},
   "outputs": [
    {
     "name": "stdout",
     "output_type": "stream",
     "text": [
      "La nota media de las alumnas de la clase es (sin cambiar el valor por defecto): 7.5\n",
      "La nota media de las alumnas de la clase es (cambiando el valor por defecto): 6.0\n"
     ]
    }
   ],
   "source": [
    "def media_clase3(*args, peso=1):\n",
    "    \"\"\"\n",
    "    Calcula la media ponderada de las notas de las alumnas.\n",
    "\n",
    "    Args:\n",
    "        *args: Notas de las alumnas.\n",
    "        peso (float, opcional): Peso asignado a cada nota. Por defecto es 1.\n",
    "\n",
    "    Returns:\n",
    "        float: La media ponderada de las notas de las alumnas.\n",
    "    \"\"\"\n",
    "    # calculamos la suma de todas las notas que le pasemos a la función\n",
    "    total = sum(args)\n",
    "\n",
    "    # calculamos la media de las notas de todas las alumnas que tenemos en clase\n",
    "    media = total / len(args)\n",
    "\n",
    "    # multiplicamos la media por el peso que hemos asignado. En este caso toma el valor de 1, ya que lo establecimos así en el parámetro por defecto. \n",
    "    media_con_peso = media * peso\n",
    "\n",
    "    # nuestra función devuelve la media multiplicada por el peso. \n",
    "    return media_con_peso\n",
    "\n",
    "\n",
    "# Ejemplo 1: Calificaciones sin cambiar el valor del argumento peso, es decir, tomará su valor por defecto. \n",
    "media_sin_peso = media_clase3(7, 8, 9, 6, 7.5)\n",
    "print(\"La nota media de las alumnas de la clase es (sin cambiar el valor por defecto):\", media_sin_peso)  \n",
    "\n",
    "# Ejemplo 2: Calificaciones con peso\n",
    "media_con_peso = media_clase3(7, 8, 9, 6, 7.5, peso=0.8)\n",
    "print(\"La nota media de las alumnas de la clase es (cambiando el valor por defecto):\", media_con_peso)  # Resultado: 5.68\n",
    "\n"
   ]
  },
  {
   "cell_type": "markdown",
   "metadata": {},
   "source": [
    "## `kwargs`\n",
    "\n",
    "Los `**kwargs` es una herramienta para manejar un número variable de argumentos clave-valor en las funciones. Esta característica proporciona una gran flexibilidad al permitir que las funciones acepten una variedad de argumentos nombrados sin necesidad de especificarlos individualmente en la definición de la función.\n",
    "\n",
    "\n",
    "Los `**kwargs` se utilizan en la definición de funciones para indicar que acepta un número variable de argumentos clave-valor. Cuando se utiliza `**kwargs`, Python desempaqueta automáticamente los argumentos y los recopila en un diccionario. Esto permite manejar una amplia gama de argumentos nombrados sin necesidad de especificarlos individualmente.\n",
    "\n",
    "**Ventajas de `**kwargs`**\n",
    "\n",
    "- **Flexibilidad:** Permite manejar una variedad de argumentos clave-valor sin necesidad de definirlos individualmente, lo que hace que las funciones sean altamente adaptables.\n",
    "\n",
    "- **Simplicidad:** Simplifica la definición de funciones al eliminar la necesidad de especificar todos los argumentos, lo que conduce a un código más limpio.\n",
    "\n",
    "- **Expresividad:** Permite a los desarrolladores utilizar argumentos nombrados de manera explícita, mejorando la legibilidad del código y la claridad de la intención del programador.\n",
    "\n",
    "Es importante tener en cuenta que el orden de los argumentos clave-valor no importa al utilizar **kwargs. Sin embargo, se debe tener cuidado de no duplicar los nombres de los parámetros en la llamada a la función, ya que esto puede causar ambigüedad.\n"
   ]
  },
  {
   "cell_type": "code",
   "execution_count": 21,
   "metadata": {},
   "outputs": [],
   "source": [
    "# lo primero que hacemos es crear nuestro diccionario, donde las keys serán los nombres, los apellidos y notas. \n",
    "alumnos_modificado = {\n",
    "    \"nombre\": [\"María\", \"Ana\", \"Sofía\"],\n",
    "    \"apellidos\": [\"García\", \"Martínez\", \"Díaz\"],\n",
    "    \"notas\": [[8, 9, 7, 8], [7, 8, 6, 9], [9, 8, 7, 10]],\n",
    "    \"edad\": [17, 16, 18],\n",
    "    \"ciudad\": [\"Madrid\", \"Barcelona\", \"Sevilla\"]\n",
    "}"
   ]
  },
  {
   "cell_type": "code",
   "execution_count": 22,
   "metadata": {},
   "outputs": [
    {
     "data": {
      "text/plain": [
       "['María', 'Ana', 'Sofía']"
      ]
     },
     "execution_count": 22,
     "metadata": {},
     "output_type": "execute_result"
    }
   ],
   "source": [
    "# antes de empezar recordemos como acceder a cada elemento de nuestro diccionario. Imaginemos que queremos acceder al nombre de \"loreto\".\n",
    "# Empezamos llamando al diccionario y a la key que nos interesa, en este caso la de \"nombre\"\n",
    "\n",
    "alumnos_modificado[\"nombre\"]"
   ]
  },
  {
   "cell_type": "code",
   "execution_count": 23,
   "metadata": {},
   "outputs": [
    {
     "data": {
      "text/plain": [
       "'Sofía'"
      ]
     },
     "execution_count": 23,
     "metadata": {},
     "output_type": "execute_result"
    }
   ],
   "source": [
    "# el paso anterior nos devuelve una lista, si queremos acceder a \"loreto\", lo único que tenemos que hacer es acceder usando de la indexación de las listas\n",
    "alumnos_modificado[\"nombre\"][2]"
   ]
  },
  {
   "cell_type": "code",
   "execution_count": 30,
   "metadata": {},
   "outputs": [
    {
     "name": "stdout",
     "output_type": "stream",
     "text": [
      "La media de las notas de las alumnas es: \n",
      "La media de María García en Data es: 8.0\n",
      "La media de Ana Martínez en Data es: 7.5\n",
      "La media de Sofía Díaz en Data es: 8.5\n"
     ]
    }
   ],
   "source": [
    "# iniciamos la función, la cual recibirá un parámetro por defecto y los kwargs, con los ** correspondientes\n",
    "# fijaos como el orden aquí sigue importando, e igual que en los args, los kwargs siempre irán al final. \n",
    "\n",
    "def notas_alumnas(bootcamp=\"Data\", **kwargs):\n",
    "    \"\"\"\n",
    "    Calcula la media de las notas de las alumnas de un bootcamp.\n",
    "\n",
    "    Args:\n",
    "        bootcamp (str, optional): El nombre del bootcamp. Por defecto es \"Data\".\n",
    "        **kwargs: Argumentos clave-valor que representan datos de las alumnas. Se esperan las siguientes claves:\n",
    "            - nombre (list): Lista de nombres de las alumnas.\n",
    "            - apellidos (list): Lista de apellidos de las alumnas.\n",
    "            - notas (list of lists): Lista de listas donde cada lista interna representa las notas de una alumna.\n",
    "\n",
    "    Returns:\n",
    "        None: Esta función imprime las medias de las notas de las alumnas.\n",
    "    \"\"\"\n",
    "    contador = 0\n",
    "    # iniciamos un bucle while que se ejecutará mientras el contador sea menor que la longitud de la lista de nombres de las alumnas dentro del diccionario kwargs.\n",
    "    while contador < len(kwargs[\"nombre\"]):\n",
    "\n",
    "        # calcula la media de las notas de la alumna actualmente indicada por el contador. Accede a las notas de la alumna mediante kwargs[\"notas\"][contador], suma todas las notas con sum() y luego divide por la cantidad de notas con len() para obtener la media.\n",
    "        media = sum(kwargs[\"notas\"][contador]) / len(kwargs[\"notas\"][contador])\n",
    "\n",
    "        #  Imprime un mensaje que muestra el nombre, apellido y la media de notas de la alumna actual, así como el nombre del bootcamp.\n",
    "        print(f'La media de {kwargs[\"nombre\"][contador]} {kwargs[\"apellidos\"][contador]} en {bootcamp} es: {media}')\n",
    "\n",
    "        # incrementa el contador en 1 para pasar a la siguiente alumna en la siguiente iteración del bucle while.\n",
    "        contador += 1\n",
    "\n",
    " \n",
    " \n",
    "## llamamos a la función:\n",
    "print(\"La media de las notas de las alumnas es: \")\n",
    "notas_alumnas(**alumnos_modificado)\n",
    "\n"
   ]
  },
  {
   "cell_type": "markdown",
   "metadata": {},
   "source": [
    "Como estamos viendo, los **kwargs** son una herramienta muy útil para manejar un número variable de argumentos de palabras clave en las funciones. Sin embargo, para utilizarlos correctamente, es fundamental entender cómo interactúan con otros tipos de parámetros en la definición de funciones.\n",
    "\n",
    "1. **Parámetros normales:** Los parámetros normales son aquellos que se definen directamente en la firma de la función y se pasan a la función en un orden específico. Estos parámetros deben colocarse siempre al principio de la lista de parámetros en la definición de la función.\n",
    "\n",
    "2. **kwargs antes de args:** Si una función utiliza tanto `*args` como `**kwargs`, los `**kwargs` deben definirse antes que los `*args`. Esto se debe a que los `**kwargs` capturan cualquier argumento de palabras clave pasado a la función, mientras que los `*args` capturan cualquier argumento posicional. Si los `**kwargs` se definen después de los `*args`, los argumentos de palabras clave serían capturados por los `*args` en lugar de los `**kwargs`, lo que podría llevar a resultados inesperados.\n",
    "\n",
    "Es importante tener en cuenta estas consideraciones al definir funciones que utilicen tanto parámetros normales como `**kwargs` para garantizar el comportamiento esperado y evitar errores de sintaxis o lógica.\n",
    "\n",
    "Imaginemos una situación cotidiana para poner otro ejemplo: llega fin de mes y es momento de ir al supermercado. Sin embargo, el presupuesto es ajustado y solo podemos permitirnos comprar productos cuyo valor no supere los 3 euros. Para manejar esta situación de manera eficiente, podemos crear una función que acepte una serie de productos junto con sus precios como argumentos de palabras clave (**kwargs**). Esta función determinará qué productos podemos comprar dentro de nuestro presupuesto y devolverá una lista con esos productos.\n",
    "\n",
    "Al diseñar esta función, es importante considerar varios aspectos:\n",
    "\n",
    "1. **Manejo de argumentos:** La función debe ser capaz de manejar un número variable de argumentos de palabras clave, ya que el número de productos que queremos comprar puede variar cada vez que llamamos a la función.\n",
    "\n",
    "2. **Filtrado por precio:** La función debe verificar el precio de cada producto y determinar si es posible comprarlo dentro del límite de presupuesto establecido (en este caso, 3 euros). Solo los productos cuyo precio sea igual o menor a 3 euros serán incluidos en la lista de productos que podemos comprar.\n",
    "\n",
    "3. **Devolver resultados:** Una vez que se hayan identificado los productos que podemos comprar, la función debe devolver una lista con esos productos para que podamos tomar decisiones informadas durante nuestra compra en el supermercado.\n"
   ]
  },
  {
   "cell_type": "code",
   "execution_count": 32,
   "metadata": {},
   "outputs": [],
   "source": [
    "# lo primero que hacemos es definir un diccionario, donde tendremos nuestra lista y el precio unitario de cada uno de los productos que queremos comprar. \n",
    "diccionario_precios = {\n",
    "    \"manzanas\": 1.5,\n",
    "    \"plátanos\": 2,\n",
    "    \"leche\": 1.2,\n",
    "    \"pan\": 0.8,\n",
    "    \"huevos\": 1.75,\n",
    "    \"agua\": 0.5,\n",
    "    \"yogur\": 1,\n",
    "    \"arroz\": 2.5\n",
    "}"
   ]
  },
  {
   "cell_type": "code",
   "execution_count": 33,
   "metadata": {},
   "outputs": [
    {
     "name": "stdout",
     "output_type": "stream",
     "text": [
      "{'brocoli': 1.5, 'chorizo': 4.5, 'zanahoria': 1.3, 'jamon': 7.9}\n",
      "Este mes no podremos comprar chorizo\n",
      "Este mes no podremos comprar jamon\n",
      "Este mes podremos comprar: ['brocoli', 'zanahoria']\n",
      "------------------\n",
      "{'brocoli': 1.5, 'leche': 0.9, 'papel_higienico': 3.9, 'avellanas': 5.9}\n",
      "Este mes no podremos comprar papel_higienico\n",
      "Este mes no podremos comprar avellanas\n",
      "Este mes podremos comprar: ['brocoli', 'leche']\n"
     ]
    }
   ],
   "source": [
    "def comprar_fin_mes (**kwargs):\n",
    "\n",
    "    print(kwargs)\n",
    "    # creamos nuestra lista vacía donde apendearemos los resultados que queremos\n",
    "    lista_compra = []\n",
    "\n",
    "    for k,v in kwargs.items():\n",
    "        if v < 3:\n",
    "            lista_compra.append(k)\n",
    "        \n",
    "        else:\n",
    "            print(f\"este mes no podremos comprar {k}\")\n",
    "\n",
    "    return lista_compra\n",
    "\n",
    "\n",
    "def comprar_fin_mes(**kwargs):\n",
    "    \"\"\"\n",
    "    Función para determinar qué productos podemos comprar al final del mes, considerando un presupuesto máximo de 3 euros por producto.\n",
    "\n",
    "    Params:\n",
    "        **kwargs: Pares clave-valor donde la clave es el nombre del producto y el valor es su precio.\n",
    "\n",
    "    Returns:\n",
    "        list: Lista de los productos que podemos comprar dentro del presupuesto establecido.\n",
    "    \"\"\"\n",
    "    print(kwargs)\n",
    "\n",
    "    # creamos nuestra lista vacía donde apendearemos los resultados que queremos\n",
    "    lista_compra = []\n",
    "\n",
    "    # empezamos iterando por el diccionario usando el método .items(), ya que los kwargs los unirá todos los parámetros en un diccionario\n",
    "    for k, v in kwargs.items():\n",
    "\n",
    "        # establecemos la condición. Si el valor de cada key es menor que 3\n",
    "        if v < 3:\n",
    "\n",
    "            # si se cumple la condicón lo añadimos a la lista vacía que hemos creado anteriormente\n",
    "            lista_compra.append(k)\n",
    "\n",
    "        # en caso de que no se cumpla la condición\n",
    "        else:\n",
    "\n",
    "            # hacemos un print de los productos que no podemos comprar\n",
    "            print(f\"Este mes no podremos comprar {k}\")\n",
    "\n",
    "    # por último, queremos que nuestra función nos devuelva la lista de la compra\n",
    "    return lista_compra\n",
    "\n",
    "# llamamaos a la función y guardamos su return en una variable. \n",
    "# fijaos que en este caso le hemos pasado lor argumentos de una forma un poco diferente. Fijaos que lo que ha hecho Python es convertir cada par de argumentos pasados en un par de key-value de un diccionario\n",
    "que_comprar_enero = comprar_fin_mes(brocoli=  1.50, chorizo = 4.5, zanahoria = 1.30, jamon = 7.90)\n",
    "print(\"Este mes podremos comprar:\",  que_comprar_enero)\n",
    "\n",
    "print(\"------------------\")\n",
    "\n",
    "# mostremos otro ejemplo\n",
    "que_comprar_febrero = comprar_fin_mes(brocoli=  1.50, leche = 0.90, papel_higienico = 3.90, avellanas = 5.90 )\n",
    "print(\"Este mes podremos comprar:\",  que_comprar_febrero)\n"
   ]
  },
  {
   "cell_type": "markdown",
   "metadata": {},
   "source": [
    "**¿Cuál es la ventaja de usar *kwargs* en lugar de *args*?**\n",
    "\n",
    "Los *args* y *kwargs*  permiten una flexibilidad en la definición de funciones al manejar argumentos posicionales y de palabras clave de manera dinámica. Sin embargo, la principal diferencia radica en cómo se pasan y acceden a estos argumentos dentro de la función.\n",
    "\n",
    "- **args** recopila un número variable de argumentos posicionales en una tupla, accesible por índice.\n",
    "\n",
    "- **kwargs** recopila un número variable de argumentos de palabras clave en un diccionario, accesible por clave.\n",
    "\n",
    "**Ventajas de `**kwargs` sobre `*args`:\n",
    "\n",
    "- **Claridad y legibilidad:** *kwargs* permite pasar argumentos de palabras clave explícitos, lo que mejora la comprensión del código al proporcionar nombres significativos para los argumentos.\n",
    "\n",
    "- **Flexibilidad en la interfaz:** Al permitir argumentos de palabras clave, *kwargs* extiende la funcionalidad de una función sin modificar su definición, facilitando la adaptación a diferentes situaciones sin cambiar el código que la llama.\n",
    "\n",
    "- **Evita errores de posición:** Con *kwargs*, el orden de los argumentos no importa, ya que se accede a ellos por sus claves en lugar de sus posiciones, lo que previene errores comunes al pasar argumentos.\n",
    "\n",
    "\n",
    "**¿Cuándo usar *args* y *kwargs*?**\n",
    "\n",
    "- **args:**\n",
    "\n",
    "  - Para permitir un número variable de argumentos posicionales.\n",
    "\n",
    "  - Cuando no se necesitan nombres específicos para los argumentos.\n",
    "\n",
    "  - Cuando los argumentos se tratan como una secuencia y el orden es relevante.\n",
    "\n",
    "- **kwargs:**\n",
    "\n",
    "  - Para permitir un número variable de argumentos de palabras clave.\n",
    "\n",
    "  - Cuando se necesitan nombres específicos para los argumentos.\n",
    "\n",
    "  - Cuando los argumentos se tratan como pares clave-valor y el orden no es relevante.\n",
    "\n",
    "\n",
    "**Combinando *args* y *kwargs***\n",
    "\n",
    "Es fundamental recordar que el orden es crucial cuando se combinan *args* y *kwargs* en la definición de funciones.\n",
    "\n",
    "```python\n",
    "def compra(*args, **kwargs):\n",
    "```\n",
    "\n",
    "En este escenario, consideremos que *args* representan la cantidad de cada artículo que deseamos comprar, mientras que *kwargs* contienen el precio unitario de cada artículo. Al final, queremos calcular el costo total de la compra basándonos en la cantidad y el precio de cada elemento.\n",
    "\n",
    "Por ejemplo, si tenemos una lista de artículos con sus precios unitarios y queremos calcular el costo total de la compra, podríamos usar esta función para hacerlo. Esto nos permite pasar un número variable de argumentos posicionales (cantidad) y argumentos de palabras clave (precio unitario) de manera dinámica.\n",
    "\n",
    "Es importante tener en cuenta que al usar *args* y *kwargs* juntos, se debe prestar especial atención al orden en el que se pasan los argumentos cuando se llama a la función para evitar confusiones y errores."
   ]
  },
  {
   "cell_type": "code",
   "execution_count": 34,
   "metadata": {},
   "outputs": [
    {
     "name": "stdout",
     "output_type": "stream",
     "text": [
      "El precio de brocoli es: 1.5\n",
      "Cantidad de producto: 2\n",
      "----------------------\n",
      "El precio de leche es: 0.9\n",
      "Cantidad de producto: 3\n",
      "----------------------\n",
      "La compra nos costará:  5.7\n"
     ]
    }
   ],
   "source": [
    "# iniciamos nuestra función\n",
    "def precio_total(*args, **kwargs):\n",
    "    \"\"\"\n",
    "    Calcula el precio total de una compra basándose en la cantidad y el precio unitario de cada producto.\n",
    "\n",
    "    Params:\n",
    "        *args (int): Cantidad de cada producto que se desea comprar.\n",
    "        **kwargs (dict): Diccionario que contiene los precios unitarios de los productos.\n",
    "\n",
    "    Returns:\n",
    "        float: Precio total de la compra.\n",
    "    \"\"\"\n",
    "    total = []  # Lista para almacenar el precio de cada producto según la cantidad\n",
    "    count = 0   # Contador para iterar sobre los elementos de la lista\n",
    "\n",
    "    for k, v in kwargs.items():\n",
    "        # Imprime el precio de cada producto\n",
    "        print(f\"El precio de {k} es: {kwargs[k]}\")\n",
    "        # Imprime la cantidad de cada producto\n",
    "        print(\"Cantidad de producto:\", args[count])\n",
    "        print(\"----------------------\")\n",
    "        \n",
    "        # Calcula el precio total del producto teniendo en cuenta la cantidad\n",
    "        total.append(kwargs[k] * args[count])\n",
    "        count += 1  # Incrementa el contador para acceder al siguiente elemento\n",
    "\n",
    "    return sum(total)  # Devuelve el precio total de la compra\n",
    "\n",
    "# llamamos a la función, recordemos, debemos poner * para los args y ** para los kwargs!!\n",
    "total_compra = total_compra = precio_total(2,3, brocoli=  1.50, leche = 0.90)\n",
    "print(\"La compra nos costará: \", total_compra)"
   ]
  },
  {
   "cell_type": "markdown",
   "metadata": {},
   "source": [
    "# Recursividad\n",
    "\n",
    "La recursividad es un concepto fundamental en programación y juega un papel crucial en Python y otros lenguajes de programación. Consiste en que una función se llame a sí misma durante su propia ejecución. Esto permite que la función se repita o resuelva un problema más pequeño dentro de sí misma hasta que se cumpla una condición de terminación, conocida como caso base. Su sintaxis básica es: \n",
    "\n",
    "![recursividad](https://github.com/Hack-io-Data/Imagenes/blob/main/02-Imagenes/Python_b%C3%A1sico/recursividad.png?raw=true)\n",
    "\n",
    "\n",
    "Para que una función recursiva funcione correctamente, debe cumplir dos requisitos principales:\n",
    "\n",
    "1. **Caso base:** Es la condición que indica cuándo la función debe dejar de llamarse a sí misma y finalizar la recursión. Es esencial tener un caso base para evitar que la función se llame indefinidamente, lo que conduciría a un desbordamiento de la pila de llamadas (stack overflow).\n",
    "\n",
    "2. **Caso recursivo:** Es el caso en el que la función se llama a sí misma para resolver un problema más pequeño y se acerca al caso base. La recursión avanza hacia el caso base en cada llamada recursiva.\n",
    "\n",
    "\n",
    "La recursividad ofrece varias ventajas en la programación:\n",
    "\n",
    "- **Simplicidad y elegancia:** Permite expresar algoritmos de manera más concisa y elegante, especialmente para problemas que se pueden descomponer en subproblemas más pequeños.\n",
    "\n",
    "- **Abstracción y modularidad:** Permite separar un problema en subproblemas más simples y abordar cada uno de ellos por separado, lo que facilita el mantenimiento y la comprensión del código.\n",
    "\n",
    "- **Resolución de problemas complejos:** Es especialmente útil para resolver problemas complejos que se pueden descomponer en subproblemas más manejables.\n",
    "\n",
    "\n",
    "Aunque la recursividad es una técnica potente, hay algunas consideraciones a tener en cuenta:\n",
    "\n",
    "- **Eficiencia:** Algunos algoritmos recursivos pueden ser menos eficientes que sus contrapartes iterativas debido al costo de las llamadas recursivas y al uso de la pila de llamadas.\n",
    "\n",
    "- **Stack overflow:** Si no se maneja adecuadamente, la recursividad puede conducir a un desbordamiento de la pila de llamadas cuando se realizan demasiadas llamadas recursivas sin alcanzar el caso base.\n",
    "\n",
    "- **Claridad y mantenibilidad:** A veces, la recursividad puede complicar la comprensión del código y hacerlo más difícil de mantener. Es importante utilizarla con moderación y en casos donde aporte claridad y elegancia a la solución del problema."
   ]
  },
  {
   "cell_type": "code",
   "execution_count": 35,
   "metadata": {},
   "outputs": [
    {
     "name": "stdout",
     "output_type": "stream",
     "text": [
      "10\n",
      "9\n",
      "8\n",
      "7\n",
      "6\n",
      "5\n",
      "4\n",
      "3\n",
      "2\n",
      "1\n"
     ]
    }
   ],
   "source": [
    "# definimos la función recursiva\n",
    "def cuenta_atras(inicio):\n",
    "    \"\"\"\n",
    "    Función cuenta_atras\n",
    "    \n",
    "    Esta función realiza una cuenta atrás desde un número dado hasta 1.\n",
    "    \n",
    "    Params:\n",
    "    - inicio: int\n",
    "        El número desde el cual se iniciará la cuenta atrás.\n",
    "    \n",
    "    Returns:\n",
    "        No devuelve ningún valor. Imprime en la consola los números en orden descendente hasta llegar a 1.\n",
    "    \"\"\"\n",
    "\n",
    "    # printemos el número por el que que empezamos la cuenta atrás\n",
    "    print(inicio)\n",
    "\n",
    "    # definimos una nueva variable, que será el siguiente número que corresponde con el número de inicio menos 1\n",
    "    siguiente = inicio - 1\n",
    "\n",
    "    # establecemos la condición de que si el siguiente número es mayor que 0, sigamos ejecutando la cuenta atrás\n",
    "    if siguiente > 0:\n",
    "    \n",
    "        # en caso de que se cumpla la condición, llamamos a la función de nuevo para que nos vuelva a restar 1 y siga la cuenta atrás. \n",
    "        cuenta_atras(siguiente)\n",
    "\n",
    "\n",
    "# llamamaos a la función\n",
    "cuenta_atras(10)\n"
   ]
  }
 ],
 "metadata": {
  "kernelspec": {
   "display_name": "Python 3 (ipykernel)",
   "language": "python",
   "name": "python3"
  },
  "language_info": {
   "codemirror_mode": {
    "name": "ipython",
    "version": 3
   },
   "file_extension": ".py",
   "mimetype": "text/x-python",
   "name": "python",
   "nbconvert_exporter": "python",
   "pygments_lexer": "ipython3",
   "version": "3.11.8"
  },
  "toc": {
   "base_numbering": 1,
   "nav_menu": {},
   "number_sections": true,
   "sideBar": true,
   "skip_h1_title": false,
   "title_cell": "Table of Contents",
   "title_sidebar": "Contents",
   "toc_cell": true,
   "toc_position": {},
   "toc_section_display": true,
   "toc_window_display": true
  },
  "vscode": {
   "interpreter": {
    "hash": "31f2aee4e71d21fbe5cf8b01ff0e069b9275f58929596ceb00d14d90e3e16cd6"
   }
  }
 },
 "nbformat": 4,
 "nbformat_minor": 2
}

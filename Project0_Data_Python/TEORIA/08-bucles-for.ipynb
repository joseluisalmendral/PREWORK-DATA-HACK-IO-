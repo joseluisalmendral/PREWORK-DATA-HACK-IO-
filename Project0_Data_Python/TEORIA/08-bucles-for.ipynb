{
 "cells": [
  {
   "cell_type": "markdown",
   "metadata": {},
   "source": [
    "<div style=\"text-align: center;\">\n",
    "  <img src=\"https://github.com/Hack-io-Data/Imagenes/blob/main/01-LogosHackio/logo_celeste@4x.png?raw=true\" alt=\"esquema\" />\n",
    "</div>\n"
   ]
  },
  {
   "cell_type": "markdown",
   "metadata": {
    "toc": true
   },
   "source": [
    "<h1>Table of Contents<span class=\"tocSkip\"></span></h1>\n",
    "<div class=\"toc\"><ul class=\"toc-item\"><li><span><a href=\"#Estructuras-de-iteración\" data-toc-modified-id=\"Estructuras-de-iteración-1\"><span class=\"toc-item-num\">1&nbsp;&nbsp;</span>Estructuras de iteración</a></span><ul class=\"toc-item\"><li><span><a href=\"#for\" data-toc-modified-id=\"for-1.1\"><span class=\"toc-item-num\">1.1&nbsp;&nbsp;</span>for</a></span></li><li><span><a href=\"#Bucles-for-con-diccionarios\" data-toc-modified-id=\"Bucles-for-con-diccionarios-1.2\"><span class=\"toc-item-num\">1.2&nbsp;&nbsp;</span>Bucles <code>for</code> con diccionarios</a></span></li></ul></li><li><span><a href=\"#Métodos-interesantes-para-los-for-loops\" data-toc-modified-id=\"Métodos-interesantes-para-los-for-loops-2\"><span class=\"toc-item-num\">2&nbsp;&nbsp;</span>Métodos interesantes para los for loops</a></span><ul class=\"toc-item\"><li><span><a href=\"#range()\" data-toc-modified-id=\"range()-2.1\"><span class=\"toc-item-num\">2.1&nbsp;&nbsp;</span><code>range()</code></a></span></li><li><span><a href=\"#enumerate\" data-toc-modified-id=\"enumerate-2.2\"><span class=\"toc-item-num\">2.2&nbsp;&nbsp;</span><code>enumerate</code></a></span></li><li><span><a href=\"#zip()\" data-toc-modified-id=\"zip()-2.3\"><span class=\"toc-item-num\">2.3&nbsp;&nbsp;</span><code>zip()</code></a></span></li></ul></li><li><span><a href=\"#List-comprehensions\" data-toc-modified-id=\"List-comprehensions-3\"><span class=\"toc-item-num\">3&nbsp;&nbsp;</span>List comprehensions</a></span><ul class=\"toc-item\"><li><span><a href=\"#List-Comprehensions-básicas\" data-toc-modified-id=\"List-Comprehensions-básicas-3.1\"><span class=\"toc-item-num\">3.1&nbsp;&nbsp;</span><em>List Comprehensions</em> básicas</a></span></li><li><span><a href=\"#List-comprehension-con-condición-if\" data-toc-modified-id=\"List-comprehension-con-condición-if-3.2\"><span class=\"toc-item-num\">3.2&nbsp;&nbsp;</span><em>List comprehension</em> con condición <code>if</code></a></span></li><li><span><a href=\"#List-comprehension-con-condición-if...-else\" data-toc-modified-id=\"List-comprehension-con-condición-if...-else-3.3\"><span class=\"toc-item-num\">3.3&nbsp;&nbsp;</span><em>List comprehension</em> con condición <code>if</code>... <code>else</code></a></span></li><li><span><a href=\"#Nested-List-Comprehension\" data-toc-modified-id=\"Nested-List-Comprehension-3.4\"><span class=\"toc-item-num\">3.4&nbsp;&nbsp;</span><em>Nested List Comprehension</em></a></span></li></ul></li></ul></div>"
   ]
  },
  {
   "cell_type": "markdown",
   "metadata": {},
   "source": [
    "# Estructuras de iteración \n",
    "\n",
    "## for\n",
    "\n",
    "En jupyter anterior aprendimos que había tres tipos de estructuras de *control flow*, las cuáles incluían:\n",
    "\n",
    "\n",
    "- **Estructuras de selección**: Las estructuras de selección, también conocidas como estructuras condicionales, nos permiten tomar decisiones ejecutando diferentes secciones de código dependiendo de una o más condiciones. La más básica y ampliamente usada es la declaración `if`, que bifurca el flujo del código en caminos alternativos según se cumplan o no ciertas condiciones. Su sintaxis básica es:\n",
    "\n",
    "    ```python\n",
    "    if condicion:\n",
    "        # código que se ejecuta si la condición es verdadera\n",
    "    else:\n",
    "        # código que se ejecuta si la condición es falsa\n",
    "    ```\n",
    "\n",
    "    También es común utilizar `elif`  o `else` para manejar múltiples condiciones mutuamente excluyentes dentro de un solo bloque `if`.\n",
    "\n",
    "- **Estructuras de iteración**: Estas estructuras nos permiten ejecutar un bloque de código repetidamente. Python proporciona dos bucles principales:\n",
    "\n",
    "    - `for`: Ideal para iterar sobre una secuencia (como una lista o una cadena de texto) o sobre un rango de números. Su sintaxis básica es: \n",
    "    \n",
    "        ```python\n",
    "        for elemento in secuencia:\n",
    "            # acción con elemento\n",
    "        ```\n",
    "\n",
    "    - `while`: Ejecuta repetidamente un bloque de código mientras se cumpla una condición. Su sintaxis básica es:\n",
    "    \n",
    "        ```python\n",
    "        while condicion:\n",
    "            # código que se ejecuta repetidamente\n",
    "        ```\n",
    "\n",
    "- **Estructuras de control de funciones**: Python utiliza estructuras adicionales para controlar el flujo de ejecución en funciones, incluyendo el manejo de excepciones y la interrupción o continuación de bucles. Este tipo de estructuras no las veremos en el prework, y las aprenderemos en los primeros días de clase del bootcamp,\n",
    "\n",
    "    - `try`/`except`: Captura y maneja errores o excepciones que ocurren dentro de un bloque de código.\n",
    "\n",
    "        ```python\n",
    "        try:\n",
    "            # intenta ejecutar código que puede fallar\n",
    "        except ErrorComoOcurre:\n",
    "            # maneja la excepción\n",
    "        ```\n",
    "\n",
    "    - `break`: Termina un bucle antes de que se haya completado su ciclo normal.\n",
    "    \n",
    "    - `continue`: Omite el resto del cuerpo del bucle para una iteración particular y continua con la siguiente.\n",
    "\n",
    "    - `pass`: Actúa como un relleno o marcador temporal y no tiene ningún efecto en el flujo del programa.\n",
    "\n",
    "\n",
    "En concreto en el jupyter anterior aprendimos las estructuras de selección y los bucles `while` de las estructuras de iteración. Hoy seguiremos profundizando en estas estructuras de iteración con los bucles `for`. En Python, un bucle `for` se utiliza para iterar sobre una secuencia de elementos, como una lista, una tupla, un diccionario o un set, y realizar una acción en cada uno de ellos. La sintaxis básica de un bucle `for` en Python es la siguiente:\n",
    "\n",
    "```python\n",
    "for elemento in secuencia:\n",
    "    # hacer algo con el elemento\n",
    "```\n",
    "\n",
    "Donde: \n",
    "\n",
    "- `elemento`: será cada elemento de nuestro iterable. Lo podemos llamar elemento, i, brocoli o como queramos! \n",
    "\n",
    "- `secuencia`: será el elemento iterable(lista, tupla, diccionario, set, etc.) sobre el que queremos aplicar el `for`"
   ]
  },
  {
   "cell_type": "code",
   "execution_count": 1,
   "metadata": {},
   "outputs": [
    {
     "name": "stdout",
     "output_type": "stream",
     "text": [
      "La lista 'herramientas' contiene: ['Regresión Lineal', 'Power BI', 'Pandas', 'SQL']\n",
      "---------------------\n",
      "estamos accediendo al elemento Regresión Lineal\n",
      "...........................\n",
      "estamos accediendo al elemento Power BI\n",
      "...........................\n",
      "estamos accediendo al elemento Pandas\n",
      "...........................\n",
      "estamos accediendo al elemento SQL\n",
      "...........................\n"
     ]
    }
   ],
   "source": [
    "# creemos una lista donde tengamos 4 strings que correspondan a las 4 herramientas de un perfil que trabaja en el mundo de Data\n",
    "herramientas = ['Regresión Lineal', 'Power BI', 'Pandas', 'SQL']\n",
    "\n",
    "print(\"La lista 'herramientas' contiene:\", herramientas)\n",
    "print(\"---------------------\")\n",
    "\n",
    "# siguiendo la sintaxis de los bucles for, lo iniciamos usando las palabras reservadas for e in\n",
    "# 📌 fijaos como en este ejemplo, lo que en el ejemplo de la sintaxis llamamos como \"elemento\" aquí lo estamos llamando herrramienta \n",
    "for herramienta in herramientas:\n",
    "\n",
    "    # con el for lo que estamos haciendo es acceder a cada uno de los elementos de la lista. Lo que estamos haciendo en las siguientes líneas de código es: \n",
    "\n",
    "    # 1. imprimir el elemento al que estamos accediendo de la lista\n",
    "    print(f\"estamos accediendo al elemento {herramienta}\")\n",
    "\n",
    "    # 2. imprimir unas barras para que a la hora de visualizar los resultados del for se vea mejor. Esto no es normal hacerlo, es algo meramente educativo para que se vea más claro. \n",
    "    print(\"...........................\")"
   ]
  },
  {
   "cell_type": "markdown",
   "metadata": {},
   "source": [
    "Si recordamos la clase sobre listas, aprendimos que podíamos acceder a los elementos de una lista utilizando la indexación con corchetes. La sintaxis para esto sería:\n",
    "\n",
    "```python\n",
    "milista[2]  # Accedemos al elemento que está en la posición 3. Recordemos que la indexación en Python comienza en 0.\n",
    "\n",
    "milista[-1]  # Accedemos al último elemento de la lista.\n",
    "```\n",
    "\n",
    "Pero, ¿qué sucedería si usáramos un bucle `for` junto con la indexación de listas?"
   ]
  },
  {
   "cell_type": "code",
   "execution_count": 3,
   "metadata": {},
   "outputs": [
    {
     "name": "stdout",
     "output_type": "stream",
     "text": [
      "La herramienta que está en tercera posición es: Pandas\n",
      "Si iteramos por la variable 'herramienta_3' nos devolverá...\n",
      "\n",
      "---------------------\n",
      "P\n",
      "................\n",
      "a\n",
      "................\n",
      "n\n",
      "................\n",
      "d\n",
      "................\n",
      "a\n",
      "................\n",
      "s\n",
      "................\n"
     ]
    }
   ],
   "source": [
    "# veamos cual es el tercer elemento de nuestra lista y almacenarlo en una variable\n",
    "herramienta_3 = herramientas[2] # esto ya de por si es un único elemento. En este caso, 'Pandas' y es un string\n",
    "print(\"La herramienta que está en tercera posición es:\", herramienta_3)\n",
    "print(\"Si iteramos por la variable 'herramientas_3' nos devolverá...\\n\")\n",
    "print(\"---------------------\")\n",
    "\n",
    "for letra in herramienta_3:\n",
    "    print(letra)\n",
    "    print(\"................\")"
   ]
  },
  {
   "cell_type": "markdown",
   "metadata": {},
   "source": [
    "<div style=\"background-color: #F74646; padding: 10px; border-left: 6px solid #000080; color: black; border-radius: 10px;\">\n",
    "\n",
    "Parece que cada elemento de nuestro *string* es una letra individual. Observamos que el `for` está descomponiendo cada elemento de nuestro iterable.\n",
    "\n",
    "En el caso de listas, tuplas y sets, cada elemento de nuestra estructura de datos (o iterable) representa un elemento individual dentro de la misma. Para iterar sobre diccionarios, utilizamos un enfoque similar, pero con algunas particularidades que exploraremos más adelante en esta lección.\n",
    "\n",
    "En el caso de los *strings*, cada elemento corresponde a una letra individual que forma parte del *string*.\n",
    "</div>\n",
    "\n",
    "\n",
    "\n",
    "Al igual que en los condicionales (`if ... elif ... else`) o los bucles `while`, los bucles se utilizan para más que simplemente imprimir valores; podemos realizar operaciones con los elementos resultantes de la iteración. En este caso, vamos a iterar sobre una lista de números que definiremos a continuación. Además, crearemos una lista vacía donde agregaremos cada elemento de la lista original, incrementado en 1."
   ]
  },
  {
   "cell_type": "code",
   "execution_count": 4,
   "metadata": {},
   "outputs": [
    {
     "name": "stdout",
     "output_type": "stream",
     "text": [
      "La lista 'numeros_lista' contiene: [1198, 187, 90, 23, 67]\n",
      "---------------------\n",
      "La lista 'suma_numeros': []\n",
      "---------------------\n",
      "\n",
      "el número al que estamos accediendo es 1198\n",
      "[1199]\n",
      "............................\n",
      "el número al que estamos accediendo es 187\n",
      "[1199, 188]\n",
      "............................\n",
      "el número al que estamos accediendo es 90\n",
      "[1199, 188, 91]\n",
      "............................\n",
      "el número al que estamos accediendo es 23\n",
      "[1199, 188, 91, 24]\n",
      "............................\n",
      "el número al que estamos accediendo es 67\n",
      "[1199, 188, 91, 24, 68]\n",
      "............................\n"
     ]
    }
   ],
   "source": [
    "# definimos nuestra lista de números\n",
    "numeros_lista = [1198, 187, 90, 23, 67]\n",
    "print(\"La lista 'numeros_lista' contiene:\", numeros_lista)\n",
    "print(\"---------------------\")\n",
    "\n",
    "# nos creamos una lista vacía\n",
    "suma_numeros = []\n",
    "print(\"La lista 'suma_numeros':\", suma_numeros)\n",
    "print(\"---------------------\\n\")\n",
    "\n",
    "# iniciamos nuestro bucle for iterando por nuestra lista de numeros. Donde numero será cada unos de números que tenemos en la lista. Primero será 1198, luego 187, luego 90, luego 23 y por último 67\n",
    "for numero in numeros_lista :\n",
    "\n",
    "    # printemos el número al que estamos accediendo\n",
    "    print(f\"el número al que estamos accediendo es {numero}\")\n",
    "\n",
    "    # al elemento al que estamos accediendo le sumamos uno y lo almacenamos en una variable\n",
    "    suma = numero + 1\n",
    "\n",
    "    # añadimos el nuevo número a nuestra lista vacía 'suma_numeros'\n",
    "    suma_numeros.append(suma)\n",
    "\n",
    "    # a medida que vamos avanzando en la iteración vamos printeando los resultados de la lista 'suma_numeros'\n",
    "    print(suma_numeros)\n",
    "    print(\"............................\")"
   ]
  },
  {
   "cell_type": "markdown",
   "metadata": {},
   "source": [
    "<div style=\"background-color: #F74646; padding: 10px; border-left: 6px solid #000080; color: black; border-radius: 10px;\">\n",
    "\n",
    "**Entendamos lo que está pasando**\n",
    "\n",
    "Analicemos los resultados de todos esos *prints* que nos ha devuelto el bucle `for`. Nuestra lista original era la siguiente:\n",
    "\n",
    "```python\n",
    "numeros_lista = [1198, 187, 90, 23, 67]\n",
    "```\n",
    "\n",
    "- En primer lugar, el *print* muestra el elemento al que estamos accediendo en la iteración, en este caso, el número **1198**. Luego, se lleva a cabo una serie de operaciones, en particular, la suma de dicho elemento más 1. Posteriormente, este resultado se agrega a nuestra lista vacía, y finalmente se imprime la lista resultante. En esta primera iteración, la lista solo contiene un elemento, que es el resultado de sumar `1198 + 1`.\n",
    "\n",
    "- Al completar la primera iteración, el bucle `for` regresa al principio, esta vez accediendo al segundo elemento, que es el número **187**. Luego, se realiza la suma y se agrega a la lista. Observamos que, al imprimir nuevamente la lista `suma_numeros`, ahora contiene dos elementos: el que se añadió en la iteración anterior y el resultado de sumar `187 + 1`.\n",
    "\n",
    "- Este proceso se repite para cada elemento de nuestra lista, y el código se detiene al llegar al último elemento.\n",
    "\n",
    "Observamos que:\n",
    "\n",
    "- Ambas listas tienen el mismo número de elementos.\n",
    "\n",
    "- La lista `suma_numeros` contiene los mismos elementos que la lista original, pero a cada uno se le ha sumado 1.\n",
    "</div>\n",
    "\n",
    "\n",
    "Vamos a explorar más ejemplos con el bucle `for` para familiarizarnos con su funcionamiento. En esta ocasión, usaremos la lista de herramientas definida al inicio de la lección y queremos imprimir cada una de ellas en mayúscula. Además, deseamos crear una lista que contenga las herramientas en mayúsculas."
   ]
  },
  {
   "cell_type": "code",
   "execution_count": 5,
   "metadata": {},
   "outputs": [
    {
     "name": "stdout",
     "output_type": "stream",
     "text": [
      "Las herramientas que tenemos en nuestra lista son: ['Regresión Lineal', 'Power BI', 'Pandas', 'SQL']\n",
      "-----------------------------------------\n",
      "El contenido de la lista 'herramientas_mayusculas' contiene: []\n",
      "-----------------------------------------\n",
      "Estamos interando por la herramienta Regresión Lineal\n",
      "Estamos interando por la herramienta Power BI\n",
      "Estamos interando por la herramienta Pandas\n",
      "Estamos interando por la herramienta SQL\n",
      "------------------------------\n",
      "El contenido de la lista 'herramientas_mayusculas' DESPUÉS DEL BUCLE FOR contiene: ['REGRESIÓN LINEAL', 'POWER BI', 'PANDAS', 'SQL']\n",
      "Y voilá! Ya tenemos una lista nueva con todas las herramientas en mayúsculas 🎊. \n"
     ]
    }
   ],
   "source": [
    "# lo primero que hacemos es recordar cual era nuestra lista de herramientas\n",
    "print(\"Las herramientas que tenemos en nuestra lista son:\", herramientas)\n",
    "print(\"-----------------------------------------\")\n",
    "\n",
    "# en segundo lugar creamos una lista vacía donde almancenaremos las herramientas de la lista anterior en mayúscula\n",
    "herramientas_mayusculas = []\n",
    "print(\"El contenido de la lista 'herramientas_mayusculas' contiene:\", herramientas_mayusculas)\n",
    "print(\"-----------------------------------------\")\n",
    "\n",
    "# iniciamos el for\n",
    "for elemento in herramientas:\n",
    "    # sacamos por pantalla la herramienta por la que estamos interando\n",
    "    print(f\"Estamos interando por la herramienta {elemento}\")\n",
    "\n",
    "    # si recordamos antes, nos creamos una variable donde sumamos un valor a nuestro iterable. Este paso lo podemos obviar y añadirlo directamente a la lista, como vamos a hacer en este caso. \n",
    "    herramientas_mayusculas.append(elemento.upper())\n",
    "\n",
    "\n",
    "print(\"------------------------------\")\n",
    "print(\"El contenido de la lista 'herramientas_mayusculas' DESPUÉS DEL BUCLE FOR contiene:\", herramientas_mayusculas)\n",
    "\n",
    "print(\"Y voilá! Ya tenemos una lista nueva con todas las herramientas en mayúsculas 🎊. \")\n"
   ]
  },
  {
   "cell_type": "markdown",
   "metadata": {},
   "source": [
    "Incluso podemos dirigir los resultados a listas diferentes. Supongamos que ahora queremos dividir nuestras herramientas según su longitud, es decir, el número de letras que tiene cada una. De este modo, terminaremos con dos listas: una con las herramientas de longitud menor o igual a 6 y otra con las herramientas de longitud mayor a 6."
   ]
  },
  {
   "cell_type": "code",
   "execution_count": 6,
   "metadata": {},
   "outputs": [
    {
     "name": "stdout",
     "output_type": "stream",
     "text": [
      "El contenido de la lista 'herramientas_pequeñas' contiene: []\n",
      "-----------------------------------------\n",
      "El contenido de la lista 'herramientas_grandes' contiene: []\n",
      "-----------------------------------------\n",
      "Las herramientas pequeñas son:  ['Pandas', 'SQL']\n",
      "Las herramientas grandes son:  ['Regresión Lineal', 'Power BI']\n"
     ]
    }
   ],
   "source": [
    "# nos creamos dos listas, una de ciudades_pequeñas y otra de ciudades_grandes\n",
    "herramientas_pequeñas = []\n",
    "herramientas_grandes = []\n",
    "\n",
    "print(\"El contenido de la lista 'herramientas_pequeñas' contiene:\", herramientas_pequeñas)\n",
    "print(\"-----------------------------------------\")\n",
    "print(\"El contenido de la lista 'herramientas_grandes' contiene:\", herramientas_grandes)\n",
    "print(\"-----------------------------------------\")\n",
    "\n",
    "# iniciamos nuestro for para iterar por la lista de herramientas y acceder a cada una de ellas: \n",
    "for elemento in herramientas:\n",
    "\n",
    "    # como estamos viendo dentro de un for podemos hacer lo que se nos ocurra. En este vamos a incluir condicionales. \n",
    "\n",
    "    # si la longitud de la herramienta a la que estamos accediendo es menor o igual a 6 lo añadiremos a la lista de herramientas pequeñas. En este caso, llamamos \"elemento\" a cada uno de los elementos de la lista ciudades pero recordad que lo podemos llamar de cualquier forma\n",
    "    if len(elemento) <= 6:\n",
    "        herramientas_pequeñas.append(elemento)\n",
    "\n",
    "    # en caso de que no se cumpla la condición definida previamente, lo añadiremos a la lista de herramientas grandes\n",
    "    else:\n",
    "        herramientas_grandes.append(elemento)\n",
    "# veamos ahora como han quedado nuestras listas\n",
    "\n",
    "print(\"Las herramientas pequeñas son: \", herramientas_pequeñas) # tendremos las herramientas que tengan menos de 6 caracteres\n",
    "print(\"Las herramientas grandes son: \", herramientas_grandes) # tendremos las herramientas que tengan más de 6 caracteres"
   ]
  },
  {
   "cell_type": "markdown",
   "metadata": {},
   "source": [
    "## Bucles `for` con diccionarios\n",
    "\n",
    "Como ya dijimos al inicio, podemos iterar por diccionarios, pero con algunas peculiaridades. A diferencia de las listas, tuplas y sets, donde cada elemento es iterable, en los diccionarios, la iteración se realiza sobre las claves por defecto. La sintaxis básica de un bucle `for` con diccionarios es la siguiente:\n",
    "\n",
    "```python\n",
    "for key in dictionary:\n",
    "    # hacer algo con la clave o el valor\n",
    "```\n",
    "\n",
    "Aquí, `key` representa cada clave del diccionario. Sin embargo, si queremos iterar sobre los valores o ambos, debemos usar métodos especiales como `.items()`, `.keys()` o `.values()`. Por ejemplo:\n",
    "\n",
    "```python\n",
    "for key, value in dictionary.items():\n",
    "    # hacer algo con la clave y el valor\n",
    "```\n",
    "\n",
    "Este enfoque nos permite acceder tanto a las claves como a los valores asociados en cada iteración. Además, podemos realizar operaciones o ejecutar lógica en función de las claves o los valores durante la iteración."
   ]
  },
  {
   "cell_type": "code",
   "execution_count": 7,
   "metadata": {},
   "outputs": [
    {
     "name": "stdout",
     "output_type": "stream",
     "text": [
      "El diccionario 'diccionario_compra' contiene {'Brocoli': 2.45, 'Chorizo': 45, 'Zanahoria': 7, 'Arroz': 1.2, 'Pan': 0.95}\n",
      "-------------------------------\n",
      "Brocoli\n",
      "Chorizo\n",
      "Zanahoria\n",
      "Arroz\n",
      "Pan\n",
      "Vale... parece que si iteramos como hemos aprendido hasta ahora solo accedemos a las *keys* de nuestro diccionario. Pero... 🤔 ¿Qué pasaría si quisieramos acceder a los *values*? Recordáis el método `.values()` de los diccionarios?\n"
     ]
    }
   ],
   "source": [
    "# lo primero que vamos a hacer es definir un diccionario:\n",
    "\n",
    "diccionario_compra = {'Brocoli': 2.45, \n",
    "       'Chorizo': 45,\n",
    "       'Zanahoria': 7, \n",
    "       'Arroz': 1.2, \n",
    "       'Pan': 0.95}\n",
    "\n",
    "print(\"El diccionario 'diccionario_compra' contiene\", diccionario_compra)\n",
    "print(\"-------------------------------\")\n",
    "\n",
    "# que pasaría si usamos un for para iterar por el diccionario? \n",
    "for i in diccionario_compra: # fijaos como ahora al iterable lo hemos llamado \"i\"\n",
    "    print(i)\n",
    "    \n",
    "print(\"Vale... parece que si iteramos como hemos aprendido hasta ahora solo accedemos a las *keys* de nuestro diccionario. Pero... 🤔 ¿Qué pasaría si quisieramos acceder a los *values*? Recordáis el método `.values()` de los diccionarios?\")"
   ]
  },
  {
   "cell_type": "code",
   "execution_count": 8,
   "metadata": {},
   "outputs": [
    {
     "name": "stdout",
     "output_type": "stream",
     "text": [
      "El método '.values()' de los diccionarios nos devuelve los valores de nuestro diccionario, en este caso son: dict_values([2.45, 45, 7, 1.2, 0.95])\n",
      "-------------------------\n",
      "\n",
      "2.45\n",
      "........\n",
      "45\n",
      "........\n",
      "7\n",
      "........\n",
      "1.2\n",
      "........\n",
      "0.95\n",
      "........\n"
     ]
    }
   ],
   "source": [
    "# veamos que era los que nos devolvía este método\n",
    "print(\"El método '.values()' de los diccionarios nos devuelve los valores de nuestro diccionario, en este caso son:\", diccionario_compra.values())\n",
    "print(\"-------------------------\\n\")\n",
    "#Genial!!! Hemos conseguido acceder a los valores, en este momento la lógica nos podría decir podríamos iterar por esos values! Veamos que pasa!! \n",
    "for i in diccionario_compra.values():\n",
    "    print(i)\n",
    "    print(\"........\")"
   ]
  },
  {
   "cell_type": "markdown",
   "metadata": {},
   "source": [
    "¡Fantástico! Hemos logrado acceder tanto a las claves como a los valores de nuestro diccionario. Pero ahora, ¿qué pasa si queremos acceder a las claves y valores del diccionario simultáneamente? Aquí es donde entra en juego el método `.items()` de los diccionarios. Recordemos qué nos devuelve este método:\n",
    "\n",
    "```python\n",
    "for key, value in dictionary.items():\n",
    "    # hacer algo con la clave y el valor\n",
    "```\n",
    "\n",
    "En este caso, `key` representa cada clave del diccionario y `value` representa el valor asociado a esa clave. Al utilizar `.items()`, podemos acceder a ambas partes de cada par clave-valor en cada iteración del bucle `for`. Esto facilita el procesamiento de los datos del diccionario al permitirnos trabajar con ambos componentes simultáneamente. ¡Es como tener acceso completo a toda la información contenida en el diccionario en cada iteración!\n",
    "\n",
    "Este enfoque es especialmente útil cuando necesitamos realizar operaciones o ejecutar lógica que depende tanto de las claves como de los valores del diccionario. Además, al igual que con otros bucles `for`, podemos realizar cualquier acción deseada dentro del bucle, aprovechando al máximo la versatilidad de Python en el manejo de datos."
   ]
  },
  {
   "cell_type": "code",
   "execution_count": 9,
   "metadata": {},
   "outputs": [
    {
     "name": "stdout",
     "output_type": "stream",
     "text": [
      "El método '.items()' de los diccionarios nos devuelve una lista de tuplas con las claves y los valores de nuestro diccionario, en este caso son: dict_items([('Brocoli', 2.45), ('Chorizo', 45), ('Zanahoria', 7), ('Arroz', 1.2), ('Pan', 0.95)])\n",
      "-------------------------\n",
      "\n",
      "Brocoli ----> 2.45\n",
      "Chorizo ----> 45\n",
      "Zanahoria ----> 7\n",
      "Arroz ----> 1.2\n",
      "Pan ----> 0.95\n"
     ]
    }
   ],
   "source": [
    "print(\"El método '.items()' de los diccionarios nos devuelve una lista de tuplas con las claves y los valores de nuestro diccionario, en este caso son:\", diccionario_compra.items())\n",
    "print(\"-------------------------\\n\")\n",
    "\n",
    "# iteremos ahora con el método .items(), para el cual deberemos generar dos iterables (key, value)\n",
    "for key, value in diccionario_compra.items():\n",
    "    print(key, \"---->\", value)"
   ]
  },
  {
   "cell_type": "markdown",
   "metadata": {},
   "source": [
    "<div style=\"background-color: #FFBB33; padding: 10px; border-left: 6px solid #000080; color: black; border-radius: 10px;\">\n",
    "\n",
    "**Analicemos lo que ha ocurrido:**\n",
    "\n",
    "1. En nuestro bucle <u>for</u>, hemos utilizado dos variables: <u>keys</u> y <u>values</u>. Las hemos nombrado así para que sea más comprensible, pero podríamos haber usado cualquier otro nombre.\n",
    "\n",
    "2. Utilizamos el método <u>.items()</u> en nuestro diccionario para obtener un objeto de tipo <u>dict_items</u>, que nos proporciona acceso a todas las claves y valores del diccionario simultáneamente.\n",
    "\n",
    "3. Utilizamos un <u>print</u> dentro del bucle <u>for</u> para mostrar tanto las claves como los valores de nuestro diccionario en cada iteración.\n",
    "\n",
    "Este enfoque nos permite trabajar eficientemente con las claves y los valores del diccionario al mismo tiempo, lo que facilita el procesamiento de datos y la ejecución de cualquier lógica que dependa de ambos componentes del diccionario. La flexibilidad de Python nos permite adaptar el nombre de las variables y aprovechar al máximo las funcionalidades proporcionadas por los diccionarios.\n",
    "</div>"
   ]
  },
  {
   "cell_type": "code",
   "execution_count": 10,
   "metadata": {},
   "outputs": [
    {
     "ename": "ValueError",
     "evalue": "too many values to unpack (expected 2)",
     "output_type": "error",
     "traceback": [
      "\u001b[0;31m---------------------------------------------------------------------------\u001b[0m",
      "\u001b[0;31mValueError\u001b[0m                                Traceback (most recent call last)",
      "Cell \u001b[0;32mIn[10], line 2\u001b[0m\n\u001b[1;32m      1\u001b[0m \u001b[38;5;66;03m# ojo! Si no le añadimos el .items() nos dara error si le pasamos dos itereables en el for   \u001b[39;00m\n\u001b[0;32m----> 2\u001b[0m \u001b[38;5;28;01mfor\u001b[39;00m key,value \u001b[38;5;129;01min\u001b[39;00m diccionario_compra:\n\u001b[1;32m      3\u001b[0m     \u001b[38;5;28mprint\u001b[39m(key,value)\n",
      "\u001b[0;31mValueError\u001b[0m: too many values to unpack (expected 2)"
     ]
    }
   ],
   "source": [
    "# ojo! Si no le añadimos el .items() nos dara error si le pasamos dos itereables en el for   \n",
    "for key,value in diccionario_compra:\n",
    "    print(key,value)\n"
   ]
  },
  {
   "cell_type": "markdown",
   "metadata": {},
   "source": [
    "El error `ValueError: too many values to unpack (expected 2)` indica que hemos intentado iterar sobre dos elementos, pero solo tenemos uno, que por defecto en los diccionarios son las *keys*.\n",
    "\n",
    "Al igual que en los ejemplos anteriores con listas, los bucles `for` con diccionarios nos permiten realizar operaciones más allá de imprimir. Imaginemos que estamos de compras, pero nos hemos olvidado la cartera en casa y solo tenemos dos euros. En esta situación, solo podremos comprar productos que estén por debajo de este precio. ¿Cómo seleccionaríamos esos productos usando Python?"
   ]
  },
  {
   "cell_type": "code",
   "execution_count": 11,
   "metadata": {},
   "outputs": [
    {
     "name": "stdout",
     "output_type": "stream",
     "text": [
      "El diccionario 'diccionario_compra' contiene {'Brocoli': 2.45, 'Chorizo': 45, 'Zanahoria': 7, 'Arroz': 1.2, 'Pan': 0.95}\n",
      "-------------------------------\n",
      "Recordemos que si queremos saber lo que cuesta el brocoli deberemos usar la siguiente sintaxis diccionario_compra[UNA_CALVE], lo cual nos devovlerá el valor de la clave especificada entre corchetes, en este caso sacaremos el precio del brocoli 2.45\n",
      "-------------------------------\n",
      "La lista de 'dos_euros' contiene: []\n",
      "-------------------------------\n",
      "La lista de 'dos_euros' DESPUÉS DEL BUCLE FOR contiene: ['Arroz', 'Pan']\n",
      "-------------------------------\n"
     ]
    }
   ],
   "source": [
    "print(\"El diccionario 'diccionario_compra' contiene\", diccionario_compra)\n",
    "print(\"-------------------------------\")\n",
    "\n",
    "print(\"Recordemos que si queremos saber lo que cuesta el brocoli deberemos usar la siguiente sintaxis diccionario_compra[UNA_CALVE], lo cual nos devovlerá el valor de la clave especificada entre corchetes, en este caso sacaremos el precio del brocoli\", diccionario_compra[\"Brocoli\"])\n",
    "print(\"-------------------------------\")\n",
    "\n",
    "\n",
    "# lo primero que hacemos es crearnos una lista donde almacenaremos los resultados, es decir, los productos que cuesten menos de dos euros\n",
    "dos_euros = []\n",
    "print(\"La lista de 'dos_euros' contiene:\", dos_euros)\n",
    "print(\"-------------------------------\")\n",
    "\n",
    "\n",
    "# empezamos a iterar por nuestro diccionario de la lista de la compra:\n",
    "for k, v in diccionario_compra.items():\n",
    "\n",
    "    # lo siguiente que haremos será buscar aquellas keys, para las cuales sus values sean menores de dos. \n",
    "\n",
    "    # usando la sintaxis que ya conocemos para acceder a elementos de un diccionario, que recordamos un par de celdas arriba, podemos acceder a cada una de las keys y values de nuestro diccionario.\n",
    "    # de esta forma, lo que en nuestro ejemplo de arriba era \"Brocoli\", dentro del for correspondera a \"k\". \n",
    "    if diccionario_compra[k] < 2: \n",
    "\n",
    "        # en caso de que la condición se cumpla, añadiremos la key a nuestra lista dos_euros\n",
    "        dos_euros.append(k) \n",
    "        \n",
    "print(\"La lista de 'dos_euros' DESPUÉS DEL BUCLE FOR contiene:\", dos_euros)\n",
    "print(\"-------------------------------\")\n"
   ]
  },
  {
   "cell_type": "markdown",
   "metadata": {},
   "source": [
    "# Métodos interesantes para los for loops\n",
    "\n",
    "## `range()`\n",
    "\n",
    "El método `range` es una función que genera una secuencia de números enteros. Es una herramienta esencial para la iteración eficiente en Python, especialmente en bucles `for` y la creación de listas numéricas.\n",
    "\n",
    "La sintaxis completa del método `range` es la siguiente:\n",
    "\n",
    "```python\n",
    "range(inicio, fin, paso)\n",
    "```\n",
    "\n",
    "Donde:\n",
    "\n",
    "- `inicio` (opcional): Representa el primer número de la secuencia (inclusive). Por defecto, su valor es 0.\n",
    "  \n",
    "- `fin`: Indica el último número de la secuencia (exclusivo). Esto significa que la secuencia finaliza en `fin-1`.\n",
    "  \n",
    "- `paso` (opcional): Es el incremento utilizado para generar los números de la secuencia. Por omisión, su valor es 1.\n",
    "\n",
    "Una de las características más importantes de `range` es su capacidad para generar secuencias de números de manera eficiente, sin almacenar cada número individualmente en la memoria. Esto hace que sea ideal para bucles `for` donde necesitemos iterar sobre un rango de valores o crear listas numéricas extensas.\n",
    "\n",
    "Además, `range` es versátil y se puede personalizar fácilmente para adaptarse a diversas necesidades. Por ejemplo, podemos especificar el incremento para generar secuencias con patrones específicos, como números pares o impares."
   ]
  },
  {
   "cell_type": "code",
   "execution_count": 14,
   "metadata": {},
   "outputs": [
    {
     "name": "stdout",
     "output_type": "stream",
     "text": [
      "Los numeros generados por el 'range' son: range(0, 7)\n",
      "------------------------------\n",
      "0\n",
      "1\n",
      "2\n",
      "3\n",
      "4\n",
      "5\n",
      "6\n"
     ]
    }
   ],
   "source": [
    "# Utilizamos el método range para generar números del 0 al 6 (inclusive).\n",
    "# Como mencionamos previamente, para llegar hasta el 6, en el rango debemos especificar el inicio como 0 y el límite como 6 + 1.\n",
    "numeros = range(0, 7)\n",
    "print(\"Los numeros generados por el 'range' son:\", numeros)\n",
    "print(\"------------------------------\")\n",
    "# Ups... parece que esto no nos devuelve una lista como tal. Pero... ¿podremos iterar por ese elemento? Veámoslo con un ejemplo: \n",
    "\n",
    "\n",
    "# Iniciamos un bucle for, utilizando el método range como iterable.\n",
    "for x in range(7):\n",
    "    # Imprimimos cada elemento del objeto range.\n",
    "    print(x)\n"
   ]
  },
  {
   "cell_type": "code",
   "execution_count": 16,
   "metadata": {},
   "outputs": [
    {
     "name": "stdout",
     "output_type": "stream",
     "text": [
      "3\n",
      "4\n",
      "5\n",
      "6\n",
      "7\n",
      "8\n",
      "9\n",
      "10\n"
     ]
    }
   ],
   "source": [
    "# podemos hacer otro ejemplo de range, empezando en el número 3 y termiando en el 10. \n",
    "# Fijate como ahora no hemos almacenado el 'range()' en una variable, sino que lo pusimos directamente en el for\n",
    "\n",
    "for numero in range(3, 11):\n",
    "    print(numero)"
   ]
  },
  {
   "cell_type": "markdown",
   "metadata": {},
   "source": [
    "Si nos fijamos nuestro *range* ha empezado en el 3  y terminado en el 10, nos ha generado números consecutivos de 3 a 10. Como hemos visto, en el `range()` podemos pasar un tercer parámetro. Este parámetro corresponde con los *steps* o saltos que queremos en nuestra secuencia de números. Veamos algunos ejemplos para entender esto mejor:  "
   ]
  },
  {
   "cell_type": "code",
   "execution_count": 17,
   "metadata": {},
   "outputs": [
    {
     "name": "stdout",
     "output_type": "stream",
     "text": [
      "0\n",
      "2\n",
      "4\n",
      "6\n",
      "8\n"
     ]
    }
   ],
   "source": [
    "# si queremos que se nos genere un secuencia de números del 0 al 10, con saltos de 2 podríamos hacer lo siguiente:\n",
    "for x in range(0,10,2):\n",
    "    print(x)"
   ]
  },
  {
   "cell_type": "markdown",
   "metadata": {},
   "source": [
    "## `enumerate`\n",
    "\n",
    "Permite recorrer un iterable (como una lista, diccionario, tupla, set, string) y obtener tanto el índice como el valor del elemento en cada iteración. Esto es particularmente útil cuando necesitamos acceder a la posición de los elementos durante un bucle, lo cual no es posible directamente con un simple bucle `for`.\n",
    "\n",
    "La sintaxis básica:\n",
    "\n",
    "```python\n",
    "enumerate(iterable, start=0)\n",
    "```\n",
    "\n",
    "- `iterable`: El objeto que se va a recorrer (por ejemplo, una lista, una cadena, un conjunto, etc.).\n",
    "\n",
    "- `start`: El valor inicial del índice (opcional, por defecto es 0).\n",
    "\n",
    "**Las buenas prácticas a la hora de usar el `enumerate` son: \n",
    "\n",
    "- **Legibilidad**: Debemos utilizar `enumerate` para mejorar la legibilidad del código en lugar de manejar manualmente los índices.\n",
    "\n",
    "- **Uso Adecuado del Índice**: Debemos asegurarnos de que los índices devueltos por `enumerate` se utilicen correctamente, especialmente si se modifica el iterable durante la iteración.\n"
   ]
  },
  {
   "cell_type": "code",
   "execution_count": 2,
   "metadata": {},
   "outputs": [
    {
     "name": "stdout",
     "output_type": "stream",
     "text": [
      "Índice: 0, Valor: manzana\n",
      "Índice: 1, Valor: banana\n",
      "Índice: 2, Valor: cereza\n"
     ]
    }
   ],
   "source": [
    "# definimos una lista por la que iteraremos\n",
    "frutas = [\"manzana\", \"banana\", \"cereza\"]\n",
    "\n",
    "# iniciamos el bucle for, fijaos como ahora, al igual que en los diccionarios, el primero corresponde al índice y el segundo al elemento por el que estamos iterando\n",
    "for indice, valor in enumerate(frutas):\n",
    "\n",
    "    # mostramos en pantalla el índice y el valor\n",
    "    print(f\"Índice: {indice}, Valor: {valor}\")"
   ]
  },
  {
   "cell_type": "code",
   "execution_count": 4,
   "metadata": {},
   "outputs": [
    {
     "name": "stdout",
     "output_type": "stream",
     "text": [
      "Índice: 1, Valor: manzana\n",
      "Índice: 2, Valor: banana\n",
      "Índice: 3, Valor: cereza\n"
     ]
    }
   ],
   "source": [
    "# vamos a especificar que no queremos que empiece por el índice 0, sino por el 1 usando el parámetro start\n",
    "for indice, valor in enumerate(frutas, start=1):\n",
    "    \n",
    "    # mostramos en pantalla el índice y el valor\n",
    "    print(f\"Índice: {indice}, Valor: {valor}\")"
   ]
  },
  {
   "cell_type": "markdown",
   "metadata": {},
   "source": [
    "## `zip()`\n",
    "\n",
    "Permite combinar dos o más iterables (como listas, tuplas, etc.) en un solo iterable de tuplas. Cada tupla contiene elementos que ocupan la misma posición en los iterables originales. Esta función es útil cuando necesitas iterar sobre múltiples colecciones simultáneamente.\n",
    "\n",
    "La sintaxis básica es:\n",
    "\n",
    "```python\n",
    "zip(iterable1, iterable2, ...)\n",
    "```\n",
    "\n",
    "- `iterable1, iterable2, ...`: Los iterables que se van a combinar.\n",
    "\n",
    "\n",
    "\n",
    "**Las buenas prácticas son:**\n",
    "\n",
    "- **Mismos tamaños de iterables**: Debemos asegurarnos de que los iterables tengan la misma longitud para evitar pérdida de datos, ya que `zip` detiene la iteración en el final del iterable más corto.\n",
    "\n",
    "- **Desempaquetado claro**: Debemos utilizar nombres de variables claros al desempaquetar las tuplas de `zip` para mantener la legibilidad del código.\n"
   ]
  },
  {
   "cell_type": "code",
   "execution_count": 8,
   "metadata": {},
   "outputs": [
    {
     "name": "stdout",
     "output_type": "stream",
     "text": [
      "El resultado del zip es: <zip object at 0x1114db2c0>\n",
      "El resultado del zip convertido a lista es: [('Ana', 28), ('Carlos', 34), ('Elena', 29)]\n",
      "Ana tiene 28 años\n",
      "Carlos tiene 34 años\n",
      "Elena tiene 29 años\n"
     ]
    }
   ],
   "source": [
    "# veamos un ejemplo básico utilizando dos listas\n",
    "nombres = [\"Ana\", \"Carlos\", \"Elena\"]\n",
    "edades = [28, 34, 29]\n",
    "\n",
    "# generamos la variable resultado del zip\n",
    "combinados = zip(nombres, edades)\n",
    "\n",
    "# recordad que el zip nos devuelve un objeto de Python\n",
    "print(f\"El resultado del zip es: {combinados}\")\n",
    "\n",
    "# si quisieramos ver lo que genera en zip, lo podríamos convertir a lista.  Fijaos como crea una lista de tuplas!\n",
    "print(f\"El resultado del zip convertido a lista es: {list(combinados)}\")\n",
    "\n",
    "# iteramos por el objeto del zip, accediendo a cada elemento de la tupla\n",
    "for nombre, edad in zip(nombres, edades):\n",
    "    print(f\"{nombre} tiene {edad} años\")\n",
    "\n",
    "# En este caso estamos combinando los elementos de las listas `nombres` y `edades` en tuplas, y \n",
    "# luego iteramos sobre estas tuplas."
   ]
  },
  {
   "cell_type": "markdown",
   "metadata": {},
   "source": [
    "# List comprehensions\n",
    "\n",
    "Las `list comprehensions` son una forma concisa y poderosa de crear listas. Permiten generar listas de manera eficiente a partir de iterables como listas, tuplas, o rangos, aplicando transformaciones o filtros a cada elemento en un solo paso. Esto significa que podemos crear y modificar listas de forma rápida y legible en una sola línea de código.\n",
    "\n",
    "Son útiles en situaciones donde necesitamos construir listas basadas en alguna lógica o cálculo aplicado a elementos existentes. Algunos casos de uso comunes incluyen:\n",
    "\n",
    "1. **Transformación de datos:** Podemos utilizar *list comprehensions* para aplicar una operación a cada elemento de una lista y construir una nueva lista con los resultados. Por ejemplo, podemos convertir una lista de números en una lista de sus cuadrados o en una lista de cadenas formateadas.\n",
    "\n",
    "2. **Filtrado de datos:** Podemos utilizar *list comprehensions* para filtrar elementos de una lista que cumplan cierta condición. Esto nos permite crear una sublista que contenga solo los elementos que satisfacen el criterio especificado.\n",
    "\n",
    "3. **Construcción de listas:** Las *list comprehensions* son útiles cuando queremos construir una lista de manera dinámica, ya sea basada en una serie de valores predefinidos o en una secuencia generada por un bucle.\n",
    "\n",
    "Las *list comprehensions* son especialmente útiles cuando necesitamos escribir código de manera concisa y legible, evitando la necesidad de escribir bucles `for` tradicionales. Ayudan a reducir la cantidad de código y a mejorar la claridad y la mantenibilidad del código, lo que las convierte en una herramienta poderosa en el arsenal de cualquier programador de Python.\n",
    "\n",
    "\n",
    "La ventaja de utilizarlas: \n",
    "\n",
    "- Son relativamente más rápidas que los bucles for.\n",
    "\n",
    "- La sintaxis de las comprensiones de lista es más fácil de leer y entender.\n",
    "\n",
    "> Podríamos decir que las *list comprehension* son una forma de crear listas de una manera elegante y simplificada (en una línea de código). \n",
    "\n",
    "\n",
    "**Los tipos de list comprehension que tenemos son:**\n",
    "\n",
    "- **List Comprehensions Básicas:** Este tipo aplica una expresión a cada elemento del iterable sin filtrar ninguno. La sintaxis es:\n",
    "\n",
    "   ```python\n",
    "   nueva_lista = [expresion for elemento in iterable]\n",
    "   ```\n",
    "\n",
    "   En este caso, `nueva_lista` contendrá el resultado de aplicar la expresión a cada elemento del iterable, sin aplicar ninguna condición de filtrado. Esta forma es útil cuando se desea aplicar una operación a todos los elementos del iterable sin necesidad de filtrarlos.\n",
    "\n",
    "- **List Comprehensions con Condición `if`:** Se utiliza para crear una nueva lista aplicando una expresión a cada elemento de un iterable y filtrando los elementos según una condición opcional. La sintaxis básica es la siguiente:\n",
    "\n",
    "   ```python\n",
    "   nueva_lista = [expresion for elemento in iterable if condicion]\n",
    "   ```\n",
    "\n",
    "   Donde:\n",
    "   - `expresion` es la operación que se aplicará a cada elemento.\n",
    "\n",
    "   - `elemento` es una variable que representa cada elemento del iterable.\n",
    "\n",
    "   - `iterable` es la colección de elementos sobre la que se iterará.\n",
    "\n",
    "   - `condicion` es una condición opcional que filtra los elementos.\n",
    "\n",
    "- **List Comprehensions con Condición `if` y `else`:** Se utilizan para crear una nueva lista aplicando una expresión a cada elemento de un iterable y aplicando una operación específica según una condición. La sintaxis básica es la siguiente:\n",
    "\n",
    "   ```python\n",
    "   nueva_lista = [expresion_true if condicion else expresion_false for elemento in iterable]\n",
    "   ```\n",
    "\n",
    "   Donde:\n",
    "   - `expresion_true` es la operación que se aplicará a cada elemento si la condición es verdadera.\n",
    "\n",
    "   - `expresion_false` es la operación que se aplicará a cada elemento si la condición es falsa.\n",
    "\n",
    "   - `condicion` es una condición que determina qué expresión se aplicará a cada elemento.\n",
    "\n",
    "   - `elemento` es una variable que representa cada elemento del iterable.\n",
    "   \n",
    "   - `iterable` es la colección de elementos sobre la que se iterará.\n",
    "\n",
    "\n",
    "- **Nested List Comprehensions:** Estas list comprehensions permiten crear listas de listas, es decir, listas anidadas. Se utilizan cuando queremos aplicar una expresión a cada elemento de una lista que está dentro de otra lista. La sintaxis es similar a las list comprehensions básicas, pero se anidan dentro de otra lista comprehension. Por ejemplo:\n",
    "\n",
    "   ```python\n",
    "   matriz = [expresion for elemento in fila for fila in matriz_original]\n",
    "   ```\n",
    "\n",
    "   Donde:\n",
    "   - `expresion` es la operación que se aplicará a cada elemento de la fila.\n",
    "\n",
    "   - `elemento` es una variable que representa cada elemento de la fila.\n",
    "\n",
    "   - `fila` es una lista dentro de `matriz_original`.\n",
    "\n",
    "   - `matriz_original` es una lista de listas."
   ]
  },
  {
   "cell_type": "markdown",
   "metadata": {},
   "source": [
    "## *List Comprehensions* básicas\n",
    "\n",
    "La sintaxis que seguiremos en este tipo de aproximaciones es: \n",
    "\n",
    "![lista](https://github.com/Hack-io-Data/Imagenes/blob/main/02-Imagenes/Python_b%C3%A1sico/list_comprehension_basica.png?raw=true)\n",
    "\n",
    "Veamos un ejercicio sencillo para entender como funciona de una forma práctica. Imaginemos que tenemos una lista de números del 0 al 50000000 (la crearemos con un `range` como hemos aprendido), y queremos crearnos una lista nueva con los mismo números pero en este caso querremos los números elevados al cuadrado. \n",
    "\n",
    "En este caso vamos a añadir al inicio de la celda `%%time`. Este comando es una *magic command* específica de Jupyter Notebook que se utiliza para medir el tiempo de ejecución de una celda de código. Cuando se coloca al principio de una celda de código, nos permite medir el tiempo que tarda en ejecutarse todo el contenido de esa celda.\n",
    "\n",
    "Al ejecutar una celda con `%%time`, Jupyter Notebook mostrará dos tipos de tiempo:\n",
    "\n",
    "- **Tiempo de CPU**: Es el tiempo total de la CPU utilizado para ejecutar el código en la celda.\n",
    "  \n",
    "- **Tiempo de pared (Wall time)**: Es el tiempo total que transcurre desde que se inicia la ejecución de la celda hasta que finaliza, incluyendo cualquier tiempo de espera o bloqueo.\n",
    "\n",
    "Estos tiempos son útiles para evaluar el rendimiento y la eficiencia de un código, especialmente cuando se están realizando optimizaciones o comparaciones entre diferentes enfoques de implementación."
   ]
  },
  {
   "cell_type": "code",
   "execution_count": 20,
   "metadata": {},
   "outputs": [
    {
     "name": "stdout",
     "output_type": "stream",
     "text": [
      "La lista con los cuadrados de los números contiene: []\n",
      "--------------------------------\n",
      "La lista DESPUÉS DEL BUCLE FOR contiene, notad como solo hemos mostrado los primeros elementos para simplificar el output: [0, 1, 4, 9, 16, 25, 36, 49, 64, 81, 100, 121, 144, 169, 196, 225, 256, 289, 324, 361]\n",
      "CPU times: user 1.42 s, sys: 111 ms, total: 1.53 s\n",
      "Wall time: 1.54 s\n"
     ]
    }
   ],
   "source": [
    "%%time\n",
    "\n",
    "# con un for loop como hemos aprendido hasta ahora \n",
    "# creamos una lista vacía donde iremos añadiendo cada nuevo valor\n",
    "cuadrado = []\n",
    "print(\"La lista con los cuadrados de los números contiene:\", cuadrado)\n",
    "print(\"--------------------------------\")\n",
    "\n",
    "# iniciamos nuestro for sobre la lista de números que crearemos con un for: \n",
    "for num in range(50000000):\n",
    "\n",
    "    # apendeamos a la lista nueva \"cuadrado\" los valores por los que vamos iterando elevados al cuadrado\n",
    "    cuadrado.append(num ** 2)\n",
    "\n",
    "print(\"La lista DESPUÉS DEL BUCLE FOR contiene, notad como solo hemos mostrado los primeros elementos para simplificar el output:\", cuadrado[:20])"
   ]
  },
  {
   "cell_type": "code",
   "execution_count": 21,
   "metadata": {},
   "outputs": [
    {
     "name": "stdout",
     "output_type": "stream",
     "text": [
      "La lista contiene, notad como solo hemos mostrado los primeros elementos para simplificar el output: [0, 1, 4, 9, 16, 25, 36, 49, 64, 81, 100, 121, 144, 169, 196, 225, 256, 289, 324, 361]\n",
      "CPU times: user 900 ms, sys: 128 ms, total: 1.03 s\n",
      "Wall time: 1.07 s\n"
     ]
    }
   ],
   "source": [
    "%%time\n",
    "# con una list comprehension\n",
    "cuadrado2 = [num ** 2 for num in range(50000000)]\n",
    "\n",
    "# veamos el contenido de la lista cuadrado2\n",
    "print(\"La lista contiene, notad como solo hemos mostrado los primeros elementos para simplificar el output:\", cuadrado2[:20])"
   ]
  },
  {
   "cell_type": "markdown",
   "metadata": {},
   "source": [
    "<div style=\"background-color: #FFBB33; padding: 10px; border-left: 6px solid #000080; color: black; border-radius: 10px;\">\n",
    "\n",
    "**Interpretemos lo que ha pasado** \n",
    "\n",
    "Si observamos los tiempos de ejecución de las dos celdas anteriores, notamos que, aunque no en gran medida, la *list comprehension* se ejecutó más rápidamente. Ahora, analicemos el código de la *list comprehension* para comprenderlo mejor:\n",
    "\n",
    "- Definimos una variable llamada `cuadrado2`, donde se almacenarán los resultados del *for loop*.\n",
    "\n",
    "- Para crear una *list comprehension*, utilizamos corchetes (`[]`) al principio y al final.\n",
    "\n",
    "- Dentro de los corchetes, especificamos `num ** 2`, que representa lo que queremos agregar en nuestra nueva lista, equivalente a la segunda línea de nuestro *for* original. Esto indica qué acción queremos realizar con cada elemento de nuestra lista original.\n",
    "\n",
    "- Luego, utilizamos `for num in range(5000000)` para iniciar nuestro *for loop*.\n",
    "\n",
    "Hemos desglosado cada una de las partes de la *list comprehension*. Ahora, exploremos algunos ejemplos adicionales.\n",
    "</div>\n",
    "\n",
    "\n"
   ]
  },
  {
   "cell_type": "markdown",
   "metadata": {},
   "source": [
    "Imaginemos ahora que tenemos una lista de palabras y vamos a querer crearnos otra con las longitudes de cada una de ellas. "
   ]
  },
  {
   "cell_type": "code",
   "execution_count": 30,
   "metadata": {},
   "outputs": [
    {
     "name": "stdout",
     "output_type": "stream",
     "text": [
      "La lista 'palabras' contiene: ['hackio', 'python', 'data analysts', 'sql', 'programadoras']\n",
      "----------------------\n",
      "La lista con las longitudes de cada palabra antes del bucle contiene: []\n",
      "----------------------\n",
      "La lista con las longitudes de cada palabra DESPUÉS del bucle contiene: [6, 6, 13, 3, 13]\n",
      "CPU times: user 93 µs, sys: 9 µs, total: 102 µs\n",
      "Wall time: 98.2 µs\n"
     ]
    }
   ],
   "source": [
    "%%time\n",
    "# lo primero que hacemos es definir la lista de palabras\n",
    "\n",
    "palabras = [\"hackio\", \"python\", \"data analysts\", \"sql\", \"programadoras\"]\n",
    "print(\"La lista 'palabras' contiene:\", palabras)\n",
    "print(\"----------------------\")\n",
    "\n",
    "# hagámoslo con un for loop tradicional\n",
    "\n",
    "# primero definimos la lista vacía donde apendearemos las longitudes de las palabras\n",
    "palabras_len = []\n",
    "print(\"La lista con las longitudes de cada palabra antes del bucle contiene:\", palabras_len)\n",
    "\n",
    "# inicimos nuestro for\n",
    "for palabra in palabras:\n",
    "\n",
    "    # apendeamnos en la lista vacía las longitudes de cada una de las palabras de nuestra lista\n",
    "    palabras_len.append(len(palabra))\n",
    "print(\"----------------------\")\n",
    "print(\"La lista con las longitudes de cada palabra DESPUÉS del bucle contiene:\", palabras_len)\n"
   ]
  },
  {
   "cell_type": "code",
   "execution_count": 29,
   "metadata": {},
   "outputs": [
    {
     "name": "stdout",
     "output_type": "stream",
     "text": [
      "La lista con las longitudes de cada palabra DESPUÉS del bucle contiene [6, 6, 13, 3, 13]\n",
      "CPU times: user 35 µs, sys: 5 µs, total: 40 µs\n",
      "Wall time: 41 µs\n"
     ]
    }
   ],
   "source": [
    "%%time\n",
    "# hagamoslo ahora con una list comprehension\n",
    "palabras_len2 = [len(pal) for pal in palabras]\n",
    "\n",
    "# vemos el contenido de palabras_len2\n",
    "print(\"La lista con las longitudes de cada palabra DESPUÉS del bucle contiene\", palabras_len2)"
   ]
  },
  {
   "cell_type": "markdown",
   "metadata": {},
   "source": [
    "## *List comprehension* con condición `if`\n",
    "\n",
    "Su sintaxis básica es: \n",
    "\n",
    "![listcondicion](https://github.com/Hack-io-Data/Imagenes/blob/main/02-Imagenes/Python_b%C3%A1sico/list_comprehension_condicion.png?raw=true)\n",
    "\n",
    "Como hemos observado en el diagrama inicial, podemos agregar una condición adicional con un `if` en una *list comprehension*. En Python, una *list comprehension* con un `for` y un `if` es una forma concisa de crear una lista aplicando una condición a cada elemento. En términos simples, utilizamos un `for` para iterar sobre una secuencia de elementos y un `if` para aplicar una condición a cada elemento. Los elementos que cumplen con la condición se incluyen en la lista resultante. Regresemos al primer ejemplo que presentamos, el de elevar al cuadrado una lista de números. En este caso, solo deseamos elevar al cuadrado los números pares. Veamos cómo lograrlo:"
   ]
  },
  {
   "cell_type": "code",
   "execution_count": 27,
   "metadata": {},
   "outputs": [
    {
     "name": "stdout",
     "output_type": "stream",
     "text": [
      "La lista con los cuadrados de los números contiene: []\n",
      "--------------------------------\n",
      "La lista DESPUÉS DEL BUCLE FOR contiene, notad como solo hemos mostrado los primeros elementos para simplificar el output: [0, 4, 16, 36, 64, 100, 144, 196, 256, 324, 400, 484, 576, 676, 784, 900, 1024, 1156, 1296, 1444]\n",
      "CPU times: user 1.61 s, sys: 108 ms, total: 1.72 s\n",
      "Wall time: 1.73 s\n"
     ]
    }
   ],
   "source": [
    "%%time\n",
    "# primero con un for normal\n",
    "# creamos la lista vacía donde apendearemos los resultados \n",
    "\n",
    "cuadrados_pares = []\n",
    "print(\"La lista con los cuadrados de los números contiene:\", cuadrados_pares)\n",
    "print(\"--------------------------------\")\n",
    "# iniciamos nuestro for\n",
    "for num in range(50000000):\n",
    "\n",
    "    # establecemos la condición para los números pares. Recordemos que el operador % nos devolvía el resto de una división. Si el resultado de este operador es 0, significa que el número es par, y por lo tanto, querremos calcular su cuadrado. \n",
    "    if num % 2 == 0: \n",
    "\n",
    "        # si se cumple la condición, eleveramos al cuadrado el número y lo apendearemos a la lista de cuadrados_pares. En esta lista solo tendremos números pares\n",
    "        cuadrados_pares.append(num ** 2)\n",
    "    # recordemos que el else no es obligatorio. Por lo tanto, no pondremos la condición else, ya que en caso de que no sea número par no querremos que pase nada.\n",
    "    \n",
    "print(\"La lista DESPUÉS DEL BUCLE FOR contiene, notad como solo hemos mostrado los primeros elementos para simplificar el output:\", cuadrados_pares[:20]) "
   ]
  },
  {
   "cell_type": "code",
   "execution_count": 28,
   "metadata": {},
   "outputs": [
    {
     "name": "stdout",
     "output_type": "stream",
     "text": [
      "La lista contiene, notad como solo hemos mostrado los primeros elementos para simplificar el output: [0, 4, 16, 36, 64, 100, 144, 196, 256, 324, 400, 484, 576, 676, 784, 900, 1024, 1156, 1296, 1444]\n",
      "CPU times: user 1.11 s, sys: 101 ms, total: 1.21 s\n",
      "Wall time: 1.23 s\n"
     ]
    }
   ],
   "source": [
    "%%time\n",
    "# con una list comprehension\n",
    "\n",
    "cuadrados_pares2 = [num ** 2 for num in range(50000000) if num % 2 == 0]\n",
    "print(\"La lista contiene, notad como solo hemos mostrado los primeros elementos para simplificar el output:\", cuadrados_pares2[:20])"
   ]
  },
  {
   "cell_type": "markdown",
   "metadata": {},
   "source": [
    "<div style=\"background-color: #FFBB33; padding: 10px; border-left: 6px solid #000080; color: black; border-radius: 10px;\">\n",
    "\n",
    "<strong>Desglosemos ahora la *list comprehension* que acabamos de escribir.</strong>\n",
    "\n",
    "\n",
    "Las primeras partes son iguales que en el primer ejemplo que presentamos:\n",
    "\n",
    "- Hemos definido una variable llamada `cuadrado2` donde se guardarán los resultados del *for loop*. Es igual que en el primer ejemplo.\n",
    "\n",
    "- Para crear una *list comprehension*, debemos indicar los corchetes `[]` al principio y al final. Es igual que en el primer ejemplo.\n",
    "\n",
    "- Dentro de los corchetes, lo primero que hemos colocado es `num ** 2`, lo cual corresponde a lo que queremos agregar en nuestra lista nueva. Esta parte es equivalente a la segunda línea de nuestro *for* original. Indica qué queremos hacer con cada elemento de nuestra lista original. Es igual que en el primer ejemplo.\n",
    "\n",
    "- Luego hemos añadido `for num in range(5000000)`, lo que significa que estamos iniciando nuestro *for loop*. Es igual que en el primer ejemplo.\n",
    "\n",
    "- Por último, hemos agregado la condición `if num % 2 == 0`. Esta es la parte nueva, la condición que deseamos verificar.\n",
    "</div>"
   ]
  },
  {
   "cell_type": "markdown",
   "metadata": {},
   "source": [
    "## *List comprehension* con condición `if`... `else`\n",
    "\n",
    "Pero... ¿Qué pasaría si quisieramos añadir una condición *elif* o *else* en nuestra *list comprehension*? \n",
    "\n",
    "- El *else* se puede incluir sin problema, ahora veremos un ejemplo\n",
    "\n",
    "- El *elif*  no lo podremos incluir ya que las *list comprehensions* están diseñadas para ser cortas y sencillas. Si empezamos a incluir múltiples condiciones perdería su utilidad. \n",
    "\n",
    "Su sintaxis básica es: \n",
    "\n",
    "![sintaxis](https://github.com/Hack-io-Data/Imagenes/blob/main/02-Imagenes/Python_b%C3%A1sico/list_comprehension_condicion2.png?raw=true)\n",
    "\n",
    "Veamos un ejemplo con *else*. Volvamos al ejemplo de la lista de palabras. En este caso, querremos que en la lista nueva se nos añada \"palabra larga\" o \"palabra corta\" en función de su longitud. De esta forma: \n",
    "\n",
    "- Palabras cuya longitud sea menor que 6 apendearemos \"palabra corta\"\n",
    "\n",
    "- Palabras cuya longitud sea mayor que 6 apendearemos \"palabra larga\""
   ]
  },
  {
   "cell_type": "code",
   "execution_count": 32,
   "metadata": {},
   "outputs": [
    {
     "name": "stdout",
     "output_type": "stream",
     "text": [
      "La lista 'palabras' contiene: ['Regresión Lineal', 'Power BI', 'Pandas', 'SQL']\n",
      "----------------------\n",
      "La lista 'palabras_class' contiene: ['palabra larga', 'palabra larga', 'palabra corta', 'palabra corta']\n",
      "CPU times: user 72 µs, sys: 8 µs, total: 80 µs\n",
      "Wall time: 76.8 µs\n"
     ]
    }
   ],
   "source": [
    "%%time\n",
    "# veamos como hacerlo con un for loop normal\n",
    "print(\"La lista 'palabras' contiene:\", herramientas)\n",
    "print(\"----------------------\")\n",
    "\n",
    "# definimos la lista vacía dnode apendearemos los resultados\n",
    "palabras_clas = []\n",
    "\n",
    "# iniciamos el for loop\n",
    "for i in herramientas: \n",
    "\n",
    "    # establecemos la primera condición. Que la longitud de la palabra sea menor o igual que 6\n",
    "    if len(i) <= 6:\n",
    "\n",
    "        # apendeamos \"palabra corta\" a la lista vacía\n",
    "        palabras_clas.append(\"palabra corta\")\n",
    "\n",
    "    # en caso de que no se cumpla esa condición\n",
    "    else: \n",
    "\n",
    "        # apendearemos \"palabra larga\" a la lista vacía\n",
    "        palabras_clas.append(\"palabra larga\")\n",
    "print(\"La lista 'palabras_class' contiene:\", palabras_clas)"
   ]
  },
  {
   "cell_type": "code",
   "execution_count": 33,
   "metadata": {},
   "outputs": [
    {
     "name": "stdout",
     "output_type": "stream",
     "text": [
      "La lista 'palabras_class2' contiene: ['palabra corta', 'palabra corta', 'palabra larga', 'palabra corta', 'palabra larga']\n",
      "CPU times: user 62 µs, sys: 6 µs, total: 68 µs\n",
      "Wall time: 67.2 µs\n"
     ]
    }
   ],
   "source": [
    "%%time\n",
    "# como lo haríamos con una list comprehension?\n",
    "\n",
    "palabras_clas2 = [\"palabra corta\" if len(i) <= 6 else \"palabra larga\" for i in palabras  ]\n",
    "print(\"La lista 'palabras_class2' contiene:\", palabras_clas2)"
   ]
  },
  {
   "cell_type": "markdown",
   "metadata": {},
   "source": [
    "<div style=\"background-color: #F74646; padding: 10px; border-left: 6px solid #000080; color: black; border-radius: 10px;\">\n",
    "\n",
    "**Evaluemos ahora el código anterior:**\n",
    "\n",
    "La sintaxis ha evolucionado un poco y se ha vuelto más compleja. Sin embargo, desglosemos cada parte para comprenderla mejor:\n",
    "\n",
    "- En primer lugar, tenemos `\"palabra corta\"`. Esto indica lo que se agregará a la lista si se cumple la condición especificada en el `if`.\n",
    "\n",
    "- Luego, encontramos el `if len(i) <= 6`, que representa la primera condición que queremos verificar.\n",
    "\n",
    "- A continuación, aparece el `else \"palabra larga\"`, que determina qué se agregará a la lista si la condición establecida previamente no se cumple.\n",
    "\n",
    "- Por último, tenemos el `for i in palabras`, que marca el inicio del bucle `for`.\n",
    "</div>\n"
   ]
  },
  {
   "cell_type": "markdown",
   "metadata": {},
   "source": [
    "## *Nested List Comprehension*\n",
    "\n",
    "Puede parecer un poco abrumador al principio, pero no os preocupeis. Nuestra recomendación es que, en estos primeros pasos, siempre escribáis el bucle `for` de la forma tradicional y luego intentéis convertirlo en una *list comprehension* como hemos hecho en cada uno de los ejemplos anteriores.\n",
    "\n",
    "Su sintaxis básica es: \n",
    "\n",
    "![sintaxis](https://github.com/Hack-io-Data/Imagenes/blob/main/02-Imagenes/Python_b%C3%A1sico/list_comprehension_condicion2.png?raw=true)\n",
    "\n",
    "\n",
    "\n",
    "Ya hemos visto que es es posible utilizar una *list comprehension* con dos bucles `for`. Una vez más, veámoslo con un ejemplo. Supongamos que tenemos una lista de listas de números y queremos convertirla en una única lista. "
   ]
  },
  {
   "cell_type": "code",
   "execution_count": 35,
   "metadata": {},
   "outputs": [
    {
     "name": "stdout",
     "output_type": "stream",
     "text": [
      "La lista de listas contiene: [[11, 12, 13], [14, 15, 16], [17, 18, 19]]\n",
      "----------------------------------\n",
      "La lista donde almacenaremos los resultados contiene: []\n",
      "----------------------------------\n",
      "[11, 12, 13]\n",
      "...................\n",
      "11\n",
      "...................\n",
      "12\n",
      "...................\n",
      "13\n",
      "...................\n",
      "[14, 15, 16]\n",
      "...................\n",
      "14\n",
      "...................\n",
      "15\n",
      "...................\n",
      "16\n",
      "...................\n",
      "[17, 18, 19]\n",
      "...................\n",
      "17\n",
      "...................\n",
      "18\n",
      "...................\n",
      "19\n",
      "...................\n",
      "La lista donde almacenaremos los resultados DESPUÉS DE LOS DOS FOR LOOP contiene: [11, 12, 13, 14, 15, 16, 17, 18, 19]\n",
      "CPU times: user 102 µs, sys: 5 µs, total: 107 µs\n",
      "Wall time: 105 µs\n"
     ]
    }
   ],
   "source": [
    "%%time \n",
    "\n",
    "# lo primero que hacemos es definir una lista de listas\n",
    "listas = [[11,12,13], [14,15,16], [17,18,19]]\n",
    "print(\"La lista de listas contiene:\", listas)\n",
    "print(\"----------------------------------\")\n",
    "\n",
    "\n",
    "# para hacer de esta lista de listas una única lista tendremos que hacer dos for loop. Lo haremos paso a paso. \n",
    "# primero definimos la lista vacía donde iremos añadiendo los números de nuestra lista de listas\n",
    "lista_aplanada = []\n",
    "print(\"La lista donde almacenaremos los resultados contiene:\", lista_aplanada)\n",
    "print(\"----------------------------------\")\n",
    "\n",
    "\n",
    "# iniciamos el for loop\n",
    "for sublista in listas : \n",
    "\n",
    "    # nuestro primero elemento interable será cada una de las listas de la lista grande. Esto, todavía no nos esta permitiendo acceder a cada uno de los números, por lo que tenemos que volver a iterar por cada una de las sublistas\n",
    "    print(sublista)\n",
    "    print(\"...................\")\n",
    "\n",
    "    # iteramos por cada sublista para acceder a cada uno de los números.\n",
    "    for num in sublista:\n",
    "\n",
    "        # ahora num será cada elemento de cada sublista, es decir, cada número.  \n",
    "        print(num)\n",
    "        print(\"...................\")\n",
    "\n",
    "\n",
    "        # es en este punto, donde ya hemos accedido a cada número donde lo apendearemos a la lista vacía\n",
    "\n",
    "        lista_aplanada.append(num)\n",
    " \n",
    "print(\"La lista donde almacenaremos los resultados DESPUÉS DE LOS DOS FOR LOOP contiene:\", lista_aplanada)\n",
    "       \n"
   ]
  },
  {
   "cell_type": "code",
   "execution_count": 36,
   "metadata": {},
   "outputs": [
    {
     "name": "stdout",
     "output_type": "stream",
     "text": [
      "La lista donde almacenaremos los resultados DESPUÉS DE LA LIST COMPREHENSION contiene: [11, 12, 13, 14, 15, 16, 17, 18, 19]\n",
      "CPU times: user 61 µs, sys: 6 µs, total: 67 µs\n",
      "Wall time: 63.9 µs\n"
     ]
    }
   ],
   "source": [
    "%%time\n",
    "# ¿Cómo haremos esto con una list comprehension? \n",
    "lista_aplanada2 = [num for sublista in listas for num in sublista]\n",
    "print(\"La lista donde almacenaremos los resultados DESPUÉS DE LA LIST COMPREHENSION contiene:\", lista_aplanada2)\n"
   ]
  },
  {
   "cell_type": "markdown",
   "metadata": {},
   "source": [
    "<div style=\"background-color: #FFBB33; padding: 10px; border-left: 6px solid #000080; color: black; border-radius: 10px;\">\n",
    "\n",
    "**Analicemos detenidamente lo que sucede aquí:**\n",
    "\n",
    "- `num` es el elemento que queremos añadir a nuestra nueva lista.\n",
    "\n",
    "- Luego, tenemos el primer bucle `for`, `for sublista in listas`, que itera sobre cada sublista en nuestra lista de listas.\n",
    "\n",
    "- Finalmente, tenemos el segundo bucle `for`, `for num in sublista`, que itera sobre cada número dentro de cada sublista en nuestra lista de listas.\n",
    "</div>"
   ]
  }
 ],
 "metadata": {
  "kernelspec": {
   "display_name": "Python 3 (ipykernel)",
   "language": "python",
   "name": "python3"
  },
  "language_info": {
   "codemirror_mode": {
    "name": "ipython",
    "version": 3
   },
   "file_extension": ".py",
   "mimetype": "text/x-python",
   "name": "python",
   "nbconvert_exporter": "python",
   "pygments_lexer": "ipython3",
   "version": "3.11.8"
  },
  "toc": {
   "base_numbering": 1,
   "nav_menu": {},
   "number_sections": true,
   "sideBar": true,
   "skip_h1_title": false,
   "title_cell": "Table of Contents",
   "title_sidebar": "Contents",
   "toc_cell": true,
   "toc_position": {
    "height": "calc(100% - 180px)",
    "left": "10px",
    "top": "150px",
    "width": "307.2px"
   },
   "toc_section_display": true,
   "toc_window_display": true
  },
  "vscode": {
   "interpreter": {
    "hash": "31f2aee4e71d21fbe5cf8b01ff0e069b9275f58929596ceb00d14d90e3e16cd6"
   }
  }
 },
 "nbformat": 4,
 "nbformat_minor": 2
}

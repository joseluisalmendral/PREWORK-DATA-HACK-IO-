{
 "cells": [
  {
   "cell_type": "markdown",
   "metadata": {},
   "source": [
    "<div style=\"text-align: center;\">\n",
    "  <img src=\"https://github.com/Hack-io-Data/Imagenes/blob/main/01-LogosHackio/logo_celeste@4x.png?raw=true\" alt=\"esquema\" />\n",
    "</div>\n"
   ]
  },
  {
   "cell_type": "markdown",
   "metadata": {
    "toc": true
   },
   "source": [
    "<h1>Table of Contents<span class=\"tocSkip\"></span></h1>\n",
    "<div class=\"toc\"><ul class=\"toc-item\"><li><span><a href=\"#¿Qué-son-las-listas-y-cómo-se-definen-en-Python?\" data-toc-modified-id=\"¿Qué-son-las-listas-y-cómo-se-definen-en-Python?-1\"><span class=\"toc-item-num\">1&nbsp;&nbsp;</span>¿Qué son las listas y cómo se definen en Python?</a></span></li><li><span><a href=\"#Propiedades-de-una-lista\" data-toc-modified-id=\"Propiedades-de-una-lista-2\"><span class=\"toc-item-num\">2&nbsp;&nbsp;</span>Propiedades de una lista</a></span></li><li><span><a href=\"#Indexación-en-listas\" data-toc-modified-id=\"Indexación-en-listas-3\"><span class=\"toc-item-num\">3&nbsp;&nbsp;</span>Indexación en listas</a></span></li><li><span><a href=\"#Métodos-para-listas\" data-toc-modified-id=\"Métodos-para-listas-4\"><span class=\"toc-item-num\">4&nbsp;&nbsp;</span>Métodos para listas</a></span><ul class=\"toc-item\"><li><span><a href=\"#.copy()\" data-toc-modified-id=\".copy()-4.1\"><span class=\"toc-item-num\">4.1&nbsp;&nbsp;</span><code>.copy()</code></a></span></li><li><span><a href=\"#.clear()\" data-toc-modified-id=\".clear()-4.2\"><span class=\"toc-item-num\">4.2&nbsp;&nbsp;</span><code>.clear()</code></a></span></li><li><span><a href=\"#.remove()\" data-toc-modified-id=\".remove()-4.3\"><span class=\"toc-item-num\">4.3&nbsp;&nbsp;</span><code>.remove()</code></a></span></li><li><span><a href=\"#.pop()\" data-toc-modified-id=\".pop()-4.4\"><span class=\"toc-item-num\">4.4&nbsp;&nbsp;</span><code>.pop()</code></a></span></li><li><span><a href=\"#.count()\" data-toc-modified-id=\".count()-4.5\"><span class=\"toc-item-num\">4.5&nbsp;&nbsp;</span><code>.count()</code></a></span></li><li><span><a href=\"#.reverse()\" data-toc-modified-id=\".reverse()-4.6\"><span class=\"toc-item-num\">4.6&nbsp;&nbsp;</span><code>.reverse()</code></a></span></li><li><span><a href=\"#.sort()\" data-toc-modified-id=\".sort()-4.7\"><span class=\"toc-item-num\">4.7&nbsp;&nbsp;</span><code>.sort()</code></a></span></li><li><span><a href=\"#sorted()\" data-toc-modified-id=\"sorted()-4.8\"><span class=\"toc-item-num\">4.8&nbsp;&nbsp;</span><code>sorted()</code></a></span></li><li><span><a href=\"#.append()\" data-toc-modified-id=\".append()-4.9\"><span class=\"toc-item-num\">4.9&nbsp;&nbsp;</span><code>.append()</code></a></span></li><li><span><a href=\"#.extend()\" data-toc-modified-id=\".extend()-4.10\"><span class=\"toc-item-num\">4.10&nbsp;&nbsp;</span><code>.extend()</code></a></span></li><li><span><a href=\"#.insert()\" data-toc-modified-id=\".insert()-4.11\"><span class=\"toc-item-num\">4.11&nbsp;&nbsp;</span><code>.insert()</code></a></span></li></ul></li></ul></div>"
   ]
  },
  {
   "cell_type": "markdown",
   "metadata": {},
   "source": [
    "# ¿Qué son las listas y cómo se definen en Python?\n",
    "\n",
    "En Python, una lista es una estructura de datos que almacena una colección ordenada de elementos. Cada elemento se identifica por un índice, comenzando desde cero. Las listas son ampliamente utilizadas debido a su versatilidad y flexibilidad.\n",
    "\n",
    "Las listas son mutables, lo que significa que pueden modificarse después de su creación. Se pueden agregar, eliminar y modificar elementos, así como contener diferentes tipos de datos, como enteros, flotantes, cadenas de texto y otras listas.\n",
    "\n",
    "Para crear una lista en Python, se utilizan corchetes `[]`, separando cada elemento con comas. Hay dos formas principales de definir una lista. Podemos inicializar una lista con elementos o crear una lista vacía y agregar elementos posteriormente.\n",
    "\n",
    "```python\n",
    "# Creamos una lista con elementos\n",
    "lista_nombres = [\"Lola\", \"Rocio\", \"Olaya\"]\n",
    "\n",
    "# Creamos una lista vacía\n",
    "lista_apellidos = []\n",
    "```\n",
    "\n",
    "Las listas en Python tienen métodos integrados para agregar, eliminar y modificar elementos. Algunos de los métodos más comunes incluyen:\n",
    "\n",
    "- `append()`: agrega un elemento al final de la lista.\n",
    "\n",
    "- `insert()`: agrega un elemento en una posición específica de la lista.\n",
    "\n",
    "- `remove()`: elimina la primera aparición de un elemento de la lista.\n",
    "\n",
    "- `pop()`: elimina y devuelve el elemento en una posición específica de la lista.\n",
    "\n",
    "- `clear()`: elimina todos los elementos de la lista.\n",
    "\n",
    "- `index()`: devuelve la posición de la primera aparición de un elemento en la lista.\n",
    "\n",
    "- `count()`: devuelve el número de veces que aparece un elemento en la lista.\n",
    "\n",
    "- `sort()`: ordena los elementos de la lista.\n"
   ]
  },
  {
   "cell_type": "code",
   "execution_count": 1,
   "metadata": {},
   "outputs": [],
   "source": [
    "# definimos una lista con un único valor que es un string\n",
    "lista_de_compra = ['peras']\n",
    "\n",
    "# como hemos dicho, las listas pueden almacenar cualquier tipo de dato, creemos ahora una lista con un único valor, que sea un integer\n",
    "notas_matematicas_este_año = [7]"
   ]
  },
  {
   "cell_type": "code",
   "execution_count": 2,
   "metadata": {},
   "outputs": [
    {
     "name": "stdout",
     "output_type": "stream",
     "text": [
      "<class 'list'>\n",
      "True\n"
     ]
    }
   ],
   "source": [
    "# de la misma forma que los tipos de datos que hemos aprendido hasta ahora, también podemos usar la función type con listas \n",
    "print(type(lista_de_compra))\n",
    "\n",
    "# Además tenemos el  método `isinstance` el cual nos servirá para verificar si un objeto o variable es una instancia de una clase determinada o de una subclase de esa clase.\n",
    "print(isinstance(notas_matematicas_este_año,list))"
   ]
  },
  {
   "cell_type": "markdown",
   "metadata": {},
   "source": [
    "<div style=\"background-color: #F74646; padding: 10px; border-left: 6px solid #000080; color: black; border-radius: 10px;\">\n",
    "<strong>¿Qué diferencia hay entre estos métodos?</strong> \n",
    "\n",
    "El <code>type()</code> devuelve el tipo de datos de un objeto, mientras que <code>isinstance()</code> verifica si un objeto es una instancia de una clase determinada o de una subclase de esa clase, es decir, nos va a devolver un booleano. \n",
    "</div>\n"
   ]
  },
  {
   "cell_type": "markdown",
   "metadata": {},
   "source": [
    "Como profesores de matemáticas en un colegio, nuestro objetivo es llevar un registro preciso de las notas de los estudiantes en su clase de este año. Para ello, hemos optado por utilizar Python, una herramienta versátil y eficiente en el procesamiento de datos. Para comenzar, creamos una lista vacía llamada `notas_matematicas_primer_examen`. Esta lista servirá como nuestro registro principal donde almacenaremos las calificaciones de los alumnos en cada examen.\n",
    "\n",
    "Cada vez que nuestros estudiantes completen un examen, registraremos sus notas en esta lista utilizando. Esto nos permitirá mantener un seguimiento detallado de su progreso académico a lo largo del año. Además, al mantener un registro centralizado de las calificaciones, podremos identificar áreas específicas en las que los alumnos puedan necesitar apoyo adicional o en las que destaquen."
   ]
  },
  {
   "cell_type": "code",
   "execution_count": 3,
   "metadata": {},
   "outputs": [
    {
     "name": "stdout",
     "output_type": "stream",
     "text": [
      "[]\n"
     ]
    }
   ],
   "source": [
    "# definimos una lista vacía donde iremos almacenando todas las notas de los alumnos\n",
    "notas_matematicas_primer_examen = []\n",
    "\n",
    "# veremos que la lista está vacía\n",
    "print(notas_matematicas_primer_examen)\n",
    "\n",
    "# el curso va avanzando y vamos haciendo exámenes, por lo que vamos a definir tres variables de tipo numérica con las notas de cada uno de los alumnos: \n",
    "nota_lola = 8\n",
    "nota_olaya = 7.5\n",
    "nota_rocio = 4"
   ]
  },
  {
   "cell_type": "code",
   "execution_count": 4,
   "metadata": {},
   "outputs": [
    {
     "name": "stdout",
     "output_type": "stream",
     "text": [
      "[8, 7.5, 4]\n"
     ]
    }
   ],
   "source": [
    "# Es hora de incorporar las notas de las alumnas a la lista que creamos anteriormente, pero por el momento...\n",
    "# Volvamos a la lista, pero esta vez le proporcionaré valores. Específicamente, pasaré los nombres de las variables que definimos anteriormente en la celda.\n",
    "# En otras palabras, no estamos añadiendo valores a la lista; simplemente la estamos redefiniendo con valores preestablecidos en su interior.\n",
    "notas_matematicas_primer_examen = [nota_lola, nota_olaya, nota_rocio]\n",
    "\n",
    "# veamos como es ahora nuestra lista usando la función print\n",
    "print(notas_matematicas_primer_examen)"
   ]
  },
  {
   "cell_type": "code",
   "execution_count": 5,
   "metadata": {},
   "outputs": [],
   "source": [
    "# En el colegio surgió un problema de comunicación entre los profesores, ya que resulta que otro profesor de matematicas había creado una lista con las notas de las alumnas que él había evaluado... \n",
    "# Lo ideal es que todas las notas del primer examen estén en una misma lista para mantener todo lo más ordenado posible. \n",
    "# Entonces nos preguntamos... ¿Existe una manera de combinar las dos listas? ¡Por supuesto que sí!\n",
    "\n",
    "# lo primero que vamos a hacer es definir una lista nueva donde tengamos almacenadas las notas de las alumnas que fueron evaluadas por el otro profesor:\n",
    "notas_biologia_primer_examen_profe2 = [8.3, 6.7, 9.0, 7.5, 5.8, 6.8, 9.0, 6.8]"
   ]
  },
  {
   "cell_type": "code",
   "execution_count": 6,
   "metadata": {},
   "outputs": [
    {
     "name": "stdout",
     "output_type": "stream",
     "text": [
      "[[8, 7.5, 4], [8.3, 6.7, 9.0, 7.5, 5.8, 6.8, 9.0, 6.8]]\n"
     ]
    }
   ],
   "source": [
    "# lo que vamos a hacer ahora es definir otra lista llamada \"todas_notas_biologia_primer_examen\" donde almacenamos las notas de todas las alumnas\n",
    "# al inicio de la lección comentamos que las listas pueden contener cualquier tipo de dato. En este caso, vamos a crear una lista que contendrá dos listas. La primera con las notas de la primera profesora y la segunda con las notas de la segunda profesora\n",
    "\n",
    "todas_notas_biologia_primer_examen = [notas_matematicas_primer_examen, notas_biologia_primer_examen_profe2]\n",
    "\n",
    "# con este print veremos que tenemos una lista grande, con dos listas más pequeñas en su interior. Recordad que las listas vienen definidas por []. Bien! parece que hemos conseguido nuestro objetivo.\n",
    "print(todas_notas_biologia_primer_examen)"
   ]
  },
  {
   "cell_type": "markdown",
   "metadata": {},
   "source": [
    "Hasta ahora solo hemos creado listas con un solo tipo de dato, pero este tipo de estructuras de datos, nos permiten incluir distintos de tipos de datos! Almacenar distintos tipos de datos en listas en Python es una práctica esencial en la programación, ya que nos permite organizar, manipular y acceder a diferentes tipos de información de manera más eficiente y sencilla. Esta técnica nos ayuda a simplificar nuestro código, ahorrar tiempo y mejorar la calidad de nuestros programas. "
   ]
  },
  {
   "cell_type": "code",
   "execution_count": 7,
   "metadata": {},
   "outputs": [
    {
     "data": {
      "text/plain": [
       "['D', 'D', 'B', 'C', 'F', 'F', 'A', 6.2, 9.1, 10, 3.4, 7.9]"
      ]
     },
     "execution_count": 7,
     "metadata": {},
     "output_type": "execute_result"
    }
   ],
   "source": [
    "#  Ahora ha llegado al colegio otra profesora, pero ella es americana y por lo tanto no pone las notas igual que nosotras, pone las notas usando letras. \n",
    "# Hemos realizado otro examen y las profes hemos añadido las notas en una lista que definiremos a continuación. \n",
    "# definimos una nueva lista que va a contener strings y números\n",
    "notas_matematicas_segundo_examen = ['D', 'D', 'B', 'C', \"F\", \"F\", \"A\", 6.2, 9.1, 10, 3.4, 7.9]\n",
    "notas_matematicas_segundo_examen"
   ]
  },
  {
   "cell_type": "code",
   "execution_count": 8,
   "metadata": {},
   "outputs": [
    {
     "name": "stdout",
     "output_type": "stream",
     "text": [
      "[[[8, 7.5, 4], [8.3, 6.7, 9.0, 7.5, 5.8, 6.8, 9.0, 6.8]], ['D', 'D', 'B', 'C', 'F', 'F', 'A', 6.2, 9.1, 10, 3.4, 7.9]]\n"
     ]
    }
   ],
   "source": [
    "# ¡Qué lío! Tenemos dos listas: una con las notas del primer examen (todas_notas_primer_examen) y otra con las notas del segundo examen. ¿Podemos combinarlas en una sola lista incluso si tienen diferentes tipos de datos? 🤔\n",
    "# ¡La respuesta es SÍ!, juntemos las dos listas\n",
    "notas_biologia = [todas_notas_biologia_primer_examen, notas_matematicas_segundo_examen]\n",
    "\n",
    "# vemos su contenido\n",
    "print(notas_biologia)"
   ]
  },
  {
   "cell_type": "markdown",
   "metadata": {},
   "source": [
    "Si nos fijamos, ahora tenemos una lista, que contiene dos listas en su interior, y que a su vez la primera tiene dos listas en su interior. Ahora bien, imaginemos que queremos tener todas las notas en una única lista, y no como lo teníamos hasta ahora. La manera de juntar las listas es usando el operador `+` \n",
    "\n",
    "> El resultado será una lista de 19 números, en vez de una lista de tres listas:"
   ]
  },
  {
   "cell_type": "code",
   "execution_count": 9,
   "metadata": {},
   "outputs": [
    {
     "name": "stdout",
     "output_type": "stream",
     "text": [
      "[8, 7.5, 4, 8.3, 6.7, 9.0, 7.5, 5.8, 6.8, 9.0, 6.8, 'D', 'D', 'B', 'C', 'F', 'F', 'A', 6.2, 9.1, 10, 3.4, 7.9]\n"
     ]
    }
   ],
   "source": [
    "# juntamos las tres listas usando el operador + \n",
    "notas_matematicas2 = notas_matematicas_primer_examen + notas_biologia_primer_examen_profe2 + notas_matematicas_segundo_examen\n",
    "\n",
    "# mostramos los resultados\n",
    "print(notas_matematicas2)"
   ]
  },
  {
   "cell_type": "markdown",
   "metadata": {},
   "source": [
    "<div style=\"background-color: #F74646; padding: 10px; border-left: 6px solid #000080; color: black; border-radius: 10px;\">\n",
    "<strong>En resumen, el operador <code>+</code> concatena dos listas y devuelve una nueva lista con todos los elementos de las listas anteriores.  Mientras que la <code>,</code> , crea una lista que contiene ambas listas originales.\n",
    "</strong> \n",
    "</div>\n",
    "\n",
    "\n",
    "Continuemos aprendiendo sobre listas. En Python, podemos convertir una cadena de caracteres (*string*) en una lista de caracteres o palabras utilizando el método `list()`. Este método convierte cualquier objeto iterable en una lista, incluyendo cadenas de caracteres. Al aplicarlo a una cadena, devuelve una lista de caracteres. Por ejemplo:\n",
    "\n"
   ]
  },
  {
   "cell_type": "code",
   "execution_count": 10,
   "metadata": {},
   "outputs": [
    {
     "name": "stdout",
     "output_type": "stream",
     "text": [
      "['C', 'i', 'e', 'n', 't', 'í', 'f', 'i', 'c', 'o', ' ', 'd', 'e', ' ', 'D', 'a', 't', 'o', 's']\n"
     ]
    }
   ],
   "source": [
    "# definimos una variable de tipo string llamada 'posicion_laboral'\n",
    "posicion_laboral = 'Científico de Datos'\n",
    "\n",
    "# convertimos en lista la variable 'posicion_laboral' y la almacenamos en una variable llamada 'lista_posicion'\n",
    "# 📌Fijemonos! **No** nos ha creado una lista con un único elemento con el *string*. \n",
    "# Nos ha creado una lista donde tenemos 19 elementos, donde cada uno de ellos es una letra de nuestro *string*.\n",
    "lista_posicion = list(posicion_laboral)\n",
    "print(lista_posicion)"
   ]
  },
  {
   "cell_type": "code",
   "execution_count": 11,
   "metadata": {},
   "outputs": [
    {
     "ename": "TypeError",
     "evalue": "'int' object is not iterable",
     "output_type": "error",
     "traceback": [
      "\u001b[0;31m---------------------------------------------------------------------------\u001b[0m",
      "\u001b[0;31mTypeError\u001b[0m                                 Traceback (most recent call last)",
      "Cell \u001b[0;32mIn[11], line 6\u001b[0m\n\u001b[1;32m      3\u001b[0m numero \u001b[38;5;241m=\u001b[39m \u001b[38;5;241m22\u001b[39m\n\u001b[1;32m      5\u001b[0m \u001b[38;5;66;03m# la convertimos a lista y creamos una variable llamada lista_numero\u001b[39;00m\n\u001b[0;32m----> 6\u001b[0m lista_numero \u001b[38;5;241m=\u001b[39m \u001b[38;5;28;43mlist\u001b[39;49m\u001b[43m(\u001b[49m\u001b[43mnumero\u001b[49m\u001b[43m)\u001b[49m\n",
      "\u001b[0;31mTypeError\u001b[0m: 'int' object is not iterable"
     ]
    }
   ],
   "source": [
    "# ¿Qué pasaría si lo hacemos con una variable de tipo numérica? Veámoslo con un ejemplo: \n",
    "# lo primero que hacemos es definir la variable numérica llamada 'numero'\n",
    "numero = 22\n",
    "\n",
    "# la convertimos a lista y creamos una variable llamada lista_numero\n",
    "lista_numero = list(numero)"
   ]
  },
  {
   "cell_type": "markdown",
   "metadata": {},
   "source": [
    "<div style=\"background-color: #F74646; padding: 10px; border-left: 6px solid #000080; color: black; border-radius: 10px;\">\n",
    "¡Ups! Nos encontramos con un error. No todos los tipos de datos son convertibles en listas, como lo demuestra este claro ejemplo. Para manejar estos casos, necesitaremos otras herramientas de Python que iremos explorando en las próximas lecciones.\n",
    "</div>"
   ]
  },
  {
   "cell_type": "markdown",
   "metadata": {},
   "source": [
    "# Propiedades de una lista\n",
    "\n",
    "Hasta ahora, hemos explorado diferentes formas de crear listas en Python. Hasta ahora, trabajar con listas de tamaño pequeño fue sencillo: podíamos contar los elementos o identificar los valores máximo y mínimo con relativa facilidad. Sin embargo, ¿qué sucede cuando lidiamos con listas enormes que contienen cientos o miles de elementos? Contar o revisar uno por uno cada elemento se vuelve tedioso en estos casos.\n",
    "\n",
    "Una vez que una lista está definida, a menudo nos interesa más conocer sus propiedades que sus contenidos específicos. Por ejemplo, ¿cuántos exámenes hay en un año? ¿Y cuántas notas están registradas en una lista? Vamos a explorar algunas de las propiedades más interesantes de las listas:\n",
    "\n",
    "- **Función `len()`:** Esta función en Python se utiliza para obtener la longitud de una lista, es decir, la cantidad de elementos que contiene. Conocer la longitud de una lista es esencial para verificar si está vacía o no, así como para determinar la cantidad exacta de elementos que contiene, lo cual puede ser útil en diversos escenarios.\n",
    "\n",
    "- **Función `max()`:** Se emplea para obtener el elemento máximo de una lista, es decir, el elemento con el valor más alto. Esta función es útil para encontrar el valor máximo dentro de una lista de valores, como, por ejemplo, identificar el puntaje más alto en un conjunto de puntajes.\n",
    "\n",
    "- **Función `min()`:** Utilizada para obtener el elemento mínimo de una lista, es decir, el elemento con el valor más bajo. Esta función es útil para encontrar el valor mínimo dentro de una lista de valores, como, por ejemplo, identificar el puntaje más bajo en un conjunto de puntajes.\n",
    "\n",
    "Ahora, veamos algunos ejemplos prácticos para entender mejor estas funciones. Supongamos que recientemente hemos comenzado a registrar cada paso que damos en un día, y hemos acumulado datos durante un año completo. Vamos a explorar nuestros datos sobre los pasos dados en este período. Para empezar, crearemos una lista que contenga 365 registros, uno por cada día del año. Esta lista será el punto de partida para nuestro análisis."
   ]
  },
  {
   "cell_type": "code",
   "execution_count": 12,
   "metadata": {},
   "outputs": [
    {
     "name": "stdout",
     "output_type": "stream",
     "text": [
      "Lista de pasos: [15413, 15855, 22399, 19988, 12709, 19138, 22951, 22322, 24454, 28931, 16609, 18277, 12261, 25552, 11730, 17414, 14479, 26870, 16749, 21189, 19111, 16711, 15188, 16891, 19333, 29310, 11159, 24780, 16162, 27243, 25509, 12093, 27936, 26384, 21533, 10279, 21935, 14639, 25367, 14355, 20347, 10813, 24580, 10046, 18483, 10346, 16868, 24809, 17471, 27576, 12517, 25732, 14591, 11987, 17810, 20176, 16391, 16024, 16048, 28676, 25335, 24034, 15485, 18399, 17836, 14875, 27566, 18089, 23797, 22918, 14073, 29187, 12087, 19085, 17569, 18140, 17459, 28245, 15109, 16016, 28216, 28022, 25157, 18087, 16358, 14994, 10962, 19821, 21092, 12134, 12009, 22892, 24083, 11765, 21264, 28741, 14182, 13915, 12436, 10187, 11471, 10577, 11485, 11433, 11658, 20848, 17796, 22679, 23067, 21890, 28220, 29285, 16309, 29817, 28804, 11005, 15401, 23702, 16786, 14896, 24178, 10373, 16763, 22812, 28614, 26935, 25784, 11107, 25799, 17822, 12292, 11369, 14136, 16532, 24141, 29349, 16447, 10077, 15471, 20883, 29682, 28964, 18774, 27953, 21658, 21828, 11803, 15622, 15064, 21091, 14322, 13228, 28119, 27390, 21449, 27791, 21033, 20343, 20624, 23884, 11718, 21409, 18171, 18300, 29974, 12643, 22086, 20843, 10437, 21713, 25663, 17602, 15319, 28865, 26728, 17051, 26404, 23716, 27192, 17778, 25141, 11897, 10691, 24129, 21320, 18542, 21270, 12789, 25850, 20380, 14328, 21286, 28167, 29278, 22621, 14658, 20507, 24664, 23576, 17824, 24224, 25997, 16528, 14958, 27292, 25185, 29302, 16500, 15896, 22053, 14121, 25440, 25696, 21035, 21016, 10251, 22260, 12858, 20643, 22233, 27120, 28756, 21280, 21858, 16179, 18970, 23784, 20594, 11523, 17052, 12248, 23102, 29652, 20581, 22300, 10141, 10804, 21182, 21917, 18006, 23043, 19801, 23799, 12779, 22009, 12428, 13167, 11087, 12019, 13030, 23132, 24114, 11621, 15943, 14911, 18857, 25109, 15980, 15324, 12708, 25638, 26344, 21300, 21780, 26383, 23641, 13083, 18088, 12258, 16420, 15178, 21808, 18541, 18323, 19952, 28899, 24621, 14852, 28315, 11183, 20733, 29485, 27289, 14919, 16103, 13592, 18814, 12244, 26812, 20472, 16635, 19761, 21187, 28498, 27037, 26134, 26325, 10239, 15529, 23709, 28892, 25489, 27935, 20024, 22262, 16285, 18170, 19127, 24562, 25679, 29445, 18534, 12315, 20296, 21402, 18490, 21050, 12527, 10716, 28409, 16710, 10650, 28504, 11451, 12253, 12896, 12195, 20017, 18136, 21939, 24418, 17189, 26919, 28040, 15253, 28981, 29642, 15128, 27981, 19670, 20169, 28455, 18773, 25855, 27110, 25800, 29737, 26784, 26341, 24567, 19608, 26170, 16374, 12422, 20258, 26122, 19105, 29678, 15851, 27466, 26650, 24711, 19865, 25322, 11362]\n"
     ]
    }
   ],
   "source": [
    "# definimos la lista con los pasos que hemos dado cada día a lo largo de un año. \n",
    "\n",
    "lista_pasos = [15413, 15855, 22399, 19988, 12709, 19138, 22951, 22322, 24454, 28931, 16609, 18277, 12261, 25552, 11730, \n",
    "                17414, 14479, 26870, 16749, 21189, 19111, 16711, 15188, 16891, 19333, 29310, 11159, 24780, 16162, 27243, \n",
    "                25509, 12093, 27936, 26384, 21533, 10279, 21935, 14639, 25367, 14355, 20347, 10813, 24580, 10046, 18483, \n",
    "                10346, 16868, 24809, 17471, 27576, 12517, 25732, 14591, 11987, 17810, 20176, 16391, 16024, 16048, 28676, \n",
    "                25335, 24034, 15485, 18399, 17836, 14875, 27566, 18089, 23797, 22918, 14073, 29187, 12087, 19085, 17569,\n",
    "                 18140, 17459, 28245, 15109, 16016, 28216, 28022, 25157, 18087, 16358, 14994, 10962, 19821, 21092, 12134, \n",
    "                 12009, 22892, 24083, 11765, 21264, 28741, 14182, 13915, 12436, 10187, 11471, 10577, 11485, 11433, 11658, \n",
    "                 20848, 17796, 22679, 23067, 21890, 28220, 29285, 16309, 29817, 28804, 11005, 15401, 23702, 16786, 14896, \n",
    "                 24178, 10373, 16763, 22812, 28614, 26935, 25784, 11107, 25799, 17822, 12292, 11369, 14136, 16532, 24141,\n",
    "                  29349, 16447, 10077, 15471, 20883, 29682, 28964, 18774, 27953, 21658, 21828, 11803, 15622, 15064, 21091, \n",
    "                  14322, 13228, 28119, 27390, 21449, 27791, 21033, 20343, 20624, 23884, 11718, 21409, 18171, 18300, 29974, \n",
    "                  12643, 22086, 20843, 10437, 21713, 25663, 17602, 15319, 28865, 26728, 17051, 26404, 23716, 27192, 17778, \n",
    "                  25141, 11897, 10691, 24129, 21320, 18542, 21270, 12789, 25850, 20380, 14328, 21286, 28167, 29278, 22621, \n",
    "                  14658, 20507, 24664, 23576, 17824, 24224, 25997, 16528, 14958, 27292, 25185, 29302, 16500, 15896, 22053, \n",
    "                  14121, 25440, 25696, 21035, 21016, 10251, 22260, 12858, 20643, 22233, 27120, 28756, 21280, 21858, 16179, \n",
    "                  18970, 23784, 20594, 11523, 17052, 12248, 23102, 29652, 20581, 22300, 10141, 10804, 21182, 21917, 18006, \n",
    "                  23043, 19801, 23799, 12779, 22009, 12428, 13167, 11087, 12019, 13030, 23132, 24114, 11621, 15943, 14911, \n",
    "                  18857, 25109, 15980, 15324, 12708, 25638, 26344, 21300, 21780, 26383, 23641, 13083, 18088, 12258, 16420, \n",
    "                  15178, 21808, 18541, 18323, 19952, 28899, 24621, 14852, 28315, 11183, 20733, 29485, 27289, 14919, 16103, \n",
    "                  13592, 18814, 12244, 26812, 20472, 16635, 19761, 21187, 28498, 27037, 26134, 26325, 10239, 15529, 23709, \n",
    "                  28892, 25489, 27935, 20024, 22262, 16285, 18170, 19127, 24562, 25679, 29445, 18534, 12315, 20296, 21402, \n",
    "                  18490, 21050, 12527, 10716, 28409, 16710, 10650, 28504, 11451, 12253, 12896, 12195, 20017, 18136, 21939, \n",
    "                  24418, 17189, 26919, 28040, 15253, 28981, 29642, 15128, 27981, 19670, 20169, 28455, 18773, 25855, 27110, \n",
    "                  25800, 29737, 26784, 26341, 24567, 19608, 26170, 16374, 12422, 20258, 26122, 19105, 29678, 15851, 27466, \n",
    "                  26650, 24711, 19865, 25322, 11362]\n",
    "                  \n",
    "print(\"Lista de pasos:\", lista_pasos)"
   ]
  },
  {
   "cell_type": "code",
   "execution_count": 13,
   "metadata": {},
   "outputs": [
    {
     "name": "stdout",
     "output_type": "stream",
     "text": [
      "El número de datos que tenemos en la lista es: 365\n"
     ]
    }
   ],
   "source": [
    "# veamos cuántas datos tenemos en la lista, es decir, ¿cuántos elementos tenemos dentro de la lista?\n",
    "cantidad_de_pasos = len(lista_pasos)\n",
    "print(\"El número de datos que tenemos en la lista es:\",  cantidad_de_pasos)"
   ]
  },
  {
   "cell_type": "code",
   "execution_count": 14,
   "metadata": {},
   "outputs": [
    {
     "name": "stdout",
     "output_type": "stream",
     "text": [
      "La cantidad mínima de pasos fue: 10046\n",
      "La cantidad máxima de pasos fue: 29974\n"
     ]
    }
   ],
   "source": [
    "# sigamos con más métodos de listas, en este caso veremos las funciones 'min()' y 'max()' \n",
    "\n",
    "# definimos dos variables nuevas con los valores máximos y mínimos de la lista de pasos\n",
    "minima = min(lista_pasos)\n",
    "maxima = max(lista_pasos)\n",
    "\n",
    "# mostramos los resultados usando la función print()\n",
    "print(\"La cantidad mínima de pasos fue:\", minima)\n",
    "print(\"La cantidad máxima de pasos fue:\", maxima)"
   ]
  },
  {
   "cell_type": "code",
   "execution_count": 15,
   "metadata": {},
   "outputs": [
    {
     "name": "stdout",
     "output_type": "stream",
     "text": [
      "La lista de notas es [8, 7.5, 4, 8.3, 6.7, 9.0, 7.5, 5.8, 6.8, 9.0, 6.8, 'D', 'D', 'B', 'C', 'F', 'F', 'A', 6.2, 9.1, 10, 3.4, 7.9]\n"
     ]
    },
    {
     "ename": "TypeError",
     "evalue": "'<' not supported between instances of 'str' and 'int'",
     "output_type": "error",
     "traceback": [
      "\u001b[0;31m---------------------------------------------------------------------------\u001b[0m",
      "\u001b[0;31mTypeError\u001b[0m                                 Traceback (most recent call last)",
      "Cell \u001b[0;32mIn[15], line 6\u001b[0m\n\u001b[1;32m      1\u001b[0m \u001b[38;5;66;03m# ¿Recordáis la lista de notas (`notas_matemáticas2`) que habíamos creado unas celdas más arriba? \u001b[39;00m\n\u001b[1;32m      2\u001b[0m \u001b[38;5;66;03m# En esa lista teníamos notas en distintos formatos, ya que teníamos números y letras. \u001b[39;00m\n\u001b[1;32m      3\u001b[0m \u001b[38;5;66;03m# ¿Qué pasará si intentamos calcular el máximo y el mínimo de esa lista de notas?\u001b[39;00m\n\u001b[1;32m      5\u001b[0m \u001b[38;5;28mprint\u001b[39m(\u001b[38;5;124mf\u001b[39m\u001b[38;5;124m\"\u001b[39m\u001b[38;5;124mLa lista de notas es \u001b[39m\u001b[38;5;132;01m{\u001b[39;00mnotas_matematicas2\u001b[38;5;132;01m}\u001b[39;00m\u001b[38;5;124m\"\u001b[39m)\n\u001b[0;32m----> 6\u001b[0m \u001b[38;5;28mprint\u001b[39m(\u001b[38;5;124mf\u001b[39m\u001b[38;5;124m\"\u001b[39m\u001b[38;5;124mEl valor mínimo de la lista de notas es: \u001b[39m\u001b[38;5;132;01m{\u001b[39;00m\u001b[38;5;28;43mmin\u001b[39;49m\u001b[43m(\u001b[49m\u001b[43mnotas_matematicas2\u001b[49m\u001b[43m)\u001b[49m\u001b[38;5;132;01m}\u001b[39;00m\u001b[38;5;124m\"\u001b[39m)\n",
      "\u001b[0;31mTypeError\u001b[0m: '<' not supported between instances of 'str' and 'int'"
     ]
    }
   ],
   "source": [
    "# ¿Recordáis la lista de notas (`notas_matemáticas2`) que habíamos creado unas celdas más arriba? \n",
    "# En esa lista teníamos notas en distintos formatos, ya que teníamos números y letras. \n",
    "# ¿Qué pasará si intentamos calcular el máximo y el mínimo de esa lista de notas?\n",
    "\n",
    "print(f\"La lista de notas es {notas_matematicas2}\")\n",
    "print(f\"El valor mínimo de la lista de notas es: {min(notas_matematicas2)}\")\n"
   ]
  },
  {
   "cell_type": "markdown",
   "metadata": {},
   "source": [
    "<div style=\"background-color: #F74646; padding: 10px; border-left: 6px solid #000080; color: black; border-radius: 10px;\">\n",
    "Cuando trabajamos con listas en Python, es importante tener en cuenta que ciertas operaciones y métodos solo funcionan cuando todos los elementos de la lista son del mismo tipo de datos. Si intentamos aplicar métodos como <code>min()</code> o <code>max()</code> a una lista que contiene elementos de diferentes tipos de datos, como enteros, decimales o texto, es probable que nos encontremos con errores como el que hemos experimentado.\n",
    "\n",
    "En el caso del error que hemos encontrado, `TypeError: '<' not supported between instances of 'float' and 'str'`, Python nos está indicando que no puede comparar directamente valores de tipo decimal con valores de tipo texto de caracteres utilizando el operador `<`.\n",
    "\n",
    "Este problema surge porque, al tener una lista con elementos de diferentes tipos de datos, Python no puede determinar una relación de orden entre ellos. Por ejemplo, ¿cómo podríamos comparar una cadena de caracteres como \"A\" con un número entero como 7.5? No tiene sentido compararlos directamente, ya que representan tipos de datos diferentes y no pueden ser ordenados de manera coherente.\n",
    "\n",
    "Por lo tanto, cuando trabajamos con listas que contienen una mezcla de tipos de datos, es importante considerar las operaciones y métodos que aplicaremos a ellas. En casos como este, es posible que necesitemos realizar alguna manipulación de los datos antes de aplicar ciertos métodos, como convertir todos los elementos a un tipo de datos común o filtrar la lista para incluir solo elementos del mismo tipo.\n",
    "\n",
    "<strong>Pero...🤔 ¿creeis que podremos usar este tipo de método a una lista solo de *strings*?</strong>\n",
    "</div>\n",
    "\n",
    "\n"
   ]
  },
  {
   "cell_type": "code",
   "execution_count": 16,
   "metadata": {},
   "outputs": [
    {
     "name": "stdout",
     "output_type": "stream",
     "text": [
      "El valor mínimo es: Alumnos\n",
      "El valor máximo es: Hola\n"
     ]
    }
   ],
   "source": [
    "# definamos una lista sencilla de strings para ver un ejemplo\n",
    "mi_lista = [\"Hola\", \"Alumnos\"]\n",
    "\n",
    "print(\"El valor mínimo es:\", min(mi_lista))\n",
    "print(\"El valor máximo es:\", max(mi_lista))"
   ]
  },
  {
   "cell_type": "markdown",
   "metadata": {},
   "source": [
    "Fijaos que lo entiende!!!! ¿Qué está pasando? Basicamente, nos lo \"ordenará\" alfabeticamente. Es por esto, que nuestro `min` es \"Alumnos\" ya que empieza por A y está antes en el alfabeto que H de \"Hola\""
   ]
  },
  {
   "cell_type": "markdown",
   "metadata": {},
   "source": [
    "Regresemos al caso de la lista que contiene la cantidad de pasos que hemos dado en el último año. Nuestra meta era alcanzar los 10,000 pasos diarios, y hasta ahora hemos determinado el número máximo y mínimo de pasos dados en un día durante el año. Sin embargo, podríamos estar interesadas en saber si hemos alcanzado una cantidad específica de pasos en algún día en particular. Por ejemplo, quizás queremos saber si hemos dado exactamente 20,000 pasos en algún día.\n",
    "\n",
    "Para esto, podemos utilizar los operadores `in` y `not in`. En Python, estos operadores se emplean para verificar si un elemento está presente o no en una secuencia, como una cadena de caracteres, una lista o una tupla.\n",
    "\n",
    "- El operador `in` devuelve `True` si el elemento se encuentra en la secuencia y `False` si no. Por ejemplo:\n",
    "\n",
    "    ```python\n",
    "    # Ejemplo 1: Verificar si un número está en una lista de números\n",
    "    numeros = [10, 20, 30, 40, 50]\n",
    "\n",
    "    # ¿Está el número 30 en nuestra lista?\n",
    "    30 in numeros\n",
    "    # Resultado: True\n",
    "\n",
    "    # ¿Está el número 15 en nuestra lista?\n",
    "    15 in numeros\n",
    "    # Resultado: False\n",
    "\n",
    "\n",
    "    # Ejemplo 2: Verificar si una letra está en una cadena de caracteres\n",
    "    nombre = \"Ana\"\n",
    "\n",
    "    # ¿Está la letra \"a\" en nuestro nombre?\n",
    "    \"a\" in nombre\n",
    "    # Resultado: True\n",
    "\n",
    "    # ¿Está la letra \"x\" en nuestro nombre?\n",
    "    \"x\" in nombre\n",
    "    # Resultado: False\n",
    "\n",
    "\n",
    "    # Ejemplo 3: Verificar si una palabra está en una lista de palabras\n",
    "    colores = [\"rojo\", \"verde\", \"azul\"]\n",
    "\n",
    "    # ¿Está la palabra \"amarillo\" en nuestra lista?\n",
    "    \"amarillo\" in colores\n",
    "    # Resultado: False\n",
    "\n",
    "    # ¿Está la palabra \"verde\" en nuestra lista?\n",
    "    \"verde\" in colores\n",
    "    # Resultado: True\n",
    "    ```\n",
    "\n",
    "- El operador `not in` se utiliza en Python para verificar si un elemento NO está presente en una secuencia. Devuelve True si el elemento no se encuentra en la secuencia y False si está presente.\n",
    "\n",
    "    ```python\n",
    "    # Ejemplo 1: Verificar si un número no está en una lista de números\n",
    "    numeros = [10, 20, 30, 40, 50]\n",
    "\n",
    "    # ¿El número 15 no está en nuestra lista?\n",
    "    15 not in numeros\n",
    "    # Resultado: True\n",
    "\n",
    "    # ¿El número 30 no está en nuestra lista?\n",
    "    30 not in numeros\n",
    "    # Resultado: False\n",
    "\n",
    "\n",
    "    # Ejemplo 2: Verificar si una letra no está en una cadena de caracteres\n",
    "    nombre = \"Ana\"\n",
    "\n",
    "    # ¿La letra \"x\" no está en nuestro nombre?\n",
    "    \"x\" not in nombre\n",
    "    # Resultado: True\n",
    "\n",
    "    # ¿La letra \"A\" no está en nuestro nombre?\n",
    "    \"A\" not in nombre\n",
    "    # Resultado: False\n",
    "\n",
    "\n",
    "    # Ejemplo 3: Verificar si una palabra no está en una lista de palabras\n",
    "    colores = [\"rojo\", \"verde\", \"azul\"]\n",
    "\n",
    "    # ¿La palabra \"amarillo\" no está en nuestra lista?\n",
    "    \"amarillo\" not in colores\n",
    "    # Resultado: True\n",
    "\n",
    "    # ¿La palabra \"verde\" no está en nuestra lista?\n",
    "    \"verde\" not in colores\n",
    "    # Resultado: False\n",
    "    ```\n",
    "\n",
    "\n",
    "Ahora, veamos cómo aplicarlo a nuestra lista de pasos: "
   ]
  },
  {
   "cell_type": "code",
   "execution_count": 17,
   "metadata": {},
   "outputs": [
    {
     "name": "stdout",
     "output_type": "stream",
     "text": [
      "Lista de pasos: [15413, 15855, 22399, 19988, 12709, 19138, 22951, 22322, 24454, 28931, 16609, 18277, 12261, 25552, 11730, 17414, 14479, 26870, 16749, 21189, 19111, 16711, 15188, 16891, 19333, 29310, 11159, 24780, 16162, 27243, 25509, 12093, 27936, 26384, 21533, 10279, 21935, 14639, 25367, 14355, 20347, 10813, 24580, 10046, 18483, 10346, 16868, 24809, 17471, 27576, 12517, 25732, 14591, 11987, 17810, 20176, 16391, 16024, 16048, 28676, 25335, 24034, 15485, 18399, 17836, 14875, 27566, 18089, 23797, 22918, 14073, 29187, 12087, 19085, 17569, 18140, 17459, 28245, 15109, 16016, 28216, 28022, 25157, 18087, 16358, 14994, 10962, 19821, 21092, 12134, 12009, 22892, 24083, 11765, 21264, 28741, 14182, 13915, 12436, 10187, 11471, 10577, 11485, 11433, 11658, 20848, 17796, 22679, 23067, 21890, 28220, 29285, 16309, 29817, 28804, 11005, 15401, 23702, 16786, 14896, 24178, 10373, 16763, 22812, 28614, 26935, 25784, 11107, 25799, 17822, 12292, 11369, 14136, 16532, 24141, 29349, 16447, 10077, 15471, 20883, 29682, 28964, 18774, 27953, 21658, 21828, 11803, 15622, 15064, 21091, 14322, 13228, 28119, 27390, 21449, 27791, 21033, 20343, 20624, 23884, 11718, 21409, 18171, 18300, 29974, 12643, 22086, 20843, 10437, 21713, 25663, 17602, 15319, 28865, 26728, 17051, 26404, 23716, 27192, 17778, 25141, 11897, 10691, 24129, 21320, 18542, 21270, 12789, 25850, 20380, 14328, 21286, 28167, 29278, 22621, 14658, 20507, 24664, 23576, 17824, 24224, 25997, 16528, 14958, 27292, 25185, 29302, 16500, 15896, 22053, 14121, 25440, 25696, 21035, 21016, 10251, 22260, 12858, 20643, 22233, 27120, 28756, 21280, 21858, 16179, 18970, 23784, 20594, 11523, 17052, 12248, 23102, 29652, 20581, 22300, 10141, 10804, 21182, 21917, 18006, 23043, 19801, 23799, 12779, 22009, 12428, 13167, 11087, 12019, 13030, 23132, 24114, 11621, 15943, 14911, 18857, 25109, 15980, 15324, 12708, 25638, 26344, 21300, 21780, 26383, 23641, 13083, 18088, 12258, 16420, 15178, 21808, 18541, 18323, 19952, 28899, 24621, 14852, 28315, 11183, 20733, 29485, 27289, 14919, 16103, 13592, 18814, 12244, 26812, 20472, 16635, 19761, 21187, 28498, 27037, 26134, 26325, 10239, 15529, 23709, 28892, 25489, 27935, 20024, 22262, 16285, 18170, 19127, 24562, 25679, 29445, 18534, 12315, 20296, 21402, 18490, 21050, 12527, 10716, 28409, 16710, 10650, 28504, 11451, 12253, 12896, 12195, 20017, 18136, 21939, 24418, 17189, 26919, 28040, 15253, 28981, 29642, 15128, 27981, 19670, 20169, 28455, 18773, 25855, 27110, 25800, 29737, 26784, 26341, 24567, 19608, 26170, 16374, 12422, 20258, 26122, 19105, 29678, 15851, 27466, 26650, 24711, 19865, 25322, 11362]\n"
     ]
    }
   ],
   "source": [
    "# recordemos la lista lista_pasos\n",
    "\n",
    "print(\"Lista de pasos:\", lista_pasos)"
   ]
  },
  {
   "cell_type": "code",
   "execution_count": 18,
   "metadata": {},
   "outputs": [
    {
     "name": "stdout",
     "output_type": "stream",
     "text": [
      "¿Hemos dado algún día 20,000 pasos?\n",
      "False\n",
      "\n",
      "--------------------\n",
      "\n",
      "¿Hemos dado algún día 22,399 pasos?\n",
      "True\n",
      "\n",
      "--------------------\n",
      "\n",
      "Y si hiciermos el ejemplo anterior con un 'not in'\n",
      "¿Hemos dado algún día 22,399 pasos?\n",
      "False\n"
     ]
    }
   ],
   "source": [
    "# usamos el operador \"in\" para preguntarle a Python si el valor 20,000 esta contenido en la lista de lista_pasos\n",
    "print(\"¿Hemos dado algún día 20,000 pasos?\")\n",
    "print(20000 in lista_pasos)\n",
    "\n",
    "print(\"\\n--------------------\\n\")\n",
    "\n",
    "print(\"¿Hemos dado algún día 22,399 pasos?\")\n",
    "print(22399 in lista_pasos)\n",
    "\n",
    "print(\"\\n--------------------\\n\")\n",
    "\n",
    "print(\"Y si hiciermos el ejemplo anterior con un 'not in'\")\n",
    "print(\"¿Hemos dado algún día 22,399 pasos?\")\n",
    "print(22399 not in lista_pasos)"
   ]
  },
  {
   "cell_type": "markdown",
   "metadata": {},
   "source": [
    "# Indexación en listas\n",
    "\n",
    "Cuando hablamos de indexación en Python, nos referimos a acceder a cada uno de los elementos de una lista a través de sus índices. Este concepto puede parecer un poco abstracto al principio, pero a medida que avancemos, veremos varios ejemplos que nos ayudarán a entenderlo.\n",
    "\n",
    "En Python, la indexación es el proceso de acceder a un elemento específico dentro de una lista. Los índices de lista en Python comienzan desde 0, lo que significa que el primer elemento de una lista tiene un índice de 0, el segundo elemento tiene un índice de 1, y así sucesivamente. Visualmente, se ve de la siguiente manera:\n",
    "\n",
    "![index](https://github.com/Hack-io-Data/Imagenes/blob/main/02-Imagenes/Python_b%C3%A1sico/listas_index.png?raw=true)\n",
    "\n",
    "Para acceder a un elemento en una lista, se utiliza el operador de corchetes `[]`, seguido del índice del elemento que se desea acceder dentro de los corchetes. Por ejemplo, si tenemos una lista llamada `mi_lista` y queremos acceder al segundo elemento de la lista, escribiríamos `mi_lista[1]`, ya que los índices comienzan desde 0.\n",
    "\n",
    "```python\n",
    "mi_lista = [\"a\", \"b\", \"c\", \"d\", \"e\"]\n",
    "\n",
    "# Accediendo al primer elemento de la lista (índice 0)\n",
    "print(mi_lista[0])  # Output: \"a\"\n",
    "\n",
    "# Accediendo al segundo elemento de la lista (índice 1)\n",
    "print(mi_lista[1])  # Output: \"b\"\n",
    "\n",
    "# Accediendo al tercer elemento de la lista (índice 2)\n",
    "print(mi_lista[2])  # Output: \"c\"\n",
    "```\n",
    "\n",
    "También podemos acceder a los elementos de una lista utilizando índices negativos. Los índices negativos cuentan desde el final de la lista, donde -1 se refiere al último elemento, -2 al penúltimo, y así sucesivamente.\n",
    "\n",
    "```python\n",
    "# Accediendo al último elemento de la lista (índice -1)\n",
    "print(mi_lista[-1])  # Output: \"e\"\n",
    "\n",
    "# Accediendo al penúltimo elemento de la lista (índice -2)\n",
    "print(mi_lista[-2])  # Output: \"d\"\n",
    "```\n",
    "\n",
    "Es importante tener en cuenta que si intentamos acceder a un índice que está fuera del rango de la lista, Python nos dará un error de \"índice fuera de rango\". Por ejemplo, si intentamos acceder al elemento en el índice 5 de `mi_lista`, obtendremos un error porque `mi_lista` solo tiene 5 elementos y los índices van de 0 a 4.\n",
    "\n"
   ]
  },
  {
   "cell_type": "code",
   "execution_count": 19,
   "metadata": {},
   "outputs": [
    {
     "name": "stdout",
     "output_type": "stream",
     "text": [
      "[15413, 15855, 22399, 19988, 12709, 19138, 22951, 22322, 24454, 28931, 16609, 18277, 12261, 25552, 11730, 17414, 14479, 26870, 16749, 21189, 19111, 16711, 15188, 16891, 19333, 29310, 11159, 24780, 16162, 27243, 25509, 12093, 27936, 26384, 21533, 10279, 21935, 14639, 25367, 14355, 20347, 10813, 24580, 10046, 18483, 10346, 16868, 24809, 17471, 27576, 12517, 25732, 14591, 11987, 17810, 20176, 16391, 16024, 16048, 28676, 25335, 24034, 15485, 18399, 17836, 14875, 27566, 18089, 23797, 22918, 14073, 29187, 12087, 19085, 17569, 18140, 17459, 28245, 15109, 16016, 28216, 28022, 25157, 18087, 16358, 14994, 10962, 19821, 21092, 12134, 12009, 22892, 24083, 11765, 21264, 28741, 14182, 13915, 12436, 10187, 11471, 10577, 11485, 11433, 11658, 20848, 17796, 22679, 23067, 21890, 28220, 29285, 16309, 29817, 28804, 11005, 15401, 23702, 16786, 14896, 24178, 10373, 16763, 22812, 28614, 26935, 25784, 11107, 25799, 17822, 12292, 11369, 14136, 16532, 24141, 29349, 16447, 10077, 15471, 20883, 29682, 28964, 18774, 27953, 21658, 21828, 11803, 15622, 15064, 21091, 14322, 13228, 28119, 27390, 21449, 27791, 21033, 20343, 20624, 23884, 11718, 21409, 18171, 18300, 29974, 12643, 22086, 20843, 10437, 21713, 25663, 17602, 15319, 28865, 26728, 17051, 26404, 23716, 27192, 17778, 25141, 11897, 10691, 24129, 21320, 18542, 21270, 12789, 25850, 20380, 14328, 21286, 28167, 29278, 22621, 14658, 20507, 24664, 23576, 17824, 24224, 25997, 16528, 14958, 27292, 25185, 29302, 16500, 15896, 22053, 14121, 25440, 25696, 21035, 21016, 10251, 22260, 12858, 20643, 22233, 27120, 28756, 21280, 21858, 16179, 18970, 23784, 20594, 11523, 17052, 12248, 23102, 29652, 20581, 22300, 10141, 10804, 21182, 21917, 18006, 23043, 19801, 23799, 12779, 22009, 12428, 13167, 11087, 12019, 13030, 23132, 24114, 11621, 15943, 14911, 18857, 25109, 15980, 15324, 12708, 25638, 26344, 21300, 21780, 26383, 23641, 13083, 18088, 12258, 16420, 15178, 21808, 18541, 18323, 19952, 28899, 24621, 14852, 28315, 11183, 20733, 29485, 27289, 14919, 16103, 13592, 18814, 12244, 26812, 20472, 16635, 19761, 21187, 28498, 27037, 26134, 26325, 10239, 15529, 23709, 28892, 25489, 27935, 20024, 22262, 16285, 18170, 19127, 24562, 25679, 29445, 18534, 12315, 20296, 21402, 18490, 21050, 12527, 10716, 28409, 16710, 10650, 28504, 11451, 12253, 12896, 12195, 20017, 18136, 21939, 24418, 17189, 26919, 28040, 15253, 28981, 29642, 15128, 27981, 19670, 20169, 28455, 18773, 25855, 27110, 25800, 29737, 26784, 26341, 24567, 19608, 26170, 16374, 12422, 20258, 26122, 19105, 29678, 15851, 27466, 26650, 24711, 19865, 25322, 11362]\n"
     ]
    }
   ],
   "source": [
    "# recordemos la lista de pasos que teníamos\n",
    "print(lista_pasos)"
   ]
  },
  {
   "cell_type": "code",
   "execution_count": 20,
   "metadata": {},
   "outputs": [
    {
     "name": "stdout",
     "output_type": "stream",
     "text": [
      "El segundo día dimos 15855 pasos\n",
      "El quinto día dimos 19138 pasos\n",
      "El decimo día dimos 28931 pasos\n",
      "El decimo segundo día dimos 18277 pasos\n"
     ]
    }
   ],
   "source": [
    "# vamos a acceder al segundo elemento de la lista, que tiene el índice 1, el código sería:\n",
    "print(\"El segundo día dimos\", lista_pasos[1], \"pasos\")\n",
    "\n",
    "# esto lo podremos hacer tantas veces como queramos, por ejemplo \n",
    "print(\"El quinto día dimos\", lista_pasos[5], \"pasos\")\n",
    "print(\"El decimo día dimos\", lista_pasos[9], \"pasos\")\n",
    "print(\"El decimo segundo día dimos\", lista_pasos[11], \"pasos\")"
   ]
  },
  {
   "cell_type": "markdown",
   "metadata": {},
   "source": [
    "<div style=\"background-color: #F74646; padding: 10px; border-left: 6px solid #000080; color: black; border-radius: 10px;\">\n",
    "De esta forma:\n",
    "\n",
    "- Si quisieramos acceder al primer elemento de nuestra lista, es decir al número `15413`, tendríamos que usar el índice 0.\n",
    "\n",
    "- Si quisieramos acceder al tercer elemento de nuestra lista, es decir al número `22399`, tendríamos que usar el indice 2. \n",
    "\n",
    "\n",
    "</div>\n",
    "\n"
   ]
  },
  {
   "cell_type": "code",
   "execution_count": 21,
   "metadata": {},
   "outputs": [
    {
     "ename": "IndexError",
     "evalue": "list index out of range",
     "output_type": "error",
     "traceback": [
      "\u001b[0;31m---------------------------------------------------------------------------\u001b[0m",
      "\u001b[0;31mIndexError\u001b[0m                                Traceback (most recent call last)",
      "Cell \u001b[0;32mIn[21], line 2\u001b[0m\n\u001b[1;32m      1\u001b[0m \u001b[38;5;66;03m# ¿qué pasaría si usaramos la función que aprendimos antes para sacar los índices?\u001b[39;00m\n\u001b[0;32m----> 2\u001b[0m \u001b[43mlista_pasos\u001b[49m\u001b[43m[\u001b[49m\u001b[38;5;28;43mlen\u001b[39;49m\u001b[43m(\u001b[49m\u001b[43mlista_pasos\u001b[49m\u001b[43m)\u001b[49m\u001b[43m]\u001b[49m\n",
      "\u001b[0;31mIndexError\u001b[0m: list index out of range"
     ]
    }
   ],
   "source": [
    "# ¿qué pasaría si usaramos la función que aprendimos antes para sacar los índices?\n",
    "lista_pasos[len(lista_pasos)]"
   ]
  },
  {
   "cell_type": "markdown",
   "metadata": {},
   "source": [
    "¡Oh, un error! Pero no te preocupes, entender los errores es parte del proceso de aprendizaje. En este caso, el error que recibimos es un `IndexError`, que significa que el índice está fuera del rango de la lista. El mensaje nos indica que el problema está en la primera línea de esta celda (`----> 1`). Es una pista útil que nos dice dónde buscar. Recuerda que en Python los índices comienzan en 0, por lo que el índice máximo permitido es la longitud de la lista menos 1.\n",
    "\n",
    "Por ejemplo, si tenemos una lista `mi_lista` con 5 elementos y tratamos de acceder al elemento en el índice 5, obtendremos un `IndexError`, ya que el índice máximo válido para esta lista sería 4.\n",
    "\n",
    "```python\n",
    "mi_lista = [\"a\", \"b\", \"c\", \"d\", \"e\"]\n",
    "\n",
    "# Intentamos acceder al elemento en el índice 5 (fuera de rango)\n",
    "print(mi_lista[5])  # Error: IndexError: list index out of range\n",
    "```\n",
    "\n",
    "Para corregir este error, simplemente necesitamos asegurarnos de que el índice esté dentro del rango válido para la lista. Si queremos acceder al último elemento de la lista, deberíamos utilizar el índice -1 en lugar de 5.\n",
    "\n",
    "```python\n",
    "# Accedemos al último elemento de la lista usando el índice -1\n",
    "print(mi_lista[-1])  # Output: \"e\"\n",
    "```\n",
    "\n",
    "Recuerda siempre leer los mensajes de error con atención, ya que contienen información útil sobre lo que salió mal y dónde ocurrió el problema. Con un poco de práctica, aprenderás a interpretar los errores y a corregirlos rápidamente. ¡No te desanimes, los errores son oportunidades de aprendizaje!"
   ]
  },
  {
   "cell_type": "code",
   "execution_count": null,
   "metadata": {},
   "outputs": [
    {
     "data": {
      "text/plain": [
       "11362"
      ]
     },
     "execution_count": 27,
     "metadata": {},
     "output_type": "execute_result"
    }
   ],
   "source": [
    "# siempre que usemos la función len para sacar valores usando la indexación tendremos que usar el -1\n",
    "lista_pasos[len(lista_pasos) - 1]"
   ]
  },
  {
   "cell_type": "markdown",
   "metadata": {},
   "source": [
    "Podemos acceder a los últimos elementos de una lista usando índices negativos. Por ejemplo, en la imagen, el último elemento tiene un índice de -1, el penúltimo -2, y así sucesivamente. Con índices negativos, accedemos a los elementos de la lista en orden inverso, empezando desde el final.\n",
    "\n",
    "![indneg](https://github.com/Hack-io-Data/Imagenes/blob/main/02-Imagenes/Python_b%C3%A1sico/listas_index_negativos.png?raw=true)"
   ]
  },
  {
   "cell_type": "code",
   "execution_count": null,
   "metadata": {},
   "outputs": [
    {
     "name": "stdout",
     "output_type": "stream",
     "text": [
      "El último valor de la lista de pasos es: (USANDO LA FUNCIÓN LEN)    : 11362\n",
      "El último valor de la lista de pasos es: (USANDO ÍNDICES NEGATIVOS) : 11362\n"
     ]
    }
   ],
   "source": [
    "# veamos como es lo mismo usar una aproximación u otra: \n",
    "\n",
    "print(\"El último valor de la lista de pasos es: (USANDO LA FUNCIÓN LEN)    :\", lista_pasos[len(lista_pasos) - 1])\n",
    "print(\"El último valor de la lista de pasos es: (USANDO ÍNDICES NEGATIVOS) :\", lista_pasos[-1])\n"
   ]
  },
  {
   "cell_type": "markdown",
   "metadata": {},
   "source": [
    "Los índices negativos y positivos son equivalentes. Por ejemplo, el índice `[-4]` es igual a `[0]`. A veces, podríamos preferir usar uno u otro por comodidad o intuición. En programación, hay varias formas correctas de hacer las cosas.\n",
    "\n",
    "¿Qué pasa si queremos seleccionar varios valores de la lista a la vez? Podemos hacerlo de diferentes maneras. Por ejemplo, supongamos que queremos saber la cantidad de pasos dados en los primeros y últimos siete días. Podemos lograrlo con lo que sabemos hasta ahora. Por ejemplo, si tenemos una lista llamada `pasos`, para seleccionar los primeros siete días podríamos hacer `primeros_siete = pasos[:7]`, y para los últimos siete días `ultimos_siete = pasos[-7:]`. Esto nos dará dos sublistas con los valores deseados."
   ]
  },
  {
   "cell_type": "code",
   "execution_count": null,
   "metadata": {},
   "outputs": [
    {
     "name": "stdout",
     "output_type": "stream",
     "text": [
      "El número de pasos de la primera semana es:  [15413, 15855, 22399, 19988, 12709, 19138, 22951]\n",
      "El número de pasos de la última semana es :  [11362, 25322, 19865, 24711, 26650, 27466, 15851]\n"
     ]
    }
   ],
   "source": [
    "# vamos a crearnos donde tengamos dos listas donde almacenemos los índices que nos interesan\n",
    "primera_semana = [lista_pasos[0], lista_pasos[1], lista_pasos[2], lista_pasos[3], lista_pasos[4], lista_pasos[5], lista_pasos[6]]\n",
    "ultima_semana = [lista_pasos[-1], lista_pasos[-2], lista_pasos[-3], lista_pasos[-4], lista_pasos[-5], lista_pasos[-6], lista_pasos[-7]]\n",
    "\n",
    "\n",
    "print(\"El número de pasos de la primera semana es: \", primera_semana)\n",
    "print(\"El número de pasos de la última semana es : \", ultima_semana)"
   ]
  },
  {
   "cell_type": "markdown",
   "metadata": {},
   "source": [
    "Simplificar esto es fácil. Imaginemos que queremos obtener el primer fragmento de una lista, digamos la primera semana. Queremos los primeros 7 elementos, lo que en Python significa hasta la posición 6. Para hacerlo, usamos la sintaxis de *slicing*.\n",
    "\n",
    "El *slicing* se realiza especificando dos índices separados por dos puntos `:`. El primer índice es el inicio y el segundo es el final (**excluido**).\n",
    "\n",
    "Por ejemplo, si tenemos una lista llamada `datos`, para obtener los primeros siete elementos hacemos `primer_semana = datos[0:7]`. Esto nos da los elementos desde el inicio hasta la posición 6.\n",
    "\n",
    "Si queremos los últimos siete elementos, usamos índices negativos: `ultima_semana = datos[-7:]`. Esto nos da los elementos desde la posición -7 hasta el final.\n",
    "\n",
    "El *slicing* es una herramienta poderosa y útil para trabajar con listas en Python. Nos permite extraer fácilmente porciones de una lista según nuestras necesidades."
   ]
  },
  {
   "cell_type": "code",
   "execution_count": null,
   "metadata": {},
   "outputs": [
    {
     "name": "stdout",
     "output_type": "stream",
     "text": [
      "El número de pasos de la primera semana es:  [15413, 15855, 22399, 19988, 12709, 19138, 22951]\n",
      "El número de pasos de la última semana es :  [15851, 27466, 26650, 24711, 19865, 25322, 11362]\n"
     ]
    }
   ],
   "source": [
    "print(\"El número de pasos de la primera semana es: \", lista_pasos[0:7])\n",
    "print(\"El número de pasos de la última semana es : \", lista_pasos[-7:])"
   ]
  },
  {
   "cell_type": "markdown",
   "metadata": {},
   "source": [
    "<div style=\"background-color: #F74646; padding: 10px; border-left: 6px solid #000080; color: black; border-radius: 10px;\">\n",
    "Omitir el índice de inicio o de finalización significa seleccionar desde el principio o hasta el final de la lista, respectivamente. Si observamos el código anterior, veremos que ya lo hemos aplicado para acceder desde el elemento -7 en adelante. Para comprenderlo mejor, veamos un ejemplo más simple:\n",
    "</div>"
   ]
  },
  {
   "cell_type": "code",
   "execution_count": null,
   "metadata": {},
   "outputs": [
    {
     "name": "stdout",
     "output_type": "stream",
     "text": [
      "La lista creada es: ['A', 'B', 'C', 'D', 'E', 'F', 'G', 'H', 'I', 'O', 'T', 'W']\n",
      "Extraemos los dos primeros elementos: [0:2] = ['A', 'B']\n",
      "Lo mismo que: [:2] = ['A', 'B']\n",
      "Con índices negativos: [:-7] = ['A', 'B', 'C', 'D', 'E']\n",
      "Extraemos el segundo y tercer elemento: [1:3] = ['B', 'C']\n",
      "Extraemos todos los elementos de la lista menos el primero: [1:] = ['B', 'C', 'D', 'E', 'F', 'G', 'H', 'I', 'O', 'T', 'W']\n",
      "Extraemos los dos últimos elementos: [-2:] = ['T', 'W']\n"
     ]
    }
   ],
   "source": [
    "# creamos una lista de letras llamada 'letras'\n",
    "lista_letras = ['A', 'B', 'C', 'D', \"E\", \"F\", \"G\", \"H\", \"I\", \"O\", \"T\", \"W\"]\n",
    "print(f\"La lista creada es: {lista_letras}\")\n",
    "\n",
    "print('Extraemos los dos primeros elementos: [0:2] =', lista_letras[0:2])\n",
    "print('Lo mismo que: [:2] =', lista_letras[:2])\n",
    "print('Con índices negativos: [:-7] =', lista_letras[:-7])\n",
    "print('Extraemos el segundo y tercer elemento: [1:3] =', lista_letras[1:3])\n",
    "print('Extraemos todos los elementos de la lista menos el primero: [1:] =', lista_letras[1:])\n",
    "print('Extraemos los dos últimos elementos: [-2:] =', lista_letras[-2:])\n"
   ]
  },
  {
   "cell_type": "markdown",
   "metadata": {},
   "source": [
    "Por último, también podemos utilizar los dos puntos para saltar elementos. Se utiliza la sintaxis `[inicio:fin:paso]`. Donde:\n",
    "\n",
    "- `inicio`: Es el índice desde donde comenzamos a seleccionar.\n",
    "\n",
    "- `fin`: Es el índice donde terminamos la selección (sin incluirlo).\n",
    "\n",
    "- `paso`: Es el número de elementos que se salta entre cada elemento seleccionado.\n",
    "\n",
    "Veamos algunos ejemplos:\n"
   ]
  },
  {
   "cell_type": "code",
   "execution_count": null,
   "metadata": {},
   "outputs": [
    {
     "name": "stdout",
     "output_type": "stream",
     "text": [
      "Seleccionamos todos los elementos de la lista saltando los que están en posiciones pares: [::2] = ['A', 'C', 'E', 'G', 'I', 'T']\n",
      "Seleccionamos todos los elementos de la lista saltando los que están en posiciones impares: [1::2] = ['B', 'D', 'F', 'H', 'O', 'W']\n",
      "Seleccionamos elementos de tres en tres desde el principio hasta el final: [::3] = ['A', 'D', 'G', 'O']\n",
      "Seleccionamos del primer al séptimo elemento de dos en dos [:8:2] = ['A', 'C', 'E', 'G']\n"
     ]
    }
   ],
   "source": [
    "print('Seleccionamos todos los elementos de la lista saltando los que están en posiciones pares: [::2] =', lista_letras[::2])\n",
    "print('Seleccionamos todos los elementos de la lista saltando los que están en posiciones impares: [1::2] =', lista_letras[1::2])\n",
    "print('Seleccionamos elementos de tres en tres desde el principio hasta el final: [::3] =', lista_letras[::3])\n",
    "print('Seleccionamos del primer al séptimo elemento de dos en dos [:8:2] =', lista_letras[:8:2])"
   ]
  },
  {
   "cell_type": "markdown",
   "metadata": {},
   "source": [
    "Además de la indexación, el método `.index()` es esencial para buscar la posición de un elemento en una lista. Al utilizar este método, se puede encontrar el índice de la primera aparición de un elemento específico en la lista. Por ejemplo, si tenemos una lista de letras y queremos encontrar la posición de la letra 'b', usaríamos `lista_letras.index('b')`. Este método es útil cuando necesitamos saber dónde se encuentra un elemento en una lista para realizar operaciones adicionales. Por ejemplo, podemos buscar la primera aparición de una letra específica en nuestra lista de letras y luego realizar una acción basada en su posición."
   ]
  },
  {
   "cell_type": "code",
   "execution_count": null,
   "metadata": {},
   "outputs": [
    {
     "name": "stdout",
     "output_type": "stream",
     "text": [
      "Lista de letras: ['A', 'B', 'C', 'D', 'E', 'F', 'G', 'H', 'I', 'O', 'T', 'W']\n",
      "Posición de 'D': 3\n",
      "Posición de 'H': 7\n",
      "Posición de 'G': 6\n"
     ]
    }
   ],
   "source": [
    "print(\"Lista de letras:\", lista_letras)\n",
    "print(\"Posición de 'D':\", lista_letras.index(\"D\"))\n",
    "print(\"Posición de 'H':\", lista_letras.index(\"H\"))\n",
    "print(\"Posición de 'G':\", lista_letras.index(\"G\"))"
   ]
  },
  {
   "cell_type": "markdown",
   "metadata": {},
   "source": [
    "# Métodos para listas\n",
    "\n",
    "Como ya hemos dicho una lista es un tipo de dato de secuencia mutable que permite almacenar una colección de elementos ordenados. Las listas en Python tienen varios métodos integrados que permiten realizar diversas operaciones útiles como ya vimos al inicio de la lección. Estas operaciones pueden ser agregar, eliminar, ordenar y buscar elementos. A continuación, describimos algunos de los métodos más comunes de las listas en Python:\n",
    "\n",
    "- `append()`: Agrega un elemento al final de la lista. Por ejemplo, podemos agregar la nota de un nuevo examen al final de nuestra lista utilizando este método:\n",
    "\n",
    "    ```python\n",
    "    notas_alumnas.append(9.5)\n",
    "    ```\n",
    "\n",
    "- `extend()`: Agrega varios elementos al final de la lista. Por ejemplo, podemos agregar las notas de otro grupo de alumnas al final de nuestra lista utilizando este método:\n",
    "\n",
    "    ```python\n",
    "    notas_nuevas = [8.9, 7.8, 6.5]\n",
    "    notas_alumnas.extend(notas_nuevas)\n",
    "    ```\n",
    "\n",
    "- `insert()`: Inserta un elemento en una posición específica de la lista. Por ejemplo, podemos insertar la nota de un examen en una posición determinada utilizando este método:\n",
    "\n",
    "    ```python\n",
    "    notas_alumnas.insert(3, 8.7)\n",
    "    ```\n",
    "\n",
    "- `remove()`: Elimina el primer elemento de la lista que coincida con el valor especificado. Por ejemplo, podemos eliminar la primera nota de un examen específico utilizando este método:\n",
    "\n",
    "    ```python\n",
    "    notas_alumnas.remove(7.8)\n",
    "    ```\n",
    "\n",
    "- `pop()`: Elimina y devuelve el último elemento de la lista. Por ejemplo, podemos eliminar y obtener la última nota de la lista utilizando este método:\n",
    "\n",
    "    ```python\n",
    "    ultima_nota = notas_alumnas.pop()\n",
    "    ```\n",
    "\n",
    "- `index()`: Devuelve el índice de la primera ocurrencia del elemento especificado en la lista. Por ejemplo, podemos encontrar el índice de una nota específica utilizando este método:\n",
    "\n",
    "    ```python\n",
    "    indice_nota = notas_alumnas.index(8.9)\n",
    "    ```\n",
    "\n",
    "- `count()`: Devuelve el número de veces que aparece el elemento especificado en la lista. Por ejemplo, podemos contar cuántas veces se repite una nota utilizando este método:\n",
    "\n",
    "    ```python\n",
    "    repeticiones = notas_alumnas.count(7.5)\n",
    "    ```\n",
    "\n",
    "- `sort()`: Ordena los elementos de la lista de forma ascendente o descendente. Por ejemplo, podemos ordenar las notas de las alumnas de menor a mayor utilizando este método:\n",
    "\n",
    "    ```python\n",
    "    notas_alumnas.sort()\n",
    "    ```\n",
    "\n",
    "- `reverse()`: Invierte el orden de los elementos de la lista. Por ejemplo, podemos invertir el orden de las notas de las alumnas utilizando este método:\n",
    "\n",
    "    ```python\n",
    "    notas_alumnas.reverse()\n",
    "    ```\n",
    "\n",
    "- `copy()`: Hace una copia exacta de una lista con los mismos elementos de la lista original. Por ejemplo, podemos crear una copia de seguridad de nuestras notas utilizando este método:\n",
    "\n",
    "    ```python\n",
    "    copia_notas = notas_alumnas.copy()\n",
    "    ```\n",
    "\n",
    "- `clear()`: Elimina todos los elementos de la lista y la deja vacía. Por ejemplo, podemos limpiar la lista de notas antes de ingresar nuevas notas utilizando este método:\n",
    "\n",
    "    ```python\n",
    "    notas_alumnas.clear()\n",
    "    ```\n",
    "\n"
   ]
  },
  {
   "cell_type": "code",
   "execution_count": null,
   "metadata": {},
   "outputs": [
    {
     "name": "stdout",
     "output_type": "stream",
     "text": [
      "Las notas de nuestras alumnas del primer examen son: [8, 7.5, 4, 8.3, 6.7, 9.0, 7.5, 5.8, 6.8, 9.0, 6.8, 'D', 'D', 'B', 'C', 'F', 'F', 'A', 6.2, 9.1, 10, 3.4, 7.9]\n"
     ]
    }
   ],
   "source": [
    "# recordemos como era la lista de notas que habíamos creado previamente\n",
    "print(\"Las notas de nuestras alumnas del primer examen son:\",  notas_matematicas2)"
   ]
  },
  {
   "cell_type": "markdown",
   "metadata": {},
   "source": [
    "## `.copy()`\n",
    "\n",
    "El método `copy()` se emplea para crear una copia superficial de la lista original. Esta función genera una nueva lista con los mismos elementos que la lista original, pero ambas listas son independientes entre sí. Esto implica que si se realizan modificaciones en la copia de la lista, la lista original permanecerá intacta. Por ejemplo:\n",
    "\n",
    "```python\n",
    "# Creamos una lista original\n",
    "lista_original = [1, 2, 3, 4, 5]\n",
    "\n",
    "# Utilizamos el método copy() para crear una copia superficial\n",
    "copia_lista = lista_original.copy()\n",
    "\n",
    "# Ahora realizamos modificaciones en la copia de la lista\n",
    "copia_lista.append(6)\n",
    "copia_lista.remove(3)\n",
    "\n",
    "# Imprimimos ambas listas para ver los resultados\n",
    "print(\"Lista original:\", lista_original)\n",
    "# output\n",
    "[1, 2, 3, 4, 5]\n",
    "\n",
    "print(\"Copia de la lista:\", copia_lista)\n",
    "# output\n",
    "[1, 2, 4, 5, 6]\n",
    "```\n",
    "\n",
    "Este método es útil cuando se necesita modificar una lista sin afectar a la original. Por ejemplo, si se quiere realizar experimentación o análisis de datos en una lista sin alterar los datos originales, la copia proporciona una forma ideal de trabajar con los datos de manera independiente. Además, al preservar la integridad de la lista original, se evitan posibles problemas o pérdidas de datos durante el procesamiento."
   ]
  },
  {
   "cell_type": "code",
   "execution_count": null,
   "metadata": {},
   "outputs": [
    {
     "name": "stdout",
     "output_type": "stream",
     "text": [
      "La lista original de notas es:     [8, 7.5, 4, 8.3, 6.7, 9.0, 7.5, 5.8, 6.8, 9.0, 6.8, 'D', 'D', 'B', 'C', 'F', 'F', 'A', 6.2, 9.1, 10, 3.4, 7.9]\n",
      "La copia de la lista de notas es:  [8, 7.5, 4, 8.3, 6.7, 9.0, 7.5, 5.8, 6.8, 9.0, 6.8, 'D', 'D', 'B', 'C', 'F', 'F', 'A', 6.2, 9.1, 10, 3.4, 7.9]\n"
     ]
    }
   ],
   "source": [
    "# nos podemos hacer una copia de la lista de notas usando el método .copy()\n",
    "# Si nos fijamos tenemos una copia exacta de la lista `notas_matematicas2`, pero en este caso la llamamos `bio`\n",
    "bio = notas_matematicas2.copy()\n",
    "\n",
    "print(\"La lista original de notas es:    \", notas_matematicas2)\n",
    "print(\"La copia de la lista de notas es: \", bio)"
   ]
  },
  {
   "cell_type": "markdown",
   "metadata": {},
   "source": [
    "## `.clear()`\n",
    "\n",
    "El método `clear()` es un método de las listas que se emplea para eliminar todos los elementos de una lista. Al invocar este método, se eliminarán todos los elementos de la lista y esta quedará vacía.\n",
    "\n",
    "En este escenario, vamos a utilizar el método `clear()` para vaciar la copia de la lista que creamos anteriormente.\n",
    "\n",
    "Es importante destacar que este método modifica la lista directamente, es decir, aplica los cambios directamente sobre la lista sin necesidad de asignarla a una nueva variable. Por lo tanto, al llamar a `clear()`, la lista original se ve afectada de inmediato y se vacía de todos sus elementos. Esto puede ser útil cuando se necesita limpiar una lista para reutilizarla o cuando se desea eliminar todos los datos almacenados en ella."
   ]
  },
  {
   "cell_type": "code",
   "execution_count": null,
   "metadata": {},
   "outputs": [
    {
     "name": "stdout",
     "output_type": "stream",
     "text": [
      "La lista antes de usar el método copy contiene: [8, 7.5, 4, 8.3, 6.7, 9.0, 7.5, 5.8, 6.8, 9.0, 6.8, 'D', 'D', 'B', 'C', 'F', 'F', 'A', 6.2, 9.1, 10, 3.4, 7.9]\n",
      "La lista después de usar el método copy contiene: []\n"
     ]
    }
   ],
   "source": [
    "# también podemos vacíar una lista usando el método clear()\n",
    "print(\"La lista antes de usar el método copy contiene:\", bio)\n",
    "\n",
    "# aplicamos el método copy\n",
    "bio.clear()\n",
    "\n",
    "print(\"La lista después de usar el método copy contiene:\", bio)"
   ]
  },
  {
   "cell_type": "markdown",
   "metadata": {},
   "source": [
    "## `.remove()`\n",
    "\n",
    "El método `.remove()` esta diseñado para eliminar el **primer elemento de una lista que coincida con un valor específico**. Este método resulta útil al trabajar con listas, especialmente cuando se desea eliminar elementos específicos en lugar de índices concretos.\n",
    "\n",
    "Cuando estamos trabajando con este método, es conveniente realizar una copia de seguridad antes de cualquier modificación, para mantener la integridad de los datos originales. Supongamos que deseamos filtrar las notas que contienen letras y conservar solo los valores numéricos."
   ]
  },
  {
   "cell_type": "code",
   "execution_count": 24,
   "metadata": {},
   "outputs": [
    {
     "name": "stdout",
     "output_type": "stream",
     "text": [
      "Las notas de matemáticas antes de eliminar elementos es:  [8, 7.5, 4, 8.3, 6.7, 9.0, 7.5, 5.8, 6.8, 9.0, 6.8, 'D', 'D', 'B', 'C', 'F', 'F', 'A', 6.2, 9.1, 10, 3.4, 7.9]\n",
      "Las notas de matemáticas después de eliminar elementos es:  [8, 7.5, 4, 8.3, 6.7, 9.0, 7.5, 5.8, 6.8, 9.0, 6.8, 'D', 'D', 'B', 'C', 'F', 'A', 6.2, 9.1, 10, 3.4, 7.9]\n"
     ]
    }
   ],
   "source": [
    "# nos hacemos una copia de notas_matematicas2\n",
    "bio2 = notas_matematicas2.copy()\n",
    "\n",
    "print(\"Las notas de matemáticas antes de eliminar elementos es: \", bio2)\n",
    "\n",
    "# eliminamos la \"F\" de nuestra lista\n",
    "bio2.remove(\"F\")\n",
    "print(\"Las notas de matemáticas después de eliminar elementos es: \", bio2)\n"
   ]
  },
  {
   "cell_type": "code",
   "execution_count": 25,
   "metadata": {},
   "outputs": [
    {
     "name": "stdout",
     "output_type": "stream",
     "text": [
      "Las notas de matemáticas antes de eliminar elementos es:  [8, 7.5, 4, 8.3, 6.7, 9.0, 7.5, 5.8, 6.8, 9.0, 6.8, 'D', 'D', 'B', 'C', 'F', 'A', 6.2, 9.1, 10, 3.4, 7.9]\n",
      "Las notas de matemáticas después de eliminar elementos es:  [8, 7.5, 4, 8.3, 6.7, 9.0, 7.5, 5.8, 6.8, 9.0, 6.8, 'D', 'D', 'B', 'C', 'F', 6.2, 9.1, 10, 3.4, 7.9]\n"
     ]
    }
   ],
   "source": [
    "print(\"Las notas de matemáticas antes de eliminar elementos es: \", bio2)\n",
    "\n",
    "# eliminamos la \"A\" de nuestra lista\n",
    "bio2.remove(\"A\")\n",
    "print(\"Las notas de matemáticas después de eliminar elementos es: \", bio2)\n"
   ]
  },
  {
   "cell_type": "markdown",
   "metadata": {},
   "source": [
    "## `.pop()`\n",
    "\n",
    "El método `.pop()` de Python elimina y devuelve el último elemento de una lista, o un elemento específico utilizando su índice. Continuando con nuestra lista de notas, imaginemos que queremos seguir eliminando las notas de tipo letra."
   ]
  },
  {
   "cell_type": "code",
   "execution_count": 27,
   "metadata": {},
   "outputs": [
    {
     "name": "stdout",
     "output_type": "stream",
     "text": [
      "Notas de matemáticas antes de la eliminación: [8, 7.5, 4, 8.3, 6.7, 9.0, 7.5, 5.8, 6.8, 9.0, 6.8, 'D', 'D', 'B', 'C', 'F', 'F', 'A', 6.2, 9.1, 10, 3.4, 7.9]\n",
      "La nota 'F' está en la posición 15\n",
      "Notas de matemáticas después de la eliminación: [8, 7.5, 4, 8.3, 6.7, 9.0, 7.5, 5.8, 6.8, 9.0, 6.8, 'D', 'D', 'B', 'C', 'F', 'A', 6.2, 9.1, 10, 3.4, 7.9]\n"
     ]
    }
   ],
   "source": [
    "# Creamos una copia de la lista de notas de biología\n",
    "copia_bio = notas_matematicas2.copy()\n",
    "\n",
    "# Mostramos las notas de biología antes de eliminar elementos\n",
    "print(\"Notas de matemáticas antes de la eliminación:\", copia_bio)\n",
    "\n",
    "# Encontramos el índice de la nota \"F\"\n",
    "indice_f = copia_bio.index(\"F\")\n",
    "print(\"La nota 'F' está en la posición\", indice_f)\n",
    "\n",
    "# Eliminamos la nota \"F\" utilizando su índice\n",
    "copia_bio.pop(indice_f)\n",
    "print(\"Notas de matemáticas después de la eliminación:\", copia_bio)\n"
   ]
  },
  {
   "cell_type": "code",
   "execution_count": null,
   "metadata": {},
   "outputs": [],
   "source": [
    "# Un punto clave del método pop es que devuelve el elemento eliminado.\n",
    "# Para ilustrarlo mejor, eliminaremos la letra \"B\" de la lista.\n",
    "# Primero, obtenemos su índice.\n",
    "\n",
    "indice_b = copia_bio.index(\"B\")\n",
    "\n",
    "# Eliminamos la letra \"B\" utilizando su índice.\n",
    "elemento_eliminado = copia_bio.pop(indice_b)\n",
    "print(f\"El elemento eliminado es {elemento_eliminado}\")\n"
   ]
  },
  {
   "cell_type": "markdown",
   "metadata": {},
   "source": [
    "\n",
    "<div style=\"background-color: #F74646; padding: 10px; border-left: 6px solid #000080; color: black; border-radius: 10px;\">\n",
    "Por lo tanto, el método <code>pop()</code> elimina un elemento de la lista según su posición y devuelve el valor eliminado, mientras que <code>remove()</code> elimina un elemento de la lista según su valor y no devuelve nada.\n",
    "\n",
    "</div>"
   ]
  },
  {
   "cell_type": "markdown",
   "metadata": {},
   "source": [
    "## `.count()`\n",
    "\n",
    "El método `count()` de las listas se utiliza para contar la cantidad de veces que un elemento específico aparece en la lista. Toma un argumento, que es el elemento cuya frecuencia se desea contar, y devuelve el número de veces que aparece ese elemento en la lista. Por ejemplo, si tenemos una lista de números y queremos saber cuántas veces aparece el número 5, usaríamos el método `count(5)`. Esto nos devolverá un número entero que representa la cantidad de veces que el elemento especificado aparece en la lista. Si el elemento no está presente, devuelve 0."
   ]
  },
  {
   "cell_type": "code",
   "execution_count": 23,
   "metadata": {},
   "outputs": [
    {
     "name": "stdout",
     "output_type": "stream",
     "text": [
      "[8, 7.5, 4, 8.3, 6.7, 9.0, 7.5, 5.8, 6.8, 9.0, 6.8, 'D', 'D', 'B', 'C', 'F', 'F', 'A', 6.2, 9.1, 10, 3.4, 7.9]\n",
      "\n",
      "El número de alumnas que ha sacado 6.8 es:  2\n"
     ]
    }
   ],
   "source": [
    "# recordemos nuestra variable notas_matematicas2\n",
    "print(notas_matematicas2)\n",
    "\n",
    "# ¿Cuántas veces aparece la nota 6.8 en nuestra lista de notas? \n",
    "# en este caso, el output de este método lo que nos está diciendo es que el valor 6.8 aparece dos veces en nuestra lista. \n",
    "print(\"\\nEl número de alumnos que ha sacado 6.8 es: \", notas_matematicas2.count(6.8))"
   ]
  },
  {
   "cell_type": "markdown",
   "metadata": {},
   "source": [
    "## `.reverse()`\n",
    "\n",
    "Se utiliza para invertir el orden de los elementos en una lista. No toma ningún argumento y simplemente invierte el orden de los elementos en la lista original. Por ejemplo, si tenemos una lista `[1, 2, 3, 4]` y aplicamos el método `reverse()`, la lista resultante será `[4, 3, 2, 1]`. Este método modifica la lista original y no devuelve ningún valor. Simplemente altera la disposición de los elementos en la lista existente invirtiendo su orden."
   ]
  },
  {
   "cell_type": "code",
   "execution_count": 28,
   "metadata": {},
   "outputs": [
    {
     "name": "stdout",
     "output_type": "stream",
     "text": [
      "Las notas de matemáticas del primer examen antes de aplicar el método reverse son:   [8, 7.5, 4, 8.3, 6.7, 9.0, 7.5, 5.8, 6.8, 9.0, 6.8, 'D', 'D', 'B', 'C', 'F', 'F', 'A', 6.2, 9.1, 10, 3.4, 7.9]\n",
      "Las notas de matemáticas del primer examen después de aplicar el método reverse son: [7.9, 3.4, 10, 9.1, 6.2, 'A', 'F', 'F', 'C', 'B', 'D', 'D', 6.8, 9.0, 6.8, 5.8, 7.5, 9.0, 6.7, 8.3, 4, 7.5, 8]\n"
     ]
    }
   ],
   "source": [
    "# hagamonos una copia de la lista notas_matematicas2\n",
    "matematicas = notas_matematicas2.copy()\n",
    "print(\"Las notas de matemáticas del primer examen antes de aplicar el método reverse son:  \", matematicas)\n",
    "\n",
    "# apliquemos el método reverse, que no nos devolverá nada porque sobreescribe el valor de la variable original. Pero si exploramos la variable antes y después del método vemos que se ha invertido el orden de los valores.\n",
    "matematicas.reverse()\n",
    "\n",
    "# printeamos los resultados después del haber aplicado el método\n",
    "print(\"Las notas de matemáticas del primer examen después de aplicar el método reverse son:\", matematicas)"
   ]
  },
  {
   "cell_type": "markdown",
   "metadata": {},
   "source": [
    "## `.sort()`\n",
    "\n",
    "Se utiliza para ordenar los elementos de una lista en su lugar, es decir, modifica la lista original. Por defecto, ordena los elementos en orden ascendente, pero también puede aceptar un parámetro opcional llamado `reverse` que indica si los elementos deben ser ordenados en orden descendente si se establece en `True`.\n",
    "\n",
    "La sintaxis básica es:\n",
    "\n",
    "```python\n",
    "lista.sort(reverse=False)\n",
    "```\n",
    "\n",
    "- `reverse`: Un parámetro opcional que indica si se debe ordenar en orden descendente. Por defecto, es `False`. Si se establece en `True`, los elementos se ordenarán en orden descendente.\n",
    "\n",
    "\n",
    "Es importante tener en cuenta que el método `sort()` modifica la lista original, ordena por defecto de menor a mayor y no devuelve ningún valor."
   ]
  },
  {
   "cell_type": "code",
   "execution_count": 29,
   "metadata": {},
   "outputs": [
    {
     "name": "stdout",
     "output_type": "stream",
     "text": [
      "Las notas de las alumnas sin ordenar son: [8, 7.5, 4, 8.3, 6.7, 9.0, 7.5, 5.8, 6.8, 9.0, 6.8, 'D', 'D', 'B', 'C', 'F', 'F', 'A', 6.2, 9.1, 10, 3.4, 7.9]\n"
     ]
    },
    {
     "ename": "TypeError",
     "evalue": "'<' not supported between instances of 'str' and 'float'",
     "output_type": "error",
     "traceback": [
      "\u001b[0;31m---------------------------------------------------------------------------\u001b[0m",
      "\u001b[0;31mTypeError\u001b[0m                                 Traceback (most recent call last)",
      "Cell \u001b[0;32mIn[29], line 5\u001b[0m\n\u001b[1;32m      2\u001b[0m \u001b[38;5;28mprint\u001b[39m(\u001b[38;5;124m\"\u001b[39m\u001b[38;5;124mLas notas de las alumnas sin ordenar son:\u001b[39m\u001b[38;5;124m\"\u001b[39m, notas_matematicas2)\n\u001b[1;32m      4\u001b[0m \u001b[38;5;66;03m# Ordenamos las notas y las mostramos\u001b[39;00m\n\u001b[0;32m----> 5\u001b[0m \u001b[43mnotas_matematicas2\u001b[49m\u001b[38;5;241;43m.\u001b[39;49m\u001b[43msort\u001b[49m\u001b[43m(\u001b[49m\u001b[43m)\u001b[49m\n\u001b[1;32m      6\u001b[0m \u001b[38;5;28mprint\u001b[39m(\u001b[38;5;124m\"\u001b[39m\u001b[38;5;124mLas notas ordenadas son:\u001b[39m\u001b[38;5;124m\"\u001b[39m, notas_matematicas2)\n",
      "\u001b[0;31mTypeError\u001b[0m: '<' not supported between instances of 'str' and 'float'"
     ]
    }
   ],
   "source": [
    "# Recordemos cómo era la lista de notas de biología del primer año\n",
    "print(\"Las notas de las alumnas sin ordenar son:\", notas_matematicas2)\n",
    "\n",
    "# Ordenamos las notas y las mostramos\n",
    "notas_matematicas2.sort()\n",
    "print(\"Las notas ordenadas son:\", notas_matematicas2)\n"
   ]
  },
  {
   "cell_type": "markdown",
   "metadata": {},
   "source": [
    "\n",
    "<div style=\"background-color: #F74646; padding: 10px; border-left: 6px solid #000080; color: black; border-radius: 10px;\">\n",
    "Parece que nos encontramos con un error nuevamente. Este problema surge por la misma razón que cuando intentamos encontrar el máximo de una lista que contenía string y números. Pensemos en términos humanos: ¿Cómo podríamos ordenar esta lista? Probablemente nos resultaría difícil o imposible, ¿verdad? Bueno, Python enfrenta la misma dificultad.\n",
    "\n",
    "\n",
    "Por eso, vamos a crear una nueva lista de notas que contenga solo números, para observar cómo funciona este método de listas:\n",
    "</div>\n",
    "\n"
   ]
  },
  {
   "cell_type": "code",
   "execution_count": 30,
   "metadata": {},
   "outputs": [
    {
     "name": "stdout",
     "output_type": "stream",
     "text": [
      "Las notas de biología antes de ordenar la lista son: [7.5, 6.8, 9.3, 4.2, 8.7, 5.1, 6.9, 8.4, 9.7, 5.8]\n",
      "Las notas de biología después de ordenar la lista de menor a mayor son: [4.2, 5.1, 5.8, 6.8, 6.9, 7.5, 8.4, 8.7, 9.3, 9.7]\n",
      "Las notas de biología después de ordenar la lista de mayor a menor son: [9.7, 9.3, 8.7, 8.4, 7.5, 6.9, 6.8, 5.8, 5.1, 4.2]\n"
     ]
    }
   ],
   "source": [
    "# definimos la lista de notas de biología con valores diferentes\n",
    "notas_biologia3 = [7.5, 6.8, 9.3, 4.2, 8.7, 5.1, 6.9, 8.4, 9.7, 5.8]\n",
    "\n",
    "# imprimimos las notas de biología antes de ordenar la lista\n",
    "print(\"Las notas de biología antes de ordenar la lista son:\", notas_biologia3)\n",
    "\n",
    "# ordenamos la lista de notas de biología\n",
    "notas_biologia3.sort()\n",
    "\n",
    "# imprimimos las notas de biología después de ordenar la lista de menor a mayor\n",
    "print(\"Las notas de biología después de ordenar la lista de menor a mayor son:\", notas_biologia3)\n",
    "\n",
    "# ordenamos la lista de notas de biología en orden descendente\n",
    "notas_biologia3.sort(reverse=True)\n",
    "\n",
    "# imprimimos las notas de biología después de ordenar la lista de mayor a menor\n",
    "print(\"Las notas de biología después de ordenar la lista de mayor a menor son:\", notas_biologia3)\n",
    "\n"
   ]
  },
  {
   "cell_type": "markdown",
   "metadata": {},
   "source": [
    "## `sorted()`\n",
    "\n",
    "Se utiliza para ordenar los elementos de una lista y devuelve una nueva lista ordenada sin modificar la lista original. Este método toma la lista que se va a ordenar como argumento y opcionalmente puede recibir dos parámetros adicionales: `key` y `reverse`.\n",
    "\n",
    "- `key`: Este parámetro es opcional y se utiliza para especificar una función que se utilizará para personalizar el ordenamiento. Por ejemplo, si la lista contiene objetos complejos y queremos ordenarlos por un atributo específico, podemos pasar una función lambda que extraiga ese atributo como argumento `key`.\n",
    "\n",
    "- `reverse`: Este parámetro también es opcional y se utiliza para indicar si la lista debe ser ordenada en orden ascendente o descendente. Por defecto, su valor es `False`, lo que significa que la lista se ordenará en orden ascendente. Si se establece en `True`, la lista se ordenará en orden descendente.\n",
    "\n",
    "\n",
    "<div style=\"background-color: #F74646; padding: 10px; border-left: 6px solid #000080; color: black; border-radius: 10px;\">\n",
    "\n",
    "<strong>¿En qué se diferencia el sort() y el sorted()?</strong>\n",
    "\n",
    "La diferencia principal entre `sort()` y `sorted()` en listas radica en cómo afectan a la lista original y si devuelven una nueva lista ordenada o no:\n",
    "\n",
    "- `sort()`: Es un método que ordena la lista original en su lugar, es decir, modifica la lista original directamente. No devuelve una nueva lista.\n",
    "  \n",
    "- `sorted()`: Es una función incorporada de Python que toma una lista como argumento y devuelve una nueva lista ordenada sin modificar la lista original. No altera la lista original. \n",
    "\n",
    "Por lo tanto, si se desea ordenar una lista sin modificar la original, se debe utilizar `sorted()`. Si se desea ordenar la lista original directamente, se debe utilizar `sort()`.\n",
    "\n",
    "</div>"
   ]
  },
  {
   "cell_type": "code",
   "execution_count": 31,
   "metadata": {},
   "outputs": [
    {
     "name": "stdout",
     "output_type": "stream",
     "text": [
      "Las notas de biología antes de ordenar la lista son: [6, 8, 9.1, 2, 4, 6, 8, 2.2, 7.7, 9.8, 5.6]\n",
      "Las notas de biología después de ordenar la lista de menor a mayor son (sin almacenarlo en una variable): [6, 8, 9.1, 2, 4, 6, 8, 2.2, 7.7, 9.8, 5.6]\n",
      "Las notas de biología después de ordenar la lista de menor a mayor son (almacenándolo en una variable): [2, 2.2, 4, 5.6, 6, 6, 7.7, 8, 8, 9.1, 9.8]\n"
     ]
    }
   ],
   "source": [
    "notas_biologia3 = [6, 8, 9.1, 2, 4, 6, 8, 2.2, 7.7, 9.8, 5.6]\n",
    "\n",
    "print(\"Las notas de biología antes de ordenar la lista son:\", notas_biologia3)\n",
    "\n",
    "# Aplicamos la función sorted pero no la almacenamos en ninguna variable\n",
    "sorted(notas_biologia3)\n",
    "\n",
    "# Aplicamos la función sorted y la almacenamos en una variable\n",
    "notas_biologia3_ordenadas = sorted(notas_biologia3)\n",
    "\n",
    "print(\"Las notas de biología después de ordenar la lista de menor a mayor son (sin almacenarlo en una variable):\", notas_biologia3)\n",
    "\n",
    "print(\"Las notas de biología después de ordenar la lista de menor a mayor son (almacenándolo en una variable):\", notas_biologia3_ordenadas)\n"
   ]
  },
  {
   "cell_type": "markdown",
   "metadata": {},
   "source": [
    "## `.append()`\n",
    "\n",
    "Se usa para agregar elementos al final de una lista existente. Su función es modificar la lista original, sin devolver nada.\n",
    "\n",
    "Es importante destacar que `append()` siempre agrega elementos al final de la lista. Si quisieramos agregar elementos en una posición específica o insertar múltiples elementos a la vez, deberíamos considerar otros métodos como `insert()` o `extend()` que veremos más adelante.\n",
    "\n",
    "Recuerda que `append()` modifica la lista original, por lo que cualquier cambio que hagas en ella será permanente. Si necesitaramos conservar la lista original intacta y crear una nueva lista con los elementos agregados, deberemos optar por otros métodos como `+` o `extend()`.\n",
    "\n",
    "Para entenderlo mejor, imaginemos una situación cotidiana: estamos en casa y queremos hacer una lista de compras para la merienda de mañana. Abrimos la nevera y vemos que necesitamos chocolate y frutos secos. En lugar de usar una lista tradicional, optamos por una lista en Python para registrar lo que necesitamos comprar.\n"
   ]
  },
  {
   "cell_type": "code",
   "execution_count": 32,
   "metadata": {},
   "outputs": [
    {
     "name": "stdout",
     "output_type": "stream",
     "text": [
      "La lista de la compra contiene  0 cosas con los siguientes elementos []\n",
      "La lista de la compra contiene  1 cosas con los siguientes elementos ['chocolate']\n",
      "La lista de la compra contiene  2 cosas con los siguientes elementos ['chocolate', 'frutos secos']\n"
     ]
    }
   ],
   "source": [
    "# lo primero que vamos a hacer es crearnos una lista de la compra vacía\n",
    "lista_compra = []\n",
    "\n",
    "print(\"La lista de la compra contiene \", len(lista_compra), \"cosas con los siguientes elementos\", lista_compra )\n",
    "\n",
    "\n",
    "# vamos a ir añadiendo elementos uno a uno a nuestra lista, el primero el chocolate\n",
    "lista_compra.append(\"chocolate\")\n",
    "print(\"La lista de la compra contiene \", len(lista_compra), \"cosas con los siguientes elementos\", lista_compra )\n",
    "\n",
    "\n",
    "# añadamos otro elemento a la lista\n",
    "lista_compra.append(\"frutos secos\")\n",
    "print(\"La lista de la compra contiene \", len(lista_compra), \"cosas con los siguientes elementos\", lista_compra )\n"
   ]
  },
  {
   "cell_type": "code",
   "execution_count": 33,
   "metadata": {},
   "outputs": [
    {
     "name": "stdout",
     "output_type": "stream",
     "text": [
      "La lista de la compra contiene  3 cosas con los siguientes elementos ['chocolate', 'frutos secos', ['pan', 'manzanas']]\n"
     ]
    }
   ],
   "source": [
    "# Imaginemos que ahora nuestra compañera de piso tiene su propia lista de la compra definida de la siguiente forma: \n",
    "# creamos la lista de la compra de nuestra compañera\n",
    "lista_compra_compañera = [\"pan\", \"manzanas\"]\n",
    "\n",
    "# ahora vamos a añadir la lista de la compra de la compañera\n",
    "lista_compra.append(lista_compra_compañera)\n",
    "print(\"La lista de la compra contiene \", len(lista_compra), \"cosas con los siguientes elementos\", lista_compra )\n"
   ]
  },
  {
   "cell_type": "markdown",
   "metadata": {},
   "source": [
    "¿Qué es lo que ha pasado? Si nos fijamos nos ha añadido la lista de la compra de la comprañera tal cual, como una lista y no cada uno de los elementos 😨. Pero esto no nos interesa, ya que en realidad lo que queremos es tener el \"pan\" y \"manzanas\" como elementos de la lista no como una lista. Para esto tenemos el método `.extend()`. Veámoslo en detalle: "
   ]
  },
  {
   "cell_type": "markdown",
   "metadata": {},
   "source": [
    "## `.extend()`\n",
    "\n",
    "Se utiliza para agregar múltiples elementos al final de una lista existente. Básicamente, coge una lista y agrega todos los elementos de otra lista al final de la primera. Este método modifica la lista original y no devuelve nada.\n",
    "\n",
    "Es importante tener en cuenta que `extend()` solo puede agregar elementos de otra lista al final de la lista original. **No puede agregar elementos individuales, como lo haría `append()`**. Además, al igual que `append()`, `extend()` modifica la lista original directamente, por lo que cualquier cambio realizado es permanente.\n",
    "\n",
    "<div style=\"background-color: #F74646; padding: 10px; border-left: 6px solid #000080; color: black; border-radius: 10px;\">\n",
    "\n",
    "<strong>¿Qué diferencia hay entre el método `append()` y `extend()`?</strong>\n",
    "\n",
    "- `append()` agrega un solo elemento al final de la lista, incluso si ese elemento es otra lista. \n",
    "\n",
    "- `extend()` agrega los elementos individuales de una lista (o cualquier iterable) al final de la lista original. \n",
    "\n",
    "Resumiendo, `append()` añade un elemento a la lista, mientras que `extend()` agrega múltiples elementos, tratando cada elemento individualmente. \n",
    "</div>"
   ]
  },
  {
   "cell_type": "code",
   "execution_count": 34,
   "metadata": {},
   "outputs": [
    {
     "name": "stdout",
     "output_type": "stream",
     "text": [
      "Lista de la compra usando APPEND:  3 elementos: ['chocolate', 'frutos secos', ['pan', 'manzanas']]\n",
      "Lista de la compra usando EXTEND:  5 elementos: ['chocolate', 'frutos secos', ['pan', 'manzanas'], 'pan', 'manzanas']\n"
     ]
    }
   ],
   "source": [
    "# creamos la lista de la compra de nuestra compañera\n",
    "lista_compra_compañera = [\"pan\", \"manzanas\"]\n",
    "\n",
    "# usando append para añadir la lista de la compra de la compañera\n",
    "print(\"Lista de la compra usando APPEND: \", len(lista_compra), \"elementos:\", lista_compra)\n",
    "\n",
    "# usando extend para añadir la lista de la compra de la compañera\n",
    "lista_compra.extend(lista_compra_compañera)\n",
    "print(\"Lista de la compra usando EXTEND: \", len(lista_compra), \"elementos:\", lista_compra)\n"
   ]
  },
  {
   "cell_type": "markdown",
   "metadata": {},
   "source": [
    "## `.insert()`\n",
    "\n",
    "Se utiliza para insertar un elemento en una posición específica de una lista. Su sintaxis básica es: \n",
    "\n",
    "```python\n",
    "lista.insert(indice, elemento)\n",
    "```\n",
    "\n",
    "Donde:\n",
    "- `lista` es la lista en la que se quiere insertar el elemento.\n",
    "\n",
    "- `indice` es la posición en la que se desea insertar el elemento.\n",
    "\n",
    "- `elemento` es el elemento que se desea insertar en la lista.\n",
    "\n",
    "\n",
    "<div style=\"background-color: #F74646; padding: 10px; border-left: 6px solid #000080; color: black; border-radius: 10px;\">\n",
    "\n",
    "<strong>La principal diferencia entre `.insert()`, `.append()` y `.extend()` radica en cómo agregan elementos a la lista:</strong>\n",
    "\n",
    "- `.insert()` inserta un elemento en una posición específica.\n",
    "\n",
    "- `.append()` agrega un elemento al final de la lista.\n",
    "\n",
    "- `.extend()` agrega múltiples elementos al final de la lista, ya sea otra lista o cualquier iterable.\n",
    "\n",
    "</div>"
   ]
  },
  {
   "cell_type": "code",
   "execution_count": 35,
   "metadata": {},
   "outputs": [
    {
     "name": "stdout",
     "output_type": "stream",
     "text": [
      "La lista de la compra antes de insertar los tomates es: ['chocolate', 'frutos secos', ['pan', 'manzanas'], 'pan', 'manzanas']\n",
      "La lista de la compra después de insertar los tomates en primera posición ['tomates', 'chocolate', 'frutos secos', ['pan', 'manzanas'], 'pan', 'manzanas']\n",
      "La lista de la compra después de insertar los tomates en primera posición ['tomates', 'lechuga', 'chocolate', 'frutos secos', ['pan', 'manzanas'], 'pan', 'manzanas']\n"
     ]
    }
   ],
   "source": [
    "# imprimimos la lista de la compra antes de insertar los tomates\n",
    "print(\"La lista de la compra antes de insertar los tomates es:\", lista_compra)\n",
    "\n",
    "# insertamos \"tomates\" en la primera posición de la lista\n",
    "lista_compra.insert(0, \"tomates\")\n",
    "\n",
    "# imprimps la lista de la compra después de insertar los tomates en primera posición\n",
    "print(\"La lista de la compra después de insertar los tomates en primera posición\", lista_compra)\n",
    "\n",
    "# inertamos \"lechuga\" en la segunda posición de la lista\n",
    "lista_compra.insert(1, \"lechuga\")\n",
    "\n",
    "# imprimimos la lista de la compra después de insertar la lechuga en segunda posición\n",
    "print(\"La lista de la compra después de insertar los tomates en primera posición\", lista_compra)\n"
   ]
  }
 ],
 "metadata": {
  "interpreter": {
   "hash": "8560ba40f25f8debc3b21cfdc72602d7855270eb253b25380125fbd9b6cd3418"
  },
  "kernelspec": {
   "display_name": "Python 3 (ipykernel)",
   "language": "python",
   "name": "python3"
  },
  "language_info": {
   "codemirror_mode": {
    "name": "ipython",
    "version": 3
   },
   "file_extension": ".py",
   "mimetype": "text/x-python",
   "name": "python",
   "nbconvert_exporter": "python",
   "pygments_lexer": "ipython3",
   "version": "3.11.8"
  },
  "toc": {
   "base_numbering": 1,
   "nav_menu": {},
   "number_sections": true,
   "sideBar": true,
   "skip_h1_title": false,
   "title_cell": "Table of Contents",
   "title_sidebar": "Contents",
   "toc_cell": true,
   "toc_position": {},
   "toc_section_display": true,
   "toc_window_display": true
  }
 },
 "nbformat": 4,
 "nbformat_minor": 2
}
